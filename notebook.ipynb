{
 "metadata": {
  "language_info": {
   "codemirror_mode": {
    "name": "ipython",
    "version": 3
   },
   "file_extension": ".py",
   "mimetype": "text/x-python",
   "name": "python",
   "nbconvert_exporter": "python",
   "pygments_lexer": "ipython3",
   "version": "3.7.3"
  },
  "orig_nbformat": 2,
  "kernelspec": {
   "name": "python373jvsc74a57bd02b9cd5c3ec4eb793e30b3fe22fb3034f3d8c9722bad10f4cedbbd7faa7e7f261",
   "display_name": "Python 3.7.3 64-bit ('base': conda)"
  }
 },
 "nbformat": 4,
 "nbformat_minor": 2,
 "cells": [
  {
   "cell_type": "code",
   "execution_count": 1,
   "metadata": {},
   "outputs": [
    {
     "output_type": "stream",
     "name": "stderr",
     "text": [
      "C:\\Users\\triplem\\Anaconda3\\lib\\importlib\\_bootstrap.py:219: RuntimeWarning: numpy.ufunc size changed, may indicate binary incompatibility. Expected 192 from C header, got 216 from PyObject\n  return f(*args, **kwds)\n"
     ]
    }
   ],
   "source": [
    "import pandas as pd\n",
    "import matplotlib.pyplot as plt"
   ]
  },
  {
   "cell_type": "code",
   "execution_count": 2,
   "metadata": {},
   "outputs": [],
   "source": [
    "df_c = pd.read_csv('datasets/country.csv')\n",
    "df_m = pd.read_csv('datasets/manufacturer.csv')"
   ]
  },
  {
   "cell_type": "code",
   "execution_count": 7,
   "metadata": {},
   "outputs": [
    {
     "output_type": "execute_result",
     "data": {
      "text/plain": [
       "                    location  date  total_vaccinations\n",
       "vaccine                                               \n",
       "Johnson&Johnson           44    44                  44\n",
       "Moderna                  780   780                 780\n",
       "Oxford/AstraZeneca       624   624                 624\n",
       "Pfizer/BioNTech          980   980                 980\n",
       "Sinovac                   77    77                  77"
      ],
      "text/html": "<div>\n<style scoped>\n    .dataframe tbody tr th:only-of-type {\n        vertical-align: middle;\n    }\n\n    .dataframe tbody tr th {\n        vertical-align: top;\n    }\n\n    .dataframe thead th {\n        text-align: right;\n    }\n</style>\n<table border=\"1\" class=\"dataframe\">\n  <thead>\n    <tr style=\"text-align: right;\">\n      <th></th>\n      <th>location</th>\n      <th>date</th>\n      <th>total_vaccinations</th>\n    </tr>\n    <tr>\n      <th>vaccine</th>\n      <th></th>\n      <th></th>\n      <th></th>\n    </tr>\n  </thead>\n  <tbody>\n    <tr>\n      <th>Johnson&amp;Johnson</th>\n      <td>44</td>\n      <td>44</td>\n      <td>44</td>\n    </tr>\n    <tr>\n      <th>Moderna</th>\n      <td>780</td>\n      <td>780</td>\n      <td>780</td>\n    </tr>\n    <tr>\n      <th>Oxford/AstraZeneca</th>\n      <td>624</td>\n      <td>624</td>\n      <td>624</td>\n    </tr>\n    <tr>\n      <th>Pfizer/BioNTech</th>\n      <td>980</td>\n      <td>980</td>\n      <td>980</td>\n    </tr>\n    <tr>\n      <th>Sinovac</th>\n      <td>77</td>\n      <td>77</td>\n      <td>77</td>\n    </tr>\n  </tbody>\n</table>\n</div>"
     },
     "metadata": {},
     "execution_count": 7
    }
   ],
   "source": [
    "df_m.groupby('vaccine').count()"
   ]
  },
  {
   "cell_type": "code",
   "execution_count": 6,
   "metadata": {},
   "outputs": [
    {
     "output_type": "execute_result",
     "data": {
      "text/plain": [
       "  location        date          vaccine  total_vaccinations\n",
       "0    Chile  2020-12-24  Pfizer/BioNTech                 420\n",
       "1    Chile  2020-12-25  Pfizer/BioNTech                5198\n",
       "2    Chile  2020-12-26  Pfizer/BioNTech                8338\n",
       "3    Chile  2020-12-27  Pfizer/BioNTech                8649\n",
       "4    Chile  2020-12-28  Pfizer/BioNTech                8649"
      ],
      "text/html": "<div>\n<style scoped>\n    .dataframe tbody tr th:only-of-type {\n        vertical-align: middle;\n    }\n\n    .dataframe tbody tr th {\n        vertical-align: top;\n    }\n\n    .dataframe thead th {\n        text-align: right;\n    }\n</style>\n<table border=\"1\" class=\"dataframe\">\n  <thead>\n    <tr style=\"text-align: right;\">\n      <th></th>\n      <th>location</th>\n      <th>date</th>\n      <th>vaccine</th>\n      <th>total_vaccinations</th>\n    </tr>\n  </thead>\n  <tbody>\n    <tr>\n      <th>0</th>\n      <td>Chile</td>\n      <td>2020-12-24</td>\n      <td>Pfizer/BioNTech</td>\n      <td>420</td>\n    </tr>\n    <tr>\n      <th>1</th>\n      <td>Chile</td>\n      <td>2020-12-25</td>\n      <td>Pfizer/BioNTech</td>\n      <td>5198</td>\n    </tr>\n    <tr>\n      <th>2</th>\n      <td>Chile</td>\n      <td>2020-12-26</td>\n      <td>Pfizer/BioNTech</td>\n      <td>8338</td>\n    </tr>\n    <tr>\n      <th>3</th>\n      <td>Chile</td>\n      <td>2020-12-27</td>\n      <td>Pfizer/BioNTech</td>\n      <td>8649</td>\n    </tr>\n    <tr>\n      <th>4</th>\n      <td>Chile</td>\n      <td>2020-12-28</td>\n      <td>Pfizer/BioNTech</td>\n      <td>8649</td>\n    </tr>\n  </tbody>\n</table>\n</div>"
     },
     "metadata": {},
     "execution_count": 6
    }
   ],
   "source": [
    "df_m.head()"
   ]
  },
  {
   "cell_type": "code",
   "execution_count": null,
   "metadata": {},
   "outputs": [],
   "source": []
  }
 ]
}