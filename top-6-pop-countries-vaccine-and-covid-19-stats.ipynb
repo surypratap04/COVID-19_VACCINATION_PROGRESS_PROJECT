{
 "cells": [
  {
   "cell_type": "code",
   "execution_count": 1,
   "id": "dominant-setup",
   "metadata": {
    "_cell_guid": "b1076dfc-b9ad-4769-8c92-a6c4dae69d19",
    "_kg_hide-input": true,
    "_uuid": "8f2839f25d086af736a60e9eeb907d3b93b6e0e5",
    "execution": {
     "iopub.execute_input": "2021-04-26T13:37:14.313533Z",
     "iopub.status.busy": "2021-04-26T13:37:14.312308Z",
     "iopub.status.idle": "2021-04-26T13:37:15.827749Z",
     "shell.execute_reply": "2021-04-26T13:37:15.826518Z"
    },
    "papermill": {
     "duration": 1.54755,
     "end_time": "2021-04-26T13:37:15.828060",
     "exception": false,
     "start_time": "2021-04-26T13:37:14.280510",
     "status": "completed"
    },
    "tags": []
   },
   "outputs": [],
   "source": [
    "import numpy as np \n",
    "import pandas as pd \n",
    "import datetime as datetime\n",
    "import matplotlib.dates as dates\n",
    "import matplotlib.pyplot as plt\n",
    "import plotly.express as px\n",
    "import plotly.graph_objects as go\n",
    "from plotly.subplots import make_subplots"
   ]
  },
  {
   "cell_type": "markdown",
   "id": "domestic-campbell",
   "metadata": {
    "papermill": {
     "duration": 0.038609,
     "end_time": "2021-04-26T13:37:15.902312",
     "exception": false,
     "start_time": "2021-04-26T13:37:15.863703",
     "status": "completed"
    },
    "tags": []
   },
   "source": [
    "# Introduction \n",
    "The objective of our work is to show the stats of daily cases and deaths of covid-19, in the top 6 most populated contries in the world, and to also show together with this data the number of vaccinated people in those countries.\n",
    "The top 6 most populated countries in the world are:\n",
    "\n",
    "1. China (1,4 billion people)\n",
    "2. India (1,38 billion people)\n",
    "3. USA (331 million people)\n",
    "4. Indonesia (273 million people)\n",
    "5. Pakistan (220 million people)\n",
    "6. Brazil (212 million people)\n",
    "\n",
    "Source : https://www.worldometers.info/world-population/population-by-country/"
   ]
  },
  {
   "cell_type": "code",
   "execution_count": 2,
   "id": "copyrighted-brazilian",
   "metadata": {
    "_kg_hide-input": true,
    "execution": {
     "iopub.execute_input": "2021-04-26T13:37:15.971452Z",
     "iopub.status.busy": "2021-04-26T13:37:15.970660Z",
     "iopub.status.idle": "2021-04-26T13:37:16.417500Z",
     "shell.execute_reply": "2021-04-26T13:37:16.416880Z"
    },
    "papermill": {
     "duration": 0.479403,
     "end_time": "2021-04-26T13:37:16.417659",
     "exception": false,
     "start_time": "2021-04-26T13:37:15.938256",
     "status": "completed"
    },
    "tags": []
   },
   "outputs": [],
   "source": [
    "df = pd.read_csv('datasets/country.csv')\n",
    "vaccine = pd.read_csv('datasets/manufacturer.csv')\n",
    "# covid_daily = pd.read_csv(r'../input/covid19-global-dataset/worldometer_coronavirus_daily_data.csv')"
   ]
  },
  {
   "cell_type": "code",
   "execution_count": 3,
   "metadata": {},
   "outputs": [
    {
     "output_type": "execute_result",
     "data": {
      "text/plain": [
       "     country iso_code        date  total_vaccinations  people_vaccinated  \\\n",
       "5276   India      IND  2021-01-15                 0.0                0.0   \n",
       "5277   India      IND  2021-01-16            191181.0           191181.0   \n",
       "5278   India      IND  2021-01-17            224301.0           224301.0   \n",
       "5279   India      IND  2021-01-18            454049.0           454049.0   \n",
       "5280   India      IND  2021-01-19            674835.0           674835.0   \n",
       "...      ...      ...         ...                 ...                ...   \n",
       "5366   India      IND  2021-04-15         117223509.0        102349255.0   \n",
       "5367   India      IND  2021-04-16         119937641.0        104408484.0   \n",
       "5368   India      IND  2021-04-17         122622590.0        106431076.0   \n",
       "5369   India      IND  2021-04-18         123852566.0        107371770.0   \n",
       "5370   India      IND  2021-04-19         127129113.0        109659181.0   \n",
       "\n",
       "      people_fully_vaccinated  daily_vaccinations_raw  daily_vaccinations  \\\n",
       "5276                      NaN                     NaN                 NaN   \n",
       "5277                      NaN                191181.0            191181.0   \n",
       "5278                      NaN                 33120.0            112150.0   \n",
       "5279                      NaN                229748.0            151350.0   \n",
       "5280                      NaN                220786.0            168709.0   \n",
       "...                       ...                     ...                 ...   \n",
       "5366               14874254.0               2730271.0           3269892.0   \n",
       "5367               15529157.0               2714132.0           3123212.0   \n",
       "5368               16191514.0               2684949.0           3003920.0   \n",
       "5369               16480796.0               1229976.0           2760572.0   \n",
       "5370               17469932.0               3276547.0           2656575.0   \n",
       "\n",
       "      total_vaccinations_per_hundred  people_vaccinated_per_hundred  \\\n",
       "5276                            0.00                           0.00   \n",
       "5277                            0.01                           0.01   \n",
       "5278                            0.02                           0.02   \n",
       "5279                            0.03                           0.03   \n",
       "5280                            0.05                           0.05   \n",
       "...                              ...                            ...   \n",
       "5366                            8.49                           7.42   \n",
       "5367                            8.69                           7.57   \n",
       "5368                            8.89                           7.71   \n",
       "5369                            8.97                           7.78   \n",
       "5370                            9.21                           7.95   \n",
       "\n",
       "      people_fully_vaccinated_per_hundred  daily_vaccinations_per_million  \\\n",
       "5276                                  NaN                             NaN   \n",
       "5277                                  NaN                           139.0   \n",
       "5278                                  NaN                            81.0   \n",
       "5279                                  NaN                           110.0   \n",
       "5280                                  NaN                           122.0   \n",
       "...                                   ...                             ...   \n",
       "5366                                 1.08                          2369.0   \n",
       "5367                                 1.13                          2263.0   \n",
       "5368                                 1.17                          2177.0   \n",
       "5369                                 1.19                          2000.0   \n",
       "5370                                 1.27                          1925.0   \n",
       "\n",
       "                         vaccines          source_name  \\\n",
       "5276  Covaxin, Oxford/AstraZeneca  Government of India   \n",
       "5277  Covaxin, Oxford/AstraZeneca  Government of India   \n",
       "5278  Covaxin, Oxford/AstraZeneca  Government of India   \n",
       "5279  Covaxin, Oxford/AstraZeneca  Government of India   \n",
       "5280  Covaxin, Oxford/AstraZeneca  Government of India   \n",
       "...                           ...                  ...   \n",
       "5366  Covaxin, Oxford/AstraZeneca  Government of India   \n",
       "5367  Covaxin, Oxford/AstraZeneca  Government of India   \n",
       "5368  Covaxin, Oxford/AstraZeneca  Government of India   \n",
       "5369  Covaxin, Oxford/AstraZeneca  Government of India   \n",
       "5370  Covaxin, Oxford/AstraZeneca  Government of India   \n",
       "\n",
       "                                         source_website  \n",
       "5276  http://mohfw.gov.in/pdf/CumulativeCOVIDVaccina...  \n",
       "5277  http://mohfw.gov.in/pdf/CumulativeCOVIDVaccina...  \n",
       "5278  http://mohfw.gov.in/pdf/CumulativeCOVIDVaccina...  \n",
       "5279  http://mohfw.gov.in/pdf/CumulativeCOVIDVaccina...  \n",
       "5280  http://mohfw.gov.in/pdf/CumulativeCOVIDVaccina...  \n",
       "...                                                 ...  \n",
       "5366  http://mohfw.gov.in/pdf/CumulativeCOVIDVaccina...  \n",
       "5367  http://mohfw.gov.in/pdf/CumulativeCOVIDVaccina...  \n",
       "5368  http://mohfw.gov.in/pdf/CumulativeCOVIDVaccina...  \n",
       "5369  http://mohfw.gov.in/pdf/CumulativeCOVIDVaccina...  \n",
       "5370  http://mohfw.gov.in/pdf/CumulativeCOVIDVaccina...  \n",
       "\n",
       "[95 rows x 15 columns]"
      ],
      "text/html": "<div>\n<style scoped>\n    .dataframe tbody tr th:only-of-type {\n        vertical-align: middle;\n    }\n\n    .dataframe tbody tr th {\n        vertical-align: top;\n    }\n\n    .dataframe thead th {\n        text-align: right;\n    }\n</style>\n<table border=\"1\" class=\"dataframe\">\n  <thead>\n    <tr style=\"text-align: right;\">\n      <th></th>\n      <th>country</th>\n      <th>iso_code</th>\n      <th>date</th>\n      <th>total_vaccinations</th>\n      <th>people_vaccinated</th>\n      <th>people_fully_vaccinated</th>\n      <th>daily_vaccinations_raw</th>\n      <th>daily_vaccinations</th>\n      <th>total_vaccinations_per_hundred</th>\n      <th>people_vaccinated_per_hundred</th>\n      <th>people_fully_vaccinated_per_hundred</th>\n      <th>daily_vaccinations_per_million</th>\n      <th>vaccines</th>\n      <th>source_name</th>\n      <th>source_website</th>\n    </tr>\n  </thead>\n  <tbody>\n    <tr>\n      <th>5276</th>\n      <td>India</td>\n      <td>IND</td>\n      <td>2021-01-15</td>\n      <td>0.0</td>\n      <td>0.0</td>\n      <td>NaN</td>\n      <td>NaN</td>\n      <td>NaN</td>\n      <td>0.00</td>\n      <td>0.00</td>\n      <td>NaN</td>\n      <td>NaN</td>\n      <td>Covaxin, Oxford/AstraZeneca</td>\n      <td>Government of India</td>\n      <td>http://mohfw.gov.in/pdf/CumulativeCOVIDVaccina...</td>\n    </tr>\n    <tr>\n      <th>5277</th>\n      <td>India</td>\n      <td>IND</td>\n      <td>2021-01-16</td>\n      <td>191181.0</td>\n      <td>191181.0</td>\n      <td>NaN</td>\n      <td>191181.0</td>\n      <td>191181.0</td>\n      <td>0.01</td>\n      <td>0.01</td>\n      <td>NaN</td>\n      <td>139.0</td>\n      <td>Covaxin, Oxford/AstraZeneca</td>\n      <td>Government of India</td>\n      <td>http://mohfw.gov.in/pdf/CumulativeCOVIDVaccina...</td>\n    </tr>\n    <tr>\n      <th>5278</th>\n      <td>India</td>\n      <td>IND</td>\n      <td>2021-01-17</td>\n      <td>224301.0</td>\n      <td>224301.0</td>\n      <td>NaN</td>\n      <td>33120.0</td>\n      <td>112150.0</td>\n      <td>0.02</td>\n      <td>0.02</td>\n      <td>NaN</td>\n      <td>81.0</td>\n      <td>Covaxin, Oxford/AstraZeneca</td>\n      <td>Government of India</td>\n      <td>http://mohfw.gov.in/pdf/CumulativeCOVIDVaccina...</td>\n    </tr>\n    <tr>\n      <th>5279</th>\n      <td>India</td>\n      <td>IND</td>\n      <td>2021-01-18</td>\n      <td>454049.0</td>\n      <td>454049.0</td>\n      <td>NaN</td>\n      <td>229748.0</td>\n      <td>151350.0</td>\n      <td>0.03</td>\n      <td>0.03</td>\n      <td>NaN</td>\n      <td>110.0</td>\n      <td>Covaxin, Oxford/AstraZeneca</td>\n      <td>Government of India</td>\n      <td>http://mohfw.gov.in/pdf/CumulativeCOVIDVaccina...</td>\n    </tr>\n    <tr>\n      <th>5280</th>\n      <td>India</td>\n      <td>IND</td>\n      <td>2021-01-19</td>\n      <td>674835.0</td>\n      <td>674835.0</td>\n      <td>NaN</td>\n      <td>220786.0</td>\n      <td>168709.0</td>\n      <td>0.05</td>\n      <td>0.05</td>\n      <td>NaN</td>\n      <td>122.0</td>\n      <td>Covaxin, Oxford/AstraZeneca</td>\n      <td>Government of India</td>\n      <td>http://mohfw.gov.in/pdf/CumulativeCOVIDVaccina...</td>\n    </tr>\n    <tr>\n      <th>...</th>\n      <td>...</td>\n      <td>...</td>\n      <td>...</td>\n      <td>...</td>\n      <td>...</td>\n      <td>...</td>\n      <td>...</td>\n      <td>...</td>\n      <td>...</td>\n      <td>...</td>\n      <td>...</td>\n      <td>...</td>\n      <td>...</td>\n      <td>...</td>\n      <td>...</td>\n    </tr>\n    <tr>\n      <th>5366</th>\n      <td>India</td>\n      <td>IND</td>\n      <td>2021-04-15</td>\n      <td>117223509.0</td>\n      <td>102349255.0</td>\n      <td>14874254.0</td>\n      <td>2730271.0</td>\n      <td>3269892.0</td>\n      <td>8.49</td>\n      <td>7.42</td>\n      <td>1.08</td>\n      <td>2369.0</td>\n      <td>Covaxin, Oxford/AstraZeneca</td>\n      <td>Government of India</td>\n      <td>http://mohfw.gov.in/pdf/CumulativeCOVIDVaccina...</td>\n    </tr>\n    <tr>\n      <th>5367</th>\n      <td>India</td>\n      <td>IND</td>\n      <td>2021-04-16</td>\n      <td>119937641.0</td>\n      <td>104408484.0</td>\n      <td>15529157.0</td>\n      <td>2714132.0</td>\n      <td>3123212.0</td>\n      <td>8.69</td>\n      <td>7.57</td>\n      <td>1.13</td>\n      <td>2263.0</td>\n      <td>Covaxin, Oxford/AstraZeneca</td>\n      <td>Government of India</td>\n      <td>http://mohfw.gov.in/pdf/CumulativeCOVIDVaccina...</td>\n    </tr>\n    <tr>\n      <th>5368</th>\n      <td>India</td>\n      <td>IND</td>\n      <td>2021-04-17</td>\n      <td>122622590.0</td>\n      <td>106431076.0</td>\n      <td>16191514.0</td>\n      <td>2684949.0</td>\n      <td>3003920.0</td>\n      <td>8.89</td>\n      <td>7.71</td>\n      <td>1.17</td>\n      <td>2177.0</td>\n      <td>Covaxin, Oxford/AstraZeneca</td>\n      <td>Government of India</td>\n      <td>http://mohfw.gov.in/pdf/CumulativeCOVIDVaccina...</td>\n    </tr>\n    <tr>\n      <th>5369</th>\n      <td>India</td>\n      <td>IND</td>\n      <td>2021-04-18</td>\n      <td>123852566.0</td>\n      <td>107371770.0</td>\n      <td>16480796.0</td>\n      <td>1229976.0</td>\n      <td>2760572.0</td>\n      <td>8.97</td>\n      <td>7.78</td>\n      <td>1.19</td>\n      <td>2000.0</td>\n      <td>Covaxin, Oxford/AstraZeneca</td>\n      <td>Government of India</td>\n      <td>http://mohfw.gov.in/pdf/CumulativeCOVIDVaccina...</td>\n    </tr>\n    <tr>\n      <th>5370</th>\n      <td>India</td>\n      <td>IND</td>\n      <td>2021-04-19</td>\n      <td>127129113.0</td>\n      <td>109659181.0</td>\n      <td>17469932.0</td>\n      <td>3276547.0</td>\n      <td>2656575.0</td>\n      <td>9.21</td>\n      <td>7.95</td>\n      <td>1.27</td>\n      <td>1925.0</td>\n      <td>Covaxin, Oxford/AstraZeneca</td>\n      <td>Government of India</td>\n      <td>http://mohfw.gov.in/pdf/CumulativeCOVIDVaccina...</td>\n    </tr>\n  </tbody>\n</table>\n<p>95 rows × 15 columns</p>\n</div>"
     },
     "metadata": {},
     "execution_count": 3
    }
   ],
   "source": [
    "df.loc[(df['iso_code']=='IND')]"
   ]
  },
  {
   "cell_type": "code",
   "execution_count": 4,
   "id": "aggressive-country",
   "metadata": {
    "_kg_hide-input": true,
    "execution": {
     "iopub.execute_input": "2021-04-26T13:37:16.473088Z",
     "iopub.status.busy": "2021-04-26T13:37:16.472049Z",
     "iopub.status.idle": "2021-04-26T13:37:16.474549Z",
     "shell.execute_reply": "2021-04-26T13:37:16.475048Z"
    },
    "papermill": {
     "duration": 0.033248,
     "end_time": "2021-04-26T13:37:16.475234",
     "exception": false,
     "start_time": "2021-04-26T13:37:16.441986",
     "status": "completed"
    },
    "tags": []
   },
   "outputs": [],
   "source": [
    "def get_country_data(df,iso):\n",
    "    return df.loc[(df['iso_code']==iso)]\n",
    "def get_vac_data(df,location):\n",
    "    return df.loc[(df['location']==location)]"
   ]
  },
  {
   "cell_type": "code",
   "execution_count": 7,
   "id": "friendly-supplement",
   "metadata": {
    "_kg_hide-input": true,
    "execution": {
     "iopub.execute_input": "2021-04-26T13:37:16.557947Z",
     "iopub.status.busy": "2021-04-26T13:37:16.539363Z",
     "iopub.status.idle": "2021-04-26T13:37:16.561275Z",
     "shell.execute_reply": "2021-04-26T13:37:16.560706Z"
    },
    "papermill": {
     "duration": 0.061212,
     "end_time": "2021-04-26T13:37:16.561422",
     "exception": false,
     "start_time": "2021-04-26T13:37:16.500210",
     "status": "completed"
    },
    "tags": []
   },
   "outputs": [],
   "source": [
    "#listing the 6 countries with the highest population\n",
    "iso_6 = ['CHN','IND','USA','IDN','PAK','BRA']\n",
    "dfs = []\n",
    "for i in iso_6:\n",
    "    dfs.append(get_country_data(df,i))\n",
    "vac_USA = get_vac_data(vaccine,'India')"
   ]
  },
  {
   "cell_type": "markdown",
   "id": "material-uruguay",
   "metadata": {
    "papermill": {
     "duration": 0.023964,
     "end_time": "2021-04-26T13:37:16.609615",
     "exception": false,
     "start_time": "2021-04-26T13:37:16.585651",
     "status": "completed"
    },
    "tags": []
   },
   "source": [
    "# What vaccine is every country using"
   ]
  },
  {
   "cell_type": "markdown",
   "id": "correct-preference",
   "metadata": {
    "papermill": {
     "duration": 0.02375,
     "end_time": "2021-04-26T13:37:16.657734",
     "exception": false,
     "start_time": "2021-04-26T13:37:16.633984",
     "status": "completed"
    },
    "tags": []
   },
   "source": [
    "The only country we are interested that has the data of what vaccines are beeing used is the United States so we are going to show the evolution of every kind of vaccine. "
   ]
  },
  {
   "cell_type": "code",
   "execution_count": 10,
   "metadata": {},
   "outputs": [
    {
     "output_type": "execute_result",
     "data": {
      "text/plain": [
       "array(['Chile', 'Czechia', 'Germany', 'Iceland', 'Italy', 'Latvia',\n",
       "       'Lithuania', 'Romania', 'United States'], dtype=object)"
      ]
     },
     "metadata": {},
     "execution_count": 10
    }
   ],
   "source": [
    "vaccine.location.unique()"
   ]
  },
  {
   "cell_type": "code",
   "execution_count": 5,
   "id": "growing-frontier",
   "metadata": {
    "_kg_hide-input": true,
    "execution": {
     "iopub.execute_input": "2021-04-26T13:37:16.711794Z",
     "iopub.status.busy": "2021-04-26T13:37:16.711069Z",
     "iopub.status.idle": "2021-04-26T13:37:18.059338Z",
     "shell.execute_reply": "2021-04-26T13:37:18.059861Z"
    },
    "papermill": {
     "duration": 1.378217,
     "end_time": "2021-04-26T13:37:18.060060",
     "exception": false,
     "start_time": "2021-04-26T13:37:16.681843",
     "status": "completed"
    },
    "tags": []
   },
   "outputs": [
    {
     "output_type": "display_data",
     "data": {
      "application/vnd.plotly.v1+json": {
       "config": {
        "plotlyServerURL": "https://plot.ly"
       },
       "data": [
        {
         "hovertemplate": "vaccine=Moderna<br>date=%{x}<br>total_vaccinations=%{y}<extra></extra>",
         "legendgroup": "Moderna",
         "line": {
          "color": "#636efa",
          "dash": "solid"
         },
         "mode": "lines",
         "name": "Moderna",
         "orientation": "v",
         "showlegend": true,
         "type": "scatter",
         "x": [
          "2021-01-12",
          "2021-01-13",
          "2021-01-15",
          "2021-01-19",
          "2021-01-20",
          "2021-01-21",
          "2021-01-22",
          "2021-01-23",
          "2021-01-24",
          "2021-01-25",
          "2021-01-26",
          "2021-01-27",
          "2021-01-28",
          "2021-01-29",
          "2021-01-30",
          "2021-01-31",
          "2021-02-01",
          "2021-02-02",
          "2021-02-03",
          "2021-02-04",
          "2021-02-05",
          "2021-02-06",
          "2021-02-07",
          "2021-02-08",
          "2021-02-09",
          "2021-02-10",
          "2021-02-11",
          "2021-02-12",
          "2021-02-13",
          "2021-02-14",
          "2021-02-16",
          "2021-02-17",
          "2021-02-18",
          "2021-02-19",
          "2021-02-20",
          "2021-02-21",
          "2021-02-22",
          "2021-02-23",
          "2021-02-24",
          "2021-02-25",
          "2021-02-26",
          "2021-02-27",
          "2021-02-28",
          "2021-03-01",
          "2021-03-02",
          "2021-03-03",
          "2021-03-04",
          "2021-03-05",
          "2021-03-06",
          "2021-03-07",
          "2021-03-08",
          "2021-03-09",
          "2021-03-10",
          "2021-03-11",
          "2021-03-12",
          "2021-03-13",
          "2021-03-14",
          "2021-03-15",
          "2021-03-16",
          "2021-03-17",
          "2021-03-18",
          "2021-03-19",
          "2021-03-20",
          "2021-03-21",
          "2021-03-22",
          "2021-03-23",
          "2021-03-24",
          "2021-03-25",
          "2021-03-26",
          "2021-03-27",
          "2021-03-28",
          "2021-03-29",
          "2021-03-30",
          "2021-03-31",
          "2021-04-01",
          "2021-04-02",
          "2021-04-03",
          "2021-04-04",
          "2021-04-05",
          "2021-04-06",
          "2021-04-07",
          "2021-04-08",
          "2021-04-09",
          "2021-04-10",
          "2021-04-11",
          "2021-04-12",
          "2021-04-13",
          "2021-04-14",
          "2021-04-15",
          "2021-04-16",
          "2021-04-17",
          "2021-04-18",
          "2021-04-19",
          "2021-04-20"
         ],
         "xaxis": "x",
         "y": [
          3835859,
          4249795,
          5122662,
          6828561,
          7239750,
          7724683,
          8407909,
          9061112,
          9689497,
          10084432,
          10431466,
          11001991,
          11737592,
          12619210,
          13499942,
          14246089,
          14756609,
          15006565,
          15567188,
          16260102,
          17133644,
          18336515,
          19485089,
          20066305,
          20416765,
          21189540,
          22038088,
          23111715,
          24297615,
          25505313,
          26738383,
          27287041,
          28043413,
          29044336,
          29909492,
          30747615,
          31212925,
          31569021,
          32194245,
          33066503,
          34181226,
          35422721,
          36694414,
          37522293,
          38319678,
          39248180,
          40261524,
          41507728,
          42977312,
          44195607,
          44936695,
          45635740,
          46535646,
          47733656,
          49169578,
          51292130,
          51951820,
          52883263,
          53647312,
          54643195,
          55811286,
          56941640,
          58294583,
          59518840,
          60275003,
          60913292,
          61719260,
          62877755,
          64313721,
          65811340,
          67249447,
          68177850,
          68858013,
          69930956,
          71338865,
          72997571,
          74713387,
          76038933,
          76791212,
          77285350,
          78315776,
          79551820,
          80944104,
          82622178,
          83847244,
          84694388,
          85435687,
          86221076,
          87539652,
          89199649,
          90718986,
          92181455,
          93002433,
          93672874
         ],
         "yaxis": "y"
        },
        {
         "hovertemplate": "vaccine=Pfizer/BioNTech<br>date=%{x}<br>total_vaccinations=%{y}<extra></extra>",
         "legendgroup": "Pfizer/BioNTech",
         "line": {
          "color": "#EF553B",
          "dash": "solid"
         },
         "mode": "lines",
         "name": "Pfizer/BioNTech",
         "orientation": "v",
         "showlegend": true,
         "type": "scatter",
         "x": [
          "2021-01-12",
          "2021-01-13",
          "2021-01-15",
          "2021-01-19",
          "2021-01-20",
          "2021-01-21",
          "2021-01-22",
          "2021-01-23",
          "2021-01-24",
          "2021-01-25",
          "2021-01-26",
          "2021-01-27",
          "2021-01-28",
          "2021-01-29",
          "2021-01-30",
          "2021-01-31",
          "2021-02-01",
          "2021-02-02",
          "2021-02-03",
          "2021-02-04",
          "2021-02-05",
          "2021-02-06",
          "2021-02-07",
          "2021-02-08",
          "2021-02-09",
          "2021-02-10",
          "2021-02-11",
          "2021-02-12",
          "2021-02-13",
          "2021-02-14",
          "2021-02-16",
          "2021-02-17",
          "2021-02-18",
          "2021-02-19",
          "2021-02-20",
          "2021-02-21",
          "2021-02-22",
          "2021-02-23",
          "2021-02-24",
          "2021-02-25",
          "2021-02-26",
          "2021-02-27",
          "2021-02-28",
          "2021-03-01",
          "2021-03-02",
          "2021-03-03",
          "2021-03-04",
          "2021-03-05",
          "2021-03-06",
          "2021-03-07",
          "2021-03-08",
          "2021-03-09",
          "2021-03-10",
          "2021-03-11",
          "2021-03-12",
          "2021-03-13",
          "2021-03-14",
          "2021-03-15",
          "2021-03-16",
          "2021-03-17",
          "2021-03-18",
          "2021-03-19",
          "2021-03-20",
          "2021-03-21",
          "2021-03-22",
          "2021-03-23",
          "2021-03-24",
          "2021-03-25",
          "2021-03-26",
          "2021-03-27",
          "2021-03-28",
          "2021-03-29",
          "2021-03-30",
          "2021-03-31",
          "2021-04-01",
          "2021-04-02",
          "2021-04-03",
          "2021-04-04",
          "2021-04-05",
          "2021-04-06",
          "2021-04-07",
          "2021-04-08",
          "2021-04-09",
          "2021-04-10",
          "2021-04-11",
          "2021-04-12",
          "2021-04-13",
          "2021-04-14",
          "2021-04-15",
          "2021-04-16",
          "2021-04-17",
          "2021-04-18",
          "2021-04-19",
          "2021-04-20"
         ],
         "xaxis": "x",
         "y": [
          5488697,
          6025872,
          7153268,
          8874811,
          9281063,
          9817027,
          10695066,
          11471457,
          12153536,
          12551999,
          13009981,
          13550835,
          14355980,
          15164858,
          15977015,
          16775916,
          17364398,
          17672866,
          18209204,
          18841309,
          19582865,
          20598212,
          21622193,
          22247484,
          22685406,
          23475749,
          24246868,
          25192628,
          26237417,
          27271797,
          28374410,
          28886690,
          29585627,
          30431247,
          31270062,
          32232422,
          32853883,
          33352170,
          34159027,
          35095003,
          36159403,
          37269195,
          38426567,
          39262524,
          40196532,
          41175807,
          42193285,
          43373717,
          44774584,
          45932122,
          46824290,
          47628226,
          48605159,
          49708920,
          50960400,
          53096054,
          53708091,
          54643581,
          55393141,
          56499018,
          57876875,
          59214724,
          60849627,
          62529418,
          63693721,
          64679659,
          65995871,
          67555076,
          69368232,
          71246219,
          72981111,
          74338025,
          75386890,
          76891912,
          78717917,
          80845236,
          82986550,
          84810406,
          86041963,
          86855993,
          88463874,
          90256586,
          92355733,
          94715143,
          96586783,
          97978125,
          99453295,
          100891617,
          102877491,
          105070417,
          107083884,
          109122092,
          110461905,
          111585824
         ],
         "yaxis": "y"
        },
        {
         "hovertemplate": "vaccine=Johnson&Johnson<br>date=%{x}<br>total_vaccinations=%{y}<extra></extra>",
         "legendgroup": "Johnson&Johnson",
         "line": {
          "color": "#00cc96",
          "dash": "solid"
         },
         "mode": "lines",
         "name": "Johnson&Johnson",
         "orientation": "v",
         "showlegend": true,
         "type": "scatter",
         "x": [
          "2021-03-08",
          "2021-03-09",
          "2021-03-10",
          "2021-03-11",
          "2021-03-12",
          "2021-03-13",
          "2021-03-14",
          "2021-03-15",
          "2021-03-16",
          "2021-03-17",
          "2021-03-18",
          "2021-03-19",
          "2021-03-20",
          "2021-03-21",
          "2021-03-22",
          "2021-03-23",
          "2021-03-24",
          "2021-03-25",
          "2021-03-26",
          "2021-03-27",
          "2021-03-28",
          "2021-03-29",
          "2021-03-30",
          "2021-03-31",
          "2021-04-01",
          "2021-04-02",
          "2021-04-03",
          "2021-04-04",
          "2021-04-05",
          "2021-04-06",
          "2021-04-07",
          "2021-04-08",
          "2021-04-09",
          "2021-04-10",
          "2021-04-11",
          "2021-04-12",
          "2021-04-13",
          "2021-04-14",
          "2021-04-15",
          "2021-04-16",
          "2021-04-17",
          "2021-04-18",
          "2021-04-19",
          "2021-04-20"
         ],
         "xaxis": "x",
         "y": [
          208590,
          308181,
          458911,
          638469,
          873726,
          1189207,
          1273958,
          1428465,
          1569675,
          1766131,
          1911052,
          2025349,
          2163681,
          2298614,
          2406337,
          2489153,
          2622182,
          2734367,
          2863246,
          2982453,
          3090712,
          3155418,
          3215657,
          3307113,
          3429880,
          3617377,
          3840647,
          4054089,
          4204015,
          4299901,
          4544552,
          4917225,
          5382365,
          5972101,
          6453740,
          6859877,
          7233726,
          7517671,
          7736781,
          7848027,
          7902746,
          7935549,
          7949021,
          7961251
         ],
         "yaxis": "y"
        }
       ],
       "layout": {
        "legend": {
         "title": {
          "text": "vaccine"
         },
         "tracegroupgap": 0
        },
        "margin": {
         "t": 60
        },
        "template": {
         "data": {
          "bar": [
           {
            "error_x": {
             "color": "#2a3f5f"
            },
            "error_y": {
             "color": "#2a3f5f"
            },
            "marker": {
             "line": {
              "color": "#E5ECF6",
              "width": 0.5
             }
            },
            "type": "bar"
           }
          ],
          "barpolar": [
           {
            "marker": {
             "line": {
              "color": "#E5ECF6",
              "width": 0.5
             }
            },
            "type": "barpolar"
           }
          ],
          "carpet": [
           {
            "aaxis": {
             "endlinecolor": "#2a3f5f",
             "gridcolor": "white",
             "linecolor": "white",
             "minorgridcolor": "white",
             "startlinecolor": "#2a3f5f"
            },
            "baxis": {
             "endlinecolor": "#2a3f5f",
             "gridcolor": "white",
             "linecolor": "white",
             "minorgridcolor": "white",
             "startlinecolor": "#2a3f5f"
            },
            "type": "carpet"
           }
          ],
          "choropleth": [
           {
            "colorbar": {
             "outlinewidth": 0,
             "ticks": ""
            },
            "type": "choropleth"
           }
          ],
          "contour": [
           {
            "colorbar": {
             "outlinewidth": 0,
             "ticks": ""
            },
            "colorscale": [
             [
              0,
              "#0d0887"
             ],
             [
              0.1111111111111111,
              "#46039f"
             ],
             [
              0.2222222222222222,
              "#7201a8"
             ],
             [
              0.3333333333333333,
              "#9c179e"
             ],
             [
              0.4444444444444444,
              "#bd3786"
             ],
             [
              0.5555555555555556,
              "#d8576b"
             ],
             [
              0.6666666666666666,
              "#ed7953"
             ],
             [
              0.7777777777777778,
              "#fb9f3a"
             ],
             [
              0.8888888888888888,
              "#fdca26"
             ],
             [
              1,
              "#f0f921"
             ]
            ],
            "type": "contour"
           }
          ],
          "contourcarpet": [
           {
            "colorbar": {
             "outlinewidth": 0,
             "ticks": ""
            },
            "type": "contourcarpet"
           }
          ],
          "heatmap": [
           {
            "colorbar": {
             "outlinewidth": 0,
             "ticks": ""
            },
            "colorscale": [
             [
              0,
              "#0d0887"
             ],
             [
              0.1111111111111111,
              "#46039f"
             ],
             [
              0.2222222222222222,
              "#7201a8"
             ],
             [
              0.3333333333333333,
              "#9c179e"
             ],
             [
              0.4444444444444444,
              "#bd3786"
             ],
             [
              0.5555555555555556,
              "#d8576b"
             ],
             [
              0.6666666666666666,
              "#ed7953"
             ],
             [
              0.7777777777777778,
              "#fb9f3a"
             ],
             [
              0.8888888888888888,
              "#fdca26"
             ],
             [
              1,
              "#f0f921"
             ]
            ],
            "type": "heatmap"
           }
          ],
          "heatmapgl": [
           {
            "colorbar": {
             "outlinewidth": 0,
             "ticks": ""
            },
            "colorscale": [
             [
              0,
              "#0d0887"
             ],
             [
              0.1111111111111111,
              "#46039f"
             ],
             [
              0.2222222222222222,
              "#7201a8"
             ],
             [
              0.3333333333333333,
              "#9c179e"
             ],
             [
              0.4444444444444444,
              "#bd3786"
             ],
             [
              0.5555555555555556,
              "#d8576b"
             ],
             [
              0.6666666666666666,
              "#ed7953"
             ],
             [
              0.7777777777777778,
              "#fb9f3a"
             ],
             [
              0.8888888888888888,
              "#fdca26"
             ],
             [
              1,
              "#f0f921"
             ]
            ],
            "type": "heatmapgl"
           }
          ],
          "histogram": [
           {
            "marker": {
             "colorbar": {
              "outlinewidth": 0,
              "ticks": ""
             }
            },
            "type": "histogram"
           }
          ],
          "histogram2d": [
           {
            "colorbar": {
             "outlinewidth": 0,
             "ticks": ""
            },
            "colorscale": [
             [
              0,
              "#0d0887"
             ],
             [
              0.1111111111111111,
              "#46039f"
             ],
             [
              0.2222222222222222,
              "#7201a8"
             ],
             [
              0.3333333333333333,
              "#9c179e"
             ],
             [
              0.4444444444444444,
              "#bd3786"
             ],
             [
              0.5555555555555556,
              "#d8576b"
             ],
             [
              0.6666666666666666,
              "#ed7953"
             ],
             [
              0.7777777777777778,
              "#fb9f3a"
             ],
             [
              0.8888888888888888,
              "#fdca26"
             ],
             [
              1,
              "#f0f921"
             ]
            ],
            "type": "histogram2d"
           }
          ],
          "histogram2dcontour": [
           {
            "colorbar": {
             "outlinewidth": 0,
             "ticks": ""
            },
            "colorscale": [
             [
              0,
              "#0d0887"
             ],
             [
              0.1111111111111111,
              "#46039f"
             ],
             [
              0.2222222222222222,
              "#7201a8"
             ],
             [
              0.3333333333333333,
              "#9c179e"
             ],
             [
              0.4444444444444444,
              "#bd3786"
             ],
             [
              0.5555555555555556,
              "#d8576b"
             ],
             [
              0.6666666666666666,
              "#ed7953"
             ],
             [
              0.7777777777777778,
              "#fb9f3a"
             ],
             [
              0.8888888888888888,
              "#fdca26"
             ],
             [
              1,
              "#f0f921"
             ]
            ],
            "type": "histogram2dcontour"
           }
          ],
          "mesh3d": [
           {
            "colorbar": {
             "outlinewidth": 0,
             "ticks": ""
            },
            "type": "mesh3d"
           }
          ],
          "parcoords": [
           {
            "line": {
             "colorbar": {
              "outlinewidth": 0,
              "ticks": ""
             }
            },
            "type": "parcoords"
           }
          ],
          "pie": [
           {
            "automargin": true,
            "type": "pie"
           }
          ],
          "scatter": [
           {
            "marker": {
             "colorbar": {
              "outlinewidth": 0,
              "ticks": ""
             }
            },
            "type": "scatter"
           }
          ],
          "scatter3d": [
           {
            "line": {
             "colorbar": {
              "outlinewidth": 0,
              "ticks": ""
             }
            },
            "marker": {
             "colorbar": {
              "outlinewidth": 0,
              "ticks": ""
             }
            },
            "type": "scatter3d"
           }
          ],
          "scattercarpet": [
           {
            "marker": {
             "colorbar": {
              "outlinewidth": 0,
              "ticks": ""
             }
            },
            "type": "scattercarpet"
           }
          ],
          "scattergeo": [
           {
            "marker": {
             "colorbar": {
              "outlinewidth": 0,
              "ticks": ""
             }
            },
            "type": "scattergeo"
           }
          ],
          "scattergl": [
           {
            "marker": {
             "colorbar": {
              "outlinewidth": 0,
              "ticks": ""
             }
            },
            "type": "scattergl"
           }
          ],
          "scattermapbox": [
           {
            "marker": {
             "colorbar": {
              "outlinewidth": 0,
              "ticks": ""
             }
            },
            "type": "scattermapbox"
           }
          ],
          "scatterpolar": [
           {
            "marker": {
             "colorbar": {
              "outlinewidth": 0,
              "ticks": ""
             }
            },
            "type": "scatterpolar"
           }
          ],
          "scatterpolargl": [
           {
            "marker": {
             "colorbar": {
              "outlinewidth": 0,
              "ticks": ""
             }
            },
            "type": "scatterpolargl"
           }
          ],
          "scatterternary": [
           {
            "marker": {
             "colorbar": {
              "outlinewidth": 0,
              "ticks": ""
             }
            },
            "type": "scatterternary"
           }
          ],
          "surface": [
           {
            "colorbar": {
             "outlinewidth": 0,
             "ticks": ""
            },
            "colorscale": [
             [
              0,
              "#0d0887"
             ],
             [
              0.1111111111111111,
              "#46039f"
             ],
             [
              0.2222222222222222,
              "#7201a8"
             ],
             [
              0.3333333333333333,
              "#9c179e"
             ],
             [
              0.4444444444444444,
              "#bd3786"
             ],
             [
              0.5555555555555556,
              "#d8576b"
             ],
             [
              0.6666666666666666,
              "#ed7953"
             ],
             [
              0.7777777777777778,
              "#fb9f3a"
             ],
             [
              0.8888888888888888,
              "#fdca26"
             ],
             [
              1,
              "#f0f921"
             ]
            ],
            "type": "surface"
           }
          ],
          "table": [
           {
            "cells": {
             "fill": {
              "color": "#EBF0F8"
             },
             "line": {
              "color": "white"
             }
            },
            "header": {
             "fill": {
              "color": "#C8D4E3"
             },
             "line": {
              "color": "white"
             }
            },
            "type": "table"
           }
          ]
         },
         "layout": {
          "annotationdefaults": {
           "arrowcolor": "#2a3f5f",
           "arrowhead": 0,
           "arrowwidth": 1
          },
          "autotypenumbers": "strict",
          "coloraxis": {
           "colorbar": {
            "outlinewidth": 0,
            "ticks": ""
           }
          },
          "colorscale": {
           "diverging": [
            [
             0,
             "#8e0152"
            ],
            [
             0.1,
             "#c51b7d"
            ],
            [
             0.2,
             "#de77ae"
            ],
            [
             0.3,
             "#f1b6da"
            ],
            [
             0.4,
             "#fde0ef"
            ],
            [
             0.5,
             "#f7f7f7"
            ],
            [
             0.6,
             "#e6f5d0"
            ],
            [
             0.7,
             "#b8e186"
            ],
            [
             0.8,
             "#7fbc41"
            ],
            [
             0.9,
             "#4d9221"
            ],
            [
             1,
             "#276419"
            ]
           ],
           "sequential": [
            [
             0,
             "#0d0887"
            ],
            [
             0.1111111111111111,
             "#46039f"
            ],
            [
             0.2222222222222222,
             "#7201a8"
            ],
            [
             0.3333333333333333,
             "#9c179e"
            ],
            [
             0.4444444444444444,
             "#bd3786"
            ],
            [
             0.5555555555555556,
             "#d8576b"
            ],
            [
             0.6666666666666666,
             "#ed7953"
            ],
            [
             0.7777777777777778,
             "#fb9f3a"
            ],
            [
             0.8888888888888888,
             "#fdca26"
            ],
            [
             1,
             "#f0f921"
            ]
           ],
           "sequentialminus": [
            [
             0,
             "#0d0887"
            ],
            [
             0.1111111111111111,
             "#46039f"
            ],
            [
             0.2222222222222222,
             "#7201a8"
            ],
            [
             0.3333333333333333,
             "#9c179e"
            ],
            [
             0.4444444444444444,
             "#bd3786"
            ],
            [
             0.5555555555555556,
             "#d8576b"
            ],
            [
             0.6666666666666666,
             "#ed7953"
            ],
            [
             0.7777777777777778,
             "#fb9f3a"
            ],
            [
             0.8888888888888888,
             "#fdca26"
            ],
            [
             1,
             "#f0f921"
            ]
           ]
          },
          "colorway": [
           "#636efa",
           "#EF553B",
           "#00cc96",
           "#ab63fa",
           "#FFA15A",
           "#19d3f3",
           "#FF6692",
           "#B6E880",
           "#FF97FF",
           "#FECB52"
          ],
          "font": {
           "color": "#2a3f5f"
          },
          "geo": {
           "bgcolor": "white",
           "lakecolor": "white",
           "landcolor": "#E5ECF6",
           "showlakes": true,
           "showland": true,
           "subunitcolor": "white"
          },
          "hoverlabel": {
           "align": "left"
          },
          "hovermode": "closest",
          "mapbox": {
           "style": "light"
          },
          "paper_bgcolor": "white",
          "plot_bgcolor": "#E5ECF6",
          "polar": {
           "angularaxis": {
            "gridcolor": "white",
            "linecolor": "white",
            "ticks": ""
           },
           "bgcolor": "#E5ECF6",
           "radialaxis": {
            "gridcolor": "white",
            "linecolor": "white",
            "ticks": ""
           }
          },
          "scene": {
           "xaxis": {
            "backgroundcolor": "#E5ECF6",
            "gridcolor": "white",
            "gridwidth": 2,
            "linecolor": "white",
            "showbackground": true,
            "ticks": "",
            "zerolinecolor": "white"
           },
           "yaxis": {
            "backgroundcolor": "#E5ECF6",
            "gridcolor": "white",
            "gridwidth": 2,
            "linecolor": "white",
            "showbackground": true,
            "ticks": "",
            "zerolinecolor": "white"
           },
           "zaxis": {
            "backgroundcolor": "#E5ECF6",
            "gridcolor": "white",
            "gridwidth": 2,
            "linecolor": "white",
            "showbackground": true,
            "ticks": "",
            "zerolinecolor": "white"
           }
          },
          "shapedefaults": {
           "line": {
            "color": "#2a3f5f"
           }
          },
          "ternary": {
           "aaxis": {
            "gridcolor": "white",
            "linecolor": "white",
            "ticks": ""
           },
           "baxis": {
            "gridcolor": "white",
            "linecolor": "white",
            "ticks": ""
           },
           "bgcolor": "#E5ECF6",
           "caxis": {
            "gridcolor": "white",
            "linecolor": "white",
            "ticks": ""
           }
          },
          "title": {
           "x": 0.05
          },
          "xaxis": {
           "automargin": true,
           "gridcolor": "white",
           "linecolor": "white",
           "ticks": "",
           "title": {
            "standoff": 15
           },
           "zerolinecolor": "white",
           "zerolinewidth": 2
          },
          "yaxis": {
           "automargin": true,
           "gridcolor": "white",
           "linecolor": "white",
           "ticks": "",
           "title": {
            "standoff": 15
           },
           "zerolinecolor": "white",
           "zerolinewidth": 2
          }
         }
        },
        "xaxis": {
         "anchor": "y",
         "domain": [
          0,
          1
         ],
         "title": {
          "text": "date"
         }
        },
        "yaxis": {
         "anchor": "x",
         "domain": [
          0,
          1
         ],
         "title": {
          "text": "total_vaccinations"
         }
        }
       }
      }
     },
     "metadata": {}
    }
   ],
   "source": [
    "fig = px.line(vac_USA,x = 'date', y = 'total_vaccinations', color = 'vaccine' )\n",
    "fig.show()"
   ]
  },
  {
   "cell_type": "markdown",
   "id": "unauthorized-pharmacy",
   "metadata": {
    "papermill": {
     "duration": 0.025985,
     "end_time": "2021-04-26T13:37:18.112845",
     "exception": false,
     "start_time": "2021-04-26T13:37:18.086860",
     "status": "completed"
    },
    "tags": []
   },
   "source": [
    "# Number of daily vaccinations by country"
   ]
  },
  {
   "cell_type": "code",
   "execution_count": 18,
   "id": "driven-blackberry",
   "metadata": {
    "execution": {
     "iopub.execute_input": "2021-04-26T13:37:18.181283Z",
     "iopub.status.busy": "2021-04-26T13:37:18.180194Z",
     "iopub.status.idle": "2021-04-26T13:37:18.195741Z",
     "shell.execute_reply": "2021-04-26T13:37:18.195058Z"
    },
    "papermill": {
     "duration": 0.057183,
     "end_time": "2021-04-26T13:37:18.195886",
     "exception": false,
     "start_time": "2021-04-26T13:37:18.138703",
     "status": "completed"
    },
    "tags": []
   },
   "outputs": [
    {
     "output_type": "display_data",
     "data": {
      "application/vnd.plotly.v1+json": {
       "config": {
        "plotlyServerURL": "https://plot.ly"
       },
       "data": [
        {
         "mode": "lines",
         "name": "CHN",
         "type": "scatter",
         "x": [
          "2020-12-15",
          "2020-12-16",
          "2020-12-17",
          "2020-12-18",
          "2020-12-19",
          "2020-12-20",
          "2020-12-21",
          "2020-12-22",
          "2020-12-23",
          "2020-12-24",
          "2020-12-25",
          "2020-12-26",
          "2020-12-27",
          "2020-12-28",
          "2020-12-29",
          "2020-12-30",
          "2020-12-31",
          "2021-01-01",
          "2021-01-02",
          "2021-01-03",
          "2021-01-04",
          "2021-01-05",
          "2021-01-06",
          "2021-01-07",
          "2021-01-08",
          "2021-01-09",
          "2021-01-10",
          "2021-01-11",
          "2021-01-12",
          "2021-01-13",
          "2021-01-14",
          "2021-01-15",
          "2021-01-16",
          "2021-01-17",
          "2021-01-18",
          "2021-01-19",
          "2021-01-20",
          "2021-01-21",
          "2021-01-22",
          "2021-01-23",
          "2021-01-24",
          "2021-01-25",
          "2021-01-26",
          "2021-01-27",
          "2021-01-28",
          "2021-01-29",
          "2021-01-30",
          "2021-01-31",
          "2021-02-01",
          "2021-02-02",
          "2021-02-03",
          "2021-02-04",
          "2021-02-05",
          "2021-02-06",
          "2021-02-07",
          "2021-02-08",
          "2021-02-09",
          "2021-02-10",
          "2021-02-11",
          "2021-02-12",
          "2021-02-13",
          "2021-02-14",
          "2021-02-15",
          "2021-02-16",
          "2021-02-17",
          "2021-02-18",
          "2021-02-19",
          "2021-02-20",
          "2021-02-21",
          "2021-02-22",
          "2021-02-23",
          "2021-02-24",
          "2021-02-25",
          "2021-02-26",
          "2021-02-27",
          "2021-02-28",
          "2021-03-01",
          "2021-03-02",
          "2021-03-03",
          "2021-03-04",
          "2021-03-05",
          "2021-03-06",
          "2021-03-07",
          "2021-03-08",
          "2021-03-09",
          "2021-03-10",
          "2021-03-11",
          "2021-03-12",
          "2021-03-13",
          "2021-03-14",
          "2021-03-15",
          "2021-03-16",
          "2021-03-17",
          "2021-03-18",
          "2021-03-19",
          "2021-03-20",
          "2021-03-21",
          "2021-03-22",
          "2021-03-23",
          "2021-03-24",
          "2021-03-25",
          "2021-03-26",
          "2021-03-27",
          "2021-03-28",
          "2021-03-29",
          "2021-03-30",
          "2021-03-31",
          "2021-04-01",
          "2021-04-02",
          "2021-04-03",
          "2021-04-04",
          "2021-04-05",
          "2021-04-06",
          "2021-04-07",
          "2021-04-08",
          "2021-04-09",
          "2021-04-10",
          "2021-04-11",
          "2021-04-12",
          "2021-04-13",
          "2021-04-14",
          "2021-04-15",
          "2021-04-16",
          "2021-04-17",
          "2021-04-18",
          "2021-04-19"
         ],
         "y": [
          null,
          187500,
          187500,
          187500,
          187500,
          187500,
          187500,
          187500,
          187500,
          187500,
          187500,
          187500,
          187500,
          187500,
          187500,
          187500,
          187500,
          232143,
          276786,
          321429,
          366071,
          410714,
          455357,
          500000,
          500000,
          500000,
          464286,
          428571,
          392857,
          357143,
          387755,
          418367,
          448980,
          515306,
          581633,
          647959,
          714286,
          770755,
          827224,
          883694,
          940163,
          996633,
          1053102,
          1109571,
          995097,
          880622,
          766148,
          651673,
          836020,
          1020367,
          1204714,
          1382583,
          1560452,
          1738321,
          1916190,
          1795238,
          1674286,
          1421654,
          1289975,
          1158296,
          1026617,
          894937,
          763258,
          631579,
          631579,
          631579,
          631579,
          631579,
          631579,
          631579,
          631579,
          631579,
          631579,
          631579,
          631579,
          631579,
          668496,
          705414,
          742331,
          779248,
          816165,
          853083,
          890000,
          890000,
          890000,
          890000,
          890000,
          890000,
          890000,
          890000,
          1000381,
          1110762,
          1221143,
          1331524,
          1441905,
          1552286,
          1818286,
          1973905,
          2077238,
          2270243,
          2816476,
          3453810,
          3923000,
          4129286,
          4357429,
          4549143,
          4851614,
          5038571,
          5190143,
          4894286,
          4765286,
          4548571,
          4461429,
          4178571,
          4076286,
          3902857,
          3970571,
          3910429,
          4160857,
          4243286,
          4306429,
          4055143,
          3748429,
          3619714,
          3540571,
          3299143
         ]
        },
        {
         "mode": "lines",
         "name": "IND",
         "type": "scatter",
         "x": [
          "2021-01-15",
          "2021-01-16",
          "2021-01-17",
          "2021-01-18",
          "2021-01-19",
          "2021-01-20",
          "2021-01-21",
          "2021-01-22",
          "2021-01-23",
          "2021-01-24",
          "2021-01-25",
          "2021-01-26",
          "2021-01-27",
          "2021-01-28",
          "2021-01-29",
          "2021-01-30",
          "2021-01-31",
          "2021-02-01",
          "2021-02-02",
          "2021-02-03",
          "2021-02-04",
          "2021-02-05",
          "2021-02-06",
          "2021-02-07",
          "2021-02-08",
          "2021-02-09",
          "2021-02-10",
          "2021-02-11",
          "2021-02-12",
          "2021-02-13",
          "2021-02-14",
          "2021-02-15",
          "2021-02-16",
          "2021-02-17",
          "2021-02-18",
          "2021-02-19",
          "2021-02-20",
          "2021-02-21",
          "2021-02-22",
          "2021-02-23",
          "2021-02-24",
          "2021-02-25",
          "2021-02-26",
          "2021-02-27",
          "2021-02-28",
          "2021-03-01",
          "2021-03-02",
          "2021-03-03",
          "2021-03-04",
          "2021-03-05",
          "2021-03-06",
          "2021-03-07",
          "2021-03-08",
          "2021-03-09",
          "2021-03-10",
          "2021-03-11",
          "2021-03-12",
          "2021-03-13",
          "2021-03-14",
          "2021-03-15",
          "2021-03-16",
          "2021-03-17",
          "2021-03-18",
          "2021-03-19",
          "2021-03-20",
          "2021-03-21",
          "2021-03-22",
          "2021-03-23",
          "2021-03-24",
          "2021-03-25",
          "2021-03-26",
          "2021-03-27",
          "2021-03-28",
          "2021-03-29",
          "2021-03-30",
          "2021-03-31",
          "2021-04-01",
          "2021-04-02",
          "2021-04-03",
          "2021-04-04",
          "2021-04-05",
          "2021-04-06",
          "2021-04-07",
          "2021-04-08",
          "2021-04-09",
          "2021-04-10",
          "2021-04-11",
          "2021-04-12",
          "2021-04-13",
          "2021-04-14",
          "2021-04-15",
          "2021-04-16",
          "2021-04-17",
          "2021-04-18",
          "2021-04-19"
         ],
         "y": [
          null,
          191181,
          112150,
          151350,
          168709,
          161297,
          173922,
          198656,
          198717,
          198743,
          224251,
          193521,
          221356,
          269217,
          301348,
          308876,
          306191,
          275192,
          301348,
          299082,
          290199,
          273832,
          290141,
          293360,
          329836,
          353235,
          366795,
          363652,
          364400,
          325305,
          353179,
          322538,
          320826,
          309949,
          334502,
          354614,
          397981,
          400080,
          415332,
          435722,
          454268,
          460075,
          472428,
          486318,
          459442,
          490006,
          530480,
          607059,
          705494,
          820109,
          954257,
          955392,
          1164942,
          1249594,
          1295566,
          1165631,
          1245822,
          1259438,
          1274147,
          1419814,
          1528090,
          1636892,
          1882128,
          1977848,
          2123633,
          2165423,
          2221023,
          2253821,
          2286065,
          2309232,
          2292340,
          2237992,
          2209205,
          1802680,
          1744724,
          1710312,
          1897814,
          2134932,
          2244267,
          2653533,
          3142510,
          3431874,
          3582968,
          3649303,
          3574409,
          3659357,
          3631915,
          3631737,
          3443158,
          3470652,
          3269892,
          3123212,
          3003920,
          2760572,
          2656575
         ]
        },
        {
         "mode": "lines",
         "name": "USA",
         "type": "scatter",
         "x": [
          "2020-12-20",
          "2020-12-21",
          "2020-12-22",
          "2020-12-23",
          "2020-12-24",
          "2020-12-25",
          "2020-12-26",
          "2020-12-27",
          "2020-12-28",
          "2020-12-29",
          "2020-12-30",
          "2020-12-31",
          "2021-01-01",
          "2021-01-02",
          "2021-01-03",
          "2021-01-04",
          "2021-01-05",
          "2021-01-06",
          "2021-01-07",
          "2021-01-08",
          "2021-01-09",
          "2021-01-10",
          "2021-01-11",
          "2021-01-12",
          "2021-01-13",
          "2021-01-14",
          "2021-01-15",
          "2021-01-16",
          "2021-01-17",
          "2021-01-18",
          "2021-01-19",
          "2021-01-20",
          "2021-01-21",
          "2021-01-22",
          "2021-01-23",
          "2021-01-24",
          "2021-01-25",
          "2021-01-26",
          "2021-01-27",
          "2021-01-28",
          "2021-01-29",
          "2021-01-30",
          "2021-01-31",
          "2021-02-01",
          "2021-02-02",
          "2021-02-03",
          "2021-02-04",
          "2021-02-05",
          "2021-02-06",
          "2021-02-07",
          "2021-02-08",
          "2021-02-09",
          "2021-02-10",
          "2021-02-11",
          "2021-02-12",
          "2021-02-13",
          "2021-02-14",
          "2021-02-15",
          "2021-02-16",
          "2021-02-17",
          "2021-02-18",
          "2021-02-19",
          "2021-02-20",
          "2021-02-21",
          "2021-02-22",
          "2021-02-23",
          "2021-02-24",
          "2021-02-25",
          "2021-02-26",
          "2021-02-27",
          "2021-02-28",
          "2021-03-01",
          "2021-03-02",
          "2021-03-03",
          "2021-03-04",
          "2021-03-05",
          "2021-03-06",
          "2021-03-07",
          "2021-03-08",
          "2021-03-09",
          "2021-03-10",
          "2021-03-11",
          "2021-03-12",
          "2021-03-13",
          "2021-03-14",
          "2021-03-15",
          "2021-03-16",
          "2021-03-17",
          "2021-03-18",
          "2021-03-19",
          "2021-03-20",
          "2021-03-21",
          "2021-03-22",
          "2021-03-23",
          "2021-03-24",
          "2021-03-25",
          "2021-03-26",
          "2021-03-27",
          "2021-03-28",
          "2021-03-29",
          "2021-03-30",
          "2021-03-31",
          "2021-04-01",
          "2021-04-02",
          "2021-04-03",
          "2021-04-04",
          "2021-04-05",
          "2021-04-06",
          "2021-04-07",
          "2021-04-08",
          "2021-04-09",
          "2021-04-10",
          "2021-04-11",
          "2021-04-12",
          "2021-04-13",
          "2021-04-14",
          "2021-04-15",
          "2021-04-16",
          "2021-04-17",
          "2021-04-18",
          "2021-04-19",
          "2021-04-20"
         ],
         "y": [
          null,
          57909,
          127432,
          150606,
          191001,
          215238,
          231396,
          211379,
          216147,
          235685,
          255223,
          278776,
          302329,
          325882,
          336949,
          348017,
          339372,
          358887,
          378253,
          419933,
          461263,
          546636,
          632009,
          641524,
          710238,
          747082,
          798707,
          811670,
          824632,
          837595,
          911493,
          892403,
          913912,
          975540,
          1057387,
          1122182,
          1126251,
          1119058,
          1161050,
          1235330,
          1253815,
          1291416,
          1324949,
          1355451,
          1319981,
          1317946,
          1287147,
          1276364,
          1351437,
          1441091,
          1456459,
          1489333,
          1555959,
          1598080,
          1655907,
          1657703,
          1667631,
          1662106,
          1716311,
          1644551,
          1621071,
          1596355,
          1521088,
          1458040,
          1446445,
          1401674,
          1454731,
          1505193,
          1552717,
          1645240,
          1735053,
          1817502,
          1942788,
          2010790,
          2042676,
          2079147,
          2158020,
          2159392,
          2169981,
          2151571,
          2168688,
          2233006,
          2302844,
          2541597,
          2386932,
          2427430,
          2435037,
          2473762,
          2503731,
          2455116,
          2248285,
          2488734,
          2489697,
          2497025,
          2490889,
          2510755,
          2624410,
          2677034,
          2711611,
          2757586,
          2769331,
          2828491,
          2903730,
          2988825,
          3072527,
          3084436,
          3053566,
          2998533,
          3029052,
          3035473,
          3033045,
          3111327,
          3141912,
          3214893,
          3384387,
          3330740,
          3348189,
          3349306,
          3200601,
          3194240,
          3127038,
          3015065
         ]
        },
        {
         "mode": "lines",
         "name": "IDN",
         "type": "scatter",
         "x": [
          "2021-01-12",
          "2021-01-13",
          "2021-01-14",
          "2021-01-15",
          "2021-01-16",
          "2021-01-17",
          "2021-01-18",
          "2021-01-19",
          "2021-01-20",
          "2021-01-21",
          "2021-01-22",
          "2021-01-23",
          "2021-01-24",
          "2021-01-25",
          "2021-01-26",
          "2021-01-27",
          "2021-01-28",
          "2021-01-29",
          "2021-01-30",
          "2021-01-31",
          "2021-02-01",
          "2021-02-02",
          "2021-02-03",
          "2021-02-04",
          "2021-02-05",
          "2021-02-06",
          "2021-02-07",
          "2021-02-08",
          "2021-02-09",
          "2021-02-10",
          "2021-02-11",
          "2021-02-12",
          "2021-02-13",
          "2021-02-14",
          "2021-02-15",
          "2021-02-16",
          "2021-02-17",
          "2021-02-18",
          "2021-02-19",
          "2021-02-20",
          "2021-02-21",
          "2021-02-22",
          "2021-02-23",
          "2021-02-24",
          "2021-02-25",
          "2021-02-26",
          "2021-02-27",
          "2021-02-28",
          "2021-03-01",
          "2021-03-02",
          "2021-03-03",
          "2021-03-04",
          "2021-03-05",
          "2021-03-06",
          "2021-03-07",
          "2021-03-08",
          "2021-03-09",
          "2021-03-10",
          "2021-03-11",
          "2021-03-12",
          "2021-03-13",
          "2021-03-14",
          "2021-03-15",
          "2021-03-16",
          "2021-03-17",
          "2021-03-18",
          "2021-03-19",
          "2021-03-20",
          "2021-03-21",
          "2021-03-22",
          "2021-03-23",
          "2021-03-24",
          "2021-03-25",
          "2021-03-26",
          "2021-03-27",
          "2021-03-28",
          "2021-03-29",
          "2021-03-30",
          "2021-03-31",
          "2021-04-01",
          "2021-04-02",
          "2021-04-03",
          "2021-04-04",
          "2021-04-05",
          "2021-04-06",
          "2021-04-07",
          "2021-04-08",
          "2021-04-09",
          "2021-04-10",
          "2021-04-11",
          "2021-04-12",
          "2021-04-13",
          "2021-04-14",
          "2021-04-15",
          "2021-04-16",
          "2021-04-17",
          "2021-04-18",
          "2021-04-19",
          "2021-04-20"
         ],
         "y": [
          null,
          13200,
          13200,
          13200,
          13200,
          13200,
          13200,
          13200,
          13200,
          13200,
          13200,
          12546,
          11892,
          11823,
          21898,
          28915,
          36427,
          40614,
          51762,
          52348,
          58997,
          57511,
          58521,
          60433,
          64187,
          58764,
          58253,
          58702,
          59800,
          75879,
          80853,
          79099,
          80216,
          81554,
          84695,
          84464,
          71210,
          60741,
          64721,
          68702,
          70969,
          63824,
          57394,
          63074,
          75384,
          82443,
          91687,
          99865,
          118752,
          137640,
          171080,
          163084,
          154100,
          168116,
          190340,
          205352,
          220364,
          207318,
          219203,
          225769,
          237869,
          208257,
          206490,
          231400,
          249116,
          256516,
          319659,
          342132,
          342791,
          355283,
          449308,
          422409,
          422623,
          438097,
          370048,
          412373,
          406093,
          291603,
          305232,
          354340,
          268524,
          292160,
          268948,
          283083,
          297219,
          298168,
          263637,
          326318,
          373020,
          384734,
          364530,
          336977,
          320885,
          346749,
          288403,
          230058,
          216628,
          203197,
          209079
         ]
        },
        {
         "mode": "lines",
         "name": "PAK",
         "type": "scatter",
         "x": [
          "2021-02-02",
          "2021-02-03",
          "2021-02-04",
          "2021-02-05",
          "2021-02-06",
          "2021-02-07",
          "2021-02-08",
          "2021-02-09",
          "2021-02-10",
          "2021-02-11",
          "2021-02-12",
          "2021-02-13",
          "2021-02-14",
          "2021-02-15",
          "2021-02-16",
          "2021-02-17",
          "2021-02-18",
          "2021-02-19",
          "2021-02-20",
          "2021-02-21",
          "2021-02-22",
          "2021-02-23",
          "2021-02-24",
          "2021-02-25",
          "2021-02-26",
          "2021-02-27",
          "2021-02-28",
          "2021-03-01",
          "2021-03-02",
          "2021-03-03",
          "2021-03-04",
          "2021-03-05",
          "2021-03-06",
          "2021-03-07",
          "2021-03-08",
          "2021-03-09",
          "2021-03-10",
          "2021-03-11",
          "2021-03-12",
          "2021-03-13",
          "2021-03-14",
          "2021-03-15",
          "2021-03-16",
          "2021-03-17",
          "2021-03-18",
          "2021-03-19",
          "2021-03-20",
          "2021-03-21",
          "2021-03-22",
          "2021-03-23",
          "2021-03-24",
          "2021-03-25",
          "2021-03-26",
          "2021-03-27",
          "2021-03-28",
          "2021-03-29",
          "2021-03-30",
          "2021-03-31",
          "2021-04-06",
          "2021-04-08",
          "2021-04-13"
         ],
         "y": [
          null,
          3404,
          3404,
          3404,
          3404,
          3404,
          3404,
          3404,
          3404,
          3439,
          3474,
          3509,
          3544,
          3579,
          3614,
          3649,
          3846,
          4043,
          4240,
          4437,
          5801,
          7165,
          8529,
          9696,
          10862,
          12029,
          13196,
          13196,
          13196,
          13196,
          13196,
          13196,
          13196,
          13196,
          13196,
          13196,
          13196,
          13196,
          13196,
          13196,
          13196,
          15092,
          16989,
          18885,
          20782,
          22678,
          24574,
          26471,
          26471,
          26471,
          26471,
          26471,
          26471,
          26471,
          26471,
          26471,
          26471,
          26471,
          null,
          null,
          null
         ]
        },
        {
         "mode": "lines",
         "name": "BRA",
         "type": "scatter",
         "x": [
          "2021-01-16",
          "2021-01-17",
          "2021-01-18",
          "2021-01-19",
          "2021-01-20",
          "2021-01-21",
          "2021-01-22",
          "2021-01-23",
          "2021-01-24",
          "2021-01-25",
          "2021-01-26",
          "2021-01-27",
          "2021-01-28",
          "2021-01-29",
          "2021-01-30",
          "2021-01-31",
          "2021-02-01",
          "2021-02-02",
          "2021-02-03",
          "2021-02-04",
          "2021-02-05",
          "2021-02-06",
          "2021-02-07",
          "2021-02-08",
          "2021-02-09",
          "2021-02-10",
          "2021-02-11",
          "2021-02-12",
          "2021-02-13",
          "2021-02-14",
          "2021-02-15",
          "2021-02-16",
          "2021-02-17",
          "2021-02-18",
          "2021-02-19",
          "2021-02-20",
          "2021-02-21",
          "2021-02-22",
          "2021-02-23",
          "2021-02-24",
          "2021-02-25",
          "2021-02-26",
          "2021-02-27",
          "2021-02-28",
          "2021-03-01",
          "2021-03-02",
          "2021-03-03",
          "2021-03-04",
          "2021-03-05",
          "2021-03-06",
          "2021-03-07",
          "2021-03-08",
          "2021-03-09",
          "2021-03-10",
          "2021-03-11",
          "2021-03-12",
          "2021-03-13",
          "2021-03-14",
          "2021-03-15",
          "2021-03-16",
          "2021-03-17",
          "2021-03-18",
          "2021-03-19",
          "2021-03-20",
          "2021-03-21",
          "2021-03-22",
          "2021-03-23",
          "2021-03-24",
          "2021-03-25",
          "2021-03-26",
          "2021-03-27",
          "2021-03-28",
          "2021-03-29",
          "2021-03-30",
          "2021-03-31",
          "2021-04-01",
          "2021-04-02",
          "2021-04-03",
          "2021-04-04",
          "2021-04-05",
          "2021-04-06",
          "2021-04-07",
          "2021-04-08",
          "2021-04-09",
          "2021-04-10",
          "2021-04-11",
          "2021-04-12",
          "2021-04-13",
          "2021-04-14",
          "2021-04-15",
          "2021-04-16",
          "2021-04-17",
          "2021-04-18",
          "2021-04-19",
          "2021-04-20"
         ],
         "y": [
          null,
          112,
          554,
          3823,
          7136,
          27304,
          40980,
          76825,
          86373,
          99928,
          119630,
          157335,
          187769,
          203165,
          209348,
          209905,
          203386,
          206238,
          198831,
          231737,
          200982,
          199739,
          211375,
          211604,
          218237,
          228375,
          190540,
          231604,
          246260,
          240466,
          241206,
          255676,
          251887,
          257121,
          262717,
          241137,
          244837,
          247768,
          241018,
          238305,
          227474,
          223804,
          215553,
          211824,
          205292,
          220567,
          246521,
          277239,
          295339,
          269398,
          258989,
          259965,
          211828,
          155024,
          143026,
          140053,
          164909,
          168025,
          230058,
          280729,
          331400,
          324639,
          312314,
          302425,
          305644,
          317286,
          417182,
          465953,
          506249,
          528163,
          577131,
          592115,
          566513,
          430480,
          458860,
          476765,
          514287,
          491098,
          480449,
          554114,
          661176,
          720288,
          726681,
          728920,
          798868,
          810162,
          781720,
          1135847,
          1072282,
          1004792,
          941458,
          869635,
          886544,
          903176,
          429344
         ]
        }
       ],
       "layout": {
        "template": {
         "data": {
          "bar": [
           {
            "error_x": {
             "color": "#2a3f5f"
            },
            "error_y": {
             "color": "#2a3f5f"
            },
            "marker": {
             "line": {
              "color": "#E5ECF6",
              "width": 0.5
             }
            },
            "type": "bar"
           }
          ],
          "barpolar": [
           {
            "marker": {
             "line": {
              "color": "#E5ECF6",
              "width": 0.5
             }
            },
            "type": "barpolar"
           }
          ],
          "carpet": [
           {
            "aaxis": {
             "endlinecolor": "#2a3f5f",
             "gridcolor": "white",
             "linecolor": "white",
             "minorgridcolor": "white",
             "startlinecolor": "#2a3f5f"
            },
            "baxis": {
             "endlinecolor": "#2a3f5f",
             "gridcolor": "white",
             "linecolor": "white",
             "minorgridcolor": "white",
             "startlinecolor": "#2a3f5f"
            },
            "type": "carpet"
           }
          ],
          "choropleth": [
           {
            "colorbar": {
             "outlinewidth": 0,
             "ticks": ""
            },
            "type": "choropleth"
           }
          ],
          "contour": [
           {
            "colorbar": {
             "outlinewidth": 0,
             "ticks": ""
            },
            "colorscale": [
             [
              0,
              "#0d0887"
             ],
             [
              0.1111111111111111,
              "#46039f"
             ],
             [
              0.2222222222222222,
              "#7201a8"
             ],
             [
              0.3333333333333333,
              "#9c179e"
             ],
             [
              0.4444444444444444,
              "#bd3786"
             ],
             [
              0.5555555555555556,
              "#d8576b"
             ],
             [
              0.6666666666666666,
              "#ed7953"
             ],
             [
              0.7777777777777778,
              "#fb9f3a"
             ],
             [
              0.8888888888888888,
              "#fdca26"
             ],
             [
              1,
              "#f0f921"
             ]
            ],
            "type": "contour"
           }
          ],
          "contourcarpet": [
           {
            "colorbar": {
             "outlinewidth": 0,
             "ticks": ""
            },
            "type": "contourcarpet"
           }
          ],
          "heatmap": [
           {
            "colorbar": {
             "outlinewidth": 0,
             "ticks": ""
            },
            "colorscale": [
             [
              0,
              "#0d0887"
             ],
             [
              0.1111111111111111,
              "#46039f"
             ],
             [
              0.2222222222222222,
              "#7201a8"
             ],
             [
              0.3333333333333333,
              "#9c179e"
             ],
             [
              0.4444444444444444,
              "#bd3786"
             ],
             [
              0.5555555555555556,
              "#d8576b"
             ],
             [
              0.6666666666666666,
              "#ed7953"
             ],
             [
              0.7777777777777778,
              "#fb9f3a"
             ],
             [
              0.8888888888888888,
              "#fdca26"
             ],
             [
              1,
              "#f0f921"
             ]
            ],
            "type": "heatmap"
           }
          ],
          "heatmapgl": [
           {
            "colorbar": {
             "outlinewidth": 0,
             "ticks": ""
            },
            "colorscale": [
             [
              0,
              "#0d0887"
             ],
             [
              0.1111111111111111,
              "#46039f"
             ],
             [
              0.2222222222222222,
              "#7201a8"
             ],
             [
              0.3333333333333333,
              "#9c179e"
             ],
             [
              0.4444444444444444,
              "#bd3786"
             ],
             [
              0.5555555555555556,
              "#d8576b"
             ],
             [
              0.6666666666666666,
              "#ed7953"
             ],
             [
              0.7777777777777778,
              "#fb9f3a"
             ],
             [
              0.8888888888888888,
              "#fdca26"
             ],
             [
              1,
              "#f0f921"
             ]
            ],
            "type": "heatmapgl"
           }
          ],
          "histogram": [
           {
            "marker": {
             "colorbar": {
              "outlinewidth": 0,
              "ticks": ""
             }
            },
            "type": "histogram"
           }
          ],
          "histogram2d": [
           {
            "colorbar": {
             "outlinewidth": 0,
             "ticks": ""
            },
            "colorscale": [
             [
              0,
              "#0d0887"
             ],
             [
              0.1111111111111111,
              "#46039f"
             ],
             [
              0.2222222222222222,
              "#7201a8"
             ],
             [
              0.3333333333333333,
              "#9c179e"
             ],
             [
              0.4444444444444444,
              "#bd3786"
             ],
             [
              0.5555555555555556,
              "#d8576b"
             ],
             [
              0.6666666666666666,
              "#ed7953"
             ],
             [
              0.7777777777777778,
              "#fb9f3a"
             ],
             [
              0.8888888888888888,
              "#fdca26"
             ],
             [
              1,
              "#f0f921"
             ]
            ],
            "type": "histogram2d"
           }
          ],
          "histogram2dcontour": [
           {
            "colorbar": {
             "outlinewidth": 0,
             "ticks": ""
            },
            "colorscale": [
             [
              0,
              "#0d0887"
             ],
             [
              0.1111111111111111,
              "#46039f"
             ],
             [
              0.2222222222222222,
              "#7201a8"
             ],
             [
              0.3333333333333333,
              "#9c179e"
             ],
             [
              0.4444444444444444,
              "#bd3786"
             ],
             [
              0.5555555555555556,
              "#d8576b"
             ],
             [
              0.6666666666666666,
              "#ed7953"
             ],
             [
              0.7777777777777778,
              "#fb9f3a"
             ],
             [
              0.8888888888888888,
              "#fdca26"
             ],
             [
              1,
              "#f0f921"
             ]
            ],
            "type": "histogram2dcontour"
           }
          ],
          "mesh3d": [
           {
            "colorbar": {
             "outlinewidth": 0,
             "ticks": ""
            },
            "type": "mesh3d"
           }
          ],
          "parcoords": [
           {
            "line": {
             "colorbar": {
              "outlinewidth": 0,
              "ticks": ""
             }
            },
            "type": "parcoords"
           }
          ],
          "pie": [
           {
            "automargin": true,
            "type": "pie"
           }
          ],
          "scatter": [
           {
            "marker": {
             "colorbar": {
              "outlinewidth": 0,
              "ticks": ""
             }
            },
            "type": "scatter"
           }
          ],
          "scatter3d": [
           {
            "line": {
             "colorbar": {
              "outlinewidth": 0,
              "ticks": ""
             }
            },
            "marker": {
             "colorbar": {
              "outlinewidth": 0,
              "ticks": ""
             }
            },
            "type": "scatter3d"
           }
          ],
          "scattercarpet": [
           {
            "marker": {
             "colorbar": {
              "outlinewidth": 0,
              "ticks": ""
             }
            },
            "type": "scattercarpet"
           }
          ],
          "scattergeo": [
           {
            "marker": {
             "colorbar": {
              "outlinewidth": 0,
              "ticks": ""
             }
            },
            "type": "scattergeo"
           }
          ],
          "scattergl": [
           {
            "marker": {
             "colorbar": {
              "outlinewidth": 0,
              "ticks": ""
             }
            },
            "type": "scattergl"
           }
          ],
          "scattermapbox": [
           {
            "marker": {
             "colorbar": {
              "outlinewidth": 0,
              "ticks": ""
             }
            },
            "type": "scattermapbox"
           }
          ],
          "scatterpolar": [
           {
            "marker": {
             "colorbar": {
              "outlinewidth": 0,
              "ticks": ""
             }
            },
            "type": "scatterpolar"
           }
          ],
          "scatterpolargl": [
           {
            "marker": {
             "colorbar": {
              "outlinewidth": 0,
              "ticks": ""
             }
            },
            "type": "scatterpolargl"
           }
          ],
          "scatterternary": [
           {
            "marker": {
             "colorbar": {
              "outlinewidth": 0,
              "ticks": ""
             }
            },
            "type": "scatterternary"
           }
          ],
          "surface": [
           {
            "colorbar": {
             "outlinewidth": 0,
             "ticks": ""
            },
            "colorscale": [
             [
              0,
              "#0d0887"
             ],
             [
              0.1111111111111111,
              "#46039f"
             ],
             [
              0.2222222222222222,
              "#7201a8"
             ],
             [
              0.3333333333333333,
              "#9c179e"
             ],
             [
              0.4444444444444444,
              "#bd3786"
             ],
             [
              0.5555555555555556,
              "#d8576b"
             ],
             [
              0.6666666666666666,
              "#ed7953"
             ],
             [
              0.7777777777777778,
              "#fb9f3a"
             ],
             [
              0.8888888888888888,
              "#fdca26"
             ],
             [
              1,
              "#f0f921"
             ]
            ],
            "type": "surface"
           }
          ],
          "table": [
           {
            "cells": {
             "fill": {
              "color": "#EBF0F8"
             },
             "line": {
              "color": "white"
             }
            },
            "header": {
             "fill": {
              "color": "#C8D4E3"
             },
             "line": {
              "color": "white"
             }
            },
            "type": "table"
           }
          ]
         },
         "layout": {
          "annotationdefaults": {
           "arrowcolor": "#2a3f5f",
           "arrowhead": 0,
           "arrowwidth": 1
          },
          "autotypenumbers": "strict",
          "coloraxis": {
           "colorbar": {
            "outlinewidth": 0,
            "ticks": ""
           }
          },
          "colorscale": {
           "diverging": [
            [
             0,
             "#8e0152"
            ],
            [
             0.1,
             "#c51b7d"
            ],
            [
             0.2,
             "#de77ae"
            ],
            [
             0.3,
             "#f1b6da"
            ],
            [
             0.4,
             "#fde0ef"
            ],
            [
             0.5,
             "#f7f7f7"
            ],
            [
             0.6,
             "#e6f5d0"
            ],
            [
             0.7,
             "#b8e186"
            ],
            [
             0.8,
             "#7fbc41"
            ],
            [
             0.9,
             "#4d9221"
            ],
            [
             1,
             "#276419"
            ]
           ],
           "sequential": [
            [
             0,
             "#0d0887"
            ],
            [
             0.1111111111111111,
             "#46039f"
            ],
            [
             0.2222222222222222,
             "#7201a8"
            ],
            [
             0.3333333333333333,
             "#9c179e"
            ],
            [
             0.4444444444444444,
             "#bd3786"
            ],
            [
             0.5555555555555556,
             "#d8576b"
            ],
            [
             0.6666666666666666,
             "#ed7953"
            ],
            [
             0.7777777777777778,
             "#fb9f3a"
            ],
            [
             0.8888888888888888,
             "#fdca26"
            ],
            [
             1,
             "#f0f921"
            ]
           ],
           "sequentialminus": [
            [
             0,
             "#0d0887"
            ],
            [
             0.1111111111111111,
             "#46039f"
            ],
            [
             0.2222222222222222,
             "#7201a8"
            ],
            [
             0.3333333333333333,
             "#9c179e"
            ],
            [
             0.4444444444444444,
             "#bd3786"
            ],
            [
             0.5555555555555556,
             "#d8576b"
            ],
            [
             0.6666666666666666,
             "#ed7953"
            ],
            [
             0.7777777777777778,
             "#fb9f3a"
            ],
            [
             0.8888888888888888,
             "#fdca26"
            ],
            [
             1,
             "#f0f921"
            ]
           ]
          },
          "colorway": [
           "#636efa",
           "#EF553B",
           "#00cc96",
           "#ab63fa",
           "#FFA15A",
           "#19d3f3",
           "#FF6692",
           "#B6E880",
           "#FF97FF",
           "#FECB52"
          ],
          "font": {
           "color": "#2a3f5f"
          },
          "geo": {
           "bgcolor": "white",
           "lakecolor": "white",
           "landcolor": "#E5ECF6",
           "showlakes": true,
           "showland": true,
           "subunitcolor": "white"
          },
          "hoverlabel": {
           "align": "left"
          },
          "hovermode": "closest",
          "mapbox": {
           "style": "light"
          },
          "paper_bgcolor": "white",
          "plot_bgcolor": "#E5ECF6",
          "polar": {
           "angularaxis": {
            "gridcolor": "white",
            "linecolor": "white",
            "ticks": ""
           },
           "bgcolor": "#E5ECF6",
           "radialaxis": {
            "gridcolor": "white",
            "linecolor": "white",
            "ticks": ""
           }
          },
          "scene": {
           "xaxis": {
            "backgroundcolor": "#E5ECF6",
            "gridcolor": "white",
            "gridwidth": 2,
            "linecolor": "white",
            "showbackground": true,
            "ticks": "",
            "zerolinecolor": "white"
           },
           "yaxis": {
            "backgroundcolor": "#E5ECF6",
            "gridcolor": "white",
            "gridwidth": 2,
            "linecolor": "white",
            "showbackground": true,
            "ticks": "",
            "zerolinecolor": "white"
           },
           "zaxis": {
            "backgroundcolor": "#E5ECF6",
            "gridcolor": "white",
            "gridwidth": 2,
            "linecolor": "white",
            "showbackground": true,
            "ticks": "",
            "zerolinecolor": "white"
           }
          },
          "shapedefaults": {
           "line": {
            "color": "#2a3f5f"
           }
          },
          "ternary": {
           "aaxis": {
            "gridcolor": "white",
            "linecolor": "white",
            "ticks": ""
           },
           "baxis": {
            "gridcolor": "white",
            "linecolor": "white",
            "ticks": ""
           },
           "bgcolor": "#E5ECF6",
           "caxis": {
            "gridcolor": "white",
            "linecolor": "white",
            "ticks": ""
           }
          },
          "title": {
           "x": 0.05
          },
          "xaxis": {
           "automargin": true,
           "gridcolor": "white",
           "linecolor": "white",
           "ticks": "",
           "title": {
            "standoff": 15
           },
           "zerolinecolor": "white",
           "zerolinewidth": 2
          },
          "yaxis": {
           "automargin": true,
           "gridcolor": "white",
           "linecolor": "white",
           "ticks": "",
           "title": {
            "standoff": 15
           },
           "zerolinecolor": "white",
           "zerolinewidth": 2
          }
         }
        },
        "title": {
         "text": "Number of daily vaccinated"
        },
        "xaxis": {
         "title": {
          "text": "Dates"
         }
        },
        "yaxis": {
         "title": {
          "text": "No of people"
         }
        }
       }
      }
     },
     "metadata": {}
    }
   ],
   "source": [
    "\n",
    "fig = go.Figure()\n",
    "for i in range(6):\n",
    "    fig.add_trace(go.Scatter(x=dfs[i]['date'], y=dfs[i]['daily_vaccinations'],\n",
    "                    mode='lines',\n",
    "                    name=iso_6[i]))\n",
    "fig.update_layout(title='Number of daily vaccinated',\n",
    "                   xaxis_title='Dates',\n",
    "                   yaxis_title='No of people')\n",
    "fig.show()"
   ]
  },
  {
   "cell_type": "markdown",
   "id": "accurate-genetics",
   "metadata": {
    "papermill": {
     "duration": 0.027144,
     "end_time": "2021-04-26T13:37:18.251948",
     "exception": false,
     "start_time": "2021-04-26T13:37:18.224804",
     "status": "completed"
    },
    "tags": []
   },
   "source": [
    "The numbers show that the countries which apply most of the vaccines in the top 6 most populated countries in the world are China, Usa and India, not exactly in that order. It also can be seen that the vaccination in Brazil and India is falling while the vaccination in China and USA are stable, This can be happening for different reasons, one of it could be the technological, while USA and China have different supliers and control of production Brazil and India still are dependable of importing goods nedded for the production of the vaccine. The countries wich have the least daily  number of applied vaccines are Indonesia and Pakistan."
   ]
  },
  {
   "cell_type": "markdown",
   "id": "golden-valley",
   "metadata": {
    "papermill": {
     "duration": 0.027147,
     "end_time": "2021-04-26T13:37:18.306825",
     "exception": false,
     "start_time": "2021-04-26T13:37:18.279678",
     "status": "completed"
    },
    "tags": []
   },
   "source": [
    "# Number of vaccinated people "
   ]
  },
  {
   "cell_type": "code",
   "execution_count": 7,
   "id": "cognitive-consequence",
   "metadata": {
    "_kg_hide-input": true,
    "execution": {
     "iopub.execute_input": "2021-04-26T13:37:18.383018Z",
     "iopub.status.busy": "2021-04-26T13:37:18.382163Z",
     "iopub.status.idle": "2021-04-26T13:37:18.387470Z",
     "shell.execute_reply": "2021-04-26T13:37:18.387934Z"
    },
    "papermill": {
     "duration": 0.053631,
     "end_time": "2021-04-26T13:37:18.388137",
     "exception": false,
     "start_time": "2021-04-26T13:37:18.334506",
     "status": "completed"
    },
    "tags": []
   },
   "outputs": [
    {
     "data": {
      "text/html": [
       "<div>                            <div id=\"8fb488a0-0e99-4f59-95a6-05af12c54e27\" class=\"plotly-graph-div\" style=\"height:525px; width:100%;\"></div>            <script type=\"text/javascript\">                require([\"plotly\"], function(Plotly) {                    window.PLOTLYENV=window.PLOTLYENV || {};                                    if (document.getElementById(\"8fb488a0-0e99-4f59-95a6-05af12c54e27\")) {                    Plotly.newPlot(                        \"8fb488a0-0e99-4f59-95a6-05af12c54e27\",                        [{\"mode\": \"lines\", \"name\": \"CHN\", \"type\": \"scatter\", \"x\": [\"2020-12-15\", \"2020-12-16\", \"2020-12-17\", \"2020-12-18\", \"2020-12-19\", \"2020-12-20\", \"2020-12-21\", \"2020-12-22\", \"2020-12-23\", \"2020-12-24\", \"2020-12-25\", \"2020-12-26\", \"2020-12-27\", \"2020-12-28\", \"2020-12-29\", \"2020-12-30\", \"2020-12-31\", \"2021-01-01\", \"2021-01-02\", \"2021-01-03\", \"2021-01-04\", \"2021-01-05\", \"2021-01-06\", \"2021-01-07\", \"2021-01-08\", \"2021-01-09\", \"2021-01-10\", \"2021-01-11\", \"2021-01-12\", \"2021-01-13\", \"2021-01-14\", \"2021-01-15\", \"2021-01-16\", \"2021-01-17\", \"2021-01-18\", \"2021-01-19\", \"2021-01-20\", \"2021-01-21\", \"2021-01-22\", \"2021-01-23\", \"2021-01-24\", \"2021-01-25\", \"2021-01-26\", \"2021-01-27\", \"2021-01-28\", \"2021-01-29\", \"2021-01-30\", \"2021-01-31\", \"2021-02-01\", \"2021-02-02\", \"2021-02-03\", \"2021-02-04\", \"2021-02-05\", \"2021-02-06\", \"2021-02-07\", \"2021-02-08\", \"2021-02-09\", \"2021-02-10\", \"2021-02-11\", \"2021-02-12\", \"2021-02-13\", \"2021-02-14\", \"2021-02-15\", \"2021-02-16\", \"2021-02-17\", \"2021-02-18\", \"2021-02-19\", \"2021-02-20\", \"2021-02-21\", \"2021-02-22\", \"2021-02-23\", \"2021-02-24\", \"2021-02-25\", \"2021-02-26\", \"2021-02-27\", \"2021-02-28\", \"2021-03-01\", \"2021-03-02\", \"2021-03-03\", \"2021-03-04\", \"2021-03-05\", \"2021-03-06\", \"2021-03-07\", \"2021-03-08\", \"2021-03-09\", \"2021-03-10\", \"2021-03-11\", \"2021-03-12\", \"2021-03-13\", \"2021-03-14\", \"2021-03-15\", \"2021-03-16\", \"2021-03-17\", \"2021-03-18\", \"2021-03-19\", \"2021-03-20\", \"2021-03-21\", \"2021-03-22\", \"2021-03-23\", \"2021-03-24\", \"2021-03-25\", \"2021-03-26\", \"2021-03-27\", \"2021-03-28\", \"2021-03-29\", \"2021-03-30\", \"2021-03-31\", \"2021-04-01\", \"2021-04-02\", \"2021-04-03\", \"2021-04-04\", \"2021-04-05\", \"2021-04-06\", \"2021-04-07\", \"2021-04-08\", \"2021-04-09\", \"2021-04-10\", \"2021-04-11\", \"2021-04-12\", \"2021-04-13\", \"2021-04-14\", \"2021-04-15\", \"2021-04-16\", \"2021-04-17\", \"2021-04-18\", \"2021-04-19\", \"2021-04-20\", \"2021-04-21\", \"2021-04-22\", \"2021-04-23\"], \"y\": [null, null, null, null, null, null, null, null, null, null, null, null, null, null, null, null, null, null, null, null, null, null, null, null, null, null, null, null, null, null, null, null, null, null, null, null, null, null, null, null, null, null, null, null, null, null, null, null, null, null, null, null, null, null, null, null, null, null, null, null, null, null, null, null, null, null, null, null, null, null, null, null, null, null, null, null, null, null, null, null, null, null, null, null, null, null, null, null, null, null, null, null, null, null, null, null, null, null, null, null, null, null, null, null, null, null, null, null, null, null, null, null, null, null, null, null, null, null, null, null, null, null, null, null, null, null, null, null, null, null]}, {\"mode\": \"lines\", \"name\": \"IND\", \"type\": \"scatter\", \"x\": [\"2021-01-15\", \"2021-01-16\", \"2021-01-17\", \"2021-01-18\", \"2021-01-19\", \"2021-01-20\", \"2021-01-21\", \"2021-01-22\", \"2021-01-23\", \"2021-01-24\", \"2021-01-25\", \"2021-01-26\", \"2021-01-27\", \"2021-01-28\", \"2021-01-29\", \"2021-01-30\", \"2021-01-31\", \"2021-02-01\", \"2021-02-02\", \"2021-02-03\", \"2021-02-04\", \"2021-02-05\", \"2021-02-06\", \"2021-02-07\", \"2021-02-08\", \"2021-02-09\", \"2021-02-10\", \"2021-02-11\", \"2021-02-12\", \"2021-02-13\", \"2021-02-14\", \"2021-02-15\", \"2021-02-16\", \"2021-02-17\", \"2021-02-18\", \"2021-02-19\", \"2021-02-20\", \"2021-02-21\", \"2021-02-22\", \"2021-02-23\", \"2021-02-24\", \"2021-02-25\", \"2021-02-26\", \"2021-02-27\", \"2021-02-28\", \"2021-03-01\", \"2021-03-02\", \"2021-03-03\", \"2021-03-04\", \"2021-03-05\", \"2021-03-06\", \"2021-03-07\", \"2021-03-08\", \"2021-03-09\", \"2021-03-10\", \"2021-03-11\", \"2021-03-12\", \"2021-03-13\", \"2021-03-14\", \"2021-03-15\", \"2021-03-16\", \"2021-03-17\", \"2021-03-18\", \"2021-03-19\", \"2021-03-20\", \"2021-03-21\", \"2021-03-22\", \"2021-03-23\", \"2021-03-24\", \"2021-03-25\", \"2021-03-26\", \"2021-03-27\", \"2021-03-28\", \"2021-03-29\", \"2021-03-30\", \"2021-03-31\", \"2021-04-01\", \"2021-04-02\", \"2021-04-03\", \"2021-04-04\", \"2021-04-05\", \"2021-04-06\", \"2021-04-07\", \"2021-04-08\", \"2021-04-09\", \"2021-04-10\", \"2021-04-11\", \"2021-04-12\", \"2021-04-13\", \"2021-04-14\", \"2021-04-15\", \"2021-04-16\", \"2021-04-17\", \"2021-04-18\", \"2021-04-19\", \"2021-04-20\", \"2021-04-21\", \"2021-04-22\", \"2021-04-23\"], \"y\": [0.0, 191181.0, 224301.0, 454049.0, 674835.0, 806484.0, 1043534.0, 1390592.0, 1582201.0, 1615504.0, 2023809.0, 2029480.0, 2355979.0, 2928053.0, 3500027.0, 3744334.0, 3758843.0, 3950156.0, 4138918.0, 4449552.0, 4959445.0, 5416849.0, 5775322.0, 5812362.0, 6259008.0, 6611561.0, 7017114.0, 7505010.0, 7967647.0, 8044786.0, null, 8418653.0, 8641002.0, 8844641.0, 9381591.0, 9693000.0, 9964383.0, 10124531.0, 10308552.0, 10585757.0, 10884879.0, 11206188.0, 11552857.0, 11788669.0, 11845075.0, 12256337.0, 12906771.0, 13739121.0, 14796835.0, 15996683.0, 17168303.0, 17227903.0, 18943283.0, 20004227.0, 21034481.0, 21435841.0, 23075504.0, 24307635.0, 24452385.0, 27079484.0, 28862037.0, 30600787.0, 32426230.0, 34842030.0, 37125187.0, 37574302.0, 40631153.0, 42731952.0, 44846538.0, 47001472.0, 49426618.0, 51441436.0, 51660234.0, 52211398.0, 53989035.0, 55783201.0, 59148798.0, 63081589.0, 65739470.0, 68678838.0, 72277309.0, 75937015.0, 78763027.0, 82456522.0, 85763852.0, 88885961.0, 91587400.0, 95043039.0, 97301914.0, 100179199.0, 102349255.0, 104408484.0, 106431076.0, 107371770.0, 109659181.0, null, 111673361.0, 113584269.0, 116936487.0]}, {\"mode\": \"lines\", \"name\": \"USA\", \"type\": \"scatter\", \"x\": [\"2020-12-20\", \"2020-12-21\", \"2020-12-22\", \"2020-12-23\", \"2020-12-24\", \"2020-12-25\", \"2020-12-26\", \"2020-12-27\", \"2020-12-28\", \"2020-12-29\", \"2020-12-30\", \"2020-12-31\", \"2021-01-01\", \"2021-01-02\", \"2021-01-03\", \"2021-01-04\", \"2021-01-05\", \"2021-01-06\", \"2021-01-07\", \"2021-01-08\", \"2021-01-09\", \"2021-01-10\", \"2021-01-11\", \"2021-01-12\", \"2021-01-13\", \"2021-01-14\", \"2021-01-15\", \"2021-01-16\", \"2021-01-17\", \"2021-01-18\", \"2021-01-19\", \"2021-01-20\", \"2021-01-21\", \"2021-01-22\", \"2021-01-23\", \"2021-01-24\", \"2021-01-25\", \"2021-01-26\", \"2021-01-27\", \"2021-01-28\", \"2021-01-29\", \"2021-01-30\", \"2021-01-31\", \"2021-02-01\", \"2021-02-02\", \"2021-02-03\", \"2021-02-04\", \"2021-02-05\", \"2021-02-06\", \"2021-02-07\", \"2021-02-08\", \"2021-02-09\", \"2021-02-10\", \"2021-02-11\", \"2021-02-12\", \"2021-02-13\", \"2021-02-14\", \"2021-02-15\", \"2021-02-16\", \"2021-02-17\", \"2021-02-18\", \"2021-02-19\", \"2021-02-20\", \"2021-02-21\", \"2021-02-22\", \"2021-02-23\", \"2021-02-24\", \"2021-02-25\", \"2021-02-26\", \"2021-02-27\", \"2021-02-28\", \"2021-03-01\", \"2021-03-02\", \"2021-03-03\", \"2021-03-04\", \"2021-03-05\", \"2021-03-06\", \"2021-03-07\", \"2021-03-08\", \"2021-03-09\", \"2021-03-10\", \"2021-03-11\", \"2021-03-12\", \"2021-03-13\", \"2021-03-14\", \"2021-03-15\", \"2021-03-16\", \"2021-03-17\", \"2021-03-18\", \"2021-03-19\", \"2021-03-20\", \"2021-03-21\", \"2021-03-22\", \"2021-03-23\", \"2021-03-24\", \"2021-03-25\", \"2021-03-26\", \"2021-03-27\", \"2021-03-28\", \"2021-03-29\", \"2021-03-30\", \"2021-03-31\", \"2021-04-01\", \"2021-04-02\", \"2021-04-03\", \"2021-04-04\", \"2021-04-05\", \"2021-04-06\", \"2021-04-07\", \"2021-04-08\", \"2021-04-09\", \"2021-04-10\", \"2021-04-11\", \"2021-04-12\", \"2021-04-13\", \"2021-04-14\", \"2021-04-15\", \"2021-04-16\", \"2021-04-17\", \"2021-04-18\", \"2021-04-19\", \"2021-04-20\", \"2021-04-21\", \"2021-04-22\", \"2021-04-23\"], \"y\": [556208.0, 614117.0, null, 1008025.0, null, null, 1944585.0, null, 2127143.0, null, 2794588.0, null, null, 4225756.0, null, 4563260.0, 4836469.0, 5306797.0, 5919418.0, 6688231.0, null, null, 8987322.0, 9327138.0, null, 9690757.0, 10595866.0, null, null, null, 13595803.0, 14270441.0, 15053257.0, 16243093.0, 17390345.0, 18502131.0, 19252279.0, 19902237.0, 20687970.0, 21698606.0, 22858318.0, 24064165.0, 25201143.0, 26023153.0, 26440836.0, 27154956.0, 27905197.0, 28909497.0, 30250964.0, 31579100.0, 32340146.0, 32867213.0, 33783384.0, 34723964.0, 35834855.0, 37056122.0, 38292270.0, null, 39670551.0, 40268009.0, 41021049.0, 41977401.0, 42809595.0, 43628092.0, 44138118.0, 44544969.0, 45237143.0, 46074392.0, 47184199.0, 48435536.0, 49772180.0, 50732997.0, 51755447.0, 52855579.0, 54035670.0, 55547697.0, 57358849.0, 58873710.0, 60005231.0, 61088527.0, 62451150.0, 64071674.0, 65965305.0, 68884011.0, 69784210.0, 71054445.0, 72135616.0, 73669956.0, 75495716.0, 77230061.0, 79367225.0, 81415769.0, 82772416.0, 83930495.0, 85472166.0, 87343622.0, 89559225.0, 91707729.0, 93631163.0, 95015762.0, 96044046.0, 97593290.0, 99565311.0, 101804762.0, 104213478.0, 106214924.0, 107515428.0, 108301234.0, 109995734.0, 112046611.0, 114436039.0, 117142879.0, 119242902.0, 120848490.0, 122295530.0, 123917385.0, 125822868.0, 127743096.0, 129494179.0, 131247546.0, 132321628.0, 133266995.0, 134445595.0, 135791031.0, 137234889.0]}, {\"mode\": \"lines\", \"name\": \"IDN\", \"type\": \"scatter\", \"x\": [\"2021-01-12\", \"2021-01-13\", \"2021-01-14\", \"2021-01-15\", \"2021-01-16\", \"2021-01-17\", \"2021-01-18\", \"2021-01-19\", \"2021-01-20\", \"2021-01-21\", \"2021-01-22\", \"2021-01-23\", \"2021-01-24\", \"2021-01-25\", \"2021-01-26\", \"2021-01-27\", \"2021-01-28\", \"2021-01-29\", \"2021-01-30\", \"2021-01-31\", \"2021-02-01\", \"2021-02-02\", \"2021-02-03\", \"2021-02-04\", \"2021-02-05\", \"2021-02-06\", \"2021-02-07\", \"2021-02-08\", \"2021-02-09\", \"2021-02-10\", \"2021-02-11\", \"2021-02-12\", \"2021-02-13\", \"2021-02-14\", \"2021-02-15\", \"2021-02-16\", \"2021-02-17\", \"2021-02-18\", \"2021-02-19\", \"2021-02-20\", \"2021-02-21\", \"2021-02-22\", \"2021-02-23\", \"2021-02-24\", \"2021-02-25\", \"2021-02-26\", \"2021-02-27\", \"2021-02-28\", \"2021-03-01\", \"2021-03-02\", \"2021-03-03\", \"2021-03-04\", \"2021-03-05\", \"2021-03-06\", \"2021-03-07\", \"2021-03-08\", \"2021-03-09\", \"2021-03-10\", \"2021-03-11\", \"2021-03-12\", \"2021-03-13\", \"2021-03-14\", \"2021-03-15\", \"2021-03-16\", \"2021-03-17\", \"2021-03-18\", \"2021-03-19\", \"2021-03-20\", \"2021-03-21\", \"2021-03-22\", \"2021-03-23\", \"2021-03-24\", \"2021-03-25\", \"2021-03-26\", \"2021-03-27\", \"2021-03-28\", \"2021-03-29\", \"2021-03-30\", \"2021-03-31\", \"2021-04-01\", \"2021-04-02\", \"2021-04-03\", \"2021-04-04\", \"2021-04-05\", \"2021-04-06\", \"2021-04-07\", \"2021-04-08\", \"2021-04-09\", \"2021-04-10\", \"2021-04-11\", \"2021-04-12\", \"2021-04-13\", \"2021-04-14\", \"2021-04-15\", \"2021-04-16\", \"2021-04-17\", \"2021-04-18\", \"2021-04-19\", \"2021-04-20\", \"2021-04-21\", \"2021-04-22\", \"2021-04-23\"], \"y\": [0.0, null, null, null, null, null, null, null, null, null, 132000.0, null, 149242.0, 161959.0, 245685.0, 308003.0, 368318.0, 405012.0, 482145.0, 493133.0, 539532.0, 596260.0, 646026.0, 700266.0, 744884.0, 777096.0, 784318.0, 814585.0, 845407.0, 969546.0, 1017186.0, null, 1060326.0, 1068747.0, 1096095.0, 1120963.0, 1149939.0, 1164144.0, null, 1224091.0, null, null, 1269905.0, 1363138.0, 1461920.0, 1583581.0, 1616165.0, 1691724.0, null, 1968057.0, 2286123.0, null, 2413615.0, null, 2888757.0, null, null, 3574698.0, 3696059.0, 3769174.0, 3985596.0, 4020124.0, 4166862.0, 4468951.0, 4705248.0, 4838752.0, 5124948.0, 5533379.0, 5567280.0, 5732210.0, 6389837.0, null, 6730456.0, 7179014.0, 7190663.0, 7435851.0, null, null, 8010163.0, 8371577.0, 8424729.0, null, 8634321.0, null, 9021106.0, null, 9374089.0, null, 10002901.0, null, 10280073.0, 10377734.0, 10457337.0, 10781266.0, null, 10801563.0, null, 10972343.0, 11116253.0, 11302294.0, 11432711.0, 11623251.0]}, {\"mode\": \"lines\", \"name\": \"PAK\", \"type\": \"scatter\", \"x\": [\"2021-02-02\", \"2021-02-03\", \"2021-02-04\", \"2021-02-05\", \"2021-02-06\", \"2021-02-07\", \"2021-02-08\", \"2021-02-09\", \"2021-02-10\", \"2021-02-11\", \"2021-02-12\", \"2021-02-13\", \"2021-02-14\", \"2021-02-15\", \"2021-02-16\", \"2021-02-17\", \"2021-02-18\", \"2021-02-19\", \"2021-02-20\", \"2021-02-21\", \"2021-02-22\", \"2021-02-23\", \"2021-02-24\", \"2021-02-25\", \"2021-02-26\", \"2021-02-27\", \"2021-02-28\", \"2021-03-01\", \"2021-03-02\", \"2021-03-03\", \"2021-03-04\", \"2021-03-05\", \"2021-03-06\", \"2021-03-07\", \"2021-03-08\", \"2021-03-09\", \"2021-03-10\", \"2021-03-11\", \"2021-03-12\", \"2021-03-13\", \"2021-03-14\", \"2021-03-15\", \"2021-03-16\", \"2021-03-17\", \"2021-03-18\", \"2021-03-19\", \"2021-03-20\", \"2021-03-21\", \"2021-03-22\", \"2021-03-23\", \"2021-03-24\", \"2021-03-25\", \"2021-03-26\", \"2021-03-27\", \"2021-03-28\", \"2021-03-29\", \"2021-03-30\", \"2021-03-31\", \"2021-04-01\", \"2021-04-02\", \"2021-04-03\", \"2021-04-04\", \"2021-04-05\", \"2021-04-06\", \"2021-04-07\", \"2021-04-08\", \"2021-04-09\", \"2021-04-10\", \"2021-04-11\", \"2021-04-12\", \"2021-04-13\"], \"y\": [0.0, null, null, null, null, null, null, null, 27228.0, null, null, null, null, null, null, 52768.0, null, null, null, 72882.0, null, null, null, null, null, null, null, null, null, null, null, null, null, null, null, null, null, null, null, null, 350000.0, null, null, null, null, null, null, null, null, null, null, null, null, null, null, null, null, 800000.0, null, null, null, null, null, 936383.0, null, 1114000.0, null, null, null, null, 1300000.0]}, {\"mode\": \"lines\", \"name\": \"BRA\", \"type\": \"scatter\", \"x\": [\"2021-01-16\", \"2021-01-17\", \"2021-01-18\", \"2021-01-19\", \"2021-01-20\", \"2021-01-21\", \"2021-01-22\", \"2021-01-23\", \"2021-01-24\", \"2021-01-25\", \"2021-01-26\", \"2021-01-27\", \"2021-01-28\", \"2021-01-29\", \"2021-01-30\", \"2021-01-31\", \"2021-02-01\", \"2021-02-02\", \"2021-02-03\", \"2021-02-04\", \"2021-02-05\", \"2021-02-06\", \"2021-02-07\", \"2021-02-08\", \"2021-02-09\", \"2021-02-10\", \"2021-02-11\", \"2021-02-12\", \"2021-02-13\", \"2021-02-14\", \"2021-02-15\", \"2021-02-16\", \"2021-02-17\", \"2021-02-18\", \"2021-02-19\", \"2021-02-20\", \"2021-02-21\", \"2021-02-22\", \"2021-02-23\", \"2021-02-24\", \"2021-02-25\", \"2021-02-26\", \"2021-02-27\", \"2021-02-28\", \"2021-03-01\", \"2021-03-02\", \"2021-03-03\", \"2021-03-04\", \"2021-03-05\", \"2021-03-06\", \"2021-03-07\", \"2021-03-08\", \"2021-03-09\", \"2021-03-10\", \"2021-03-11\", \"2021-03-12\", \"2021-03-13\", \"2021-03-14\", \"2021-03-15\", \"2021-03-16\", \"2021-03-17\", \"2021-03-18\", \"2021-03-19\", \"2021-03-20\", \"2021-03-21\", \"2021-03-22\", \"2021-03-23\", \"2021-03-24\", \"2021-03-25\", \"2021-03-26\", \"2021-03-27\", \"2021-03-28\", \"2021-03-29\", \"2021-03-30\", \"2021-03-31\", \"2021-04-01\", \"2021-04-02\", \"2021-04-03\", \"2021-04-04\", \"2021-04-05\", \"2021-04-06\", \"2021-04-07\", \"2021-04-08\", \"2021-04-09\", \"2021-04-10\", \"2021-04-11\", \"2021-04-12\", \"2021-04-13\", \"2021-04-14\", \"2021-04-15\", \"2021-04-16\", \"2021-04-17\", \"2021-04-18\", \"2021-04-19\", \"2021-04-20\", \"2021-04-21\", \"2021-04-22\", \"2021-04-23\", \"2021-04-24\"], \"y\": [0.0, 112.0, 1109.0, 11470.0, 28543.0, 136519.0, 245877.0, 537774.0, 604722.0, 700608.0, 848883.0, 1129885.0, 1450900.0, 1656851.0, 1923813.0, 2046523.0, 2107624.0, 2292551.0, 2521704.0, 3073057.0, 3074906.0, 3399421.0, 3534004.0, 3579850.0, 3786591.0, 4069677.0, 4326075.0, 4586270.0, 4946738.0, 5042713.0, 5076110.0, 5324317.0, 5326007.0, 5482925.0, 5640483.0, 5756361.0, 5817908.0, 5857080.0, 6002873.0, 6116082.0, 6202055.0, 6346769.0, 6437836.0, 6518628.0, 6542206.0, 6806293.0, 7114219.0, 7417852.0, 7701146.0, null, null, null, null, 7851531.0, 8092244.0, 8360366.0, 8512960.0, 8561847.0, 8919356.0, null, 9451188.0, 9709526.0, 9970231.0, 10099070.0, 10168973.0, 10609471.0, 11559487.0, 12148769.0, 12639545.0, 13053114.0, 13487207.0, 13659406.0, 13988029.0, 14112509.0, 14921376.0, null, 16099532.0, 16377083.0, 16472281.0, 17128933.0, 17791338.0, 18859274.0, 19386057.0, 19886870.0, 20513828.0, 20654434.0, 21080623.0, 23602070.0, 24197321.0, null, null, null, 24350046.0, 24776701.0, 24805515.0, 24918188.0, 25340967.0, 26398005.0, 26501024.0]}],                        {\"template\": {\"data\": {\"bar\": [{\"error_x\": {\"color\": \"#2a3f5f\"}, \"error_y\": {\"color\": \"#2a3f5f\"}, \"marker\": {\"line\": {\"color\": \"#E5ECF6\", \"width\": 0.5}}, \"type\": \"bar\"}], \"barpolar\": [{\"marker\": {\"line\": {\"color\": \"#E5ECF6\", \"width\": 0.5}}, \"type\": \"barpolar\"}], \"carpet\": [{\"aaxis\": {\"endlinecolor\": \"#2a3f5f\", \"gridcolor\": \"white\", \"linecolor\": \"white\", \"minorgridcolor\": \"white\", \"startlinecolor\": \"#2a3f5f\"}, \"baxis\": {\"endlinecolor\": \"#2a3f5f\", \"gridcolor\": \"white\", \"linecolor\": \"white\", \"minorgridcolor\": \"white\", \"startlinecolor\": \"#2a3f5f\"}, \"type\": \"carpet\"}], \"choropleth\": [{\"colorbar\": {\"outlinewidth\": 0, \"ticks\": \"\"}, \"type\": \"choropleth\"}], \"contour\": [{\"colorbar\": {\"outlinewidth\": 0, \"ticks\": \"\"}, \"colorscale\": [[0.0, \"#0d0887\"], [0.1111111111111111, \"#46039f\"], [0.2222222222222222, \"#7201a8\"], [0.3333333333333333, \"#9c179e\"], [0.4444444444444444, \"#bd3786\"], [0.5555555555555556, \"#d8576b\"], [0.6666666666666666, \"#ed7953\"], [0.7777777777777778, \"#fb9f3a\"], [0.8888888888888888, \"#fdca26\"], [1.0, \"#f0f921\"]], \"type\": \"contour\"}], \"contourcarpet\": [{\"colorbar\": {\"outlinewidth\": 0, \"ticks\": \"\"}, \"type\": \"contourcarpet\"}], \"heatmap\": [{\"colorbar\": {\"outlinewidth\": 0, \"ticks\": \"\"}, \"colorscale\": [[0.0, \"#0d0887\"], [0.1111111111111111, \"#46039f\"], [0.2222222222222222, \"#7201a8\"], [0.3333333333333333, \"#9c179e\"], [0.4444444444444444, \"#bd3786\"], [0.5555555555555556, \"#d8576b\"], [0.6666666666666666, \"#ed7953\"], [0.7777777777777778, \"#fb9f3a\"], [0.8888888888888888, \"#fdca26\"], [1.0, \"#f0f921\"]], \"type\": \"heatmap\"}], \"heatmapgl\": [{\"colorbar\": {\"outlinewidth\": 0, \"ticks\": \"\"}, \"colorscale\": [[0.0, \"#0d0887\"], [0.1111111111111111, \"#46039f\"], [0.2222222222222222, \"#7201a8\"], [0.3333333333333333, \"#9c179e\"], [0.4444444444444444, \"#bd3786\"], [0.5555555555555556, \"#d8576b\"], [0.6666666666666666, \"#ed7953\"], [0.7777777777777778, \"#fb9f3a\"], [0.8888888888888888, \"#fdca26\"], [1.0, \"#f0f921\"]], \"type\": \"heatmapgl\"}], \"histogram\": [{\"marker\": {\"colorbar\": {\"outlinewidth\": 0, \"ticks\": \"\"}}, \"type\": \"histogram\"}], \"histogram2d\": [{\"colorbar\": {\"outlinewidth\": 0, \"ticks\": \"\"}, \"colorscale\": [[0.0, \"#0d0887\"], [0.1111111111111111, \"#46039f\"], [0.2222222222222222, \"#7201a8\"], [0.3333333333333333, \"#9c179e\"], [0.4444444444444444, \"#bd3786\"], [0.5555555555555556, \"#d8576b\"], [0.6666666666666666, \"#ed7953\"], [0.7777777777777778, \"#fb9f3a\"], [0.8888888888888888, \"#fdca26\"], [1.0, \"#f0f921\"]], \"type\": \"histogram2d\"}], \"histogram2dcontour\": [{\"colorbar\": {\"outlinewidth\": 0, \"ticks\": \"\"}, \"colorscale\": [[0.0, \"#0d0887\"], [0.1111111111111111, \"#46039f\"], [0.2222222222222222, \"#7201a8\"], [0.3333333333333333, \"#9c179e\"], [0.4444444444444444, \"#bd3786\"], [0.5555555555555556, \"#d8576b\"], [0.6666666666666666, \"#ed7953\"], [0.7777777777777778, \"#fb9f3a\"], [0.8888888888888888, \"#fdca26\"], [1.0, \"#f0f921\"]], \"type\": \"histogram2dcontour\"}], \"mesh3d\": [{\"colorbar\": {\"outlinewidth\": 0, \"ticks\": \"\"}, \"type\": \"mesh3d\"}], \"parcoords\": [{\"line\": {\"colorbar\": {\"outlinewidth\": 0, \"ticks\": \"\"}}, \"type\": \"parcoords\"}], \"pie\": [{\"automargin\": true, \"type\": \"pie\"}], \"scatter\": [{\"marker\": {\"colorbar\": {\"outlinewidth\": 0, \"ticks\": \"\"}}, \"type\": \"scatter\"}], \"scatter3d\": [{\"line\": {\"colorbar\": {\"outlinewidth\": 0, \"ticks\": \"\"}}, \"marker\": {\"colorbar\": {\"outlinewidth\": 0, \"ticks\": \"\"}}, \"type\": \"scatter3d\"}], \"scattercarpet\": [{\"marker\": {\"colorbar\": {\"outlinewidth\": 0, \"ticks\": \"\"}}, \"type\": \"scattercarpet\"}], \"scattergeo\": [{\"marker\": {\"colorbar\": {\"outlinewidth\": 0, \"ticks\": \"\"}}, \"type\": \"scattergeo\"}], \"scattergl\": [{\"marker\": {\"colorbar\": {\"outlinewidth\": 0, \"ticks\": \"\"}}, \"type\": \"scattergl\"}], \"scattermapbox\": [{\"marker\": {\"colorbar\": {\"outlinewidth\": 0, \"ticks\": \"\"}}, \"type\": \"scattermapbox\"}], \"scatterpolar\": [{\"marker\": {\"colorbar\": {\"outlinewidth\": 0, \"ticks\": \"\"}}, \"type\": \"scatterpolar\"}], \"scatterpolargl\": [{\"marker\": {\"colorbar\": {\"outlinewidth\": 0, \"ticks\": \"\"}}, \"type\": \"scatterpolargl\"}], \"scatterternary\": [{\"marker\": {\"colorbar\": {\"outlinewidth\": 0, \"ticks\": \"\"}}, \"type\": \"scatterternary\"}], \"surface\": [{\"colorbar\": {\"outlinewidth\": 0, \"ticks\": \"\"}, \"colorscale\": [[0.0, \"#0d0887\"], [0.1111111111111111, \"#46039f\"], [0.2222222222222222, \"#7201a8\"], [0.3333333333333333, \"#9c179e\"], [0.4444444444444444, \"#bd3786\"], [0.5555555555555556, \"#d8576b\"], [0.6666666666666666, \"#ed7953\"], [0.7777777777777778, \"#fb9f3a\"], [0.8888888888888888, \"#fdca26\"], [1.0, \"#f0f921\"]], \"type\": \"surface\"}], \"table\": [{\"cells\": {\"fill\": {\"color\": \"#EBF0F8\"}, \"line\": {\"color\": \"white\"}}, \"header\": {\"fill\": {\"color\": \"#C8D4E3\"}, \"line\": {\"color\": \"white\"}}, \"type\": \"table\"}]}, \"layout\": {\"annotationdefaults\": {\"arrowcolor\": \"#2a3f5f\", \"arrowhead\": 0, \"arrowwidth\": 1}, \"autotypenumbers\": \"strict\", \"coloraxis\": {\"colorbar\": {\"outlinewidth\": 0, \"ticks\": \"\"}}, \"colorscale\": {\"diverging\": [[0, \"#8e0152\"], [0.1, \"#c51b7d\"], [0.2, \"#de77ae\"], [0.3, \"#f1b6da\"], [0.4, \"#fde0ef\"], [0.5, \"#f7f7f7\"], [0.6, \"#e6f5d0\"], [0.7, \"#b8e186\"], [0.8, \"#7fbc41\"], [0.9, \"#4d9221\"], [1, \"#276419\"]], \"sequential\": [[0.0, \"#0d0887\"], [0.1111111111111111, \"#46039f\"], [0.2222222222222222, \"#7201a8\"], [0.3333333333333333, \"#9c179e\"], [0.4444444444444444, \"#bd3786\"], [0.5555555555555556, \"#d8576b\"], [0.6666666666666666, \"#ed7953\"], [0.7777777777777778, \"#fb9f3a\"], [0.8888888888888888, \"#fdca26\"], [1.0, \"#f0f921\"]], \"sequentialminus\": [[0.0, \"#0d0887\"], [0.1111111111111111, \"#46039f\"], [0.2222222222222222, \"#7201a8\"], [0.3333333333333333, \"#9c179e\"], [0.4444444444444444, \"#bd3786\"], [0.5555555555555556, \"#d8576b\"], [0.6666666666666666, \"#ed7953\"], [0.7777777777777778, \"#fb9f3a\"], [0.8888888888888888, \"#fdca26\"], [1.0, \"#f0f921\"]]}, \"colorway\": [\"#636efa\", \"#EF553B\", \"#00cc96\", \"#ab63fa\", \"#FFA15A\", \"#19d3f3\", \"#FF6692\", \"#B6E880\", \"#FF97FF\", \"#FECB52\"], \"font\": {\"color\": \"#2a3f5f\"}, \"geo\": {\"bgcolor\": \"white\", \"lakecolor\": \"white\", \"landcolor\": \"#E5ECF6\", \"showlakes\": true, \"showland\": true, \"subunitcolor\": \"white\"}, \"hoverlabel\": {\"align\": \"left\"}, \"hovermode\": \"closest\", \"mapbox\": {\"style\": \"light\"}, \"paper_bgcolor\": \"white\", \"plot_bgcolor\": \"#E5ECF6\", \"polar\": {\"angularaxis\": {\"gridcolor\": \"white\", \"linecolor\": \"white\", \"ticks\": \"\"}, \"bgcolor\": \"#E5ECF6\", \"radialaxis\": {\"gridcolor\": \"white\", \"linecolor\": \"white\", \"ticks\": \"\"}}, \"scene\": {\"xaxis\": {\"backgroundcolor\": \"#E5ECF6\", \"gridcolor\": \"white\", \"gridwidth\": 2, \"linecolor\": \"white\", \"showbackground\": true, \"ticks\": \"\", \"zerolinecolor\": \"white\"}, \"yaxis\": {\"backgroundcolor\": \"#E5ECF6\", \"gridcolor\": \"white\", \"gridwidth\": 2, \"linecolor\": \"white\", \"showbackground\": true, \"ticks\": \"\", \"zerolinecolor\": \"white\"}, \"zaxis\": {\"backgroundcolor\": \"#E5ECF6\", \"gridcolor\": \"white\", \"gridwidth\": 2, \"linecolor\": \"white\", \"showbackground\": true, \"ticks\": \"\", \"zerolinecolor\": \"white\"}}, \"shapedefaults\": {\"line\": {\"color\": \"#2a3f5f\"}}, \"ternary\": {\"aaxis\": {\"gridcolor\": \"white\", \"linecolor\": \"white\", \"ticks\": \"\"}, \"baxis\": {\"gridcolor\": \"white\", \"linecolor\": \"white\", \"ticks\": \"\"}, \"bgcolor\": \"#E5ECF6\", \"caxis\": {\"gridcolor\": \"white\", \"linecolor\": \"white\", \"ticks\": \"\"}}, \"title\": {\"x\": 0.05}, \"xaxis\": {\"automargin\": true, \"gridcolor\": \"white\", \"linecolor\": \"white\", \"ticks\": \"\", \"title\": {\"standoff\": 15}, \"zerolinecolor\": \"white\", \"zerolinewidth\": 2}, \"yaxis\": {\"automargin\": true, \"gridcolor\": \"white\", \"linecolor\": \"white\", \"ticks\": \"\", \"title\": {\"standoff\": 15}, \"zerolinecolor\": \"white\", \"zerolinewidth\": 2}}}, \"title\": {\"text\": \"Number of vaccinated people\"}, \"xaxis\": {\"title\": {\"text\": \"Dates\"}}, \"yaxis\": {\"title\": {\"text\": \"No of people\"}}},                        {\"responsive\": true}                    ).then(function(){\n",
       "                            \n",
       "var gd = document.getElementById('8fb488a0-0e99-4f59-95a6-05af12c54e27');\n",
       "var x = new MutationObserver(function (mutations, observer) {{\n",
       "        var display = window.getComputedStyle(gd).display;\n",
       "        if (!display || display === 'none') {{\n",
       "            console.log([gd, 'removed!']);\n",
       "            Plotly.purge(gd);\n",
       "            observer.disconnect();\n",
       "        }}\n",
       "}});\n",
       "\n",
       "// Listen for the removal of the full notebook cells\n",
       "var notebookContainer = gd.closest('#notebook-container');\n",
       "if (notebookContainer) {{\n",
       "    x.observe(notebookContainer, {childList: true});\n",
       "}}\n",
       "\n",
       "// Listen for the clearing of the current output cell\n",
       "var outputEl = gd.closest('.output');\n",
       "if (outputEl) {{\n",
       "    x.observe(outputEl, {childList: true});\n",
       "}}\n",
       "\n",
       "                        })                };                });            </script>        </div>"
      ]
     },
     "metadata": {},
     "output_type": "display_data"
    }
   ],
   "source": [
    "fig = go.Figure()\n",
    "for i in range(6):\n",
    "    fig.add_trace(go.Scatter(x=dfs[i]['date'], y=dfs[i]['people_vaccinated'],\n",
    "                    mode='lines',\n",
    "                    name=iso_6[i]))\n",
    "fig.update_layout(title='Number of vaccinated people',\n",
    "                   xaxis_title='Dates',\n",
    "                   yaxis_title='No of people')\n",
    "fig.show()"
   ]
  },
  {
   "cell_type": "markdown",
   "id": "assured-assault",
   "metadata": {
    "papermill": {
     "duration": 0.028767,
     "end_time": "2021-04-26T13:37:18.445333",
     "exception": false,
     "start_time": "2021-04-26T13:37:18.416566",
     "status": "completed"
    },
    "tags": []
   },
   "source": [
    "China did not showed the data of people vaccinated, in this case we can look that India and USA are the countries, in our analysis, wich have the most number of people vaccinated but by the number of daily dosis applied we can deduce that China is also a big player in the number of vaccinated people."
   ]
  },
  {
   "cell_type": "code",
   "execution_count": 8,
   "id": "dated-printer",
   "metadata": {
    "_kg_hide-input": true,
    "execution": {
     "iopub.execute_input": "2021-04-26T13:37:18.508617Z",
     "iopub.status.busy": "2021-04-26T13:37:18.507756Z",
     "iopub.status.idle": "2021-04-26T13:37:18.530062Z",
     "shell.execute_reply": "2021-04-26T13:37:18.530545Z"
    },
    "papermill": {
     "duration": 0.055584,
     "end_time": "2021-04-26T13:37:18.530745",
     "exception": false,
     "start_time": "2021-04-26T13:37:18.475161",
     "status": "completed"
    },
    "tags": []
   },
   "outputs": [
    {
     "data": {
      "text/html": [
       "<div>                            <div id=\"f11522ee-a300-477f-9de0-9a8b32920d68\" class=\"plotly-graph-div\" style=\"height:525px; width:100%;\"></div>            <script type=\"text/javascript\">                require([\"plotly\"], function(Plotly) {                    window.PLOTLYENV=window.PLOTLYENV || {};                                    if (document.getElementById(\"f11522ee-a300-477f-9de0-9a8b32920d68\")) {                    Plotly.newPlot(                        \"f11522ee-a300-477f-9de0-9a8b32920d68\",                        [{\"mode\": \"lines\", \"name\": \"CHN\", \"type\": \"scatter\", \"x\": [\"2020-12-15\", \"2020-12-16\", \"2020-12-17\", \"2020-12-18\", \"2020-12-19\", \"2020-12-20\", \"2020-12-21\", \"2020-12-22\", \"2020-12-23\", \"2020-12-24\", \"2020-12-25\", \"2020-12-26\", \"2020-12-27\", \"2020-12-28\", \"2020-12-29\", \"2020-12-30\", \"2020-12-31\", \"2021-01-01\", \"2021-01-02\", \"2021-01-03\", \"2021-01-04\", \"2021-01-05\", \"2021-01-06\", \"2021-01-07\", \"2021-01-08\", \"2021-01-09\", \"2021-01-10\", \"2021-01-11\", \"2021-01-12\", \"2021-01-13\", \"2021-01-14\", \"2021-01-15\", \"2021-01-16\", \"2021-01-17\", \"2021-01-18\", \"2021-01-19\", \"2021-01-20\", \"2021-01-21\", \"2021-01-22\", \"2021-01-23\", \"2021-01-24\", \"2021-01-25\", \"2021-01-26\", \"2021-01-27\", \"2021-01-28\", \"2021-01-29\", \"2021-01-30\", \"2021-01-31\", \"2021-02-01\", \"2021-02-02\", \"2021-02-03\", \"2021-02-04\", \"2021-02-05\", \"2021-02-06\", \"2021-02-07\", \"2021-02-08\", \"2021-02-09\", \"2021-02-10\", \"2021-02-11\", \"2021-02-12\", \"2021-02-13\", \"2021-02-14\", \"2021-02-15\", \"2021-02-16\", \"2021-02-17\", \"2021-02-18\", \"2021-02-19\", \"2021-02-20\", \"2021-02-21\", \"2021-02-22\", \"2021-02-23\", \"2021-02-24\", \"2021-02-25\", \"2021-02-26\", \"2021-02-27\", \"2021-02-28\", \"2021-03-01\", \"2021-03-02\", \"2021-03-03\", \"2021-03-04\", \"2021-03-05\", \"2021-03-06\", \"2021-03-07\", \"2021-03-08\", \"2021-03-09\", \"2021-03-10\", \"2021-03-11\", \"2021-03-12\", \"2021-03-13\", \"2021-03-14\", \"2021-03-15\", \"2021-03-16\", \"2021-03-17\", \"2021-03-18\", \"2021-03-19\", \"2021-03-20\", \"2021-03-21\", \"2021-03-22\", \"2021-03-23\", \"2021-03-24\", \"2021-03-25\", \"2021-03-26\", \"2021-03-27\", \"2021-03-28\", \"2021-03-29\", \"2021-03-30\", \"2021-03-31\", \"2021-04-01\", \"2021-04-02\", \"2021-04-03\", \"2021-04-04\", \"2021-04-05\", \"2021-04-06\", \"2021-04-07\", \"2021-04-08\", \"2021-04-09\", \"2021-04-10\", \"2021-04-11\", \"2021-04-12\", \"2021-04-13\", \"2021-04-14\", \"2021-04-15\", \"2021-04-16\", \"2021-04-17\", \"2021-04-18\", \"2021-04-19\", \"2021-04-20\", \"2021-04-21\", \"2021-04-22\", \"2021-04-23\"], \"y\": [null, null, null, null, null, null, null, null, null, null, null, null, null, null, null, null, null, null, null, null, null, null, null, null, null, null, null, null, null, null, null, null, null, null, null, null, null, null, null, null, null, null, null, null, null, null, null, null, null, null, null, null, null, null, null, null, null, null, null, null, null, null, null, null, null, null, null, null, null, null, null, null, null, null, null, null, null, null, null, null, null, null, null, null, null, null, null, null, null, null, null, null, null, null, null, null, null, null, null, null, null, null, null, null, null, null, null, null, null, null, null, null, null, null, null, null, null, null, null, null, null, null, null, null, null, null, null, null, null, null]}, {\"mode\": \"lines\", \"name\": \"IND\", \"type\": \"scatter\", \"x\": [\"2021-01-15\", \"2021-01-16\", \"2021-01-17\", \"2021-01-18\", \"2021-01-19\", \"2021-01-20\", \"2021-01-21\", \"2021-01-22\", \"2021-01-23\", \"2021-01-24\", \"2021-01-25\", \"2021-01-26\", \"2021-01-27\", \"2021-01-28\", \"2021-01-29\", \"2021-01-30\", \"2021-01-31\", \"2021-02-01\", \"2021-02-02\", \"2021-02-03\", \"2021-02-04\", \"2021-02-05\", \"2021-02-06\", \"2021-02-07\", \"2021-02-08\", \"2021-02-09\", \"2021-02-10\", \"2021-02-11\", \"2021-02-12\", \"2021-02-13\", \"2021-02-14\", \"2021-02-15\", \"2021-02-16\", \"2021-02-17\", \"2021-02-18\", \"2021-02-19\", \"2021-02-20\", \"2021-02-21\", \"2021-02-22\", \"2021-02-23\", \"2021-02-24\", \"2021-02-25\", \"2021-02-26\", \"2021-02-27\", \"2021-02-28\", \"2021-03-01\", \"2021-03-02\", \"2021-03-03\", \"2021-03-04\", \"2021-03-05\", \"2021-03-06\", \"2021-03-07\", \"2021-03-08\", \"2021-03-09\", \"2021-03-10\", \"2021-03-11\", \"2021-03-12\", \"2021-03-13\", \"2021-03-14\", \"2021-03-15\", \"2021-03-16\", \"2021-03-17\", \"2021-03-18\", \"2021-03-19\", \"2021-03-20\", \"2021-03-21\", \"2021-03-22\", \"2021-03-23\", \"2021-03-24\", \"2021-03-25\", \"2021-03-26\", \"2021-03-27\", \"2021-03-28\", \"2021-03-29\", \"2021-03-30\", \"2021-03-31\", \"2021-04-01\", \"2021-04-02\", \"2021-04-03\", \"2021-04-04\", \"2021-04-05\", \"2021-04-06\", \"2021-04-07\", \"2021-04-08\", \"2021-04-09\", \"2021-04-10\", \"2021-04-11\", \"2021-04-12\", \"2021-04-13\", \"2021-04-14\", \"2021-04-15\", \"2021-04-16\", \"2021-04-17\", \"2021-04-18\", \"2021-04-19\", \"2021-04-20\", \"2021-04-21\", \"2021-04-22\", \"2021-04-23\"], \"y\": [null, null, null, null, null, null, null, null, null, null, null, null, null, null, null, null, null, null, null, null, null, null, null, null, null, null, null, null, null, 7668.0, null, 98118.0, 216339.0, 342116.0, 464932.0, 756942.0, 873940.0, 960642.0, 1115542.0, 1321635.0, 1481754.0, 1860859.0, 2204083.0, 2453878.0, 2456191.0, 2597799.0, 2713978.0, 2876927.0, 3208668.0, 3501021.0, 3754041.0, 3761107.0, 4065450.0, 4363679.0, 4650530.0, 4729079.0, 5142953.0, 5430774.0, 5455653.0, 5867948.0, 6202499.0, 6542468.0, 6913587.0, 7221362.0, 7478654.0, 7491696.0, 7863441.0, 8109334.0, 8299171.0, 8502968.0, 8683155.0, 8828346.0, 8870201.0, 8901956.0, 9065318.0, 9334695.0, 9640340.0, 9972706.0, 10240181.0, 10426325.0, 10833617.0, 11140459.0, 11435646.0, 11877740.0, 12311308.0, 12709186.0, 12941165.0, 13490046.0, 13877664.0, 14314039.0, 14874254.0, 15529157.0, 16191514.0, 16480796.0, 17469932.0, null, 17972744.0, 19170339.0, 21443345.0]}, {\"mode\": \"lines\", \"name\": \"USA\", \"type\": \"scatter\", \"x\": [\"2020-12-20\", \"2020-12-21\", \"2020-12-22\", \"2020-12-23\", \"2020-12-24\", \"2020-12-25\", \"2020-12-26\", \"2020-12-27\", \"2020-12-28\", \"2020-12-29\", \"2020-12-30\", \"2020-12-31\", \"2021-01-01\", \"2021-01-02\", \"2021-01-03\", \"2021-01-04\", \"2021-01-05\", \"2021-01-06\", \"2021-01-07\", \"2021-01-08\", \"2021-01-09\", \"2021-01-10\", \"2021-01-11\", \"2021-01-12\", \"2021-01-13\", \"2021-01-14\", \"2021-01-15\", \"2021-01-16\", \"2021-01-17\", \"2021-01-18\", \"2021-01-19\", \"2021-01-20\", \"2021-01-21\", \"2021-01-22\", \"2021-01-23\", \"2021-01-24\", \"2021-01-25\", \"2021-01-26\", \"2021-01-27\", \"2021-01-28\", \"2021-01-29\", \"2021-01-30\", \"2021-01-31\", \"2021-02-01\", \"2021-02-02\", \"2021-02-03\", \"2021-02-04\", \"2021-02-05\", \"2021-02-06\", \"2021-02-07\", \"2021-02-08\", \"2021-02-09\", \"2021-02-10\", \"2021-02-11\", \"2021-02-12\", \"2021-02-13\", \"2021-02-14\", \"2021-02-15\", \"2021-02-16\", \"2021-02-17\", \"2021-02-18\", \"2021-02-19\", \"2021-02-20\", \"2021-02-21\", \"2021-02-22\", \"2021-02-23\", \"2021-02-24\", \"2021-02-25\", \"2021-02-26\", \"2021-02-27\", \"2021-02-28\", \"2021-03-01\", \"2021-03-02\", \"2021-03-03\", \"2021-03-04\", \"2021-03-05\", \"2021-03-06\", \"2021-03-07\", \"2021-03-08\", \"2021-03-09\", \"2021-03-10\", \"2021-03-11\", \"2021-03-12\", \"2021-03-13\", \"2021-03-14\", \"2021-03-15\", \"2021-03-16\", \"2021-03-17\", \"2021-03-18\", \"2021-03-19\", \"2021-03-20\", \"2021-03-21\", \"2021-03-22\", \"2021-03-23\", \"2021-03-24\", \"2021-03-25\", \"2021-03-26\", \"2021-03-27\", \"2021-03-28\", \"2021-03-29\", \"2021-03-30\", \"2021-03-31\", \"2021-04-01\", \"2021-04-02\", \"2021-04-03\", \"2021-04-04\", \"2021-04-05\", \"2021-04-06\", \"2021-04-07\", \"2021-04-08\", \"2021-04-09\", \"2021-04-10\", \"2021-04-11\", \"2021-04-12\", \"2021-04-13\", \"2021-04-14\", \"2021-04-15\", \"2021-04-16\", \"2021-04-17\", \"2021-04-18\", \"2021-04-19\", \"2021-04-20\", \"2021-04-21\", \"2021-04-22\", \"2021-04-23\"], \"y\": [null, null, null, null, null, null, null, null, null, null, null, null, null, null, null, null, null, null, null, null, null, null, null, null, null, 1342086.0, 1610524.0, null, null, null, 2023124.0, 2161419.0, 2394961.0, 2756953.0, 3027865.0, 3216836.0, 3346390.0, 3481921.0, 3801053.0, 4263056.0, 4780888.0, 5259693.0, 5657142.0, 5927847.0, 6064792.0, 6436931.0, 6926050.0, 7503864.0, 8317180.0, 9147185.0, 9518015.0, 9840429.0, 10469514.0, 11188782.0, 12085830.0, 13082172.0, 14077440.0, null, 15015434.0, 15471536.0, 16162358.0, 17039118.0, 17895667.0, 18865319.0, 19438495.0, 19882544.0, 20607261.0, 21555117.0, 22613359.0, 23698627.0, 24779920.0, 25466405.0, 26162122.0, 26957804.0, 27795980.0, 28701201.0, 29776160.0, 30686881.0, 31493040.0, 32102061.0, 32904161.0, 33863127.0, 35000159.0, 36929777.0, 37459269.0, 38335432.0, 39042345.0, 39989196.0, 40981464.0, 41934629.0, 43036818.0, 44141228.0, 44910946.0, 45533962.0, 46365515.0, 47419832.0, 48695172.0, 50141769.0, 51593564.0, 52614231.0, 53423486.0, 54607041.0, 56089614.0, 57984785.0, 59858146.0, 61416536.0, 62392065.0, 63016976.0, 64422618.0, 66203123.0, 68202458.0, 70692645.0, 72630892.0, 74066085.0, 75322283.0, 76681252.0, 78498290.0, 80609818.0, 82471151.0, 84263408.0, 85365180.0, 86223506.0, 87592646.0, 89245776.0, 91175995.0]}, {\"mode\": \"lines\", \"name\": \"IDN\", \"type\": \"scatter\", \"x\": [\"2021-01-12\", \"2021-01-13\", \"2021-01-14\", \"2021-01-15\", \"2021-01-16\", \"2021-01-17\", \"2021-01-18\", \"2021-01-19\", \"2021-01-20\", \"2021-01-21\", \"2021-01-22\", \"2021-01-23\", \"2021-01-24\", \"2021-01-25\", \"2021-01-26\", \"2021-01-27\", \"2021-01-28\", \"2021-01-29\", \"2021-01-30\", \"2021-01-31\", \"2021-02-01\", \"2021-02-02\", \"2021-02-03\", \"2021-02-04\", \"2021-02-05\", \"2021-02-06\", \"2021-02-07\", \"2021-02-08\", \"2021-02-09\", \"2021-02-10\", \"2021-02-11\", \"2021-02-12\", \"2021-02-13\", \"2021-02-14\", \"2021-02-15\", \"2021-02-16\", \"2021-02-17\", \"2021-02-18\", \"2021-02-19\", \"2021-02-20\", \"2021-02-21\", \"2021-02-22\", \"2021-02-23\", \"2021-02-24\", \"2021-02-25\", \"2021-02-26\", \"2021-02-27\", \"2021-02-28\", \"2021-03-01\", \"2021-03-02\", \"2021-03-03\", \"2021-03-04\", \"2021-03-05\", \"2021-03-06\", \"2021-03-07\", \"2021-03-08\", \"2021-03-09\", \"2021-03-10\", \"2021-03-11\", \"2021-03-12\", \"2021-03-13\", \"2021-03-14\", \"2021-03-15\", \"2021-03-16\", \"2021-03-17\", \"2021-03-18\", \"2021-03-19\", \"2021-03-20\", \"2021-03-21\", \"2021-03-22\", \"2021-03-23\", \"2021-03-24\", \"2021-03-25\", \"2021-03-26\", \"2021-03-27\", \"2021-03-28\", \"2021-03-29\", \"2021-03-30\", \"2021-03-31\", \"2021-04-01\", \"2021-04-02\", \"2021-04-03\", \"2021-04-04\", \"2021-04-05\", \"2021-04-06\", \"2021-04-07\", \"2021-04-08\", \"2021-04-09\", \"2021-04-10\", \"2021-04-11\", \"2021-04-12\", \"2021-04-13\", \"2021-04-14\", \"2021-04-15\", \"2021-04-16\", \"2021-04-17\", \"2021-04-18\", \"2021-04-19\", \"2021-04-20\", \"2021-04-21\", \"2021-04-22\", \"2021-04-23\"], \"y\": [null, null, null, null, null, null, null, null, null, null, null, null, null, null, null, null, 5468.0, 11287.0, 20810.0, 22548.0, 35406.0, 51999.0, 71621.0, 96553.0, 120725.0, 137207.0, 139131.0, 171270.0, 221453.0, 279251.0, 345605.0, null, 415486.0, 425578.0, 482625.0, 537147.0, 597328.0, 623832.0, null, 732634.0, null, null, 789966.0, 825650.0, 853745.0, 865870.0, 982370.0, 998439.0, null, 1055291.0, 1100228.0, null, 1114537.0, null, 1133787.0, null, null, 1262878.0, 1295615.0, 1339362.0, 1454836.0, 1460222.0, 1572786.0, 1716749.0, 1876140.0, 1948531.0, 2221200.0, 2301978.0, 2312601.0, 2494422.0, 2941016.0, null, 3015190.0, 3233810.0, 3235027.0, 3330639.0, null, null, 3664708.0, 3854451.0, 3867762.0, null, 4014803.0, null, 4431504.0, null, 4697396.0, null, 5079048.0, null, 5322501.0, 5433715.0, 5550906.0, 5717460.0, null, 5890790.0, null, 6052612.0, 6158748.0, 6341931.0, 6488197.0, 6699327.0]}, {\"mode\": \"lines\", \"name\": \"PAK\", \"type\": \"scatter\", \"x\": [\"2021-02-02\", \"2021-02-03\", \"2021-02-04\", \"2021-02-05\", \"2021-02-06\", \"2021-02-07\", \"2021-02-08\", \"2021-02-09\", \"2021-02-10\", \"2021-02-11\", \"2021-02-12\", \"2021-02-13\", \"2021-02-14\", \"2021-02-15\", \"2021-02-16\", \"2021-02-17\", \"2021-02-18\", \"2021-02-19\", \"2021-02-20\", \"2021-02-21\", \"2021-02-22\", \"2021-02-23\", \"2021-02-24\", \"2021-02-25\", \"2021-02-26\", \"2021-02-27\", \"2021-02-28\", \"2021-03-01\", \"2021-03-02\", \"2021-03-03\", \"2021-03-04\", \"2021-03-05\", \"2021-03-06\", \"2021-03-07\", \"2021-03-08\", \"2021-03-09\", \"2021-03-10\", \"2021-03-11\", \"2021-03-12\", \"2021-03-13\", \"2021-03-14\", \"2021-03-15\", \"2021-03-16\", \"2021-03-17\", \"2021-03-18\", \"2021-03-19\", \"2021-03-20\", \"2021-03-21\", \"2021-03-22\", \"2021-03-23\", \"2021-03-24\", \"2021-03-25\", \"2021-03-26\", \"2021-03-27\", \"2021-03-28\", \"2021-03-29\", \"2021-03-30\", \"2021-03-31\", \"2021-04-01\", \"2021-04-02\", \"2021-04-03\", \"2021-04-04\", \"2021-04-05\", \"2021-04-06\", \"2021-04-07\", \"2021-04-08\", \"2021-04-09\", \"2021-04-10\", \"2021-04-11\", \"2021-04-12\", \"2021-04-13\"], \"y\": [null, null, null, null, null, null, null, null, null, null, null, null, null, null, null, null, null, null, null, null, null, null, null, null, null, null, null, null, null, null, null, null, null, null, null, null, null, null, null, null, null, null, null, null, null, null, null, null, null, null, null, null, null, null, null, null, null, null, null, null, null, null, null, null, null, null, null, null, null, null, null]}, {\"mode\": \"lines\", \"name\": \"BRA\", \"type\": \"scatter\", \"x\": [\"2021-01-16\", \"2021-01-17\", \"2021-01-18\", \"2021-01-19\", \"2021-01-20\", \"2021-01-21\", \"2021-01-22\", \"2021-01-23\", \"2021-01-24\", \"2021-01-25\", \"2021-01-26\", \"2021-01-27\", \"2021-01-28\", \"2021-01-29\", \"2021-01-30\", \"2021-01-31\", \"2021-02-01\", \"2021-02-02\", \"2021-02-03\", \"2021-02-04\", \"2021-02-05\", \"2021-02-06\", \"2021-02-07\", \"2021-02-08\", \"2021-02-09\", \"2021-02-10\", \"2021-02-11\", \"2021-02-12\", \"2021-02-13\", \"2021-02-14\", \"2021-02-15\", \"2021-02-16\", \"2021-02-17\", \"2021-02-18\", \"2021-02-19\", \"2021-02-20\", \"2021-02-21\", \"2021-02-22\", \"2021-02-23\", \"2021-02-24\", \"2021-02-25\", \"2021-02-26\", \"2021-02-27\", \"2021-02-28\", \"2021-03-01\", \"2021-03-02\", \"2021-03-03\", \"2021-03-04\", \"2021-03-05\", \"2021-03-06\", \"2021-03-07\", \"2021-03-08\", \"2021-03-09\", \"2021-03-10\", \"2021-03-11\", \"2021-03-12\", \"2021-03-13\", \"2021-03-14\", \"2021-03-15\", \"2021-03-16\", \"2021-03-17\", \"2021-03-18\", \"2021-03-19\", \"2021-03-20\", \"2021-03-21\", \"2021-03-22\", \"2021-03-23\", \"2021-03-24\", \"2021-03-25\", \"2021-03-26\", \"2021-03-27\", \"2021-03-28\", \"2021-03-29\", \"2021-03-30\", \"2021-03-31\", \"2021-04-01\", \"2021-04-02\", \"2021-04-03\", \"2021-04-04\", \"2021-04-05\", \"2021-04-06\", \"2021-04-07\", \"2021-04-08\", \"2021-04-09\", \"2021-04-10\", \"2021-04-11\", \"2021-04-12\", \"2021-04-13\", \"2021-04-14\", \"2021-04-15\", \"2021-04-16\", \"2021-04-17\", \"2021-04-18\", \"2021-04-19\", \"2021-04-20\", \"2021-04-21\", \"2021-04-22\", \"2021-04-23\", \"2021-04-24\"], \"y\": [null, null, null, null, null, null, null, null, null, null, null, null, null, null, null, null, null, null, null, null, null, 1962.0, 19677.0, 25688.0, 33616.0, 50655.0, 80760.0, 109866.0, 178468.0, 194230.0, 217869.0, 285620.0, 557532.0, 723755.0, 894673.0, 1056807.0, 1132894.0, 1171276.0, 1294188.0, 1435594.0, 1596945.0, 1755018.0, 1884206.0, 1914940.0, 1923197.0, 2034734.0, 2163103.0, 2321824.0, 2468014.0, null, null, null, null, 2510956.0, 2648615.0, 2789164.0, 2849230.0, 2860819.0, 2976204.0, null, 3231102.0, 3303805.0, 3365497.0, 3380095.0, 3393203.0, 3507089.0, 3649714.0, 3795195.0, 3917526.0, 3979754.0, 4031876.0, 4047577.0, 4094124.0, 4110050.0, 4234605.0, null, 4533345.0, 4579687.0, 4597847.0, 4832020.0, 5059453.0, 5338722.0, 5595142.0, 5848444.0, 6035017.0, 6086827.0, 6352371.0, 7199653.0, 7506646.0, null, null, null, 8597020.0, 8978528.0, 9001617.0, 9140452.0, 9683990.0, 10714828.0, 10838229.0]}],                        {\"template\": {\"data\": {\"bar\": [{\"error_x\": {\"color\": \"#2a3f5f\"}, \"error_y\": {\"color\": \"#2a3f5f\"}, \"marker\": {\"line\": {\"color\": \"#E5ECF6\", \"width\": 0.5}}, \"type\": \"bar\"}], \"barpolar\": [{\"marker\": {\"line\": {\"color\": \"#E5ECF6\", \"width\": 0.5}}, \"type\": \"barpolar\"}], \"carpet\": [{\"aaxis\": {\"endlinecolor\": \"#2a3f5f\", \"gridcolor\": \"white\", \"linecolor\": \"white\", \"minorgridcolor\": \"white\", \"startlinecolor\": \"#2a3f5f\"}, \"baxis\": {\"endlinecolor\": \"#2a3f5f\", \"gridcolor\": \"white\", \"linecolor\": \"white\", \"minorgridcolor\": \"white\", \"startlinecolor\": \"#2a3f5f\"}, \"type\": \"carpet\"}], \"choropleth\": [{\"colorbar\": {\"outlinewidth\": 0, \"ticks\": \"\"}, \"type\": \"choropleth\"}], \"contour\": [{\"colorbar\": {\"outlinewidth\": 0, \"ticks\": \"\"}, \"colorscale\": [[0.0, \"#0d0887\"], [0.1111111111111111, \"#46039f\"], [0.2222222222222222, \"#7201a8\"], [0.3333333333333333, \"#9c179e\"], [0.4444444444444444, \"#bd3786\"], [0.5555555555555556, \"#d8576b\"], [0.6666666666666666, \"#ed7953\"], [0.7777777777777778, \"#fb9f3a\"], [0.8888888888888888, \"#fdca26\"], [1.0, \"#f0f921\"]], \"type\": \"contour\"}], \"contourcarpet\": [{\"colorbar\": {\"outlinewidth\": 0, \"ticks\": \"\"}, \"type\": \"contourcarpet\"}], \"heatmap\": [{\"colorbar\": {\"outlinewidth\": 0, \"ticks\": \"\"}, \"colorscale\": [[0.0, \"#0d0887\"], [0.1111111111111111, \"#46039f\"], [0.2222222222222222, \"#7201a8\"], [0.3333333333333333, \"#9c179e\"], [0.4444444444444444, \"#bd3786\"], [0.5555555555555556, \"#d8576b\"], [0.6666666666666666, \"#ed7953\"], [0.7777777777777778, \"#fb9f3a\"], [0.8888888888888888, \"#fdca26\"], [1.0, \"#f0f921\"]], \"type\": \"heatmap\"}], \"heatmapgl\": [{\"colorbar\": {\"outlinewidth\": 0, \"ticks\": \"\"}, \"colorscale\": [[0.0, \"#0d0887\"], [0.1111111111111111, \"#46039f\"], [0.2222222222222222, \"#7201a8\"], [0.3333333333333333, \"#9c179e\"], [0.4444444444444444, \"#bd3786\"], [0.5555555555555556, \"#d8576b\"], [0.6666666666666666, \"#ed7953\"], [0.7777777777777778, \"#fb9f3a\"], [0.8888888888888888, \"#fdca26\"], [1.0, \"#f0f921\"]], \"type\": \"heatmapgl\"}], \"histogram\": [{\"marker\": {\"colorbar\": {\"outlinewidth\": 0, \"ticks\": \"\"}}, \"type\": \"histogram\"}], \"histogram2d\": [{\"colorbar\": {\"outlinewidth\": 0, \"ticks\": \"\"}, \"colorscale\": [[0.0, \"#0d0887\"], [0.1111111111111111, \"#46039f\"], [0.2222222222222222, \"#7201a8\"], [0.3333333333333333, \"#9c179e\"], [0.4444444444444444, \"#bd3786\"], [0.5555555555555556, \"#d8576b\"], [0.6666666666666666, \"#ed7953\"], [0.7777777777777778, \"#fb9f3a\"], [0.8888888888888888, \"#fdca26\"], [1.0, \"#f0f921\"]], \"type\": \"histogram2d\"}], \"histogram2dcontour\": [{\"colorbar\": {\"outlinewidth\": 0, \"ticks\": \"\"}, \"colorscale\": [[0.0, \"#0d0887\"], [0.1111111111111111, \"#46039f\"], [0.2222222222222222, \"#7201a8\"], [0.3333333333333333, \"#9c179e\"], [0.4444444444444444, \"#bd3786\"], [0.5555555555555556, \"#d8576b\"], [0.6666666666666666, \"#ed7953\"], [0.7777777777777778, \"#fb9f3a\"], [0.8888888888888888, \"#fdca26\"], [1.0, \"#f0f921\"]], \"type\": \"histogram2dcontour\"}], \"mesh3d\": [{\"colorbar\": {\"outlinewidth\": 0, \"ticks\": \"\"}, \"type\": \"mesh3d\"}], \"parcoords\": [{\"line\": {\"colorbar\": {\"outlinewidth\": 0, \"ticks\": \"\"}}, \"type\": \"parcoords\"}], \"pie\": [{\"automargin\": true, \"type\": \"pie\"}], \"scatter\": [{\"marker\": {\"colorbar\": {\"outlinewidth\": 0, \"ticks\": \"\"}}, \"type\": \"scatter\"}], \"scatter3d\": [{\"line\": {\"colorbar\": {\"outlinewidth\": 0, \"ticks\": \"\"}}, \"marker\": {\"colorbar\": {\"outlinewidth\": 0, \"ticks\": \"\"}}, \"type\": \"scatter3d\"}], \"scattercarpet\": [{\"marker\": {\"colorbar\": {\"outlinewidth\": 0, \"ticks\": \"\"}}, \"type\": \"scattercarpet\"}], \"scattergeo\": [{\"marker\": {\"colorbar\": {\"outlinewidth\": 0, \"ticks\": \"\"}}, \"type\": \"scattergeo\"}], \"scattergl\": [{\"marker\": {\"colorbar\": {\"outlinewidth\": 0, \"ticks\": \"\"}}, \"type\": \"scattergl\"}], \"scattermapbox\": [{\"marker\": {\"colorbar\": {\"outlinewidth\": 0, \"ticks\": \"\"}}, \"type\": \"scattermapbox\"}], \"scatterpolar\": [{\"marker\": {\"colorbar\": {\"outlinewidth\": 0, \"ticks\": \"\"}}, \"type\": \"scatterpolar\"}], \"scatterpolargl\": [{\"marker\": {\"colorbar\": {\"outlinewidth\": 0, \"ticks\": \"\"}}, \"type\": \"scatterpolargl\"}], \"scatterternary\": [{\"marker\": {\"colorbar\": {\"outlinewidth\": 0, \"ticks\": \"\"}}, \"type\": \"scatterternary\"}], \"surface\": [{\"colorbar\": {\"outlinewidth\": 0, \"ticks\": \"\"}, \"colorscale\": [[0.0, \"#0d0887\"], [0.1111111111111111, \"#46039f\"], [0.2222222222222222, \"#7201a8\"], [0.3333333333333333, \"#9c179e\"], [0.4444444444444444, \"#bd3786\"], [0.5555555555555556, \"#d8576b\"], [0.6666666666666666, \"#ed7953\"], [0.7777777777777778, \"#fb9f3a\"], [0.8888888888888888, \"#fdca26\"], [1.0, \"#f0f921\"]], \"type\": \"surface\"}], \"table\": [{\"cells\": {\"fill\": {\"color\": \"#EBF0F8\"}, \"line\": {\"color\": \"white\"}}, \"header\": {\"fill\": {\"color\": \"#C8D4E3\"}, \"line\": {\"color\": \"white\"}}, \"type\": \"table\"}]}, \"layout\": {\"annotationdefaults\": {\"arrowcolor\": \"#2a3f5f\", \"arrowhead\": 0, \"arrowwidth\": 1}, \"autotypenumbers\": \"strict\", \"coloraxis\": {\"colorbar\": {\"outlinewidth\": 0, \"ticks\": \"\"}}, \"colorscale\": {\"diverging\": [[0, \"#8e0152\"], [0.1, \"#c51b7d\"], [0.2, \"#de77ae\"], [0.3, \"#f1b6da\"], [0.4, \"#fde0ef\"], [0.5, \"#f7f7f7\"], [0.6, \"#e6f5d0\"], [0.7, \"#b8e186\"], [0.8, \"#7fbc41\"], [0.9, \"#4d9221\"], [1, \"#276419\"]], \"sequential\": [[0.0, \"#0d0887\"], [0.1111111111111111, \"#46039f\"], [0.2222222222222222, \"#7201a8\"], [0.3333333333333333, \"#9c179e\"], [0.4444444444444444, \"#bd3786\"], [0.5555555555555556, \"#d8576b\"], [0.6666666666666666, \"#ed7953\"], [0.7777777777777778, \"#fb9f3a\"], [0.8888888888888888, \"#fdca26\"], [1.0, \"#f0f921\"]], \"sequentialminus\": [[0.0, \"#0d0887\"], [0.1111111111111111, \"#46039f\"], [0.2222222222222222, \"#7201a8\"], [0.3333333333333333, \"#9c179e\"], [0.4444444444444444, \"#bd3786\"], [0.5555555555555556, \"#d8576b\"], [0.6666666666666666, \"#ed7953\"], [0.7777777777777778, \"#fb9f3a\"], [0.8888888888888888, \"#fdca26\"], [1.0, \"#f0f921\"]]}, \"colorway\": [\"#636efa\", \"#EF553B\", \"#00cc96\", \"#ab63fa\", \"#FFA15A\", \"#19d3f3\", \"#FF6692\", \"#B6E880\", \"#FF97FF\", \"#FECB52\"], \"font\": {\"color\": \"#2a3f5f\"}, \"geo\": {\"bgcolor\": \"white\", \"lakecolor\": \"white\", \"landcolor\": \"#E5ECF6\", \"showlakes\": true, \"showland\": true, \"subunitcolor\": \"white\"}, \"hoverlabel\": {\"align\": \"left\"}, \"hovermode\": \"closest\", \"mapbox\": {\"style\": \"light\"}, \"paper_bgcolor\": \"white\", \"plot_bgcolor\": \"#E5ECF6\", \"polar\": {\"angularaxis\": {\"gridcolor\": \"white\", \"linecolor\": \"white\", \"ticks\": \"\"}, \"bgcolor\": \"#E5ECF6\", \"radialaxis\": {\"gridcolor\": \"white\", \"linecolor\": \"white\", \"ticks\": \"\"}}, \"scene\": {\"xaxis\": {\"backgroundcolor\": \"#E5ECF6\", \"gridcolor\": \"white\", \"gridwidth\": 2, \"linecolor\": \"white\", \"showbackground\": true, \"ticks\": \"\", \"zerolinecolor\": \"white\"}, \"yaxis\": {\"backgroundcolor\": \"#E5ECF6\", \"gridcolor\": \"white\", \"gridwidth\": 2, \"linecolor\": \"white\", \"showbackground\": true, \"ticks\": \"\", \"zerolinecolor\": \"white\"}, \"zaxis\": {\"backgroundcolor\": \"#E5ECF6\", \"gridcolor\": \"white\", \"gridwidth\": 2, \"linecolor\": \"white\", \"showbackground\": true, \"ticks\": \"\", \"zerolinecolor\": \"white\"}}, \"shapedefaults\": {\"line\": {\"color\": \"#2a3f5f\"}}, \"ternary\": {\"aaxis\": {\"gridcolor\": \"white\", \"linecolor\": \"white\", \"ticks\": \"\"}, \"baxis\": {\"gridcolor\": \"white\", \"linecolor\": \"white\", \"ticks\": \"\"}, \"bgcolor\": \"#E5ECF6\", \"caxis\": {\"gridcolor\": \"white\", \"linecolor\": \"white\", \"ticks\": \"\"}}, \"title\": {\"x\": 0.05}, \"xaxis\": {\"automargin\": true, \"gridcolor\": \"white\", \"linecolor\": \"white\", \"ticks\": \"\", \"title\": {\"standoff\": 15}, \"zerolinecolor\": \"white\", \"zerolinewidth\": 2}, \"yaxis\": {\"automargin\": true, \"gridcolor\": \"white\", \"linecolor\": \"white\", \"ticks\": \"\", \"title\": {\"standoff\": 15}, \"zerolinecolor\": \"white\", \"zerolinewidth\": 2}}}, \"title\": {\"text\": \"Number of fully vaccinated people\"}, \"xaxis\": {\"title\": {\"text\": \"Dates\"}}, \"yaxis\": {\"title\": {\"text\": \"No of people\"}}},                        {\"responsive\": true}                    ).then(function(){\n",
       "                            \n",
       "var gd = document.getElementById('f11522ee-a300-477f-9de0-9a8b32920d68');\n",
       "var x = new MutationObserver(function (mutations, observer) {{\n",
       "        var display = window.getComputedStyle(gd).display;\n",
       "        if (!display || display === 'none') {{\n",
       "            console.log([gd, 'removed!']);\n",
       "            Plotly.purge(gd);\n",
       "            observer.disconnect();\n",
       "        }}\n",
       "}});\n",
       "\n",
       "// Listen for the removal of the full notebook cells\n",
       "var notebookContainer = gd.closest('#notebook-container');\n",
       "if (notebookContainer) {{\n",
       "    x.observe(notebookContainer, {childList: true});\n",
       "}}\n",
       "\n",
       "// Listen for the clearing of the current output cell\n",
       "var outputEl = gd.closest('.output');\n",
       "if (outputEl) {{\n",
       "    x.observe(outputEl, {childList: true});\n",
       "}}\n",
       "\n",
       "                        })                };                });            </script>        </div>"
      ]
     },
     "metadata": {},
     "output_type": "display_data"
    }
   ],
   "source": [
    "\n",
    "fig = go.Figure()\n",
    "for i in range(6):\n",
    "    fig.add_trace(go.Scatter(x=dfs[i]['date'], y=dfs[i]['people_fully_vaccinated'],\n",
    "                    mode='lines',\n",
    "                    name=iso_6[i]))\n",
    "fig.update_layout(title='Number of fully vaccinated people',\n",
    "                   xaxis_title='Dates',\n",
    "                   yaxis_title='No of people')\n",
    "fig.show()"
   ]
  },
  {
   "cell_type": "code",
   "execution_count": 9,
   "id": "operating-mixture",
   "metadata": {
    "_kg_hide-input": true,
    "execution": {
     "iopub.execute_input": "2021-04-26T13:37:18.595930Z",
     "iopub.status.busy": "2021-04-26T13:37:18.595202Z",
     "iopub.status.idle": "2021-04-26T13:37:18.619326Z",
     "shell.execute_reply": "2021-04-26T13:37:18.618693Z"
    },
    "papermill": {
     "duration": 0.056997,
     "end_time": "2021-04-26T13:37:18.619481",
     "exception": false,
     "start_time": "2021-04-26T13:37:18.562484",
     "status": "completed"
    },
    "tags": []
   },
   "outputs": [
    {
     "data": {
      "text/html": [
       "<div>                            <div id=\"9011e01f-89f7-4297-8e1b-7a29446ac177\" class=\"plotly-graph-div\" style=\"height:525px; width:100%;\"></div>            <script type=\"text/javascript\">                require([\"plotly\"], function(Plotly) {                    window.PLOTLYENV=window.PLOTLYENV || {};                                    if (document.getElementById(\"9011e01f-89f7-4297-8e1b-7a29446ac177\")) {                    Plotly.newPlot(                        \"9011e01f-89f7-4297-8e1b-7a29446ac177\",                        [{\"mode\": \"lines\", \"name\": \"CHN\", \"type\": \"scatter\", \"x\": [\"2020-12-15\", \"2020-12-16\", \"2020-12-17\", \"2020-12-18\", \"2020-12-19\", \"2020-12-20\", \"2020-12-21\", \"2020-12-22\", \"2020-12-23\", \"2020-12-24\", \"2020-12-25\", \"2020-12-26\", \"2020-12-27\", \"2020-12-28\", \"2020-12-29\", \"2020-12-30\", \"2020-12-31\", \"2021-01-01\", \"2021-01-02\", \"2021-01-03\", \"2021-01-04\", \"2021-01-05\", \"2021-01-06\", \"2021-01-07\", \"2021-01-08\", \"2021-01-09\", \"2021-01-10\", \"2021-01-11\", \"2021-01-12\", \"2021-01-13\", \"2021-01-14\", \"2021-01-15\", \"2021-01-16\", \"2021-01-17\", \"2021-01-18\", \"2021-01-19\", \"2021-01-20\", \"2021-01-21\", \"2021-01-22\", \"2021-01-23\", \"2021-01-24\", \"2021-01-25\", \"2021-01-26\", \"2021-01-27\", \"2021-01-28\", \"2021-01-29\", \"2021-01-30\", \"2021-01-31\", \"2021-02-01\", \"2021-02-02\", \"2021-02-03\", \"2021-02-04\", \"2021-02-05\", \"2021-02-06\", \"2021-02-07\", \"2021-02-08\", \"2021-02-09\", \"2021-02-10\", \"2021-02-11\", \"2021-02-12\", \"2021-02-13\", \"2021-02-14\", \"2021-02-15\", \"2021-02-16\", \"2021-02-17\", \"2021-02-18\", \"2021-02-19\", \"2021-02-20\", \"2021-02-21\", \"2021-02-22\", \"2021-02-23\", \"2021-02-24\", \"2021-02-25\", \"2021-02-26\", \"2021-02-27\", \"2021-02-28\", \"2021-03-01\", \"2021-03-02\", \"2021-03-03\", \"2021-03-04\", \"2021-03-05\", \"2021-03-06\", \"2021-03-07\", \"2021-03-08\", \"2021-03-09\", \"2021-03-10\", \"2021-03-11\", \"2021-03-12\", \"2021-03-13\", \"2021-03-14\", \"2021-03-15\", \"2021-03-16\", \"2021-03-17\", \"2021-03-18\", \"2021-03-19\", \"2021-03-20\", \"2021-03-21\", \"2021-03-22\", \"2021-03-23\", \"2021-03-24\", \"2021-03-25\", \"2021-03-26\", \"2021-03-27\", \"2021-03-28\", \"2021-03-29\", \"2021-03-30\", \"2021-03-31\", \"2021-04-01\", \"2021-04-02\", \"2021-04-03\", \"2021-04-04\", \"2021-04-05\", \"2021-04-06\", \"2021-04-07\", \"2021-04-08\", \"2021-04-09\", \"2021-04-10\", \"2021-04-11\", \"2021-04-12\", \"2021-04-13\", \"2021-04-14\", \"2021-04-15\", \"2021-04-16\", \"2021-04-17\", \"2021-04-18\", \"2021-04-19\", \"2021-04-20\", \"2021-04-21\", \"2021-04-22\", \"2021-04-23\"], \"y\": [1500000.0, null, null, null, null, null, null, null, null, null, null, null, null, null, null, null, 4500000.0, null, null, null, null, null, null, null, null, 9000000.0, null, null, null, 10000000.0, null, null, null, null, null, null, 15000000.0, null, null, null, null, null, null, 22767000.0, null, null, null, 24000000.0, null, null, 31200000.0, null, null, null, null, null, 40520000.0, null, null, null, null, null, null, null, null, null, null, null, null, null, null, null, null, null, null, 52520000.0, null, null, null, null, null, null, null, null, null, null, null, null, null, 64980000.0, null, null, null, null, null, 74956000.0, null, 80460000.0, 82846000.0, 85859700.0, 91346000.0, 97470000.0, 102417000.0, 106613000.0, 110962000.0, 114690000.0, 119821000.0, 126616000.0, 133801000.0, 136677000.0, 139970000.0, 142802000.0, 145920000.0, 149071000.0, 155150000.0, 161121000.0, 164471000.0, 167343000.0, 171928000.0, 175623000.0, 179216000.0, 183536000.0, 187360000.0, 189809000.0, 192127000.0, 195022000.0, 198950000.0, 204191000.0, 211223000.0, 216084000.0]}, {\"mode\": \"lines\", \"name\": \"IND\", \"type\": \"scatter\", \"x\": [\"2021-01-15\", \"2021-01-16\", \"2021-01-17\", \"2021-01-18\", \"2021-01-19\", \"2021-01-20\", \"2021-01-21\", \"2021-01-22\", \"2021-01-23\", \"2021-01-24\", \"2021-01-25\", \"2021-01-26\", \"2021-01-27\", \"2021-01-28\", \"2021-01-29\", \"2021-01-30\", \"2021-01-31\", \"2021-02-01\", \"2021-02-02\", \"2021-02-03\", \"2021-02-04\", \"2021-02-05\", \"2021-02-06\", \"2021-02-07\", \"2021-02-08\", \"2021-02-09\", \"2021-02-10\", \"2021-02-11\", \"2021-02-12\", \"2021-02-13\", \"2021-02-14\", \"2021-02-15\", \"2021-02-16\", \"2021-02-17\", \"2021-02-18\", \"2021-02-19\", \"2021-02-20\", \"2021-02-21\", \"2021-02-22\", \"2021-02-23\", \"2021-02-24\", \"2021-02-25\", \"2021-02-26\", \"2021-02-27\", \"2021-02-28\", \"2021-03-01\", \"2021-03-02\", \"2021-03-03\", \"2021-03-04\", \"2021-03-05\", \"2021-03-06\", \"2021-03-07\", \"2021-03-08\", \"2021-03-09\", \"2021-03-10\", \"2021-03-11\", \"2021-03-12\", \"2021-03-13\", \"2021-03-14\", \"2021-03-15\", \"2021-03-16\", \"2021-03-17\", \"2021-03-18\", \"2021-03-19\", \"2021-03-20\", \"2021-03-21\", \"2021-03-22\", \"2021-03-23\", \"2021-03-24\", \"2021-03-25\", \"2021-03-26\", \"2021-03-27\", \"2021-03-28\", \"2021-03-29\", \"2021-03-30\", \"2021-03-31\", \"2021-04-01\", \"2021-04-02\", \"2021-04-03\", \"2021-04-04\", \"2021-04-05\", \"2021-04-06\", \"2021-04-07\", \"2021-04-08\", \"2021-04-09\", \"2021-04-10\", \"2021-04-11\", \"2021-04-12\", \"2021-04-13\", \"2021-04-14\", \"2021-04-15\", \"2021-04-16\", \"2021-04-17\", \"2021-04-18\", \"2021-04-19\", \"2021-04-20\", \"2021-04-21\", \"2021-04-22\", \"2021-04-23\"], \"y\": [0.0, 191181.0, 224301.0, 454049.0, 674835.0, 806484.0, 1043534.0, 1390592.0, 1582201.0, 1615504.0, 2023809.0, 2029480.0, 2355979.0, 2928053.0, 3500027.0, 3744334.0, 3758843.0, 3950156.0, 4138918.0, 4449552.0, 4959445.0, 5416849.0, 5775322.0, 5812362.0, 6259008.0, 6611561.0, 7017114.0, 7505010.0, 7967647.0, 8052454.0, null, 8516771.0, 8857341.0, 9186757.0, 9846523.0, 10449942.0, 10838323.0, 11085173.0, 11424094.0, 11907392.0, 12366633.0, 13067047.0, 13756940.0, 14242547.0, 14301266.0, 14854136.0, 15620749.0, 16616048.0, 18005503.0, 19497704.0, 20922344.0, 20989010.0, 23008733.0, 24367906.0, 25685011.0, 26164920.0, 28218457.0, 29738409.0, 29908038.0, 32947432.0, 35064536.0, 37143255.0, 39339817.0, 42063392.0, 44603841.0, 45065998.0, 48494594.0, 50841286.0, 53145709.0, 55504440.0, 58109773.0, 60269782.0, 60530435.0, 61113354.0, 63054353.0, 65117896.0, 68789138.0, 73054295.0, 75979651.0, 79105163.0, 83110926.0, 87077474.0, 90198673.0, 94334262.0, 98075160.0, 101595147.0, 104528565.0, 108533085.0, 111179578.0, 114493238.0, 117223509.0, 119937641.0, 122622590.0, 123852566.0, 127129113.0, null, 129646105.0, 132754608.0, 138379832.0]}, {\"mode\": \"lines\", \"name\": \"USA\", \"type\": \"scatter\", \"x\": [\"2020-12-20\", \"2020-12-21\", \"2020-12-22\", \"2020-12-23\", \"2020-12-24\", \"2020-12-25\", \"2020-12-26\", \"2020-12-27\", \"2020-12-28\", \"2020-12-29\", \"2020-12-30\", \"2020-12-31\", \"2021-01-01\", \"2021-01-02\", \"2021-01-03\", \"2021-01-04\", \"2021-01-05\", \"2021-01-06\", \"2021-01-07\", \"2021-01-08\", \"2021-01-09\", \"2021-01-10\", \"2021-01-11\", \"2021-01-12\", \"2021-01-13\", \"2021-01-14\", \"2021-01-15\", \"2021-01-16\", \"2021-01-17\", \"2021-01-18\", \"2021-01-19\", \"2021-01-20\", \"2021-01-21\", \"2021-01-22\", \"2021-01-23\", \"2021-01-24\", \"2021-01-25\", \"2021-01-26\", \"2021-01-27\", \"2021-01-28\", \"2021-01-29\", \"2021-01-30\", \"2021-01-31\", \"2021-02-01\", \"2021-02-02\", \"2021-02-03\", \"2021-02-04\", \"2021-02-05\", \"2021-02-06\", \"2021-02-07\", \"2021-02-08\", \"2021-02-09\", \"2021-02-10\", \"2021-02-11\", \"2021-02-12\", \"2021-02-13\", \"2021-02-14\", \"2021-02-15\", \"2021-02-16\", \"2021-02-17\", \"2021-02-18\", \"2021-02-19\", \"2021-02-20\", \"2021-02-21\", \"2021-02-22\", \"2021-02-23\", \"2021-02-24\", \"2021-02-25\", \"2021-02-26\", \"2021-02-27\", \"2021-02-28\", \"2021-03-01\", \"2021-03-02\", \"2021-03-03\", \"2021-03-04\", \"2021-03-05\", \"2021-03-06\", \"2021-03-07\", \"2021-03-08\", \"2021-03-09\", \"2021-03-10\", \"2021-03-11\", \"2021-03-12\", \"2021-03-13\", \"2021-03-14\", \"2021-03-15\", \"2021-03-16\", \"2021-03-17\", \"2021-03-18\", \"2021-03-19\", \"2021-03-20\", \"2021-03-21\", \"2021-03-22\", \"2021-03-23\", \"2021-03-24\", \"2021-03-25\", \"2021-03-26\", \"2021-03-27\", \"2021-03-28\", \"2021-03-29\", \"2021-03-30\", \"2021-03-31\", \"2021-04-01\", \"2021-04-02\", \"2021-04-03\", \"2021-04-04\", \"2021-04-05\", \"2021-04-06\", \"2021-04-07\", \"2021-04-08\", \"2021-04-09\", \"2021-04-10\", \"2021-04-11\", \"2021-04-12\", \"2021-04-13\", \"2021-04-14\", \"2021-04-15\", \"2021-04-16\", \"2021-04-17\", \"2021-04-18\", \"2021-04-19\", \"2021-04-20\", \"2021-04-21\", \"2021-04-22\", \"2021-04-23\"], \"y\": [556208.0, 614117.0, null, 1008025.0, null, null, 1944585.0, null, 2127143.0, null, 2794588.0, null, null, 4225756.0, null, 4563260.0, 4836469.0, 5306797.0, 5919418.0, 6688231.0, null, null, 8987322.0, 9327138.0, 10278462.0, 11148991.0, 12279180.0, null, null, null, 15707588.0, 16525281.0, 17546374.0, 19107959.0, 20537990.0, 21848655.0, 22734243.0, 23540994.0, 24652634.0, 26193682.0, 27884661.0, 29577902.0, 31123299.0, 32222402.0, 32780860.0, 33878254.0, 35203710.0, 36819212.0, 39037964.0, 41210937.0, 42417617.0, 43206190.0, 44769970.0, 46390270.0, 48410558.0, 50641884.0, 52884356.0, null, 55220364.0, 56281827.0, 57737767.0, 59585043.0, 61289500.0, 63090634.0, 64177474.0, 65032083.0, 66464947.0, 68274117.0, 70454064.0, 72806180.0, 75236003.0, 76899987.0, 78631601.0, 80540474.0, 82572848.0, 85008094.0, 87912323.0, 90351750.0, 92089852.0, 93692598.0, 95721290.0, 98203893.0, 101128005.0, 105703501.0, 107060274.0, 109081860.0, 110737856.0, 113037627.0, 115730008.0, 118313818.0, 121441497.0, 124481412.0, 126509736.0, 128217029.0, 130473853.0, 133305295.0, 136684688.0, 140180735.0, 143462691.0, 145812835.0, 147602345.0, 150273292.0, 153631404.0, 157606463.0, 161688422.0, 165053746.0, 167187795.0, 168592075.0, 171476655.0, 174879716.0, 178837781.0, 183467709.0, 187047131.0, 189692045.0, 192282781.0, 194791836.0, 198317040.0, 202282923.0, 205871913.0, 209406814.0, 211581309.0, 213388238.0, 215951909.0, 218947643.0, 222322230.0]}, {\"mode\": \"lines\", \"name\": \"IDN\", \"type\": \"scatter\", \"x\": [\"2021-01-12\", \"2021-01-13\", \"2021-01-14\", \"2021-01-15\", \"2021-01-16\", \"2021-01-17\", \"2021-01-18\", \"2021-01-19\", \"2021-01-20\", \"2021-01-21\", \"2021-01-22\", \"2021-01-23\", \"2021-01-24\", \"2021-01-25\", \"2021-01-26\", \"2021-01-27\", \"2021-01-28\", \"2021-01-29\", \"2021-01-30\", \"2021-01-31\", \"2021-02-01\", \"2021-02-02\", \"2021-02-03\", \"2021-02-04\", \"2021-02-05\", \"2021-02-06\", \"2021-02-07\", \"2021-02-08\", \"2021-02-09\", \"2021-02-10\", \"2021-02-11\", \"2021-02-12\", \"2021-02-13\", \"2021-02-14\", \"2021-02-15\", \"2021-02-16\", \"2021-02-17\", \"2021-02-18\", \"2021-02-19\", \"2021-02-20\", \"2021-02-21\", \"2021-02-22\", \"2021-02-23\", \"2021-02-24\", \"2021-02-25\", \"2021-02-26\", \"2021-02-27\", \"2021-02-28\", \"2021-03-01\", \"2021-03-02\", \"2021-03-03\", \"2021-03-04\", \"2021-03-05\", \"2021-03-06\", \"2021-03-07\", \"2021-03-08\", \"2021-03-09\", \"2021-03-10\", \"2021-03-11\", \"2021-03-12\", \"2021-03-13\", \"2021-03-14\", \"2021-03-15\", \"2021-03-16\", \"2021-03-17\", \"2021-03-18\", \"2021-03-19\", \"2021-03-20\", \"2021-03-21\", \"2021-03-22\", \"2021-03-23\", \"2021-03-24\", \"2021-03-25\", \"2021-03-26\", \"2021-03-27\", \"2021-03-28\", \"2021-03-29\", \"2021-03-30\", \"2021-03-31\", \"2021-04-01\", \"2021-04-02\", \"2021-04-03\", \"2021-04-04\", \"2021-04-05\", \"2021-04-06\", \"2021-04-07\", \"2021-04-08\", \"2021-04-09\", \"2021-04-10\", \"2021-04-11\", \"2021-04-12\", \"2021-04-13\", \"2021-04-14\", \"2021-04-15\", \"2021-04-16\", \"2021-04-17\", \"2021-04-18\", \"2021-04-19\", \"2021-04-20\", \"2021-04-21\", \"2021-04-22\", \"2021-04-23\"], \"y\": [0.0, null, null, null, null, null, null, null, null, null, 132000.0, null, 149242.0, 161959.0, 245685.0, 308003.0, 373786.0, 416299.0, 502955.0, 515681.0, 574938.0, 648259.0, 717647.0, 796819.0, 865609.0, 914303.0, 923449.0, 985855.0, 1066860.0, 1248797.0, 1362791.0, null, 1475812.0, 1494325.0, 1578720.0, 1658110.0, 1747267.0, 1787976.0, null, 1956725.0, null, null, 2059871.0, 2188788.0, 2315665.0, 2449451.0, 2598535.0, 2690163.0, null, 3023348.0, 3386351.0, null, 3528152.0, null, 4022544.0, null, null, 4837576.0, 4991674.0, 5108536.0, 5440432.0, 5480346.0, 5739648.0, 6185700.0, 6581388.0, 6787283.0, 7346148.0, 7835357.0, 7879881.0, 8226632.0, 9330853.0, null, 9745646.0, 10412824.0, 10425690.0, 10766490.0, null, null, 11674871.0, 12226028.0, 12292491.0, null, 12649124.0, null, 13452610.0, null, 14071485.0, null, 15081949.0, null, 15602574.0, 15811449.0, 16008243.0, 16498726.0, null, 16692353.0, null, 17024955.0, 17275001.0, 17644225.0, 17920908.0, 18322578.0]}, {\"mode\": \"lines\", \"name\": \"PAK\", \"type\": \"scatter\", \"x\": [\"2021-02-02\", \"2021-02-03\", \"2021-02-04\", \"2021-02-05\", \"2021-02-06\", \"2021-02-07\", \"2021-02-08\", \"2021-02-09\", \"2021-02-10\", \"2021-02-11\", \"2021-02-12\", \"2021-02-13\", \"2021-02-14\", \"2021-02-15\", \"2021-02-16\", \"2021-02-17\", \"2021-02-18\", \"2021-02-19\", \"2021-02-20\", \"2021-02-21\", \"2021-02-22\", \"2021-02-23\", \"2021-02-24\", \"2021-02-25\", \"2021-02-26\", \"2021-02-27\", \"2021-02-28\", \"2021-03-01\", \"2021-03-02\", \"2021-03-03\", \"2021-03-04\", \"2021-03-05\", \"2021-03-06\", \"2021-03-07\", \"2021-03-08\", \"2021-03-09\", \"2021-03-10\", \"2021-03-11\", \"2021-03-12\", \"2021-03-13\", \"2021-03-14\", \"2021-03-15\", \"2021-03-16\", \"2021-03-17\", \"2021-03-18\", \"2021-03-19\", \"2021-03-20\", \"2021-03-21\", \"2021-03-22\", \"2021-03-23\", \"2021-03-24\", \"2021-03-25\", \"2021-03-26\", \"2021-03-27\", \"2021-03-28\", \"2021-03-29\", \"2021-03-30\", \"2021-03-31\", \"2021-04-01\", \"2021-04-02\", \"2021-04-03\", \"2021-04-04\", \"2021-04-05\", \"2021-04-06\", \"2021-04-07\", \"2021-04-08\", \"2021-04-09\", \"2021-04-10\", \"2021-04-11\", \"2021-04-12\", \"2021-04-13\"], \"y\": [0.0, null, null, null, null, null, null, null, 27228.0, null, null, null, null, null, null, 52768.0, null, null, null, 72882.0, null, null, null, null, null, null, null, null, null, null, null, null, null, null, null, null, null, null, null, null, 350000.0, null, null, null, null, null, null, null, null, null, null, null, null, null, null, null, null, 800000.0, null, null, null, null, null, 936383.0, null, 1114000.0, null, null, null, null, 1300000.0]}, {\"mode\": \"lines\", \"name\": \"BRA\", \"type\": \"scatter\", \"x\": [\"2021-01-16\", \"2021-01-17\", \"2021-01-18\", \"2021-01-19\", \"2021-01-20\", \"2021-01-21\", \"2021-01-22\", \"2021-01-23\", \"2021-01-24\", \"2021-01-25\", \"2021-01-26\", \"2021-01-27\", \"2021-01-28\", \"2021-01-29\", \"2021-01-30\", \"2021-01-31\", \"2021-02-01\", \"2021-02-02\", \"2021-02-03\", \"2021-02-04\", \"2021-02-05\", \"2021-02-06\", \"2021-02-07\", \"2021-02-08\", \"2021-02-09\", \"2021-02-10\", \"2021-02-11\", \"2021-02-12\", \"2021-02-13\", \"2021-02-14\", \"2021-02-15\", \"2021-02-16\", \"2021-02-17\", \"2021-02-18\", \"2021-02-19\", \"2021-02-20\", \"2021-02-21\", \"2021-02-22\", \"2021-02-23\", \"2021-02-24\", \"2021-02-25\", \"2021-02-26\", \"2021-02-27\", \"2021-02-28\", \"2021-03-01\", \"2021-03-02\", \"2021-03-03\", \"2021-03-04\", \"2021-03-05\", \"2021-03-06\", \"2021-03-07\", \"2021-03-08\", \"2021-03-09\", \"2021-03-10\", \"2021-03-11\", \"2021-03-12\", \"2021-03-13\", \"2021-03-14\", \"2021-03-15\", \"2021-03-16\", \"2021-03-17\", \"2021-03-18\", \"2021-03-19\", \"2021-03-20\", \"2021-03-21\", \"2021-03-22\", \"2021-03-23\", \"2021-03-24\", \"2021-03-25\", \"2021-03-26\", \"2021-03-27\", \"2021-03-28\", \"2021-03-29\", \"2021-03-30\", \"2021-03-31\", \"2021-04-01\", \"2021-04-02\", \"2021-04-03\", \"2021-04-04\", \"2021-04-05\", \"2021-04-06\", \"2021-04-07\", \"2021-04-08\", \"2021-04-09\", \"2021-04-10\", \"2021-04-11\", \"2021-04-12\", \"2021-04-13\", \"2021-04-14\", \"2021-04-15\", \"2021-04-16\", \"2021-04-17\", \"2021-04-18\", \"2021-04-19\", \"2021-04-20\", \"2021-04-21\", \"2021-04-22\", \"2021-04-23\", \"2021-04-24\"], \"y\": [0.0, 112.0, 1109.0, 11470.0, 28543.0, 136519.0, 245877.0, 537774.0, 604722.0, 700608.0, 848883.0, 1129885.0, 1450900.0, 1668032.0, 2003211.0, 2074059.0, 2124307.0, 2292551.0, 2521704.0, 3073057.0, 3074906.0, 3401383.0, 3553681.0, 3605538.0, 3820207.0, 4120332.0, 4406835.0, 4696136.0, 5125206.0, 5236943.0, 5293979.0, 5609937.0, 5883539.0, 6206680.0, 6535156.0, 6813168.0, 6950802.0, 7028356.0, 7297061.0, 7551676.0, 7799000.0, 8101787.0, 8322042.0, 8433568.0, 8465403.0, 8841027.0, 9277322.0, 9739676.0, 10169160.0, null, null, null, null, 10362487.0, 10740859.0, 11149530.0, 11362190.0, 11422666.0, 11895560.0, null, 12682290.0, 13013331.0, 13335728.0, 13479165.0, 13562176.0, 14116560.0, 15209201.0, 15943964.0, 16557071.0, 17032868.0, 17519083.0, 17706983.0, 18082153.0, 18222559.0, 19155981.0, null, 20632877.0, 20956770.0, 21070128.0, 21960953.0, 22850791.0, 24197996.0, 24981199.0, 25735314.0, 26548845.0, 26741261.0, 27432994.0, 30801723.0, 31703967.0, null, null, null, 32947066.0, 33755229.0, 33807132.0, 34058640.0, 35024957.0, 37112833.0, 37339253.0]}],                        {\"template\": {\"data\": {\"bar\": [{\"error_x\": {\"color\": \"#2a3f5f\"}, \"error_y\": {\"color\": \"#2a3f5f\"}, \"marker\": {\"line\": {\"color\": \"#E5ECF6\", \"width\": 0.5}}, \"type\": \"bar\"}], \"barpolar\": [{\"marker\": {\"line\": {\"color\": \"#E5ECF6\", \"width\": 0.5}}, \"type\": \"barpolar\"}], \"carpet\": [{\"aaxis\": {\"endlinecolor\": \"#2a3f5f\", \"gridcolor\": \"white\", \"linecolor\": \"white\", \"minorgridcolor\": \"white\", \"startlinecolor\": \"#2a3f5f\"}, \"baxis\": {\"endlinecolor\": \"#2a3f5f\", \"gridcolor\": \"white\", \"linecolor\": \"white\", \"minorgridcolor\": \"white\", \"startlinecolor\": \"#2a3f5f\"}, \"type\": \"carpet\"}], \"choropleth\": [{\"colorbar\": {\"outlinewidth\": 0, \"ticks\": \"\"}, \"type\": \"choropleth\"}], \"contour\": [{\"colorbar\": {\"outlinewidth\": 0, \"ticks\": \"\"}, \"colorscale\": [[0.0, \"#0d0887\"], [0.1111111111111111, \"#46039f\"], [0.2222222222222222, \"#7201a8\"], [0.3333333333333333, \"#9c179e\"], [0.4444444444444444, \"#bd3786\"], [0.5555555555555556, \"#d8576b\"], [0.6666666666666666, \"#ed7953\"], [0.7777777777777778, \"#fb9f3a\"], [0.8888888888888888, \"#fdca26\"], [1.0, \"#f0f921\"]], \"type\": \"contour\"}], \"contourcarpet\": [{\"colorbar\": {\"outlinewidth\": 0, \"ticks\": \"\"}, \"type\": \"contourcarpet\"}], \"heatmap\": [{\"colorbar\": {\"outlinewidth\": 0, \"ticks\": \"\"}, \"colorscale\": [[0.0, \"#0d0887\"], [0.1111111111111111, \"#46039f\"], [0.2222222222222222, \"#7201a8\"], [0.3333333333333333, \"#9c179e\"], [0.4444444444444444, \"#bd3786\"], [0.5555555555555556, \"#d8576b\"], [0.6666666666666666, \"#ed7953\"], [0.7777777777777778, \"#fb9f3a\"], [0.8888888888888888, \"#fdca26\"], [1.0, \"#f0f921\"]], \"type\": \"heatmap\"}], \"heatmapgl\": [{\"colorbar\": {\"outlinewidth\": 0, \"ticks\": \"\"}, \"colorscale\": [[0.0, \"#0d0887\"], [0.1111111111111111, \"#46039f\"], [0.2222222222222222, \"#7201a8\"], [0.3333333333333333, \"#9c179e\"], [0.4444444444444444, \"#bd3786\"], [0.5555555555555556, \"#d8576b\"], [0.6666666666666666, \"#ed7953\"], [0.7777777777777778, \"#fb9f3a\"], [0.8888888888888888, \"#fdca26\"], [1.0, \"#f0f921\"]], \"type\": \"heatmapgl\"}], \"histogram\": [{\"marker\": {\"colorbar\": {\"outlinewidth\": 0, \"ticks\": \"\"}}, \"type\": \"histogram\"}], \"histogram2d\": [{\"colorbar\": {\"outlinewidth\": 0, \"ticks\": \"\"}, \"colorscale\": [[0.0, \"#0d0887\"], [0.1111111111111111, \"#46039f\"], [0.2222222222222222, \"#7201a8\"], [0.3333333333333333, \"#9c179e\"], [0.4444444444444444, \"#bd3786\"], [0.5555555555555556, \"#d8576b\"], [0.6666666666666666, \"#ed7953\"], [0.7777777777777778, \"#fb9f3a\"], [0.8888888888888888, \"#fdca26\"], [1.0, \"#f0f921\"]], \"type\": \"histogram2d\"}], \"histogram2dcontour\": [{\"colorbar\": {\"outlinewidth\": 0, \"ticks\": \"\"}, \"colorscale\": [[0.0, \"#0d0887\"], [0.1111111111111111, \"#46039f\"], [0.2222222222222222, \"#7201a8\"], [0.3333333333333333, \"#9c179e\"], [0.4444444444444444, \"#bd3786\"], [0.5555555555555556, \"#d8576b\"], [0.6666666666666666, \"#ed7953\"], [0.7777777777777778, \"#fb9f3a\"], [0.8888888888888888, \"#fdca26\"], [1.0, \"#f0f921\"]], \"type\": \"histogram2dcontour\"}], \"mesh3d\": [{\"colorbar\": {\"outlinewidth\": 0, \"ticks\": \"\"}, \"type\": \"mesh3d\"}], \"parcoords\": [{\"line\": {\"colorbar\": {\"outlinewidth\": 0, \"ticks\": \"\"}}, \"type\": \"parcoords\"}], \"pie\": [{\"automargin\": true, \"type\": \"pie\"}], \"scatter\": [{\"marker\": {\"colorbar\": {\"outlinewidth\": 0, \"ticks\": \"\"}}, \"type\": \"scatter\"}], \"scatter3d\": [{\"line\": {\"colorbar\": {\"outlinewidth\": 0, \"ticks\": \"\"}}, \"marker\": {\"colorbar\": {\"outlinewidth\": 0, \"ticks\": \"\"}}, \"type\": \"scatter3d\"}], \"scattercarpet\": [{\"marker\": {\"colorbar\": {\"outlinewidth\": 0, \"ticks\": \"\"}}, \"type\": \"scattercarpet\"}], \"scattergeo\": [{\"marker\": {\"colorbar\": {\"outlinewidth\": 0, \"ticks\": \"\"}}, \"type\": \"scattergeo\"}], \"scattergl\": [{\"marker\": {\"colorbar\": {\"outlinewidth\": 0, \"ticks\": \"\"}}, \"type\": \"scattergl\"}], \"scattermapbox\": [{\"marker\": {\"colorbar\": {\"outlinewidth\": 0, \"ticks\": \"\"}}, \"type\": \"scattermapbox\"}], \"scatterpolar\": [{\"marker\": {\"colorbar\": {\"outlinewidth\": 0, \"ticks\": \"\"}}, \"type\": \"scatterpolar\"}], \"scatterpolargl\": [{\"marker\": {\"colorbar\": {\"outlinewidth\": 0, \"ticks\": \"\"}}, \"type\": \"scatterpolargl\"}], \"scatterternary\": [{\"marker\": {\"colorbar\": {\"outlinewidth\": 0, \"ticks\": \"\"}}, \"type\": \"scatterternary\"}], \"surface\": [{\"colorbar\": {\"outlinewidth\": 0, \"ticks\": \"\"}, \"colorscale\": [[0.0, \"#0d0887\"], [0.1111111111111111, \"#46039f\"], [0.2222222222222222, \"#7201a8\"], [0.3333333333333333, \"#9c179e\"], [0.4444444444444444, \"#bd3786\"], [0.5555555555555556, \"#d8576b\"], [0.6666666666666666, \"#ed7953\"], [0.7777777777777778, \"#fb9f3a\"], [0.8888888888888888, \"#fdca26\"], [1.0, \"#f0f921\"]], \"type\": \"surface\"}], \"table\": [{\"cells\": {\"fill\": {\"color\": \"#EBF0F8\"}, \"line\": {\"color\": \"white\"}}, \"header\": {\"fill\": {\"color\": \"#C8D4E3\"}, \"line\": {\"color\": \"white\"}}, \"type\": \"table\"}]}, \"layout\": {\"annotationdefaults\": {\"arrowcolor\": \"#2a3f5f\", \"arrowhead\": 0, \"arrowwidth\": 1}, \"autotypenumbers\": \"strict\", \"coloraxis\": {\"colorbar\": {\"outlinewidth\": 0, \"ticks\": \"\"}}, \"colorscale\": {\"diverging\": [[0, \"#8e0152\"], [0.1, \"#c51b7d\"], [0.2, \"#de77ae\"], [0.3, \"#f1b6da\"], [0.4, \"#fde0ef\"], [0.5, \"#f7f7f7\"], [0.6, \"#e6f5d0\"], [0.7, \"#b8e186\"], [0.8, \"#7fbc41\"], [0.9, \"#4d9221\"], [1, \"#276419\"]], \"sequential\": [[0.0, \"#0d0887\"], [0.1111111111111111, \"#46039f\"], [0.2222222222222222, \"#7201a8\"], [0.3333333333333333, \"#9c179e\"], [0.4444444444444444, \"#bd3786\"], [0.5555555555555556, \"#d8576b\"], [0.6666666666666666, \"#ed7953\"], [0.7777777777777778, \"#fb9f3a\"], [0.8888888888888888, \"#fdca26\"], [1.0, \"#f0f921\"]], \"sequentialminus\": [[0.0, \"#0d0887\"], [0.1111111111111111, \"#46039f\"], [0.2222222222222222, \"#7201a8\"], [0.3333333333333333, \"#9c179e\"], [0.4444444444444444, \"#bd3786\"], [0.5555555555555556, \"#d8576b\"], [0.6666666666666666, \"#ed7953\"], [0.7777777777777778, \"#fb9f3a\"], [0.8888888888888888, \"#fdca26\"], [1.0, \"#f0f921\"]]}, \"colorway\": [\"#636efa\", \"#EF553B\", \"#00cc96\", \"#ab63fa\", \"#FFA15A\", \"#19d3f3\", \"#FF6692\", \"#B6E880\", \"#FF97FF\", \"#FECB52\"], \"font\": {\"color\": \"#2a3f5f\"}, \"geo\": {\"bgcolor\": \"white\", \"lakecolor\": \"white\", \"landcolor\": \"#E5ECF6\", \"showlakes\": true, \"showland\": true, \"subunitcolor\": \"white\"}, \"hoverlabel\": {\"align\": \"left\"}, \"hovermode\": \"closest\", \"mapbox\": {\"style\": \"light\"}, \"paper_bgcolor\": \"white\", \"plot_bgcolor\": \"#E5ECF6\", \"polar\": {\"angularaxis\": {\"gridcolor\": \"white\", \"linecolor\": \"white\", \"ticks\": \"\"}, \"bgcolor\": \"#E5ECF6\", \"radialaxis\": {\"gridcolor\": \"white\", \"linecolor\": \"white\", \"ticks\": \"\"}}, \"scene\": {\"xaxis\": {\"backgroundcolor\": \"#E5ECF6\", \"gridcolor\": \"white\", \"gridwidth\": 2, \"linecolor\": \"white\", \"showbackground\": true, \"ticks\": \"\", \"zerolinecolor\": \"white\"}, \"yaxis\": {\"backgroundcolor\": \"#E5ECF6\", \"gridcolor\": \"white\", \"gridwidth\": 2, \"linecolor\": \"white\", \"showbackground\": true, \"ticks\": \"\", \"zerolinecolor\": \"white\"}, \"zaxis\": {\"backgroundcolor\": \"#E5ECF6\", \"gridcolor\": \"white\", \"gridwidth\": 2, \"linecolor\": \"white\", \"showbackground\": true, \"ticks\": \"\", \"zerolinecolor\": \"white\"}}, \"shapedefaults\": {\"line\": {\"color\": \"#2a3f5f\"}}, \"ternary\": {\"aaxis\": {\"gridcolor\": \"white\", \"linecolor\": \"white\", \"ticks\": \"\"}, \"baxis\": {\"gridcolor\": \"white\", \"linecolor\": \"white\", \"ticks\": \"\"}, \"bgcolor\": \"#E5ECF6\", \"caxis\": {\"gridcolor\": \"white\", \"linecolor\": \"white\", \"ticks\": \"\"}}, \"title\": {\"x\": 0.05}, \"xaxis\": {\"automargin\": true, \"gridcolor\": \"white\", \"linecolor\": \"white\", \"ticks\": \"\", \"title\": {\"standoff\": 15}, \"zerolinecolor\": \"white\", \"zerolinewidth\": 2}, \"yaxis\": {\"automargin\": true, \"gridcolor\": \"white\", \"linecolor\": \"white\", \"ticks\": \"\", \"title\": {\"standoff\": 15}, \"zerolinecolor\": \"white\", \"zerolinewidth\": 2}}}, \"title\": {\"text\": \"Total vaccination\"}, \"xaxis\": {\"title\": {\"text\": \"Dates\"}}, \"yaxis\": {\"title\": {\"text\": \"No of vaccines\"}}},                        {\"responsive\": true}                    ).then(function(){\n",
       "                            \n",
       "var gd = document.getElementById('9011e01f-89f7-4297-8e1b-7a29446ac177');\n",
       "var x = new MutationObserver(function (mutations, observer) {{\n",
       "        var display = window.getComputedStyle(gd).display;\n",
       "        if (!display || display === 'none') {{\n",
       "            console.log([gd, 'removed!']);\n",
       "            Plotly.purge(gd);\n",
       "            observer.disconnect();\n",
       "        }}\n",
       "}});\n",
       "\n",
       "// Listen for the removal of the full notebook cells\n",
       "var notebookContainer = gd.closest('#notebook-container');\n",
       "if (notebookContainer) {{\n",
       "    x.observe(notebookContainer, {childList: true});\n",
       "}}\n",
       "\n",
       "// Listen for the clearing of the current output cell\n",
       "var outputEl = gd.closest('.output');\n",
       "if (outputEl) {{\n",
       "    x.observe(outputEl, {childList: true});\n",
       "}}\n",
       "\n",
       "                        })                };                });            </script>        </div>"
      ]
     },
     "metadata": {},
     "output_type": "display_data"
    }
   ],
   "source": [
    "fig = go.Figure()\n",
    "for i in range(6):\n",
    "    fig.add_trace(go.Scatter(x=dfs[i]['date'], y=dfs[i]['total_vaccinations'],\n",
    "                    mode='lines',\n",
    "                    name=iso_6[i]))\n",
    "fig.update_layout(title='Total vaccination',\n",
    "                   xaxis_title='Dates',\n",
    "                   yaxis_title='No of vaccines')\n",
    "fig.show()"
   ]
  },
  {
   "cell_type": "code",
   "execution_count": 10,
   "id": "criminal-mixture",
   "metadata": {
    "execution": {
     "iopub.execute_input": "2021-04-26T13:37:18.705075Z",
     "iopub.status.busy": "2021-04-26T13:37:18.704078Z",
     "iopub.status.idle": "2021-04-26T13:37:18.712444Z",
     "shell.execute_reply": "2021-04-26T13:37:18.711727Z"
    },
    "papermill": {
     "duration": 0.061892,
     "end_time": "2021-04-26T13:37:18.712593",
     "exception": false,
     "start_time": "2021-04-26T13:37:18.650701",
     "status": "completed"
    },
    "tags": []
   },
   "outputs": [
    {
     "data": {
      "text/html": [
       "<div>                            <div id=\"d997c163-8768-4805-abb0-662cb639936c\" class=\"plotly-graph-div\" style=\"height:525px; width:100%;\"></div>            <script type=\"text/javascript\">                require([\"plotly\"], function(Plotly) {                    window.PLOTLYENV=window.PLOTLYENV || {};                                    if (document.getElementById(\"d997c163-8768-4805-abb0-662cb639936c\")) {                    Plotly.newPlot(                        \"d997c163-8768-4805-abb0-662cb639936c\",                        [{\"mode\": \"lines\", \"name\": \"CHN\", \"type\": \"scatter\", \"x\": [\"2020-12-15\", \"2020-12-16\", \"2020-12-17\", \"2020-12-18\", \"2020-12-19\", \"2020-12-20\", \"2020-12-21\", \"2020-12-22\", \"2020-12-23\", \"2020-12-24\", \"2020-12-25\", \"2020-12-26\", \"2020-12-27\", \"2020-12-28\", \"2020-12-29\", \"2020-12-30\", \"2020-12-31\", \"2021-01-01\", \"2021-01-02\", \"2021-01-03\", \"2021-01-04\", \"2021-01-05\", \"2021-01-06\", \"2021-01-07\", \"2021-01-08\", \"2021-01-09\", \"2021-01-10\", \"2021-01-11\", \"2021-01-12\", \"2021-01-13\", \"2021-01-14\", \"2021-01-15\", \"2021-01-16\", \"2021-01-17\", \"2021-01-18\", \"2021-01-19\", \"2021-01-20\", \"2021-01-21\", \"2021-01-22\", \"2021-01-23\", \"2021-01-24\", \"2021-01-25\", \"2021-01-26\", \"2021-01-27\", \"2021-01-28\", \"2021-01-29\", \"2021-01-30\", \"2021-01-31\", \"2021-02-01\", \"2021-02-02\", \"2021-02-03\", \"2021-02-04\", \"2021-02-05\", \"2021-02-06\", \"2021-02-07\", \"2021-02-08\", \"2021-02-09\", \"2021-02-10\", \"2021-02-11\", \"2021-02-12\", \"2021-02-13\", \"2021-02-14\", \"2021-02-15\", \"2021-02-16\", \"2021-02-17\", \"2021-02-18\", \"2021-02-19\", \"2021-02-20\", \"2021-02-21\", \"2021-02-22\", \"2021-02-23\", \"2021-02-24\", \"2021-02-25\", \"2021-02-26\", \"2021-02-27\", \"2021-02-28\", \"2021-03-01\", \"2021-03-02\", \"2021-03-03\", \"2021-03-04\", \"2021-03-05\", \"2021-03-06\", \"2021-03-07\", \"2021-03-08\", \"2021-03-09\", \"2021-03-10\", \"2021-03-11\", \"2021-03-12\", \"2021-03-13\", \"2021-03-14\", \"2021-03-15\", \"2021-03-16\", \"2021-03-17\", \"2021-03-18\", \"2021-03-19\", \"2021-03-20\", \"2021-03-21\", \"2021-03-22\", \"2021-03-23\", \"2021-03-24\", \"2021-03-25\", \"2021-03-26\", \"2021-03-27\", \"2021-03-28\", \"2021-03-29\", \"2021-03-30\", \"2021-03-31\", \"2021-04-01\", \"2021-04-02\", \"2021-04-03\", \"2021-04-04\", \"2021-04-05\", \"2021-04-06\", \"2021-04-07\", \"2021-04-08\", \"2021-04-09\", \"2021-04-10\", \"2021-04-11\", \"2021-04-12\", \"2021-04-13\", \"2021-04-14\", \"2021-04-15\", \"2021-04-16\", \"2021-04-17\", \"2021-04-18\", \"2021-04-19\", \"2021-04-20\", \"2021-04-21\", \"2021-04-22\", \"2021-04-23\"], \"y\": [0.1, null, null, null, null, null, null, null, null, null, null, null, null, null, null, null, 0.31, null, null, null, null, null, null, null, null, 0.63, null, null, null, 0.69, null, null, null, null, null, null, 1.04, null, null, null, null, null, null, 1.58, null, null, null, 1.67, null, null, 2.17, null, null, null, null, null, 2.82, null, null, null, null, null, null, null, null, null, null, null, null, null, null, null, null, null, null, 3.65, null, null, null, null, null, null, null, null, null, null, null, null, null, 4.51, null, null, null, null, null, 5.21, null, 5.59, 5.76, 5.97, 6.35, 6.77, 7.12, 7.41, 7.71, 7.97, 8.32, 8.8, 9.3, 9.5, 9.72, 9.92, 10.14, 10.36, 10.78, 11.19, 11.43, 11.63, 11.95, 12.2, 12.45, 12.75, 13.02, 13.19, 13.35, 13.55, 13.82, 14.19, 14.68, 15.01]}, {\"mode\": \"lines\", \"name\": \"IND\", \"type\": \"scatter\", \"x\": [\"2021-01-15\", \"2021-01-16\", \"2021-01-17\", \"2021-01-18\", \"2021-01-19\", \"2021-01-20\", \"2021-01-21\", \"2021-01-22\", \"2021-01-23\", \"2021-01-24\", \"2021-01-25\", \"2021-01-26\", \"2021-01-27\", \"2021-01-28\", \"2021-01-29\", \"2021-01-30\", \"2021-01-31\", \"2021-02-01\", \"2021-02-02\", \"2021-02-03\", \"2021-02-04\", \"2021-02-05\", \"2021-02-06\", \"2021-02-07\", \"2021-02-08\", \"2021-02-09\", \"2021-02-10\", \"2021-02-11\", \"2021-02-12\", \"2021-02-13\", \"2021-02-14\", \"2021-02-15\", \"2021-02-16\", \"2021-02-17\", \"2021-02-18\", \"2021-02-19\", \"2021-02-20\", \"2021-02-21\", \"2021-02-22\", \"2021-02-23\", \"2021-02-24\", \"2021-02-25\", \"2021-02-26\", \"2021-02-27\", \"2021-02-28\", \"2021-03-01\", \"2021-03-02\", \"2021-03-03\", \"2021-03-04\", \"2021-03-05\", \"2021-03-06\", \"2021-03-07\", \"2021-03-08\", \"2021-03-09\", \"2021-03-10\", \"2021-03-11\", \"2021-03-12\", \"2021-03-13\", \"2021-03-14\", \"2021-03-15\", \"2021-03-16\", \"2021-03-17\", \"2021-03-18\", \"2021-03-19\", \"2021-03-20\", \"2021-03-21\", \"2021-03-22\", \"2021-03-23\", \"2021-03-24\", \"2021-03-25\", \"2021-03-26\", \"2021-03-27\", \"2021-03-28\", \"2021-03-29\", \"2021-03-30\", \"2021-03-31\", \"2021-04-01\", \"2021-04-02\", \"2021-04-03\", \"2021-04-04\", \"2021-04-05\", \"2021-04-06\", \"2021-04-07\", \"2021-04-08\", \"2021-04-09\", \"2021-04-10\", \"2021-04-11\", \"2021-04-12\", \"2021-04-13\", \"2021-04-14\", \"2021-04-15\", \"2021-04-16\", \"2021-04-17\", \"2021-04-18\", \"2021-04-19\", \"2021-04-20\", \"2021-04-21\", \"2021-04-22\", \"2021-04-23\"], \"y\": [0.0, 0.01, 0.02, 0.03, 0.05, 0.06, 0.08, 0.1, 0.11, 0.12, 0.15, 0.15, 0.17, 0.21, 0.25, 0.27, 0.27, 0.29, 0.3, 0.32, 0.36, 0.39, 0.42, 0.42, 0.45, 0.48, 0.51, 0.54, 0.58, 0.58, null, 0.62, 0.64, 0.67, 0.71, 0.76, 0.79, 0.8, 0.83, 0.86, 0.9, 0.95, 1.0, 1.03, 1.04, 1.08, 1.13, 1.2, 1.3, 1.41, 1.52, 1.52, 1.67, 1.77, 1.86, 1.9, 2.04, 2.15, 2.17, 2.39, 2.54, 2.69, 2.85, 3.05, 3.23, 3.27, 3.51, 3.68, 3.85, 4.02, 4.21, 4.37, 4.39, 4.43, 4.57, 4.72, 4.98, 5.29, 5.51, 5.73, 6.02, 6.31, 6.54, 6.84, 7.11, 7.36, 7.57, 7.86, 8.06, 8.3, 8.49, 8.69, 8.89, 8.97, 9.21, null, 9.39, 9.62, 10.03]}, {\"mode\": \"lines\", \"name\": \"USA\", \"type\": \"scatter\", \"x\": [\"2020-12-20\", \"2020-12-21\", \"2020-12-22\", \"2020-12-23\", \"2020-12-24\", \"2020-12-25\", \"2020-12-26\", \"2020-12-27\", \"2020-12-28\", \"2020-12-29\", \"2020-12-30\", \"2020-12-31\", \"2021-01-01\", \"2021-01-02\", \"2021-01-03\", \"2021-01-04\", \"2021-01-05\", \"2021-01-06\", \"2021-01-07\", \"2021-01-08\", \"2021-01-09\", \"2021-01-10\", \"2021-01-11\", \"2021-01-12\", \"2021-01-13\", \"2021-01-14\", \"2021-01-15\", \"2021-01-16\", \"2021-01-17\", \"2021-01-18\", \"2021-01-19\", \"2021-01-20\", \"2021-01-21\", \"2021-01-22\", \"2021-01-23\", \"2021-01-24\", \"2021-01-25\", \"2021-01-26\", \"2021-01-27\", \"2021-01-28\", \"2021-01-29\", \"2021-01-30\", \"2021-01-31\", \"2021-02-01\", \"2021-02-02\", \"2021-02-03\", \"2021-02-04\", \"2021-02-05\", \"2021-02-06\", \"2021-02-07\", \"2021-02-08\", \"2021-02-09\", \"2021-02-10\", \"2021-02-11\", \"2021-02-12\", \"2021-02-13\", \"2021-02-14\", \"2021-02-15\", \"2021-02-16\", \"2021-02-17\", \"2021-02-18\", \"2021-02-19\", \"2021-02-20\", \"2021-02-21\", \"2021-02-22\", \"2021-02-23\", \"2021-02-24\", \"2021-02-25\", \"2021-02-26\", \"2021-02-27\", \"2021-02-28\", \"2021-03-01\", \"2021-03-02\", \"2021-03-03\", \"2021-03-04\", \"2021-03-05\", \"2021-03-06\", \"2021-03-07\", \"2021-03-08\", \"2021-03-09\", \"2021-03-10\", \"2021-03-11\", \"2021-03-12\", \"2021-03-13\", \"2021-03-14\", \"2021-03-15\", \"2021-03-16\", \"2021-03-17\", \"2021-03-18\", \"2021-03-19\", \"2021-03-20\", \"2021-03-21\", \"2021-03-22\", \"2021-03-23\", \"2021-03-24\", \"2021-03-25\", \"2021-03-26\", \"2021-03-27\", \"2021-03-28\", \"2021-03-29\", \"2021-03-30\", \"2021-03-31\", \"2021-04-01\", \"2021-04-02\", \"2021-04-03\", \"2021-04-04\", \"2021-04-05\", \"2021-04-06\", \"2021-04-07\", \"2021-04-08\", \"2021-04-09\", \"2021-04-10\", \"2021-04-11\", \"2021-04-12\", \"2021-04-13\", \"2021-04-14\", \"2021-04-15\", \"2021-04-16\", \"2021-04-17\", \"2021-04-18\", \"2021-04-19\", \"2021-04-20\", \"2021-04-21\", \"2021-04-22\", \"2021-04-23\"], \"y\": [0.17, 0.18, null, 0.3, null, null, 0.58, null, 0.64, null, 0.84, null, null, 1.26, null, 1.36, 1.45, 1.59, 1.77, 2.0, null, null, 2.69, 2.79, 3.07, 3.33, 3.67, null, null, null, 4.7, 4.94, 5.25, 5.71, 6.14, 6.53, 6.8, 7.04, 7.37, 7.83, 8.34, 8.84, 9.31, 9.63, 9.8, 10.13, 10.53, 11.01, 11.67, 12.32, 12.68, 12.92, 13.39, 13.87, 14.48, 15.14, 15.81, null, 16.51, 16.83, 17.26, 17.82, 18.33, 18.86, 19.19, 19.44, 19.87, 20.41, 21.07, 21.77, 22.5, 22.99, 23.51, 24.08, 24.69, 25.42, 26.29, 27.02, 27.54, 28.01, 28.62, 29.36, 30.24, 31.61, 32.01, 32.62, 33.11, 33.8, 34.6, 35.38, 36.31, 37.22, 37.83, 38.34, 39.01, 39.86, 40.87, 41.91, 42.9, 43.6, 44.13, 44.93, 45.94, 47.13, 48.35, 49.35, 49.99, 50.41, 51.27, 52.29, 53.47, 54.86, 55.93, 56.72, 57.49, 58.24, 59.3, 60.48, 61.56, 62.61, 63.26, 63.8, 64.57, 65.47, 66.48]}, {\"mode\": \"lines\", \"name\": \"IDN\", \"type\": \"scatter\", \"x\": [\"2021-01-12\", \"2021-01-13\", \"2021-01-14\", \"2021-01-15\", \"2021-01-16\", \"2021-01-17\", \"2021-01-18\", \"2021-01-19\", \"2021-01-20\", \"2021-01-21\", \"2021-01-22\", \"2021-01-23\", \"2021-01-24\", \"2021-01-25\", \"2021-01-26\", \"2021-01-27\", \"2021-01-28\", \"2021-01-29\", \"2021-01-30\", \"2021-01-31\", \"2021-02-01\", \"2021-02-02\", \"2021-02-03\", \"2021-02-04\", \"2021-02-05\", \"2021-02-06\", \"2021-02-07\", \"2021-02-08\", \"2021-02-09\", \"2021-02-10\", \"2021-02-11\", \"2021-02-12\", \"2021-02-13\", \"2021-02-14\", \"2021-02-15\", \"2021-02-16\", \"2021-02-17\", \"2021-02-18\", \"2021-02-19\", \"2021-02-20\", \"2021-02-21\", \"2021-02-22\", \"2021-02-23\", \"2021-02-24\", \"2021-02-25\", \"2021-02-26\", \"2021-02-27\", \"2021-02-28\", \"2021-03-01\", \"2021-03-02\", \"2021-03-03\", \"2021-03-04\", \"2021-03-05\", \"2021-03-06\", \"2021-03-07\", \"2021-03-08\", \"2021-03-09\", \"2021-03-10\", \"2021-03-11\", \"2021-03-12\", \"2021-03-13\", \"2021-03-14\", \"2021-03-15\", \"2021-03-16\", \"2021-03-17\", \"2021-03-18\", \"2021-03-19\", \"2021-03-20\", \"2021-03-21\", \"2021-03-22\", \"2021-03-23\", \"2021-03-24\", \"2021-03-25\", \"2021-03-26\", \"2021-03-27\", \"2021-03-28\", \"2021-03-29\", \"2021-03-30\", \"2021-03-31\", \"2021-04-01\", \"2021-04-02\", \"2021-04-03\", \"2021-04-04\", \"2021-04-05\", \"2021-04-06\", \"2021-04-07\", \"2021-04-08\", \"2021-04-09\", \"2021-04-10\", \"2021-04-11\", \"2021-04-12\", \"2021-04-13\", \"2021-04-14\", \"2021-04-15\", \"2021-04-16\", \"2021-04-17\", \"2021-04-18\", \"2021-04-19\", \"2021-04-20\", \"2021-04-21\", \"2021-04-22\", \"2021-04-23\"], \"y\": [0.0, null, null, null, null, null, null, null, null, null, 0.05, null, 0.05, 0.06, 0.09, 0.11, 0.14, 0.15, 0.18, 0.19, 0.21, 0.24, 0.26, 0.29, 0.32, 0.33, 0.34, 0.36, 0.39, 0.46, 0.5, null, 0.54, 0.55, 0.58, 0.61, 0.64, 0.65, null, 0.72, null, null, 0.75, 0.8, 0.85, 0.9, 0.95, 0.98, null, 1.11, 1.24, null, 1.29, null, 1.47, null, null, 1.77, 1.82, 1.87, 1.99, 2.0, 2.1, 2.26, 2.41, 2.48, 2.69, 2.86, 2.88, 3.01, 3.41, null, 3.56, 3.81, 3.81, 3.94, null, null, 4.27, 4.47, 4.49, null, 4.62, null, 4.92, null, 5.14, null, 5.51, null, 5.7, 5.78, 5.85, 6.03, null, 6.1, null, 6.22, 6.32, 6.45, 6.55, 6.7]}, {\"mode\": \"lines\", \"name\": \"PAK\", \"type\": \"scatter\", \"x\": [\"2021-02-02\", \"2021-02-03\", \"2021-02-04\", \"2021-02-05\", \"2021-02-06\", \"2021-02-07\", \"2021-02-08\", \"2021-02-09\", \"2021-02-10\", \"2021-02-11\", \"2021-02-12\", \"2021-02-13\", \"2021-02-14\", \"2021-02-15\", \"2021-02-16\", \"2021-02-17\", \"2021-02-18\", \"2021-02-19\", \"2021-02-20\", \"2021-02-21\", \"2021-02-22\", \"2021-02-23\", \"2021-02-24\", \"2021-02-25\", \"2021-02-26\", \"2021-02-27\", \"2021-02-28\", \"2021-03-01\", \"2021-03-02\", \"2021-03-03\", \"2021-03-04\", \"2021-03-05\", \"2021-03-06\", \"2021-03-07\", \"2021-03-08\", \"2021-03-09\", \"2021-03-10\", \"2021-03-11\", \"2021-03-12\", \"2021-03-13\", \"2021-03-14\", \"2021-03-15\", \"2021-03-16\", \"2021-03-17\", \"2021-03-18\", \"2021-03-19\", \"2021-03-20\", \"2021-03-21\", \"2021-03-22\", \"2021-03-23\", \"2021-03-24\", \"2021-03-25\", \"2021-03-26\", \"2021-03-27\", \"2021-03-28\", \"2021-03-29\", \"2021-03-30\", \"2021-03-31\", \"2021-04-01\", \"2021-04-02\", \"2021-04-03\", \"2021-04-04\", \"2021-04-05\", \"2021-04-06\", \"2021-04-07\", \"2021-04-08\", \"2021-04-09\", \"2021-04-10\", \"2021-04-11\", \"2021-04-12\", \"2021-04-13\"], \"y\": [0.0, null, null, null, null, null, null, null, 0.01, null, null, null, null, null, null, 0.02, null, null, null, 0.03, null, null, null, null, null, null, null, null, null, null, null, null, null, null, null, null, null, null, null, null, 0.16, null, null, null, null, null, null, null, null, null, null, null, null, null, null, null, null, 0.36, null, null, null, null, null, 0.42, null, 0.5, null, null, null, null, 0.59]}, {\"mode\": \"lines\", \"name\": \"BRA\", \"type\": \"scatter\", \"x\": [\"2021-01-16\", \"2021-01-17\", \"2021-01-18\", \"2021-01-19\", \"2021-01-20\", \"2021-01-21\", \"2021-01-22\", \"2021-01-23\", \"2021-01-24\", \"2021-01-25\", \"2021-01-26\", \"2021-01-27\", \"2021-01-28\", \"2021-01-29\", \"2021-01-30\", \"2021-01-31\", \"2021-02-01\", \"2021-02-02\", \"2021-02-03\", \"2021-02-04\", \"2021-02-05\", \"2021-02-06\", \"2021-02-07\", \"2021-02-08\", \"2021-02-09\", \"2021-02-10\", \"2021-02-11\", \"2021-02-12\", \"2021-02-13\", \"2021-02-14\", \"2021-02-15\", \"2021-02-16\", \"2021-02-17\", \"2021-02-18\", \"2021-02-19\", \"2021-02-20\", \"2021-02-21\", \"2021-02-22\", \"2021-02-23\", \"2021-02-24\", \"2021-02-25\", \"2021-02-26\", \"2021-02-27\", \"2021-02-28\", \"2021-03-01\", \"2021-03-02\", \"2021-03-03\", \"2021-03-04\", \"2021-03-05\", \"2021-03-06\", \"2021-03-07\", \"2021-03-08\", \"2021-03-09\", \"2021-03-10\", \"2021-03-11\", \"2021-03-12\", \"2021-03-13\", \"2021-03-14\", \"2021-03-15\", \"2021-03-16\", \"2021-03-17\", \"2021-03-18\", \"2021-03-19\", \"2021-03-20\", \"2021-03-21\", \"2021-03-22\", \"2021-03-23\", \"2021-03-24\", \"2021-03-25\", \"2021-03-26\", \"2021-03-27\", \"2021-03-28\", \"2021-03-29\", \"2021-03-30\", \"2021-03-31\", \"2021-04-01\", \"2021-04-02\", \"2021-04-03\", \"2021-04-04\", \"2021-04-05\", \"2021-04-06\", \"2021-04-07\", \"2021-04-08\", \"2021-04-09\", \"2021-04-10\", \"2021-04-11\", \"2021-04-12\", \"2021-04-13\", \"2021-04-14\", \"2021-04-15\", \"2021-04-16\", \"2021-04-17\", \"2021-04-18\", \"2021-04-19\", \"2021-04-20\", \"2021-04-21\", \"2021-04-22\", \"2021-04-23\", \"2021-04-24\"], \"y\": [0.0, 0.0, 0.0, 0.01, 0.01, 0.06, 0.12, 0.25, 0.28, 0.33, 0.4, 0.53, 0.68, 0.78, 0.94, 0.98, 1.0, 1.08, 1.19, 1.45, 1.45, 1.6, 1.67, 1.7, 1.8, 1.94, 2.07, 2.21, 2.41, 2.46, 2.49, 2.64, 2.77, 2.92, 3.07, 3.21, 3.27, 3.31, 3.43, 3.55, 3.67, 3.81, 3.92, 3.97, 3.98, 4.16, 4.36, 4.58, 4.78, null, null, null, null, 4.88, 5.05, 5.25, 5.35, 5.37, 5.6, null, 5.97, 6.12, 6.27, 6.34, 6.38, 6.64, 7.16, 7.5, 7.79, 8.01, 8.24, 8.33, 8.51, 8.57, 9.01, null, 9.71, 9.86, 9.91, 10.33, 10.75, 11.38, 11.75, 12.11, 12.49, 12.58, 12.91, 14.49, 14.92, null, null, null, 15.5, 15.88, 15.9, 16.02, 16.48, 17.46, 17.57]}],                        {\"template\": {\"data\": {\"bar\": [{\"error_x\": {\"color\": \"#2a3f5f\"}, \"error_y\": {\"color\": \"#2a3f5f\"}, \"marker\": {\"line\": {\"color\": \"#E5ECF6\", \"width\": 0.5}}, \"type\": \"bar\"}], \"barpolar\": [{\"marker\": {\"line\": {\"color\": \"#E5ECF6\", \"width\": 0.5}}, \"type\": \"barpolar\"}], \"carpet\": [{\"aaxis\": {\"endlinecolor\": \"#2a3f5f\", \"gridcolor\": \"white\", \"linecolor\": \"white\", \"minorgridcolor\": \"white\", \"startlinecolor\": \"#2a3f5f\"}, \"baxis\": {\"endlinecolor\": \"#2a3f5f\", \"gridcolor\": \"white\", \"linecolor\": \"white\", \"minorgridcolor\": \"white\", \"startlinecolor\": \"#2a3f5f\"}, \"type\": \"carpet\"}], \"choropleth\": [{\"colorbar\": {\"outlinewidth\": 0, \"ticks\": \"\"}, \"type\": \"choropleth\"}], \"contour\": [{\"colorbar\": {\"outlinewidth\": 0, \"ticks\": \"\"}, \"colorscale\": [[0.0, \"#0d0887\"], [0.1111111111111111, \"#46039f\"], [0.2222222222222222, \"#7201a8\"], [0.3333333333333333, \"#9c179e\"], [0.4444444444444444, \"#bd3786\"], [0.5555555555555556, \"#d8576b\"], [0.6666666666666666, \"#ed7953\"], [0.7777777777777778, \"#fb9f3a\"], [0.8888888888888888, \"#fdca26\"], [1.0, \"#f0f921\"]], \"type\": \"contour\"}], \"contourcarpet\": [{\"colorbar\": {\"outlinewidth\": 0, \"ticks\": \"\"}, \"type\": \"contourcarpet\"}], \"heatmap\": [{\"colorbar\": {\"outlinewidth\": 0, \"ticks\": \"\"}, \"colorscale\": [[0.0, \"#0d0887\"], [0.1111111111111111, \"#46039f\"], [0.2222222222222222, \"#7201a8\"], [0.3333333333333333, \"#9c179e\"], [0.4444444444444444, \"#bd3786\"], [0.5555555555555556, \"#d8576b\"], [0.6666666666666666, \"#ed7953\"], [0.7777777777777778, \"#fb9f3a\"], [0.8888888888888888, \"#fdca26\"], [1.0, \"#f0f921\"]], \"type\": \"heatmap\"}], \"heatmapgl\": [{\"colorbar\": {\"outlinewidth\": 0, \"ticks\": \"\"}, \"colorscale\": [[0.0, \"#0d0887\"], [0.1111111111111111, \"#46039f\"], [0.2222222222222222, \"#7201a8\"], [0.3333333333333333, \"#9c179e\"], [0.4444444444444444, \"#bd3786\"], [0.5555555555555556, \"#d8576b\"], [0.6666666666666666, \"#ed7953\"], [0.7777777777777778, \"#fb9f3a\"], [0.8888888888888888, \"#fdca26\"], [1.0, \"#f0f921\"]], \"type\": \"heatmapgl\"}], \"histogram\": [{\"marker\": {\"colorbar\": {\"outlinewidth\": 0, \"ticks\": \"\"}}, \"type\": \"histogram\"}], \"histogram2d\": [{\"colorbar\": {\"outlinewidth\": 0, \"ticks\": \"\"}, \"colorscale\": [[0.0, \"#0d0887\"], [0.1111111111111111, \"#46039f\"], [0.2222222222222222, \"#7201a8\"], [0.3333333333333333, \"#9c179e\"], [0.4444444444444444, \"#bd3786\"], [0.5555555555555556, \"#d8576b\"], [0.6666666666666666, \"#ed7953\"], [0.7777777777777778, \"#fb9f3a\"], [0.8888888888888888, \"#fdca26\"], [1.0, \"#f0f921\"]], \"type\": \"histogram2d\"}], \"histogram2dcontour\": [{\"colorbar\": {\"outlinewidth\": 0, \"ticks\": \"\"}, \"colorscale\": [[0.0, \"#0d0887\"], [0.1111111111111111, \"#46039f\"], [0.2222222222222222, \"#7201a8\"], [0.3333333333333333, \"#9c179e\"], [0.4444444444444444, \"#bd3786\"], [0.5555555555555556, \"#d8576b\"], [0.6666666666666666, \"#ed7953\"], [0.7777777777777778, \"#fb9f3a\"], [0.8888888888888888, \"#fdca26\"], [1.0, \"#f0f921\"]], \"type\": \"histogram2dcontour\"}], \"mesh3d\": [{\"colorbar\": {\"outlinewidth\": 0, \"ticks\": \"\"}, \"type\": \"mesh3d\"}], \"parcoords\": [{\"line\": {\"colorbar\": {\"outlinewidth\": 0, \"ticks\": \"\"}}, \"type\": \"parcoords\"}], \"pie\": [{\"automargin\": true, \"type\": \"pie\"}], \"scatter\": [{\"marker\": {\"colorbar\": {\"outlinewidth\": 0, \"ticks\": \"\"}}, \"type\": \"scatter\"}], \"scatter3d\": [{\"line\": {\"colorbar\": {\"outlinewidth\": 0, \"ticks\": \"\"}}, \"marker\": {\"colorbar\": {\"outlinewidth\": 0, \"ticks\": \"\"}}, \"type\": \"scatter3d\"}], \"scattercarpet\": [{\"marker\": {\"colorbar\": {\"outlinewidth\": 0, \"ticks\": \"\"}}, \"type\": \"scattercarpet\"}], \"scattergeo\": [{\"marker\": {\"colorbar\": {\"outlinewidth\": 0, \"ticks\": \"\"}}, \"type\": \"scattergeo\"}], \"scattergl\": [{\"marker\": {\"colorbar\": {\"outlinewidth\": 0, \"ticks\": \"\"}}, \"type\": \"scattergl\"}], \"scattermapbox\": [{\"marker\": {\"colorbar\": {\"outlinewidth\": 0, \"ticks\": \"\"}}, \"type\": \"scattermapbox\"}], \"scatterpolar\": [{\"marker\": {\"colorbar\": {\"outlinewidth\": 0, \"ticks\": \"\"}}, \"type\": \"scatterpolar\"}], \"scatterpolargl\": [{\"marker\": {\"colorbar\": {\"outlinewidth\": 0, \"ticks\": \"\"}}, \"type\": \"scatterpolargl\"}], \"scatterternary\": [{\"marker\": {\"colorbar\": {\"outlinewidth\": 0, \"ticks\": \"\"}}, \"type\": \"scatterternary\"}], \"surface\": [{\"colorbar\": {\"outlinewidth\": 0, \"ticks\": \"\"}, \"colorscale\": [[0.0, \"#0d0887\"], [0.1111111111111111, \"#46039f\"], [0.2222222222222222, \"#7201a8\"], [0.3333333333333333, \"#9c179e\"], [0.4444444444444444, \"#bd3786\"], [0.5555555555555556, \"#d8576b\"], [0.6666666666666666, \"#ed7953\"], [0.7777777777777778, \"#fb9f3a\"], [0.8888888888888888, \"#fdca26\"], [1.0, \"#f0f921\"]], \"type\": \"surface\"}], \"table\": [{\"cells\": {\"fill\": {\"color\": \"#EBF0F8\"}, \"line\": {\"color\": \"white\"}}, \"header\": {\"fill\": {\"color\": \"#C8D4E3\"}, \"line\": {\"color\": \"white\"}}, \"type\": \"table\"}]}, \"layout\": {\"annotationdefaults\": {\"arrowcolor\": \"#2a3f5f\", \"arrowhead\": 0, \"arrowwidth\": 1}, \"autotypenumbers\": \"strict\", \"coloraxis\": {\"colorbar\": {\"outlinewidth\": 0, \"ticks\": \"\"}}, \"colorscale\": {\"diverging\": [[0, \"#8e0152\"], [0.1, \"#c51b7d\"], [0.2, \"#de77ae\"], [0.3, \"#f1b6da\"], [0.4, \"#fde0ef\"], [0.5, \"#f7f7f7\"], [0.6, \"#e6f5d0\"], [0.7, \"#b8e186\"], [0.8, \"#7fbc41\"], [0.9, \"#4d9221\"], [1, \"#276419\"]], \"sequential\": [[0.0, \"#0d0887\"], [0.1111111111111111, \"#46039f\"], [0.2222222222222222, \"#7201a8\"], [0.3333333333333333, \"#9c179e\"], [0.4444444444444444, \"#bd3786\"], [0.5555555555555556, \"#d8576b\"], [0.6666666666666666, \"#ed7953\"], [0.7777777777777778, \"#fb9f3a\"], [0.8888888888888888, \"#fdca26\"], [1.0, \"#f0f921\"]], \"sequentialminus\": [[0.0, \"#0d0887\"], [0.1111111111111111, \"#46039f\"], [0.2222222222222222, \"#7201a8\"], [0.3333333333333333, \"#9c179e\"], [0.4444444444444444, \"#bd3786\"], [0.5555555555555556, \"#d8576b\"], [0.6666666666666666, \"#ed7953\"], [0.7777777777777778, \"#fb9f3a\"], [0.8888888888888888, \"#fdca26\"], [1.0, \"#f0f921\"]]}, \"colorway\": [\"#636efa\", \"#EF553B\", \"#00cc96\", \"#ab63fa\", \"#FFA15A\", \"#19d3f3\", \"#FF6692\", \"#B6E880\", \"#FF97FF\", \"#FECB52\"], \"font\": {\"color\": \"#2a3f5f\"}, \"geo\": {\"bgcolor\": \"white\", \"lakecolor\": \"white\", \"landcolor\": \"#E5ECF6\", \"showlakes\": true, \"showland\": true, \"subunitcolor\": \"white\"}, \"hoverlabel\": {\"align\": \"left\"}, \"hovermode\": \"closest\", \"mapbox\": {\"style\": \"light\"}, \"paper_bgcolor\": \"white\", \"plot_bgcolor\": \"#E5ECF6\", \"polar\": {\"angularaxis\": {\"gridcolor\": \"white\", \"linecolor\": \"white\", \"ticks\": \"\"}, \"bgcolor\": \"#E5ECF6\", \"radialaxis\": {\"gridcolor\": \"white\", \"linecolor\": \"white\", \"ticks\": \"\"}}, \"scene\": {\"xaxis\": {\"backgroundcolor\": \"#E5ECF6\", \"gridcolor\": \"white\", \"gridwidth\": 2, \"linecolor\": \"white\", \"showbackground\": true, \"ticks\": \"\", \"zerolinecolor\": \"white\"}, \"yaxis\": {\"backgroundcolor\": \"#E5ECF6\", \"gridcolor\": \"white\", \"gridwidth\": 2, \"linecolor\": \"white\", \"showbackground\": true, \"ticks\": \"\", \"zerolinecolor\": \"white\"}, \"zaxis\": {\"backgroundcolor\": \"#E5ECF6\", \"gridcolor\": \"white\", \"gridwidth\": 2, \"linecolor\": \"white\", \"showbackground\": true, \"ticks\": \"\", \"zerolinecolor\": \"white\"}}, \"shapedefaults\": {\"line\": {\"color\": \"#2a3f5f\"}}, \"ternary\": {\"aaxis\": {\"gridcolor\": \"white\", \"linecolor\": \"white\", \"ticks\": \"\"}, \"baxis\": {\"gridcolor\": \"white\", \"linecolor\": \"white\", \"ticks\": \"\"}, \"bgcolor\": \"#E5ECF6\", \"caxis\": {\"gridcolor\": \"white\", \"linecolor\": \"white\", \"ticks\": \"\"}}, \"title\": {\"x\": 0.05}, \"xaxis\": {\"automargin\": true, \"gridcolor\": \"white\", \"linecolor\": \"white\", \"ticks\": \"\", \"title\": {\"standoff\": 15}, \"zerolinecolor\": \"white\", \"zerolinewidth\": 2}, \"yaxis\": {\"automargin\": true, \"gridcolor\": \"white\", \"linecolor\": \"white\", \"ticks\": \"\", \"title\": {\"standoff\": 15}, \"zerolinecolor\": \"white\", \"zerolinewidth\": 2}}}, \"title\": {\"text\": \"Total vaccination per hundred\"}, \"xaxis\": {\"title\": {\"text\": \"Dates\"}}, \"yaxis\": {\"title\": {\"text\": \"No of vaccines\"}}},                        {\"responsive\": true}                    ).then(function(){\n",
       "                            \n",
       "var gd = document.getElementById('d997c163-8768-4805-abb0-662cb639936c');\n",
       "var x = new MutationObserver(function (mutations, observer) {{\n",
       "        var display = window.getComputedStyle(gd).display;\n",
       "        if (!display || display === 'none') {{\n",
       "            console.log([gd, 'removed!']);\n",
       "            Plotly.purge(gd);\n",
       "            observer.disconnect();\n",
       "        }}\n",
       "}});\n",
       "\n",
       "// Listen for the removal of the full notebook cells\n",
       "var notebookContainer = gd.closest('#notebook-container');\n",
       "if (notebookContainer) {{\n",
       "    x.observe(notebookContainer, {childList: true});\n",
       "}}\n",
       "\n",
       "// Listen for the clearing of the current output cell\n",
       "var outputEl = gd.closest('.output');\n",
       "if (outputEl) {{\n",
       "    x.observe(outputEl, {childList: true});\n",
       "}}\n",
       "\n",
       "                        })                };                });            </script>        </div>"
      ]
     },
     "metadata": {},
     "output_type": "display_data"
    }
   ],
   "source": [
    "fig = go.Figure()\n",
    "for i in range(6):\n",
    "    fig.add_trace(go.Scatter(x=dfs[i]['date'], y=dfs[i]['total_vaccinations_per_hundred'],\n",
    "                    mode='lines',\n",
    "                    name=iso_6[i]))\n",
    "fig.update_layout(title='Total vaccination per hundred',\n",
    "                   xaxis_title='Dates',\n",
    "                   yaxis_title='No of vaccines')\n",
    "fig.show()"
   ]
  },
  {
   "cell_type": "markdown",
   "id": "representative-judges",
   "metadata": {
    "papermill": {
     "duration": 0.031754,
     "end_time": "2021-04-26T13:37:18.777561",
     "exception": false,
     "start_time": "2021-04-26T13:37:18.745807",
     "status": "completed"
    },
    "tags": []
   },
   "source": [
    "# USA cases, deaths and vaccinated people "
   ]
  },
  {
   "cell_type": "code",
   "execution_count": 11,
   "id": "brave-shoot",
   "metadata": {
    "_kg_hide-input": true,
    "execution": {
     "iopub.execute_input": "2021-04-26T13:37:18.846600Z",
     "iopub.status.busy": "2021-04-26T13:37:18.845667Z",
     "iopub.status.idle": "2021-04-26T13:37:18.849238Z",
     "shell.execute_reply": "2021-04-26T13:37:18.848550Z"
    },
    "papermill": {
     "duration": 0.04015,
     "end_time": "2021-04-26T13:37:18.849381",
     "exception": false,
     "start_time": "2021-04-26T13:37:18.809231",
     "status": "completed"
    },
    "tags": []
   },
   "outputs": [],
   "source": [
    "def daily_cases(df,country):\n",
    "    return df.loc[(df['country']==country)]"
   ]
  },
  {
   "cell_type": "code",
   "execution_count": 12,
   "id": "rolled-beverage",
   "metadata": {
    "_kg_hide-input": true,
    "execution": {
     "iopub.execute_input": "2021-04-26T13:37:18.976329Z",
     "iopub.status.busy": "2021-04-26T13:37:18.932434Z",
     "iopub.status.idle": "2021-04-26T13:37:19.010175Z",
     "shell.execute_reply": "2021-04-26T13:37:19.009094Z"
    },
    "papermill": {
     "duration": 0.129177,
     "end_time": "2021-04-26T13:37:19.010342",
     "exception": false,
     "start_time": "2021-04-26T13:37:18.881165",
     "status": "completed"
    },
    "tags": []
   },
   "outputs": [],
   "source": [
    "#watching covid cases in USA,Brazil,China,India,Pakistan\n",
    "covid_daily_USA = daily_cases(covid_daily,'USA')\n",
    "covid_daily_IND = daily_cases(covid_daily,'India')\n",
    "covid_daily_CHN = daily_cases(covid_daily,'China')\n",
    "covid_daily_PAK = daily_cases(covid_daily,'Pakistan')\n",
    "covid_daily_BRA = daily_cases(covid_daily,'Brazil')\n",
    "covid_daily_IDN = daily_cases(covid_daily,'Indonesia')"
   ]
  },
  {
   "cell_type": "code",
   "execution_count": 13,
   "id": "looking-humor",
   "metadata": {
    "_kg_hide-input": true,
    "execution": {
     "iopub.execute_input": "2021-04-26T13:37:19.083142Z",
     "iopub.status.busy": "2021-04-26T13:37:19.082450Z",
     "iopub.status.idle": "2021-04-26T13:37:19.124822Z",
     "shell.execute_reply": "2021-04-26T13:37:19.124156Z"
    },
    "papermill": {
     "duration": 0.082887,
     "end_time": "2021-04-26T13:37:19.124992",
     "exception": false,
     "start_time": "2021-04-26T13:37:19.042105",
     "status": "completed"
    },
    "tags": []
   },
   "outputs": [
    {
     "data": {
      "text/html": [
       "<div>                            <div id=\"ce4f1b08-adb8-4383-8d1b-4ecdde0fb724\" class=\"plotly-graph-div\" style=\"height:500px; width:700px;\"></div>            <script type=\"text/javascript\">                require([\"plotly\"], function(Plotly) {                    window.PLOTLYENV=window.PLOTLYENV || {};                                    if (document.getElementById(\"ce4f1b08-adb8-4383-8d1b-4ecdde0fb724\")) {                    Plotly.newPlot(                        \"ce4f1b08-adb8-4383-8d1b-4ecdde0fb724\",                        [{\"name\": \"No of cases daily (USA)\", \"type\": \"scatter\", \"x\": [\"2020-2-15\", \"2020-2-16\", \"2020-2-17\", \"2020-2-18\", \"2020-2-19\", \"2020-2-20\", \"2020-2-21\", \"2020-2-22\", \"2020-2-23\", \"2020-2-24\", \"2020-2-25\", \"2020-2-26\", \"2020-2-27\", \"2020-2-28\", \"2020-2-29\", \"2020-3-01\", \"2020-3-02\", \"2020-3-03\", \"2020-3-04\", \"2020-3-05\", \"2020-3-06\", \"2020-3-07\", \"2020-3-08\", \"2020-3-09\", \"2020-3-10\", \"2020-3-11\", \"2020-3-12\", \"2020-3-13\", \"2020-3-14\", \"2020-3-15\", \"2020-3-16\", \"2020-3-17\", \"2020-3-18\", \"2020-3-19\", \"2020-3-20\", \"2020-3-21\", \"2020-3-22\", \"2020-3-23\", \"2020-3-24\", \"2020-3-25\", \"2020-3-26\", \"2020-3-27\", \"2020-3-28\", \"2020-3-29\", \"2020-3-30\", \"2020-3-31\", \"2020-4-01\", \"2020-4-02\", \"2020-4-03\", \"2020-4-04\", \"2020-4-05\", \"2020-4-06\", \"2020-4-07\", \"2020-4-08\", \"2020-4-09\", \"2020-4-10\", \"2020-4-11\", \"2020-4-12\", \"2020-4-13\", \"2020-4-14\", \"2020-4-15\", \"2020-4-16\", \"2020-4-17\", \"2020-4-18\", \"2020-4-19\", \"2020-4-20\", \"2020-4-21\", \"2020-4-22\", \"2020-4-23\", \"2020-4-24\", \"2020-4-25\", \"2020-4-26\", \"2020-4-27\", \"2020-4-28\", \"2020-4-29\", \"2020-4-30\", \"2020-5-01\", \"2020-5-02\", \"2020-5-03\", \"2020-5-04\", \"2020-5-05\", \"2020-5-06\", \"2020-5-07\", \"2020-5-08\", \"2020-5-09\", \"2020-5-10\", \"2020-5-11\", \"2020-5-12\", \"2020-5-13\", \"2020-5-14\", \"2020-5-15\", \"2020-5-16\", \"2020-5-17\", \"2020-5-18\", \"2020-5-19\", \"2020-5-20\", \"2020-5-21\", \"2020-5-22\", \"2020-5-23\", \"2020-5-24\", \"2020-5-25\", \"2020-5-26\", \"2020-5-27\", \"2020-5-28\", \"2020-5-29\", \"2020-5-30\", \"2020-5-31\", \"2020-6-01\", \"2020-6-02\", \"2020-6-03\", \"2020-6-04\", \"2020-6-05\", \"2020-6-06\", \"2020-6-07\", \"2020-6-08\", \"2020-6-09\", \"2020-6-10\", \"2020-6-11\", \"2020-6-12\", \"2020-6-13\", \"2020-6-14\", \"2020-6-15\", \"2020-6-16\", \"2020-6-17\", \"2020-6-18\", \"2020-6-19\", \"2020-6-20\", \"2020-6-21\", \"2020-6-22\", \"2020-6-23\", \"2020-6-24\", \"2020-6-25\", \"2020-6-26\", \"2020-6-27\", \"2020-6-28\", \"2020-6-29\", \"2020-6-30\", \"2020-7-01\", \"2020-7-02\", \"2020-7-03\", \"2020-7-04\", \"2020-7-05\", \"2020-7-06\", \"2020-7-07\", \"2020-7-08\", \"2020-7-09\", \"2020-7-10\", \"2020-7-11\", \"2020-7-12\", \"2020-7-13\", \"2020-7-14\", \"2020-7-15\", \"2020-7-16\", \"2020-7-17\", \"2020-7-18\", \"2020-7-19\", \"2020-7-20\", \"2020-7-21\", \"2020-7-22\", \"2020-7-23\", \"2020-7-24\", \"2020-7-25\", \"2020-7-26\", \"2020-7-27\", \"2020-7-28\", \"2020-7-29\", \"2020-7-30\", \"2020-7-31\", \"2020-8-01\", \"2020-8-02\", \"2020-8-03\", \"2020-8-04\", \"2020-8-05\", \"2020-8-06\", \"2020-8-07\", \"2020-8-08\", \"2020-8-09\", \"2020-8-10\", \"2020-8-11\", \"2020-8-12\", \"2020-8-13\", \"2020-8-14\", \"2020-8-15\", \"2020-8-16\", \"2020-8-17\", \"2020-8-18\", \"2020-8-19\", \"2020-8-20\", \"2020-8-21\", \"2020-8-22\", \"2020-8-23\", \"2020-8-24\", \"2020-8-25\", \"2020-8-26\", \"2020-8-27\", \"2020-8-28\", \"2020-8-29\", \"2020-8-30\", \"2020-8-31\", \"2020-9-01\", \"2020-9-02\", \"2020-9-03\", \"2020-9-04\", \"2020-9-05\", \"2020-9-06\", \"2020-9-07\", \"2020-9-08\", \"2020-9-09\", \"2020-9-10\", \"2020-9-11\", \"2020-9-12\", \"2020-9-13\", \"2020-9-14\", \"2020-9-15\", \"2020-9-16\", \"2020-9-17\", \"2020-9-18\", \"2020-9-19\", \"2020-9-20\", \"2020-9-21\", \"2020-9-22\", \"2020-9-23\", \"2020-9-24\", \"2020-9-25\", \"2020-9-26\", \"2020-9-27\", \"2020-9-28\", \"2020-9-29\", \"2020-9-30\", \"2020-10-01\", \"2020-10-02\", \"2020-10-03\", \"2020-10-04\", \"2020-10-05\", \"2020-10-06\", \"2020-10-07\", \"2020-10-08\", \"2020-10-09\", \"2020-10-10\", \"2020-10-11\", \"2020-10-12\", \"2020-10-13\", \"2020-10-14\", \"2020-10-15\", \"2020-10-16\", \"2020-10-17\", \"2020-10-18\", \"2020-10-19\", \"2020-10-20\", \"2020-10-21\", \"2020-10-22\", \"2020-10-23\", \"2020-10-24\", \"2020-10-25\", \"2020-10-26\", \"2020-10-27\", \"2020-10-28\", \"2020-10-29\", \"2020-10-30\", \"2020-10-31\", \"2020-11-01\", \"2020-11-02\", \"2020-11-03\", \"2020-11-04\", \"2020-11-05\", \"2020-11-06\", \"2020-11-07\", \"2020-11-08\", \"2020-11-09\", \"2020-11-10\", \"2020-11-11\", \"2020-11-12\", \"2020-11-13\", \"2020-11-14\", \"2020-11-15\", \"2020-11-16\", \"2020-11-17\", \"2020-11-18\", \"2020-11-19\", \"2020-11-20\", \"2020-11-21\", \"2020-11-22\", \"2020-11-23\", \"2020-11-24\", \"2020-11-25\", \"2020-11-26\", \"2020-11-27\", \"2020-11-28\", \"2020-11-29\", \"2020-11-30\", \"2020-12-01\", \"2020-12-02\", \"2020-12-03\", \"2020-12-04\", \"2020-12-05\", \"2020-12-06\", \"2020-12-07\", \"2020-12-08\", \"2020-12-09\", \"2020-12-10\", \"2020-12-11\", \"2020-12-12\", \"2020-12-13\", \"2020-12-14\", \"2020-12-15\", \"2020-12-16\", \"2020-12-17\", \"2020-12-18\", \"2020-12-19\", \"2020-12-20\", \"2020-12-21\", \"2020-12-22\", \"2020-12-23\", \"2020-12-24\", \"2020-12-25\", \"2020-12-26\", \"2020-12-27\", \"2020-12-28\", \"2020-12-29\", \"2020-12-30\", \"2020-12-31\", \"2021-1-01\", \"2021-1-02\", \"2021-1-03\", \"2021-1-04\", \"2021-1-05\", \"2021-1-06\", \"2021-1-07\", \"2021-1-08\", \"2021-1-09\", \"2021-1-10\", \"2021-1-11\", \"2021-1-12\", \"2021-1-13\", \"2021-1-14\", \"2021-1-15\", \"2021-1-16\", \"2021-1-17\", \"2021-1-18\", \"2021-1-19\", \"2021-1-20\", \"2021-1-21\", \"2021-1-22\", \"2021-1-23\", \"2021-1-24\", \"2021-1-25\", \"2021-1-26\", \"2021-1-27\", \"2021-1-28\", \"2021-1-29\", \"2021-1-30\", \"2021-1-31\", \"2021-2-01\", \"2021-2-02\", \"2021-2-03\", \"2021-2-04\", \"2021-2-05\", \"2021-2-06\", \"2021-2-07\", \"2021-2-08\", \"2021-2-09\", \"2021-2-10\", \"2021-2-11\", \"2021-2-12\", \"2021-2-13\", \"2021-2-14\", \"2021-2-15\", \"2021-2-16\", \"2021-2-17\", \"2021-2-18\", \"2021-2-19\", \"2021-2-20\", \"2021-2-21\", \"2021-2-22\", \"2021-2-23\", \"2021-2-24\", \"2021-2-25\", \"2021-2-26\", \"2021-2-27\", \"2021-2-28\", \"2021-3-01\", \"2021-3-02\", \"2021-3-03\", \"2021-3-04\", \"2021-3-05\", \"2021-3-06\", \"2021-3-07\", \"2021-3-08\", \"2021-3-09\", \"2021-3-10\", \"2021-3-11\", \"2021-3-12\", \"2021-3-13\", \"2021-3-14\", \"2021-3-15\", \"2021-3-16\", \"2021-3-17\", \"2021-3-18\", \"2021-3-19\", \"2021-3-20\", \"2021-3-21\", \"2021-3-22\", \"2021-3-23\", \"2021-3-24\", \"2021-3-25\", \"2021-3-26\", \"2021-3-27\", \"2021-3-28\", \"2021-3-29\", \"2021-3-30\", \"2021-3-31\", \"2021-4-01\", \"2021-4-02\", \"2021-4-03\", \"2021-4-04\", \"2021-4-05\", \"2021-4-06\", \"2021-4-07\", \"2021-4-08\", \"2021-4-09\", \"2021-4-10\", \"2021-4-11\", \"2021-4-12\", \"2021-4-13\", \"2021-4-14\", \"2021-4-15\", \"2021-4-16\", \"2021-4-17\", \"2021-4-18\", \"2021-4-19\", \"2021-4-20\", \"2021-4-21\", \"2021-4-22\", \"2021-4-23\", \"2021-4-24\"], \"xaxis\": \"x\", \"y\": [null, 0.0, 0.0, 0.0, 0.0, 0.0, 20.0, 0.0, 0.0, 18.0, 4.0, 3.0, 0.0, 3.0, 5.0, 7.0, 25.0, 24.0, 34.0, 63.0, 98.0, 116.0, 106.0, 163.0, 290.0, 307.0, 710.0, 598.0, 656.0, 900.0, 1125.0, 2012.0, 3237.0, 4898.0, 6065.0, 5227.0, 9712.0, 10938.0, 11790.0, 13840.0, 18215.0, 19324.0, 19646.0, 20477.0, 23954.0, 26108.0, 27742.0, 31002.0, 33464.0, 34991.0, 26536.0, 32537.0, 35248.0, 33121.0, 34501.0, 34630.0, 30391.0, 26476.0, 27692.0, 29438.0, 31984.0, 30636.0, 33847.0, 29069.0, 25728.0, 29730.0, 27407.0, 32364.0, 31840.0, 36388.0, 35030.0, 26343.0, 23770.0, 26613.0, 29731.0, 31920.0, 36062.0, 29213.0, 26907.0, 25313.0, 26135.0, 25986.0, 29522.0, 29355.0, 25886.0, 20396.0, 19192.0, 24148.0, 23047.0, 27984.0, 27949.0, 23754.0, 19611.0, 23835.0, 21630.0, 22819.0, 28900.0, 25355.0, 21821.0, 19213.0, 19636.0, 19839.0, 20806.0, 23992.0, 25755.0, 24025.0, 20681.0, 19291.0, 22527.0, 20903.0, 22862.0, 25858.0, 23171.0, 19540.0, 19068.0, 19581.0, 21355.0, 23905.0, 27753.0, 26357.0, 20729.0, 21105.0, 26387.0, 26605.0, 28854.0, 34149.0, 34208.0, 26797.0, 31920.0, 37040.0, 39602.0, 41137.0, 48520.0, 44646.0, 41470.0, 45933.0, 47880.0, 53835.0, 59331.0, 61724.0, 50910.0, 47370.0, 52589.0, 57322.0, 64133.0, 63770.0, 74395.0, 64276.0, 59973.0, 66904.0, 68398.0, 74537.0, 75171.0, 76622.0, 65407.0, 66229.0, 63944.0, 69719.0, 73285.0, 71592.0, 79541.0, 70217.0, 56972.0, 61959.0, 66707.0, 66049.0, 70063.0, 73667.0, 60664.0, 50791.0, 49214.0, 55718.0, 56440.0, 60536.0, 64676.0, 58989.0, 49270.0, 49013.0, 55912.0, 56394.0, 54772.0, 61775.0, 54390.0, 38713.0, 40272.0, 45094.0, 46202.0, 46120.0, 51471.0, 45645.0, 34799.0, 40449.0, 41599.0, 45911.0, 46435.0, 49432.0, 45826.0, 35433.0, 37254.0, 43562.0, 41709.0, 45941.0, 53770.0, 43836.0, 32167.0, 25974.0, 28116.0, 37528.0, 40496.0, 47678.0, 40366.0, 32964.0, 37677.0, 37868.0, 41315.0, 46775.0, 52033.0, 44802.0, 33992.0, 35979.0, 36978.0, 42396.0, 46435.0, 54728.0, 44323.0, 33725.0, 37606.0, 45135.0, 42962.0, 47899.0, 52437.0, 49784.0, 34472.0, 41494.0, 44945.0, 50288.0, 58198.0, 61630.0, 54826.0, 43379.0, 46678.0, 55369.0, 59656.0, 66621.0, 71575.0, 59638.0, 50581.0, 57982.0, 64804.0, 67594.0, 75463.0, 83576.0, 80792.0, 63512.0, 69590.0, 78777.0, 83240.0, 93410.0, 102392.0, 90454.0, 77678.0, 89342.0, 99488.0, 109675.0, 124097.0, 137475.0, 132612.0, 109139.0, 124231.0, 150500.0, 149191.0, 165884.0, 188626.0, 161636.0, 148020.0, 159454.0, 165756.0, 177112.0, 194723.0, 205404.0, 178396.0, 152017.0, 173777.0, 181945.0, 183804.0, 162717.0, 165105.0, 149100.0, 145929.0, 166153.0, 187839.0, 208838.0, 222705.0, 239251.0, 213954.0, 182897.0, 200489.0, 213440.0, 228975.0, 227504.0, 247207.0, 226175.0, 194594.0, 200277.0, 205299.0, 253189.0, 238770.0, 257240.0, 200892.0, 190802.0, 200941.0, 201796.0, 233624.0, 212137.0, 155696.0, 165773.0, 147149.0, 188189.0, 202443.0, 236705.0, 242673.0, 228748.0, 236239.0, 204402.0, 198503.0, 237029.0, 266800.0, 280401.0, 307570.0, 259645.0, 221201.0, 219017.0, 230981.0, 240039.0, 235331.0, 250087.0, 206882.0, 178960.0, 150853.0, 175793.0, 192034.0, 194792.0, 196202.0, 175440.0, 142743.0, 151978.0, 153269.0, 162185.0, 165140.0, 171791.0, 147086.0, 112856.0, 127687.0, 117093.0, 115431.0, 126937.0, 134355.0, 109586.0, 92720.0, 94297.0, 100040.0, 99652.0, 109213.0, 104423.0, 88150.0, 67679.0, 57553.0, 66027.0, 73709.0, 72214.0, 84833.0, 72541.0, 59276.0, 58541.0, 74086.0, 75795.0, 78519.0, 81191.0, 65824.0, 54215.0, 54271.0, 58243.0, 67498.0, 68692.0, 69346.0, 59677.0, 45507.0, 45163.0, 56219.0, 61241.0, 62968.0, 68099.0, 52796.0, 43258.0, 46156.0, 53853.0, 63368.0, 63363.0, 66139.0, 59347.0, 47196.0, 46208.0, 60424.0, 67112.0, 66897.0, 76922.0, 68157.0, 52302.0, 60093.0, 63460.0, 70255.0, 77138.0, 73509.0, 70693.0, 47944.0, 56636.0, 62612.0, 75321.0, 80242.0, 85498.0, 72635.0, 57485.0, 56958.0, 78133.0, 78963.0, 74315.0, 81639.0, 71608.0, 51808.0, 51899.0, 61087.0, 65304.0, 67055.0, 67094.0, 53280.0], \"yaxis\": \"y\"}, {\"name\": \"People vaccinated\", \"type\": \"scatter\", \"x\": [\"2020-12-20\", \"2020-12-21\", \"2020-12-22\", \"2020-12-23\", \"2020-12-24\", \"2020-12-25\", \"2020-12-26\", \"2020-12-27\", \"2020-12-28\", \"2020-12-29\", \"2020-12-30\", \"2020-12-31\", \"2021-01-01\", \"2021-01-02\", \"2021-01-03\", \"2021-01-04\", \"2021-01-05\", \"2021-01-06\", \"2021-01-07\", \"2021-01-08\", \"2021-01-09\", \"2021-01-10\", \"2021-01-11\", \"2021-01-12\", \"2021-01-13\", \"2021-01-14\", \"2021-01-15\", \"2021-01-16\", \"2021-01-17\", \"2021-01-18\", \"2021-01-19\", \"2021-01-20\", \"2021-01-21\", \"2021-01-22\", \"2021-01-23\", \"2021-01-24\", \"2021-01-25\", \"2021-01-26\", \"2021-01-27\", \"2021-01-28\", \"2021-01-29\", \"2021-01-30\", \"2021-01-31\", \"2021-02-01\", \"2021-02-02\", \"2021-02-03\", \"2021-02-04\", \"2021-02-05\", \"2021-02-06\", \"2021-02-07\", \"2021-02-08\", \"2021-02-09\", \"2021-02-10\", \"2021-02-11\", \"2021-02-12\", \"2021-02-13\", \"2021-02-14\", \"2021-02-15\", \"2021-02-16\", \"2021-02-17\", \"2021-02-18\", \"2021-02-19\", \"2021-02-20\", \"2021-02-21\", \"2021-02-22\", \"2021-02-23\", \"2021-02-24\", \"2021-02-25\", \"2021-02-26\", \"2021-02-27\", \"2021-02-28\", \"2021-03-01\", \"2021-03-02\", \"2021-03-03\", \"2021-03-04\", \"2021-03-05\", \"2021-03-06\", \"2021-03-07\", \"2021-03-08\", \"2021-03-09\", \"2021-03-10\", \"2021-03-11\", \"2021-03-12\", \"2021-03-13\", \"2021-03-14\", \"2021-03-15\", \"2021-03-16\", \"2021-03-17\", \"2021-03-18\", \"2021-03-19\", \"2021-03-20\", \"2021-03-21\", \"2021-03-22\", \"2021-03-23\", \"2021-03-24\", \"2021-03-25\", \"2021-03-26\", \"2021-03-27\", \"2021-03-28\", \"2021-03-29\", \"2021-03-30\", \"2021-03-31\", \"2021-04-01\", \"2021-04-02\", \"2021-04-03\", \"2021-04-04\", \"2021-04-05\", \"2021-04-06\", \"2021-04-07\", \"2021-04-08\", \"2021-04-09\", \"2021-04-10\", \"2021-04-11\", \"2021-04-12\", \"2021-04-13\", \"2021-04-14\", \"2021-04-15\", \"2021-04-16\", \"2021-04-17\", \"2021-04-18\", \"2021-04-19\", \"2021-04-20\", \"2021-04-21\", \"2021-04-22\", \"2021-04-23\"], \"xaxis\": \"x\", \"y\": [556208.0, 614117.0, null, 1008025.0, null, null, 1944585.0, null, 2127143.0, null, 2794588.0, null, null, 4225756.0, null, 4563260.0, 4836469.0, 5306797.0, 5919418.0, 6688231.0, null, null, 8987322.0, 9327138.0, null, 9690757.0, 10595866.0, null, null, null, 13595803.0, 14270441.0, 15053257.0, 16243093.0, 17390345.0, 18502131.0, 19252279.0, 19902237.0, 20687970.0, 21698606.0, 22858318.0, 24064165.0, 25201143.0, 26023153.0, 26440836.0, 27154956.0, 27905197.0, 28909497.0, 30250964.0, 31579100.0, 32340146.0, 32867213.0, 33783384.0, 34723964.0, 35834855.0, 37056122.0, 38292270.0, null, 39670551.0, 40268009.0, 41021049.0, 41977401.0, 42809595.0, 43628092.0, 44138118.0, 44544969.0, 45237143.0, 46074392.0, 47184199.0, 48435536.0, 49772180.0, 50732997.0, 51755447.0, 52855579.0, 54035670.0, 55547697.0, 57358849.0, 58873710.0, 60005231.0, 61088527.0, 62451150.0, 64071674.0, 65965305.0, 68884011.0, 69784210.0, 71054445.0, 72135616.0, 73669956.0, 75495716.0, 77230061.0, 79367225.0, 81415769.0, 82772416.0, 83930495.0, 85472166.0, 87343622.0, 89559225.0, 91707729.0, 93631163.0, 95015762.0, 96044046.0, 97593290.0, 99565311.0, 101804762.0, 104213478.0, 106214924.0, 107515428.0, 108301234.0, 109995734.0, 112046611.0, 114436039.0, 117142879.0, 119242902.0, 120848490.0, 122295530.0, 123917385.0, 125822868.0, 127743096.0, 129494179.0, 131247546.0, 132321628.0, 133266995.0, 134445595.0, 135791031.0, 137234889.0], \"yaxis\": \"y2\"}],                        {\"autosize\": false, \"height\": 500, \"template\": {\"data\": {\"bar\": [{\"error_x\": {\"color\": \"#2a3f5f\"}, \"error_y\": {\"color\": \"#2a3f5f\"}, \"marker\": {\"line\": {\"color\": \"#E5ECF6\", \"width\": 0.5}}, \"type\": \"bar\"}], \"barpolar\": [{\"marker\": {\"line\": {\"color\": \"#E5ECF6\", \"width\": 0.5}}, \"type\": \"barpolar\"}], \"carpet\": [{\"aaxis\": {\"endlinecolor\": \"#2a3f5f\", \"gridcolor\": \"white\", \"linecolor\": \"white\", \"minorgridcolor\": \"white\", \"startlinecolor\": \"#2a3f5f\"}, \"baxis\": {\"endlinecolor\": \"#2a3f5f\", \"gridcolor\": \"white\", \"linecolor\": \"white\", \"minorgridcolor\": \"white\", \"startlinecolor\": \"#2a3f5f\"}, \"type\": \"carpet\"}], \"choropleth\": [{\"colorbar\": {\"outlinewidth\": 0, \"ticks\": \"\"}, \"type\": \"choropleth\"}], \"contour\": [{\"colorbar\": {\"outlinewidth\": 0, \"ticks\": \"\"}, \"colorscale\": [[0.0, \"#0d0887\"], [0.1111111111111111, \"#46039f\"], [0.2222222222222222, \"#7201a8\"], [0.3333333333333333, \"#9c179e\"], [0.4444444444444444, \"#bd3786\"], [0.5555555555555556, \"#d8576b\"], [0.6666666666666666, \"#ed7953\"], [0.7777777777777778, \"#fb9f3a\"], [0.8888888888888888, \"#fdca26\"], [1.0, \"#f0f921\"]], \"type\": \"contour\"}], \"contourcarpet\": [{\"colorbar\": {\"outlinewidth\": 0, \"ticks\": \"\"}, \"type\": \"contourcarpet\"}], \"heatmap\": [{\"colorbar\": {\"outlinewidth\": 0, \"ticks\": \"\"}, \"colorscale\": [[0.0, \"#0d0887\"], [0.1111111111111111, \"#46039f\"], [0.2222222222222222, \"#7201a8\"], [0.3333333333333333, \"#9c179e\"], [0.4444444444444444, \"#bd3786\"], [0.5555555555555556, \"#d8576b\"], [0.6666666666666666, \"#ed7953\"], [0.7777777777777778, \"#fb9f3a\"], [0.8888888888888888, \"#fdca26\"], [1.0, \"#f0f921\"]], \"type\": \"heatmap\"}], \"heatmapgl\": [{\"colorbar\": {\"outlinewidth\": 0, \"ticks\": \"\"}, \"colorscale\": [[0.0, \"#0d0887\"], [0.1111111111111111, \"#46039f\"], [0.2222222222222222, \"#7201a8\"], [0.3333333333333333, \"#9c179e\"], [0.4444444444444444, \"#bd3786\"], [0.5555555555555556, \"#d8576b\"], [0.6666666666666666, \"#ed7953\"], [0.7777777777777778, \"#fb9f3a\"], [0.8888888888888888, \"#fdca26\"], [1.0, \"#f0f921\"]], \"type\": \"heatmapgl\"}], \"histogram\": [{\"marker\": {\"colorbar\": {\"outlinewidth\": 0, \"ticks\": \"\"}}, \"type\": \"histogram\"}], \"histogram2d\": [{\"colorbar\": {\"outlinewidth\": 0, \"ticks\": \"\"}, \"colorscale\": [[0.0, \"#0d0887\"], [0.1111111111111111, \"#46039f\"], [0.2222222222222222, \"#7201a8\"], [0.3333333333333333, \"#9c179e\"], [0.4444444444444444, \"#bd3786\"], [0.5555555555555556, \"#d8576b\"], [0.6666666666666666, \"#ed7953\"], [0.7777777777777778, \"#fb9f3a\"], [0.8888888888888888, \"#fdca26\"], [1.0, \"#f0f921\"]], \"type\": \"histogram2d\"}], \"histogram2dcontour\": [{\"colorbar\": {\"outlinewidth\": 0, \"ticks\": \"\"}, \"colorscale\": [[0.0, \"#0d0887\"], [0.1111111111111111, \"#46039f\"], [0.2222222222222222, \"#7201a8\"], [0.3333333333333333, \"#9c179e\"], [0.4444444444444444, \"#bd3786\"], [0.5555555555555556, \"#d8576b\"], [0.6666666666666666, \"#ed7953\"], [0.7777777777777778, \"#fb9f3a\"], [0.8888888888888888, \"#fdca26\"], [1.0, \"#f0f921\"]], \"type\": \"histogram2dcontour\"}], \"mesh3d\": [{\"colorbar\": {\"outlinewidth\": 0, \"ticks\": \"\"}, \"type\": \"mesh3d\"}], \"parcoords\": [{\"line\": {\"colorbar\": {\"outlinewidth\": 0, \"ticks\": \"\"}}, \"type\": \"parcoords\"}], \"pie\": [{\"automargin\": true, \"type\": \"pie\"}], \"scatter\": [{\"marker\": {\"colorbar\": {\"outlinewidth\": 0, \"ticks\": \"\"}}, \"type\": \"scatter\"}], \"scatter3d\": [{\"line\": {\"colorbar\": {\"outlinewidth\": 0, \"ticks\": \"\"}}, \"marker\": {\"colorbar\": {\"outlinewidth\": 0, \"ticks\": \"\"}}, \"type\": \"scatter3d\"}], \"scattercarpet\": [{\"marker\": {\"colorbar\": {\"outlinewidth\": 0, \"ticks\": \"\"}}, \"type\": \"scattercarpet\"}], \"scattergeo\": [{\"marker\": {\"colorbar\": {\"outlinewidth\": 0, \"ticks\": \"\"}}, \"type\": \"scattergeo\"}], \"scattergl\": [{\"marker\": {\"colorbar\": {\"outlinewidth\": 0, \"ticks\": \"\"}}, \"type\": \"scattergl\"}], \"scattermapbox\": [{\"marker\": {\"colorbar\": {\"outlinewidth\": 0, \"ticks\": \"\"}}, \"type\": \"scattermapbox\"}], \"scatterpolar\": [{\"marker\": {\"colorbar\": {\"outlinewidth\": 0, \"ticks\": \"\"}}, \"type\": \"scatterpolar\"}], \"scatterpolargl\": [{\"marker\": {\"colorbar\": {\"outlinewidth\": 0, \"ticks\": \"\"}}, \"type\": \"scatterpolargl\"}], \"scatterternary\": [{\"marker\": {\"colorbar\": {\"outlinewidth\": 0, \"ticks\": \"\"}}, \"type\": \"scatterternary\"}], \"surface\": [{\"colorbar\": {\"outlinewidth\": 0, \"ticks\": \"\"}, \"colorscale\": [[0.0, \"#0d0887\"], [0.1111111111111111, \"#46039f\"], [0.2222222222222222, \"#7201a8\"], [0.3333333333333333, \"#9c179e\"], [0.4444444444444444, \"#bd3786\"], [0.5555555555555556, \"#d8576b\"], [0.6666666666666666, \"#ed7953\"], [0.7777777777777778, \"#fb9f3a\"], [0.8888888888888888, \"#fdca26\"], [1.0, \"#f0f921\"]], \"type\": \"surface\"}], \"table\": [{\"cells\": {\"fill\": {\"color\": \"#EBF0F8\"}, \"line\": {\"color\": \"white\"}}, \"header\": {\"fill\": {\"color\": \"#C8D4E3\"}, \"line\": {\"color\": \"white\"}}, \"type\": \"table\"}]}, \"layout\": {\"annotationdefaults\": {\"arrowcolor\": \"#2a3f5f\", \"arrowhead\": 0, \"arrowwidth\": 1}, \"autotypenumbers\": \"strict\", \"coloraxis\": {\"colorbar\": {\"outlinewidth\": 0, \"ticks\": \"\"}}, \"colorscale\": {\"diverging\": [[0, \"#8e0152\"], [0.1, \"#c51b7d\"], [0.2, \"#de77ae\"], [0.3, \"#f1b6da\"], [0.4, \"#fde0ef\"], [0.5, \"#f7f7f7\"], [0.6, \"#e6f5d0\"], [0.7, \"#b8e186\"], [0.8, \"#7fbc41\"], [0.9, \"#4d9221\"], [1, \"#276419\"]], \"sequential\": [[0.0, \"#0d0887\"], [0.1111111111111111, \"#46039f\"], [0.2222222222222222, \"#7201a8\"], [0.3333333333333333, \"#9c179e\"], [0.4444444444444444, \"#bd3786\"], [0.5555555555555556, \"#d8576b\"], [0.6666666666666666, \"#ed7953\"], [0.7777777777777778, \"#fb9f3a\"], [0.8888888888888888, \"#fdca26\"], [1.0, \"#f0f921\"]], \"sequentialminus\": [[0.0, \"#0d0887\"], [0.1111111111111111, \"#46039f\"], [0.2222222222222222, \"#7201a8\"], [0.3333333333333333, \"#9c179e\"], [0.4444444444444444, \"#bd3786\"], [0.5555555555555556, \"#d8576b\"], [0.6666666666666666, \"#ed7953\"], [0.7777777777777778, \"#fb9f3a\"], [0.8888888888888888, \"#fdca26\"], [1.0, \"#f0f921\"]]}, \"colorway\": [\"#636efa\", \"#EF553B\", \"#00cc96\", \"#ab63fa\", \"#FFA15A\", \"#19d3f3\", \"#FF6692\", \"#B6E880\", \"#FF97FF\", \"#FECB52\"], \"font\": {\"color\": \"#2a3f5f\"}, \"geo\": {\"bgcolor\": \"white\", \"lakecolor\": \"white\", \"landcolor\": \"#E5ECF6\", \"showlakes\": true, \"showland\": true, \"subunitcolor\": \"white\"}, \"hoverlabel\": {\"align\": \"left\"}, \"hovermode\": \"closest\", \"mapbox\": {\"style\": \"light\"}, \"paper_bgcolor\": \"white\", \"plot_bgcolor\": \"#E5ECF6\", \"polar\": {\"angularaxis\": {\"gridcolor\": \"white\", \"linecolor\": \"white\", \"ticks\": \"\"}, \"bgcolor\": \"#E5ECF6\", \"radialaxis\": {\"gridcolor\": \"white\", \"linecolor\": \"white\", \"ticks\": \"\"}}, \"scene\": {\"xaxis\": {\"backgroundcolor\": \"#E5ECF6\", \"gridcolor\": \"white\", \"gridwidth\": 2, \"linecolor\": \"white\", \"showbackground\": true, \"ticks\": \"\", \"zerolinecolor\": \"white\"}, \"yaxis\": {\"backgroundcolor\": \"#E5ECF6\", \"gridcolor\": \"white\", \"gridwidth\": 2, \"linecolor\": \"white\", \"showbackground\": true, \"ticks\": \"\", \"zerolinecolor\": \"white\"}, \"zaxis\": {\"backgroundcolor\": \"#E5ECF6\", \"gridcolor\": \"white\", \"gridwidth\": 2, \"linecolor\": \"white\", \"showbackground\": true, \"ticks\": \"\", \"zerolinecolor\": \"white\"}}, \"shapedefaults\": {\"line\": {\"color\": \"#2a3f5f\"}}, \"ternary\": {\"aaxis\": {\"gridcolor\": \"white\", \"linecolor\": \"white\", \"ticks\": \"\"}, \"baxis\": {\"gridcolor\": \"white\", \"linecolor\": \"white\", \"ticks\": \"\"}, \"bgcolor\": \"#E5ECF6\", \"caxis\": {\"gridcolor\": \"white\", \"linecolor\": \"white\", \"ticks\": \"\"}}, \"title\": {\"x\": 0.05}, \"xaxis\": {\"automargin\": true, \"gridcolor\": \"white\", \"linecolor\": \"white\", \"ticks\": \"\", \"title\": {\"standoff\": 15}, \"zerolinecolor\": \"white\", \"zerolinewidth\": 2}, \"yaxis\": {\"automargin\": true, \"gridcolor\": \"white\", \"linecolor\": \"white\", \"ticks\": \"\", \"title\": {\"standoff\": 15}, \"zerolinecolor\": \"white\", \"zerolinewidth\": 2}}}, \"title\": {\"text\": \"USA cases and vaccination\"}, \"width\": 700, \"xaxis\": {\"anchor\": \"y\", \"domain\": [0.0, 0.94], \"title\": {\"text\": \"date\"}}, \"yaxis\": {\"anchor\": \"x\", \"domain\": [0.0, 1.0], \"title\": {\"text\": \"No of cases of covid\"}}, \"yaxis2\": {\"anchor\": \"x\", \"overlaying\": \"y\", \"side\": \"right\", \"title\": {\"text\": \"No of people with at least one dose\"}}},                        {\"responsive\": true}                    ).then(function(){\n",
       "                            \n",
       "var gd = document.getElementById('ce4f1b08-adb8-4383-8d1b-4ecdde0fb724');\n",
       "var x = new MutationObserver(function (mutations, observer) {{\n",
       "        var display = window.getComputedStyle(gd).display;\n",
       "        if (!display || display === 'none') {{\n",
       "            console.log([gd, 'removed!']);\n",
       "            Plotly.purge(gd);\n",
       "            observer.disconnect();\n",
       "        }}\n",
       "}});\n",
       "\n",
       "// Listen for the removal of the full notebook cells\n",
       "var notebookContainer = gd.closest('#notebook-container');\n",
       "if (notebookContainer) {{\n",
       "    x.observe(notebookContainer, {childList: true});\n",
       "}}\n",
       "\n",
       "// Listen for the clearing of the current output cell\n",
       "var outputEl = gd.closest('.output');\n",
       "if (outputEl) {{\n",
       "    x.observe(outputEl, {childList: true});\n",
       "}}\n",
       "\n",
       "                        })                };                });            </script>        </div>"
      ]
     },
     "metadata": {},
     "output_type": "display_data"
    }
   ],
   "source": [
    "fig = make_subplots(specs=[[{\"secondary_y\": True}]])\n",
    "\n",
    "fig.add_trace(\n",
    "    go.Scatter(y=covid_daily_USA['daily_new_cases'], x=covid_daily_USA['date'], name=\"No of cases daily (USA)\"),\n",
    "    secondary_y=False,\n",
    ")\n",
    "\n",
    "fig.add_trace(\n",
    "    go.Scatter(x= dfs[2]['date'],y = dfs[2]['people_vaccinated'], name = 'People vaccinated' ),\n",
    "    secondary_y=True,\n",
    ")\n",
    "\n",
    "fig.update_layout(\n",
    "    autosize=False,\n",
    "    width=700,\n",
    "    height=500,\n",
    "    title_text=\"USA cases and vaccination\"\n",
    ")\n",
    "\n",
    "fig.update_xaxes(title_text=\"date\")\n",
    "\n",
    "fig.update_yaxes(title_text=\"No of cases of covid\", secondary_y=False)\n",
    "fig.update_yaxes(title_text=\"No of people with at least one dose\", secondary_y=True)\n",
    "\n",
    "fig.show()"
   ]
  },
  {
   "cell_type": "code",
   "execution_count": 14,
   "id": "challenging-conflict",
   "metadata": {
    "_kg_hide-input": true,
    "execution": {
     "iopub.execute_input": "2021-04-26T13:37:19.227434Z",
     "iopub.status.busy": "2021-04-26T13:37:19.205862Z",
     "iopub.status.idle": "2021-04-26T13:37:19.241093Z",
     "shell.execute_reply": "2021-04-26T13:37:19.240554Z"
    },
    "papermill": {
     "duration": 0.082778,
     "end_time": "2021-04-26T13:37:19.241242",
     "exception": false,
     "start_time": "2021-04-26T13:37:19.158464",
     "status": "completed"
    },
    "tags": []
   },
   "outputs": [
    {
     "data": {
      "text/html": [
       "<div>                            <div id=\"fd16703d-2d5c-4137-a254-51bdd689d166\" class=\"plotly-graph-div\" style=\"height:500px; width:700px;\"></div>            <script type=\"text/javascript\">                require([\"plotly\"], function(Plotly) {                    window.PLOTLYENV=window.PLOTLYENV || {};                                    if (document.getElementById(\"fd16703d-2d5c-4137-a254-51bdd689d166\")) {                    Plotly.newPlot(                        \"fd16703d-2d5c-4137-a254-51bdd689d166\",                        [{\"name\": \"No of deaths daily (USA)\", \"type\": \"scatter\", \"x\": [\"2020-2-15\", \"2020-2-16\", \"2020-2-17\", \"2020-2-18\", \"2020-2-19\", \"2020-2-20\", \"2020-2-21\", \"2020-2-22\", \"2020-2-23\", \"2020-2-24\", \"2020-2-25\", \"2020-2-26\", \"2020-2-27\", \"2020-2-28\", \"2020-2-29\", \"2020-3-01\", \"2020-3-02\", \"2020-3-03\", \"2020-3-04\", \"2020-3-05\", \"2020-3-06\", \"2020-3-07\", \"2020-3-08\", \"2020-3-09\", \"2020-3-10\", \"2020-3-11\", \"2020-3-12\", \"2020-3-13\", \"2020-3-14\", \"2020-3-15\", \"2020-3-16\", \"2020-3-17\", \"2020-3-18\", \"2020-3-19\", \"2020-3-20\", \"2020-3-21\", \"2020-3-22\", \"2020-3-23\", \"2020-3-24\", \"2020-3-25\", \"2020-3-26\", \"2020-3-27\", \"2020-3-28\", \"2020-3-29\", \"2020-3-30\", \"2020-3-31\", \"2020-4-01\", \"2020-4-02\", \"2020-4-03\", \"2020-4-04\", \"2020-4-05\", \"2020-4-06\", \"2020-4-07\", \"2020-4-08\", \"2020-4-09\", \"2020-4-10\", \"2020-4-11\", \"2020-4-12\", \"2020-4-13\", \"2020-4-14\", \"2020-4-15\", \"2020-4-16\", \"2020-4-17\", \"2020-4-18\", \"2020-4-19\", \"2020-4-20\", \"2020-4-21\", \"2020-4-22\", \"2020-4-23\", \"2020-4-24\", \"2020-4-25\", \"2020-4-26\", \"2020-4-27\", \"2020-4-28\", \"2020-4-29\", \"2020-4-30\", \"2020-5-01\", \"2020-5-02\", \"2020-5-03\", \"2020-5-04\", \"2020-5-05\", \"2020-5-06\", \"2020-5-07\", \"2020-5-08\", \"2020-5-09\", \"2020-5-10\", \"2020-5-11\", \"2020-5-12\", \"2020-5-13\", \"2020-5-14\", \"2020-5-15\", \"2020-5-16\", \"2020-5-17\", \"2020-5-18\", \"2020-5-19\", \"2020-5-20\", \"2020-5-21\", \"2020-5-22\", \"2020-5-23\", \"2020-5-24\", \"2020-5-25\", \"2020-5-26\", \"2020-5-27\", \"2020-5-28\", \"2020-5-29\", \"2020-5-30\", \"2020-5-31\", \"2020-6-01\", \"2020-6-02\", \"2020-6-03\", \"2020-6-04\", \"2020-6-05\", \"2020-6-06\", \"2020-6-07\", \"2020-6-08\", \"2020-6-09\", \"2020-6-10\", \"2020-6-11\", \"2020-6-12\", \"2020-6-13\", \"2020-6-14\", \"2020-6-15\", \"2020-6-16\", \"2020-6-17\", \"2020-6-18\", \"2020-6-19\", \"2020-6-20\", \"2020-6-21\", \"2020-6-22\", \"2020-6-23\", \"2020-6-24\", \"2020-6-25\", \"2020-6-26\", \"2020-6-27\", \"2020-6-28\", \"2020-6-29\", \"2020-6-30\", \"2020-7-01\", \"2020-7-02\", \"2020-7-03\", \"2020-7-04\", \"2020-7-05\", \"2020-7-06\", \"2020-7-07\", \"2020-7-08\", \"2020-7-09\", \"2020-7-10\", \"2020-7-11\", \"2020-7-12\", \"2020-7-13\", \"2020-7-14\", \"2020-7-15\", \"2020-7-16\", \"2020-7-17\", \"2020-7-18\", \"2020-7-19\", \"2020-7-20\", \"2020-7-21\", \"2020-7-22\", \"2020-7-23\", \"2020-7-24\", \"2020-7-25\", \"2020-7-26\", \"2020-7-27\", \"2020-7-28\", \"2020-7-29\", \"2020-7-30\", \"2020-7-31\", \"2020-8-01\", \"2020-8-02\", \"2020-8-03\", \"2020-8-04\", \"2020-8-05\", \"2020-8-06\", \"2020-8-07\", \"2020-8-08\", \"2020-8-09\", \"2020-8-10\", \"2020-8-11\", \"2020-8-12\", \"2020-8-13\", \"2020-8-14\", \"2020-8-15\", \"2020-8-16\", \"2020-8-17\", \"2020-8-18\", \"2020-8-19\", \"2020-8-20\", \"2020-8-21\", \"2020-8-22\", \"2020-8-23\", \"2020-8-24\", \"2020-8-25\", \"2020-8-26\", \"2020-8-27\", \"2020-8-28\", \"2020-8-29\", \"2020-8-30\", \"2020-8-31\", \"2020-9-01\", \"2020-9-02\", \"2020-9-03\", \"2020-9-04\", \"2020-9-05\", \"2020-9-06\", \"2020-9-07\", \"2020-9-08\", \"2020-9-09\", \"2020-9-10\", \"2020-9-11\", \"2020-9-12\", \"2020-9-13\", \"2020-9-14\", \"2020-9-15\", \"2020-9-16\", \"2020-9-17\", \"2020-9-18\", \"2020-9-19\", \"2020-9-20\", \"2020-9-21\", \"2020-9-22\", \"2020-9-23\", \"2020-9-24\", \"2020-9-25\", \"2020-9-26\", \"2020-9-27\", \"2020-9-28\", \"2020-9-29\", \"2020-9-30\", \"2020-10-01\", \"2020-10-02\", \"2020-10-03\", \"2020-10-04\", \"2020-10-05\", \"2020-10-06\", \"2020-10-07\", \"2020-10-08\", \"2020-10-09\", \"2020-10-10\", \"2020-10-11\", \"2020-10-12\", \"2020-10-13\", \"2020-10-14\", \"2020-10-15\", \"2020-10-16\", \"2020-10-17\", \"2020-10-18\", \"2020-10-19\", \"2020-10-20\", \"2020-10-21\", \"2020-10-22\", \"2020-10-23\", \"2020-10-24\", \"2020-10-25\", \"2020-10-26\", \"2020-10-27\", \"2020-10-28\", \"2020-10-29\", \"2020-10-30\", \"2020-10-31\", \"2020-11-01\", \"2020-11-02\", \"2020-11-03\", \"2020-11-04\", \"2020-11-05\", \"2020-11-06\", \"2020-11-07\", \"2020-11-08\", \"2020-11-09\", \"2020-11-10\", \"2020-11-11\", \"2020-11-12\", \"2020-11-13\", \"2020-11-14\", \"2020-11-15\", \"2020-11-16\", \"2020-11-17\", \"2020-11-18\", \"2020-11-19\", \"2020-11-20\", \"2020-11-21\", \"2020-11-22\", \"2020-11-23\", \"2020-11-24\", \"2020-11-25\", \"2020-11-26\", \"2020-11-27\", \"2020-11-28\", \"2020-11-29\", \"2020-11-30\", \"2020-12-01\", \"2020-12-02\", \"2020-12-03\", \"2020-12-04\", \"2020-12-05\", \"2020-12-06\", \"2020-12-07\", \"2020-12-08\", \"2020-12-09\", \"2020-12-10\", \"2020-12-11\", \"2020-12-12\", \"2020-12-13\", \"2020-12-14\", \"2020-12-15\", \"2020-12-16\", \"2020-12-17\", \"2020-12-18\", \"2020-12-19\", \"2020-12-20\", \"2020-12-21\", \"2020-12-22\", \"2020-12-23\", \"2020-12-24\", \"2020-12-25\", \"2020-12-26\", \"2020-12-27\", \"2020-12-28\", \"2020-12-29\", \"2020-12-30\", \"2020-12-31\", \"2021-1-01\", \"2021-1-02\", \"2021-1-03\", \"2021-1-04\", \"2021-1-05\", \"2021-1-06\", \"2021-1-07\", \"2021-1-08\", \"2021-1-09\", \"2021-1-10\", \"2021-1-11\", \"2021-1-12\", \"2021-1-13\", \"2021-1-14\", \"2021-1-15\", \"2021-1-16\", \"2021-1-17\", \"2021-1-18\", \"2021-1-19\", \"2021-1-20\", \"2021-1-21\", \"2021-1-22\", \"2021-1-23\", \"2021-1-24\", \"2021-1-25\", \"2021-1-26\", \"2021-1-27\", \"2021-1-28\", \"2021-1-29\", \"2021-1-30\", \"2021-1-31\", \"2021-2-01\", \"2021-2-02\", \"2021-2-03\", \"2021-2-04\", \"2021-2-05\", \"2021-2-06\", \"2021-2-07\", \"2021-2-08\", \"2021-2-09\", \"2021-2-10\", \"2021-2-11\", \"2021-2-12\", \"2021-2-13\", \"2021-2-14\", \"2021-2-15\", \"2021-2-16\", \"2021-2-17\", \"2021-2-18\", \"2021-2-19\", \"2021-2-20\", \"2021-2-21\", \"2021-2-22\", \"2021-2-23\", \"2021-2-24\", \"2021-2-25\", \"2021-2-26\", \"2021-2-27\", \"2021-2-28\", \"2021-3-01\", \"2021-3-02\", \"2021-3-03\", \"2021-3-04\", \"2021-3-05\", \"2021-3-06\", \"2021-3-07\", \"2021-3-08\", \"2021-3-09\", \"2021-3-10\", \"2021-3-11\", \"2021-3-12\", \"2021-3-13\", \"2021-3-14\", \"2021-3-15\", \"2021-3-16\", \"2021-3-17\", \"2021-3-18\", \"2021-3-19\", \"2021-3-20\", \"2021-3-21\", \"2021-3-22\", \"2021-3-23\", \"2021-3-24\", \"2021-3-25\", \"2021-3-26\", \"2021-3-27\", \"2021-3-28\", \"2021-3-29\", \"2021-3-30\", \"2021-3-31\", \"2021-4-01\", \"2021-4-02\", \"2021-4-03\", \"2021-4-04\", \"2021-4-05\", \"2021-4-06\", \"2021-4-07\", \"2021-4-08\", \"2021-4-09\", \"2021-4-10\", \"2021-4-11\", \"2021-4-12\", \"2021-4-13\", \"2021-4-14\", \"2021-4-15\", \"2021-4-16\", \"2021-4-17\", \"2021-4-18\", \"2021-4-19\", \"2021-4-20\", \"2021-4-21\", \"2021-4-22\", \"2021-4-23\", \"2021-4-24\"], \"xaxis\": \"x\", \"y\": [null, null, null, null, null, 0.0, 0.0, 0.0, 0.0, 0.0, 0.0, 0.0, 0.0, 0.0, 1.0, 0.0, 5.0, 3.0, 2.0, 1.0, 3.0, 4.0, 3.0, 4.0, 4.0, 8.0, 2.0, 7.0, 10.0, 15.0, 22.0, 27.0, 50.0, 69.0, 72.0, 65.0, 138.0, 181.0, 271.0, 309.0, 364.0, 503.0, 655.0, 507.0, 825.0, 1099.0, 1270.0, 1215.0, 1293.0, 1588.0, 1433.0, 1519.0, 2288.0, 2220.0, 2158.0, 2295.0, 2074.0, 1771.0, 1751.0, 2633.0, 2706.0, 2265.0, 2615.0, 1931.0, 1601.0, 1990.0, 2759.0, 2426.0, 2423.0, 2014.0, 2119.0, 1183.0, 1434.0, 2554.0, 2472.0, 2291.0, 1976.0, 1740.0, 1183.0, 1350.0, 2426.0, 2589.0, 2188.0, 1744.0, 1469.0, 1238.0, 1086.0, 1916.0, 1872.0, 1805.0, 1665.0, 1258.0, 894.0, 1031.0, 1591.0, 1448.0, 1457.0, 1334.0, 1042.0, 630.0, 656.0, 779.0, 1562.0, 1244.0, 1240.0, 1041.0, 672.0, 704.0, 1147.0, 1113.0, 1054.0, 989.0, 734.0, 402.0, 584.0, 1102.0, 1009.0, 918.0, 782.0, 724.0, 345.0, 425.0, 868.0, 831.0, 764.0, 737.0, 591.0, 280.0, 372.0, 878.0, 820.0, 658.0, 665.0, 533.0, 301.0, 358.0, 732.0, 695.0, 688.0, 630.0, 282.0, 279.0, 406.0, 1009.0, 915.0, 971.0, 871.0, 759.0, 403.0, 483.0, 970.0, 1025.0, 992.0, 977.0, 829.0, 438.0, 550.0, 1201.0, 1248.0, 1192.0, 1189.0, 940.0, 483.0, 608.0, 1341.0, 1477.0, 1880.0, 1464.0, 1065.0, 447.0, 624.0, 1428.0, 1344.0, 1212.0, 1341.0, 1051.0, 550.0, 560.0, 1513.0, 1431.0, 1321.0, 1184.0, 1126.0, 539.0, 591.0, 1392.0, 1292.0, 1094.0, 1144.0, 994.0, 462.0, 500.0, 1295.0, 1308.0, 1162.0, 1114.0, 968.0, 382.0, 527.0, 1175.0, 1114.0, 1132.0, 1053.0, 710.0, 457.0, 322.0, 476.0, 1211.0, 1070.0, 1089.0, 709.0, 424.0, 474.0, 1203.0, 1015.0, 897.0, 958.0, 677.0, 317.0, 392.0, 982.0, 1129.0, 929.0, 879.0, 745.0, 295.0, 366.0, 981.0, 947.0, 902.0, 885.0, 743.0, 341.0, 436.0, 818.0, 944.0, 930.0, 918.0, 734.0, 351.0, 359.0, 872.0, 981.0, 885.0, 971.0, 666.0, 505.0, 466.0, 970.0, 1242.0, 973.0, 875.0, 800.0, 461.0, 542.0, 1056.0, 1054.0, 1070.0, 964.0, 962.0, 495.0, 604.0, 1242.0, 1313.0, 1260.0, 1326.0, 1128.0, 649.0, 765.0, 1536.0, 1517.0, 1288.0, 1478.0, 1368.0, 786.0, 860.0, 1723.0, 2075.0, 2124.0, 2068.0, 1655.0, 986.0, 1099.0, 2294.0, 2402.0, 1537.0, 1487.0, 1381.0, 956.0, 1359.0, 2821.0, 3011.0, 3003.0, 2785.0, 2435.0, 1253.0, 1674.0, 3075.0, 3397.0, 3213.0, 3136.0, 2485.0, 1584.0, 1793.0, 3177.0, 3758.0, 3491.0, 2937.0, 2834.0, 1673.0, 2098.0, 3465.0, 3520.0, 3067.0, 1617.0, 1615.0, 1385.0, 2090.0, 3806.0, 4006.0, 3715.0, 2380.0, 2194.0, 1475.0, 1973.0, 3837.0, 4151.0, 4192.0, 4054.0, 3331.0, 1910.0, 2119.0, 4493.0, 4092.0, 4181.0, 3877.0, 3605.0, 1941.0, 1586.0, 2916.0, 4442.0, 4389.0, 3983.0, 3511.0, 1933.0, 1922.0, 4128.0, 4245.0, 3956.0, 3768.0, 2894.0, 1919.0, 1889.0, 3637.0, 3988.0, 3567.0, 3541.0, 2822.0, 1401.0, 1521.0, 3267.0, 3397.0, 3237.0, 3016.0, 2347.0, 1136.0, 975.0, 1831.0, 2555.0, 2744.0, 2687.0, 1919.0, 1258.0, 1400.0, 2429.0, 2505.0, 2447.0, 2252.0, 1600.0, 1331.0, 1453.0, 2114.0, 2398.0, 2064.0, 1859.0, 1641.0, 829.0, 896.0, 1529.0, 1687.0, 1626.0, 1548.0, 1119.0, 707.0, 860.0, 1156.0, 1389.0, 1391.0, 1249.0, 820.0, 496.0, 679.0, 1027.0, 1396.0, 1257.0, 1296.0, 854.0, 562.0, 689.0, 892.0, 1159.0, 979.0, 999.0, 829.0, 300.0, 519.0, 875.0, 928.0, 1029.0, 935.0, 733.0, 325.0, 498.0, 831.0, 958.0, 935.0, 901.0, 760.0, 305.0, 504.0, 891.0, 915.0, 934.0, 811.0, 742.0], \"yaxis\": \"y\"}, {\"name\": \"People vaccinated\", \"type\": \"scatter\", \"x\": [\"2020-12-20\", \"2020-12-21\", \"2020-12-22\", \"2020-12-23\", \"2020-12-24\", \"2020-12-25\", \"2020-12-26\", \"2020-12-27\", \"2020-12-28\", \"2020-12-29\", \"2020-12-30\", \"2020-12-31\", \"2021-01-01\", \"2021-01-02\", \"2021-01-03\", \"2021-01-04\", \"2021-01-05\", \"2021-01-06\", \"2021-01-07\", \"2021-01-08\", \"2021-01-09\", \"2021-01-10\", \"2021-01-11\", \"2021-01-12\", \"2021-01-13\", \"2021-01-14\", \"2021-01-15\", \"2021-01-16\", \"2021-01-17\", \"2021-01-18\", \"2021-01-19\", \"2021-01-20\", \"2021-01-21\", \"2021-01-22\", \"2021-01-23\", \"2021-01-24\", \"2021-01-25\", \"2021-01-26\", \"2021-01-27\", \"2021-01-28\", \"2021-01-29\", \"2021-01-30\", \"2021-01-31\", \"2021-02-01\", \"2021-02-02\", \"2021-02-03\", \"2021-02-04\", \"2021-02-05\", \"2021-02-06\", \"2021-02-07\", \"2021-02-08\", \"2021-02-09\", \"2021-02-10\", \"2021-02-11\", \"2021-02-12\", \"2021-02-13\", \"2021-02-14\", \"2021-02-15\", \"2021-02-16\", \"2021-02-17\", \"2021-02-18\", \"2021-02-19\", \"2021-02-20\", \"2021-02-21\", \"2021-02-22\", \"2021-02-23\", \"2021-02-24\", \"2021-02-25\", \"2021-02-26\", \"2021-02-27\", \"2021-02-28\", \"2021-03-01\", \"2021-03-02\", \"2021-03-03\", \"2021-03-04\", \"2021-03-05\", \"2021-03-06\", \"2021-03-07\", \"2021-03-08\", \"2021-03-09\", \"2021-03-10\", \"2021-03-11\", \"2021-03-12\", \"2021-03-13\", \"2021-03-14\", \"2021-03-15\", \"2021-03-16\", \"2021-03-17\", \"2021-03-18\", \"2021-03-19\", \"2021-03-20\", \"2021-03-21\", \"2021-03-22\", \"2021-03-23\", \"2021-03-24\", \"2021-03-25\", \"2021-03-26\", \"2021-03-27\", \"2021-03-28\", \"2021-03-29\", \"2021-03-30\", \"2021-03-31\", \"2021-04-01\", \"2021-04-02\", \"2021-04-03\", \"2021-04-04\", \"2021-04-05\", \"2021-04-06\", \"2021-04-07\", \"2021-04-08\", \"2021-04-09\", \"2021-04-10\", \"2021-04-11\", \"2021-04-12\", \"2021-04-13\", \"2021-04-14\", \"2021-04-15\", \"2021-04-16\", \"2021-04-17\", \"2021-04-18\", \"2021-04-19\", \"2021-04-20\", \"2021-04-21\", \"2021-04-22\", \"2021-04-23\"], \"xaxis\": \"x\", \"y\": [556208.0, 614117.0, null, 1008025.0, null, null, 1944585.0, null, 2127143.0, null, 2794588.0, null, null, 4225756.0, null, 4563260.0, 4836469.0, 5306797.0, 5919418.0, 6688231.0, null, null, 8987322.0, 9327138.0, null, 9690757.0, 10595866.0, null, null, null, 13595803.0, 14270441.0, 15053257.0, 16243093.0, 17390345.0, 18502131.0, 19252279.0, 19902237.0, 20687970.0, 21698606.0, 22858318.0, 24064165.0, 25201143.0, 26023153.0, 26440836.0, 27154956.0, 27905197.0, 28909497.0, 30250964.0, 31579100.0, 32340146.0, 32867213.0, 33783384.0, 34723964.0, 35834855.0, 37056122.0, 38292270.0, null, 39670551.0, 40268009.0, 41021049.0, 41977401.0, 42809595.0, 43628092.0, 44138118.0, 44544969.0, 45237143.0, 46074392.0, 47184199.0, 48435536.0, 49772180.0, 50732997.0, 51755447.0, 52855579.0, 54035670.0, 55547697.0, 57358849.0, 58873710.0, 60005231.0, 61088527.0, 62451150.0, 64071674.0, 65965305.0, 68884011.0, 69784210.0, 71054445.0, 72135616.0, 73669956.0, 75495716.0, 77230061.0, 79367225.0, 81415769.0, 82772416.0, 83930495.0, 85472166.0, 87343622.0, 89559225.0, 91707729.0, 93631163.0, 95015762.0, 96044046.0, 97593290.0, 99565311.0, 101804762.0, 104213478.0, 106214924.0, 107515428.0, 108301234.0, 109995734.0, 112046611.0, 114436039.0, 117142879.0, 119242902.0, 120848490.0, 122295530.0, 123917385.0, 125822868.0, 127743096.0, 129494179.0, 131247546.0, 132321628.0, 133266995.0, 134445595.0, 135791031.0, 137234889.0], \"yaxis\": \"y2\"}],                        {\"autosize\": false, \"height\": 500, \"template\": {\"data\": {\"bar\": [{\"error_x\": {\"color\": \"#2a3f5f\"}, \"error_y\": {\"color\": \"#2a3f5f\"}, \"marker\": {\"line\": {\"color\": \"#E5ECF6\", \"width\": 0.5}}, \"type\": \"bar\"}], \"barpolar\": [{\"marker\": {\"line\": {\"color\": \"#E5ECF6\", \"width\": 0.5}}, \"type\": \"barpolar\"}], \"carpet\": [{\"aaxis\": {\"endlinecolor\": \"#2a3f5f\", \"gridcolor\": \"white\", \"linecolor\": \"white\", \"minorgridcolor\": \"white\", \"startlinecolor\": \"#2a3f5f\"}, \"baxis\": {\"endlinecolor\": \"#2a3f5f\", \"gridcolor\": \"white\", \"linecolor\": \"white\", \"minorgridcolor\": \"white\", \"startlinecolor\": \"#2a3f5f\"}, \"type\": \"carpet\"}], \"choropleth\": [{\"colorbar\": {\"outlinewidth\": 0, \"ticks\": \"\"}, \"type\": \"choropleth\"}], \"contour\": [{\"colorbar\": {\"outlinewidth\": 0, \"ticks\": \"\"}, \"colorscale\": [[0.0, \"#0d0887\"], [0.1111111111111111, \"#46039f\"], [0.2222222222222222, \"#7201a8\"], [0.3333333333333333, \"#9c179e\"], [0.4444444444444444, \"#bd3786\"], [0.5555555555555556, \"#d8576b\"], [0.6666666666666666, \"#ed7953\"], [0.7777777777777778, \"#fb9f3a\"], [0.8888888888888888, \"#fdca26\"], [1.0, \"#f0f921\"]], \"type\": \"contour\"}], \"contourcarpet\": [{\"colorbar\": {\"outlinewidth\": 0, \"ticks\": \"\"}, \"type\": \"contourcarpet\"}], \"heatmap\": [{\"colorbar\": {\"outlinewidth\": 0, \"ticks\": \"\"}, \"colorscale\": [[0.0, \"#0d0887\"], [0.1111111111111111, \"#46039f\"], [0.2222222222222222, \"#7201a8\"], [0.3333333333333333, \"#9c179e\"], [0.4444444444444444, \"#bd3786\"], [0.5555555555555556, \"#d8576b\"], [0.6666666666666666, \"#ed7953\"], [0.7777777777777778, \"#fb9f3a\"], [0.8888888888888888, \"#fdca26\"], [1.0, \"#f0f921\"]], \"type\": \"heatmap\"}], \"heatmapgl\": [{\"colorbar\": {\"outlinewidth\": 0, \"ticks\": \"\"}, \"colorscale\": [[0.0, \"#0d0887\"], [0.1111111111111111, \"#46039f\"], [0.2222222222222222, \"#7201a8\"], [0.3333333333333333, \"#9c179e\"], [0.4444444444444444, \"#bd3786\"], [0.5555555555555556, \"#d8576b\"], [0.6666666666666666, \"#ed7953\"], [0.7777777777777778, \"#fb9f3a\"], [0.8888888888888888, \"#fdca26\"], [1.0, \"#f0f921\"]], \"type\": \"heatmapgl\"}], \"histogram\": [{\"marker\": {\"colorbar\": {\"outlinewidth\": 0, \"ticks\": \"\"}}, \"type\": \"histogram\"}], \"histogram2d\": [{\"colorbar\": {\"outlinewidth\": 0, \"ticks\": \"\"}, \"colorscale\": [[0.0, \"#0d0887\"], [0.1111111111111111, \"#46039f\"], [0.2222222222222222, \"#7201a8\"], [0.3333333333333333, \"#9c179e\"], [0.4444444444444444, \"#bd3786\"], [0.5555555555555556, \"#d8576b\"], [0.6666666666666666, \"#ed7953\"], [0.7777777777777778, \"#fb9f3a\"], [0.8888888888888888, \"#fdca26\"], [1.0, \"#f0f921\"]], \"type\": \"histogram2d\"}], \"histogram2dcontour\": [{\"colorbar\": {\"outlinewidth\": 0, \"ticks\": \"\"}, \"colorscale\": [[0.0, \"#0d0887\"], [0.1111111111111111, \"#46039f\"], [0.2222222222222222, \"#7201a8\"], [0.3333333333333333, \"#9c179e\"], [0.4444444444444444, \"#bd3786\"], [0.5555555555555556, \"#d8576b\"], [0.6666666666666666, \"#ed7953\"], [0.7777777777777778, \"#fb9f3a\"], [0.8888888888888888, \"#fdca26\"], [1.0, \"#f0f921\"]], \"type\": \"histogram2dcontour\"}], \"mesh3d\": [{\"colorbar\": {\"outlinewidth\": 0, \"ticks\": \"\"}, \"type\": \"mesh3d\"}], \"parcoords\": [{\"line\": {\"colorbar\": {\"outlinewidth\": 0, \"ticks\": \"\"}}, \"type\": \"parcoords\"}], \"pie\": [{\"automargin\": true, \"type\": \"pie\"}], \"scatter\": [{\"marker\": {\"colorbar\": {\"outlinewidth\": 0, \"ticks\": \"\"}}, \"type\": \"scatter\"}], \"scatter3d\": [{\"line\": {\"colorbar\": {\"outlinewidth\": 0, \"ticks\": \"\"}}, \"marker\": {\"colorbar\": {\"outlinewidth\": 0, \"ticks\": \"\"}}, \"type\": \"scatter3d\"}], \"scattercarpet\": [{\"marker\": {\"colorbar\": {\"outlinewidth\": 0, \"ticks\": \"\"}}, \"type\": \"scattercarpet\"}], \"scattergeo\": [{\"marker\": {\"colorbar\": {\"outlinewidth\": 0, \"ticks\": \"\"}}, \"type\": \"scattergeo\"}], \"scattergl\": [{\"marker\": {\"colorbar\": {\"outlinewidth\": 0, \"ticks\": \"\"}}, \"type\": \"scattergl\"}], \"scattermapbox\": [{\"marker\": {\"colorbar\": {\"outlinewidth\": 0, \"ticks\": \"\"}}, \"type\": \"scattermapbox\"}], \"scatterpolar\": [{\"marker\": {\"colorbar\": {\"outlinewidth\": 0, \"ticks\": \"\"}}, \"type\": \"scatterpolar\"}], \"scatterpolargl\": [{\"marker\": {\"colorbar\": {\"outlinewidth\": 0, \"ticks\": \"\"}}, \"type\": \"scatterpolargl\"}], \"scatterternary\": [{\"marker\": {\"colorbar\": {\"outlinewidth\": 0, \"ticks\": \"\"}}, \"type\": \"scatterternary\"}], \"surface\": [{\"colorbar\": {\"outlinewidth\": 0, \"ticks\": \"\"}, \"colorscale\": [[0.0, \"#0d0887\"], [0.1111111111111111, \"#46039f\"], [0.2222222222222222, \"#7201a8\"], [0.3333333333333333, \"#9c179e\"], [0.4444444444444444, \"#bd3786\"], [0.5555555555555556, \"#d8576b\"], [0.6666666666666666, \"#ed7953\"], [0.7777777777777778, \"#fb9f3a\"], [0.8888888888888888, \"#fdca26\"], [1.0, \"#f0f921\"]], \"type\": \"surface\"}], \"table\": [{\"cells\": {\"fill\": {\"color\": \"#EBF0F8\"}, \"line\": {\"color\": \"white\"}}, \"header\": {\"fill\": {\"color\": \"#C8D4E3\"}, \"line\": {\"color\": \"white\"}}, \"type\": \"table\"}]}, \"layout\": {\"annotationdefaults\": {\"arrowcolor\": \"#2a3f5f\", \"arrowhead\": 0, \"arrowwidth\": 1}, \"autotypenumbers\": \"strict\", \"coloraxis\": {\"colorbar\": {\"outlinewidth\": 0, \"ticks\": \"\"}}, \"colorscale\": {\"diverging\": [[0, \"#8e0152\"], [0.1, \"#c51b7d\"], [0.2, \"#de77ae\"], [0.3, \"#f1b6da\"], [0.4, \"#fde0ef\"], [0.5, \"#f7f7f7\"], [0.6, \"#e6f5d0\"], [0.7, \"#b8e186\"], [0.8, \"#7fbc41\"], [0.9, \"#4d9221\"], [1, \"#276419\"]], \"sequential\": [[0.0, \"#0d0887\"], [0.1111111111111111, \"#46039f\"], [0.2222222222222222, \"#7201a8\"], [0.3333333333333333, \"#9c179e\"], [0.4444444444444444, \"#bd3786\"], [0.5555555555555556, \"#d8576b\"], [0.6666666666666666, \"#ed7953\"], [0.7777777777777778, \"#fb9f3a\"], [0.8888888888888888, \"#fdca26\"], [1.0, \"#f0f921\"]], \"sequentialminus\": [[0.0, \"#0d0887\"], [0.1111111111111111, \"#46039f\"], [0.2222222222222222, \"#7201a8\"], [0.3333333333333333, \"#9c179e\"], [0.4444444444444444, \"#bd3786\"], [0.5555555555555556, \"#d8576b\"], [0.6666666666666666, \"#ed7953\"], [0.7777777777777778, \"#fb9f3a\"], [0.8888888888888888, \"#fdca26\"], [1.0, \"#f0f921\"]]}, \"colorway\": [\"#636efa\", \"#EF553B\", \"#00cc96\", \"#ab63fa\", \"#FFA15A\", \"#19d3f3\", \"#FF6692\", \"#B6E880\", \"#FF97FF\", \"#FECB52\"], \"font\": {\"color\": \"#2a3f5f\"}, \"geo\": {\"bgcolor\": \"white\", \"lakecolor\": \"white\", \"landcolor\": \"#E5ECF6\", \"showlakes\": true, \"showland\": true, \"subunitcolor\": \"white\"}, \"hoverlabel\": {\"align\": \"left\"}, \"hovermode\": \"closest\", \"mapbox\": {\"style\": \"light\"}, \"paper_bgcolor\": \"white\", \"plot_bgcolor\": \"#E5ECF6\", \"polar\": {\"angularaxis\": {\"gridcolor\": \"white\", \"linecolor\": \"white\", \"ticks\": \"\"}, \"bgcolor\": \"#E5ECF6\", \"radialaxis\": {\"gridcolor\": \"white\", \"linecolor\": \"white\", \"ticks\": \"\"}}, \"scene\": {\"xaxis\": {\"backgroundcolor\": \"#E5ECF6\", \"gridcolor\": \"white\", \"gridwidth\": 2, \"linecolor\": \"white\", \"showbackground\": true, \"ticks\": \"\", \"zerolinecolor\": \"white\"}, \"yaxis\": {\"backgroundcolor\": \"#E5ECF6\", \"gridcolor\": \"white\", \"gridwidth\": 2, \"linecolor\": \"white\", \"showbackground\": true, \"ticks\": \"\", \"zerolinecolor\": \"white\"}, \"zaxis\": {\"backgroundcolor\": \"#E5ECF6\", \"gridcolor\": \"white\", \"gridwidth\": 2, \"linecolor\": \"white\", \"showbackground\": true, \"ticks\": \"\", \"zerolinecolor\": \"white\"}}, \"shapedefaults\": {\"line\": {\"color\": \"#2a3f5f\"}}, \"ternary\": {\"aaxis\": {\"gridcolor\": \"white\", \"linecolor\": \"white\", \"ticks\": \"\"}, \"baxis\": {\"gridcolor\": \"white\", \"linecolor\": \"white\", \"ticks\": \"\"}, \"bgcolor\": \"#E5ECF6\", \"caxis\": {\"gridcolor\": \"white\", \"linecolor\": \"white\", \"ticks\": \"\"}}, \"title\": {\"x\": 0.05}, \"xaxis\": {\"automargin\": true, \"gridcolor\": \"white\", \"linecolor\": \"white\", \"ticks\": \"\", \"title\": {\"standoff\": 15}, \"zerolinecolor\": \"white\", \"zerolinewidth\": 2}, \"yaxis\": {\"automargin\": true, \"gridcolor\": \"white\", \"linecolor\": \"white\", \"ticks\": \"\", \"title\": {\"standoff\": 15}, \"zerolinecolor\": \"white\", \"zerolinewidth\": 2}}}, \"title\": {\"text\": \"USA cases and vaccination\"}, \"width\": 700, \"xaxis\": {\"anchor\": \"y\", \"domain\": [0.0, 0.94], \"title\": {\"text\": \"date\"}}, \"yaxis\": {\"anchor\": \"x\", \"domain\": [0.0, 1.0], \"title\": {\"text\": \"No of deaths of covid\"}}, \"yaxis2\": {\"anchor\": \"x\", \"overlaying\": \"y\", \"side\": \"right\", \"title\": {\"text\": \"No of people with at least one dose\"}}},                        {\"responsive\": true}                    ).then(function(){\n",
       "                            \n",
       "var gd = document.getElementById('fd16703d-2d5c-4137-a254-51bdd689d166');\n",
       "var x = new MutationObserver(function (mutations, observer) {{\n",
       "        var display = window.getComputedStyle(gd).display;\n",
       "        if (!display || display === 'none') {{\n",
       "            console.log([gd, 'removed!']);\n",
       "            Plotly.purge(gd);\n",
       "            observer.disconnect();\n",
       "        }}\n",
       "}});\n",
       "\n",
       "// Listen for the removal of the full notebook cells\n",
       "var notebookContainer = gd.closest('#notebook-container');\n",
       "if (notebookContainer) {{\n",
       "    x.observe(notebookContainer, {childList: true});\n",
       "}}\n",
       "\n",
       "// Listen for the clearing of the current output cell\n",
       "var outputEl = gd.closest('.output');\n",
       "if (outputEl) {{\n",
       "    x.observe(outputEl, {childList: true});\n",
       "}}\n",
       "\n",
       "                        })                };                });            </script>        </div>"
      ]
     },
     "metadata": {},
     "output_type": "display_data"
    }
   ],
   "source": [
    "fig = make_subplots(specs=[[{\"secondary_y\": True}]])\n",
    "\n",
    "fig.add_trace(\n",
    "    go.Scatter(y=covid_daily_USA['daily_new_deaths'], x=covid_daily_USA['date'], name=\"No of deaths daily (USA)\"),\n",
    "    secondary_y=False,\n",
    ")\n",
    "\n",
    "fig.add_trace(\n",
    "    go.Scatter(x= dfs[2]['date'],y = dfs[2]['people_vaccinated'], name = 'People vaccinated' ),\n",
    "    secondary_y=True,\n",
    ")\n",
    "\n",
    "fig.update_layout(\n",
    "    autosize=False,\n",
    "    width=700,\n",
    "    height=500,\n",
    "    title_text=\"USA cases and vaccination\"\n",
    ")\n",
    "\n",
    "fig.update_xaxes(title_text=\"date\")\n",
    "\n",
    "fig.update_yaxes(title_text=\"No of deaths of covid\", secondary_y=False)\n",
    "fig.update_yaxes(title_text=\"No of people with at least one dose\", secondary_y=True)\n",
    "\n",
    "fig.show()"
   ]
  },
  {
   "cell_type": "markdown",
   "id": "received-cancer",
   "metadata": {
    "papermill": {
     "duration": 0.034873,
     "end_time": "2021-04-26T13:37:19.310308",
     "exception": false,
     "start_time": "2021-04-26T13:37:19.275435",
     "status": "completed"
    },
    "tags": []
   },
   "source": [
    "# Brazil cases, deaths and vaccinated people "
   ]
  },
  {
   "cell_type": "code",
   "execution_count": 15,
   "id": "decent-adapter",
   "metadata": {
    "_kg_hide-input": true,
    "execution": {
     "iopub.execute_input": "2021-04-26T13:37:19.383517Z",
     "iopub.status.busy": "2021-04-26T13:37:19.382746Z",
     "iopub.status.idle": "2021-04-26T13:37:19.425213Z",
     "shell.execute_reply": "2021-04-26T13:37:19.425746Z"
    },
    "papermill": {
     "duration": 0.081058,
     "end_time": "2021-04-26T13:37:19.425937",
     "exception": false,
     "start_time": "2021-04-26T13:37:19.344879",
     "status": "completed"
    },
    "tags": []
   },
   "outputs": [
    {
     "data": {
      "text/html": [
       "<div>                            <div id=\"779efb73-772b-4393-bf28-ceb0c70307c3\" class=\"plotly-graph-div\" style=\"height:500px; width:700px;\"></div>            <script type=\"text/javascript\">                require([\"plotly\"], function(Plotly) {                    window.PLOTLYENV=window.PLOTLYENV || {};                                    if (document.getElementById(\"779efb73-772b-4393-bf28-ceb0c70307c3\")) {                    Plotly.newPlot(                        \"779efb73-772b-4393-bf28-ceb0c70307c3\",                        [{\"name\": \"No of cases daily (BRA)\", \"type\": \"scatter\", \"x\": [\"2020-2-15\", \"2020-2-16\", \"2020-2-17\", \"2020-2-18\", \"2020-2-19\", \"2020-2-20\", \"2020-2-21\", \"2020-2-22\", \"2020-2-23\", \"2020-2-24\", \"2020-2-25\", \"2020-2-26\", \"2020-2-27\", \"2020-2-28\", \"2020-2-29\", \"2020-3-01\", \"2020-3-02\", \"2020-3-03\", \"2020-3-04\", \"2020-3-05\", \"2020-3-06\", \"2020-3-07\", \"2020-3-08\", \"2020-3-09\", \"2020-3-10\", \"2020-3-11\", \"2020-3-12\", \"2020-3-13\", \"2020-3-14\", \"2020-3-15\", \"2020-3-16\", \"2020-3-17\", \"2020-3-18\", \"2020-3-19\", \"2020-3-20\", \"2020-3-21\", \"2020-3-22\", \"2020-3-23\", \"2020-3-24\", \"2020-3-25\", \"2020-3-26\", \"2020-3-27\", \"2020-3-28\", \"2020-3-29\", \"2020-3-30\", \"2020-3-31\", \"2020-4-01\", \"2020-4-02\", \"2020-4-03\", \"2020-4-04\", \"2020-4-05\", \"2020-4-06\", \"2020-4-07\", \"2020-4-08\", \"2020-4-09\", \"2020-4-10\", \"2020-4-11\", \"2020-4-12\", \"2020-4-13\", \"2020-4-14\", \"2020-4-15\", \"2020-4-16\", \"2020-4-17\", \"2020-4-18\", \"2020-4-19\", \"2020-4-20\", \"2020-4-21\", \"2020-4-22\", \"2020-4-23\", \"2020-4-24\", \"2020-4-25\", \"2020-4-26\", \"2020-4-27\", \"2020-4-28\", \"2020-4-29\", \"2020-4-30\", \"2020-5-01\", \"2020-5-02\", \"2020-5-03\", \"2020-5-04\", \"2020-5-05\", \"2020-5-06\", \"2020-5-07\", \"2020-5-08\", \"2020-5-09\", \"2020-5-10\", \"2020-5-11\", \"2020-5-12\", \"2020-5-13\", \"2020-5-14\", \"2020-5-15\", \"2020-5-16\", \"2020-5-17\", \"2020-5-18\", \"2020-5-19\", \"2020-5-20\", \"2020-5-21\", \"2020-5-22\", \"2020-5-23\", \"2020-5-24\", \"2020-5-25\", \"2020-5-26\", \"2020-5-27\", \"2020-5-28\", \"2020-5-29\", \"2020-5-30\", \"2020-5-31\", \"2020-6-01\", \"2020-6-02\", \"2020-6-03\", \"2020-6-04\", \"2020-6-05\", \"2020-6-06\", \"2020-6-07\", \"2020-6-08\", \"2020-6-09\", \"2020-6-10\", \"2020-6-11\", \"2020-6-12\", \"2020-6-13\", \"2020-6-14\", \"2020-6-15\", \"2020-6-16\", \"2020-6-17\", \"2020-6-18\", \"2020-6-19\", \"2020-6-20\", \"2020-6-21\", \"2020-6-22\", \"2020-6-23\", \"2020-6-24\", \"2020-6-25\", \"2020-6-26\", \"2020-6-27\", \"2020-6-28\", \"2020-6-29\", \"2020-6-30\", \"2020-7-01\", \"2020-7-02\", \"2020-7-03\", \"2020-7-04\", \"2020-7-05\", \"2020-7-06\", \"2020-7-07\", \"2020-7-08\", \"2020-7-09\", \"2020-7-10\", \"2020-7-11\", \"2020-7-12\", \"2020-7-13\", \"2020-7-14\", \"2020-7-15\", \"2020-7-16\", \"2020-7-17\", \"2020-7-18\", \"2020-7-19\", \"2020-7-20\", \"2020-7-21\", \"2020-7-22\", \"2020-7-23\", \"2020-7-24\", \"2020-7-25\", \"2020-7-26\", \"2020-7-27\", \"2020-7-28\", \"2020-7-29\", \"2020-7-30\", \"2020-7-31\", \"2020-8-01\", \"2020-8-02\", \"2020-8-03\", \"2020-8-04\", \"2020-8-05\", \"2020-8-06\", \"2020-8-07\", \"2020-8-08\", \"2020-8-09\", \"2020-8-10\", \"2020-8-11\", \"2020-8-12\", \"2020-8-13\", \"2020-8-14\", \"2020-8-15\", \"2020-8-16\", \"2020-8-17\", \"2020-8-18\", \"2020-8-19\", \"2020-8-20\", \"2020-8-21\", \"2020-8-22\", \"2020-8-23\", \"2020-8-24\", \"2020-8-25\", \"2020-8-26\", \"2020-8-27\", \"2020-8-28\", \"2020-8-29\", \"2020-8-30\", \"2020-8-31\", \"2020-9-01\", \"2020-9-02\", \"2020-9-03\", \"2020-9-04\", \"2020-9-05\", \"2020-9-06\", \"2020-9-07\", \"2020-9-08\", \"2020-9-09\", \"2020-9-10\", \"2020-9-11\", \"2020-9-12\", \"2020-9-13\", \"2020-9-14\", \"2020-9-15\", \"2020-9-16\", \"2020-9-17\", \"2020-9-18\", \"2020-9-19\", \"2020-9-20\", \"2020-9-21\", \"2020-9-22\", \"2020-9-23\", \"2020-9-24\", \"2020-9-25\", \"2020-9-26\", \"2020-9-27\", \"2020-9-28\", \"2020-9-29\", \"2020-9-30\", \"2020-10-01\", \"2020-10-02\", \"2020-10-03\", \"2020-10-04\", \"2020-10-05\", \"2020-10-06\", \"2020-10-07\", \"2020-10-08\", \"2020-10-09\", \"2020-10-10\", \"2020-10-11\", \"2020-10-12\", \"2020-10-13\", \"2020-10-14\", \"2020-10-15\", \"2020-10-16\", \"2020-10-17\", \"2020-10-18\", \"2020-10-19\", \"2020-10-20\", \"2020-10-21\", \"2020-10-22\", \"2020-10-23\", \"2020-10-24\", \"2020-10-25\", \"2020-10-26\", \"2020-10-27\", \"2020-10-28\", \"2020-10-29\", \"2020-10-30\", \"2020-10-31\", \"2020-11-01\", \"2020-11-02\", \"2020-11-03\", \"2020-11-04\", \"2020-11-05\", \"2020-11-06\", \"2020-11-07\", \"2020-11-08\", \"2020-11-09\", \"2020-11-10\", \"2020-11-11\", \"2020-11-12\", \"2020-11-13\", \"2020-11-14\", \"2020-11-15\", \"2020-11-16\", \"2020-11-17\", \"2020-11-18\", \"2020-11-19\", \"2020-11-20\", \"2020-11-21\", \"2020-11-22\", \"2020-11-23\", \"2020-11-24\", \"2020-11-25\", \"2020-11-26\", \"2020-11-27\", \"2020-11-28\", \"2020-11-29\", \"2020-11-30\", \"2020-12-01\", \"2020-12-02\", \"2020-12-03\", \"2020-12-04\", \"2020-12-05\", \"2020-12-06\", \"2020-12-07\", \"2020-12-08\", \"2020-12-09\", \"2020-12-10\", \"2020-12-11\", \"2020-12-12\", \"2020-12-13\", \"2020-12-14\", \"2020-12-15\", \"2020-12-16\", \"2020-12-17\", \"2020-12-18\", \"2020-12-19\", \"2020-12-20\", \"2020-12-21\", \"2020-12-22\", \"2020-12-23\", \"2020-12-24\", \"2020-12-25\", \"2020-12-26\", \"2020-12-27\", \"2020-12-28\", \"2020-12-29\", \"2020-12-30\", \"2020-12-31\", \"2021-1-01\", \"2021-1-02\", \"2021-1-03\", \"2021-1-04\", \"2021-1-05\", \"2021-1-06\", \"2021-1-07\", \"2021-1-08\", \"2021-1-09\", \"2021-1-10\", \"2021-1-11\", \"2021-1-12\", \"2021-1-13\", \"2021-1-14\", \"2021-1-15\", \"2021-1-16\", \"2021-1-17\", \"2021-1-18\", \"2021-1-19\", \"2021-1-20\", \"2021-1-21\", \"2021-1-22\", \"2021-1-23\", \"2021-1-24\", \"2021-1-25\", \"2021-1-26\", \"2021-1-27\", \"2021-1-28\", \"2021-1-29\", \"2021-1-30\", \"2021-1-31\", \"2021-2-01\", \"2021-2-02\", \"2021-2-03\", \"2021-2-04\", \"2021-2-05\", \"2021-2-06\", \"2021-2-07\", \"2021-2-08\", \"2021-2-09\", \"2021-2-10\", \"2021-2-11\", \"2021-2-12\", \"2021-2-13\", \"2021-2-14\", \"2021-2-15\", \"2021-2-16\", \"2021-2-17\", \"2021-2-18\", \"2021-2-19\", \"2021-2-20\", \"2021-2-21\", \"2021-2-22\", \"2021-2-23\", \"2021-2-24\", \"2021-2-25\", \"2021-2-26\", \"2021-2-27\", \"2021-2-28\", \"2021-3-01\", \"2021-3-02\", \"2021-3-03\", \"2021-3-04\", \"2021-3-05\", \"2021-3-06\", \"2021-3-07\", \"2021-3-08\", \"2021-3-09\", \"2021-3-10\", \"2021-3-11\", \"2021-3-12\", \"2021-3-13\", \"2021-3-14\", \"2021-3-15\", \"2021-3-16\", \"2021-3-17\", \"2021-3-18\", \"2021-3-19\", \"2021-3-20\", \"2021-3-21\", \"2021-3-22\", \"2021-3-23\", \"2021-3-24\", \"2021-3-25\", \"2021-3-26\", \"2021-3-27\", \"2021-3-28\", \"2021-3-29\", \"2021-3-30\", \"2021-3-31\", \"2021-4-01\", \"2021-4-02\", \"2021-4-03\", \"2021-4-04\", \"2021-4-05\", \"2021-4-06\", \"2021-4-07\", \"2021-4-08\", \"2021-4-09\", \"2021-4-10\", \"2021-4-11\", \"2021-4-12\", \"2021-4-13\", \"2021-4-14\", \"2021-4-15\", \"2021-4-16\", \"2021-4-17\", \"2021-4-18\", \"2021-4-19\", \"2021-4-20\", \"2021-4-21\", \"2021-4-22\", \"2021-4-23\", \"2021-4-24\"], \"xaxis\": \"x\", \"y\": [null, null, null, null, null, null, null, null, null, null, null, 0.0, 0.0, 0.0, 1.0, 0.0, 0.0, 0.0, 1.0, 5.0, 5.0, 6.0, 6.0, 0.0, 9.0, 18.0, 25.0, 74.0, 0.0, 49.0, 34.0, 112.0, 183.0, 111.0, 330.0, 208.0, 368.0, 378.0, 323.0, 307.0, 431.0, 432.0, 487.0, 352.0, 374.0, 1087.0, 1163.0, 1164.0, 1150.0, 1166.0, 894.0, 929.0, 1851.0, 2154.0, 1957.0, 1644.0, 1173.0, 1230.0, 1238.0, 1832.0, 3348.0, 2073.0, 2999.0, 3040.0, 1932.0, 2089.0, 2336.0, 2678.0, 3735.0, 3503.0, 6201.0, 3663.0, 3642.0, 6398.0, 6462.0, 6019.0, 6729.0, 4450.0, 4588.0, 7119.0, 6449.0, 11896.0, 9082.0, 10199.0, 10169.0, 6638.0, 6444.0, 8459.0, 11555.0, 13761.0, 15305.0, 14919.0, 7938.0, 14288.0, 16517.0, 21472.0, 17564.0, 19969.0, 16508.0, 16220.0, 13051.0, 15691.0, 22301.0, 24151.0, 29526.0, 30102.0, 16409.0, 14556.0, 27263.0, 27312.0, 31890.0, 30136.0, 27581.0, 18375.0, 18925.0, 31197.0, 33100.0, 30465.0, 24253.0, 20894.0, 17086.0, 23674.0, 37278.0, 31475.0, 23050.0, 55209.0, 31571.0, 16851.0, 24358.0, 40131.0, 40995.0, 40673.0, 46907.0, 35887.0, 29313.0, 25234.0, 37997.0, 44884.0, 47984.0, 41988.0, 35035.0, 26209.0, 21486.0, 48584.0, 41541.0, 42907.0, 45235.0, 36474.0, 25364.0, 21783.0, 43245.0, 39705.0, 43829.0, 33959.0, 26549.0, 24650.0, 21749.0, 44887.0, 65339.0, 58080.0, 58249.0, 48234.0, 23467.0, 23579.0, 41169.0, 70869.0, 58271.0, 52509.0, 42578.0, 24801.0, 17988.0, 56411.0, 54685.0, 54801.0, 49502.0, 46305.0, 22213.0, 21888.0, 54923.0, 58081.0, 59147.0, 49274.0, 38937.0, 22365.0, 23038.0, 48637.0, 48541.0, 44684.0, 31391.0, 46210.0, 23085.0, 21434.0, 46959.0, 47828.0, 42489.0, 48112.0, 34360.0, 15346.0, 48590.0, 41889.0, 48632.0, 44728.0, 45651.0, 31199.0, 14606.0, 10188.0, 17330.0, 34208.0, 40431.0, 44215.0, 31880.0, 14597.0, 19089.0, 34755.0, 37387.0, 35757.0, 39991.0, 30913.0, 16282.0, 15454.0, 35252.0, 32445.0, 32129.0, 32670.0, 25536.0, 14194.0, 16018.0, 31990.0, 33269.0, 35643.0, 33002.0, 24602.0, 8456.0, 25210.0, 30454.0, 31404.0, 27182.0, 27651.0, 34650.0, 3139.0, 8429.0, 11415.0, 26675.0, 29498.0, 30574.0, 22792.0, 10982.0, 15783.0, 23690.0, 25832.0, 31985.0, 23016.0, 25574.0, 12904.0, 17422.0, 29353.0, 28852.0, 26647.0, 23126.0, 16077.0, 10100.0, 8501.0, 12920.0, 23815.0, 23317.0, 18247.0, 21056.0, 10554.0, 11651.0, 25517.0, 47724.0, 34640.0, 35849.0, 29463.0, 14134.0, 13647.0, 35018.0, 35645.0, 35686.0, 37075.0, 32622.0, 18615.0, 16603.0, 33445.0, 45449.0, 37672.0, 33780.0, 51922.0, 24468.0, 21538.0, 52248.0, 48124.0, 50866.0, 47435.0, 42226.0, 26363.0, 24525.0, 47850.0, 54203.0, 53425.0, 52770.0, 44282.0, 21395.0, 27419.0, 44849.0, 68437.0, 68832.0, 52385.0, 49243.0, 25445.0, 25621.0, 55799.0, 46657.0, 58916.0, 22967.0, 17246.0, 18479.0, 22605.0, 57227.0, 55853.0, 56003.0, 24605.0, 15827.0, 17341.0, 20814.0, 57447.0, 62532.0, 87134.0, 54247.0, 60078.0, 29792.0, 28043.0, 61804.0, 61822.0, 68656.0, 68138.0, 62452.0, 31394.0, 24139.0, 63504.0, 64126.0, 59946.0, 55319.0, 61121.0, 28346.0, 28364.0, 63626.0, 63895.0, 60301.0, 58691.0, 57498.0, 27756.0, 25285.0, 56240.0, 53665.0, 57848.0, 51319.0, 48707.0, 26845.0, 25661.0, 51733.0, 60271.0, 53993.0, 49396.0, 45561.0, 23258.0, 32197.0, 55271.0, 57295.0, 51350.0, 51067.0, 57455.0, 29026.0, 29357.0, 63090.0, 65387.0, 67878.0, 63908.0, 59438.0, 34027.0, 38349.0, 58237.0, 74376.0, 74285.0, 75337.0, 67477.0, 80024.0, 36136.0, 69537.0, 80955.0, 78297.0, 84047.0, 70934.0, 44120.0, 42107.0, 84124.0, 90830.0, 87169.0, 89409.0, 73450.0, 47774.0, 53386.0, 84996.0, 90564.0, 97586.0, 82558.0, 83039.0, 44326.0, 42666.0, 86704.0, 89200.0, 89459.0, 69662.0, 41218.0, 31359.0, 38233.0, 82869.0, 90973.0, 89293.0, 89090.0, 69592.0, 37537.0, 38866.0, 80157.0, 75998.0, 80529.0, 76249.0, 65792.0, 42937.0, 34642.0, 73172.0, 71910.0, 49344.0, 65971.0, 70105.0], \"yaxis\": \"y\"}, {\"name\": \"People vaccinated\", \"type\": \"scatter\", \"x\": [\"2021-01-16\", \"2021-01-17\", \"2021-01-18\", \"2021-01-19\", \"2021-01-20\", \"2021-01-21\", \"2021-01-22\", \"2021-01-23\", \"2021-01-24\", \"2021-01-25\", \"2021-01-26\", \"2021-01-27\", \"2021-01-28\", \"2021-01-29\", \"2021-01-30\", \"2021-01-31\", \"2021-02-01\", \"2021-02-02\", \"2021-02-03\", \"2021-02-04\", \"2021-02-05\", \"2021-02-06\", \"2021-02-07\", \"2021-02-08\", \"2021-02-09\", \"2021-02-10\", \"2021-02-11\", \"2021-02-12\", \"2021-02-13\", \"2021-02-14\", \"2021-02-15\", \"2021-02-16\", \"2021-02-17\", \"2021-02-18\", \"2021-02-19\", \"2021-02-20\", \"2021-02-21\", \"2021-02-22\", \"2021-02-23\", \"2021-02-24\", \"2021-02-25\", \"2021-02-26\", \"2021-02-27\", \"2021-02-28\", \"2021-03-01\", \"2021-03-02\", \"2021-03-03\", \"2021-03-04\", \"2021-03-05\", \"2021-03-06\", \"2021-03-07\", \"2021-03-08\", \"2021-03-09\", \"2021-03-10\", \"2021-03-11\", \"2021-03-12\", \"2021-03-13\", \"2021-03-14\", \"2021-03-15\", \"2021-03-16\", \"2021-03-17\", \"2021-03-18\", \"2021-03-19\", \"2021-03-20\", \"2021-03-21\", \"2021-03-22\", \"2021-03-23\", \"2021-03-24\", \"2021-03-25\", \"2021-03-26\", \"2021-03-27\", \"2021-03-28\", \"2021-03-29\", \"2021-03-30\", \"2021-03-31\", \"2021-04-01\", \"2021-04-02\", \"2021-04-03\", \"2021-04-04\", \"2021-04-05\", \"2021-04-06\", \"2021-04-07\", \"2021-04-08\", \"2021-04-09\", \"2021-04-10\", \"2021-04-11\", \"2021-04-12\", \"2021-04-13\", \"2021-04-14\", \"2021-04-15\", \"2021-04-16\", \"2021-04-17\", \"2021-04-18\", \"2021-04-19\", \"2021-04-20\", \"2021-04-21\", \"2021-04-22\", \"2021-04-23\", \"2021-04-24\"], \"xaxis\": \"x\", \"y\": [0.0, 112.0, 1109.0, 11470.0, 28543.0, 136519.0, 245877.0, 537774.0, 604722.0, 700608.0, 848883.0, 1129885.0, 1450900.0, 1656851.0, 1923813.0, 2046523.0, 2107624.0, 2292551.0, 2521704.0, 3073057.0, 3074906.0, 3399421.0, 3534004.0, 3579850.0, 3786591.0, 4069677.0, 4326075.0, 4586270.0, 4946738.0, 5042713.0, 5076110.0, 5324317.0, 5326007.0, 5482925.0, 5640483.0, 5756361.0, 5817908.0, 5857080.0, 6002873.0, 6116082.0, 6202055.0, 6346769.0, 6437836.0, 6518628.0, 6542206.0, 6806293.0, 7114219.0, 7417852.0, 7701146.0, null, null, null, null, 7851531.0, 8092244.0, 8360366.0, 8512960.0, 8561847.0, 8919356.0, null, 9451188.0, 9709526.0, 9970231.0, 10099070.0, 10168973.0, 10609471.0, 11559487.0, 12148769.0, 12639545.0, 13053114.0, 13487207.0, 13659406.0, 13988029.0, 14112509.0, 14921376.0, null, 16099532.0, 16377083.0, 16472281.0, 17128933.0, 17791338.0, 18859274.0, 19386057.0, 19886870.0, 20513828.0, 20654434.0, 21080623.0, 23602070.0, 24197321.0, null, null, null, 24350046.0, 24776701.0, 24805515.0, 24918188.0, 25340967.0, 26398005.0, 26501024.0], \"yaxis\": \"y2\"}],                        {\"autosize\": false, \"height\": 500, \"template\": {\"data\": {\"bar\": [{\"error_x\": {\"color\": \"#2a3f5f\"}, \"error_y\": {\"color\": \"#2a3f5f\"}, \"marker\": {\"line\": {\"color\": \"#E5ECF6\", \"width\": 0.5}}, \"type\": \"bar\"}], \"barpolar\": [{\"marker\": {\"line\": {\"color\": \"#E5ECF6\", \"width\": 0.5}}, \"type\": \"barpolar\"}], \"carpet\": [{\"aaxis\": {\"endlinecolor\": \"#2a3f5f\", \"gridcolor\": \"white\", \"linecolor\": \"white\", \"minorgridcolor\": \"white\", \"startlinecolor\": \"#2a3f5f\"}, \"baxis\": {\"endlinecolor\": \"#2a3f5f\", \"gridcolor\": \"white\", \"linecolor\": \"white\", \"minorgridcolor\": \"white\", \"startlinecolor\": \"#2a3f5f\"}, \"type\": \"carpet\"}], \"choropleth\": [{\"colorbar\": {\"outlinewidth\": 0, \"ticks\": \"\"}, \"type\": \"choropleth\"}], \"contour\": [{\"colorbar\": {\"outlinewidth\": 0, \"ticks\": \"\"}, \"colorscale\": [[0.0, \"#0d0887\"], [0.1111111111111111, \"#46039f\"], [0.2222222222222222, \"#7201a8\"], [0.3333333333333333, \"#9c179e\"], [0.4444444444444444, \"#bd3786\"], [0.5555555555555556, \"#d8576b\"], [0.6666666666666666, \"#ed7953\"], [0.7777777777777778, \"#fb9f3a\"], [0.8888888888888888, \"#fdca26\"], [1.0, \"#f0f921\"]], \"type\": \"contour\"}], \"contourcarpet\": [{\"colorbar\": {\"outlinewidth\": 0, \"ticks\": \"\"}, \"type\": \"contourcarpet\"}], \"heatmap\": [{\"colorbar\": {\"outlinewidth\": 0, \"ticks\": \"\"}, \"colorscale\": [[0.0, \"#0d0887\"], [0.1111111111111111, \"#46039f\"], [0.2222222222222222, \"#7201a8\"], [0.3333333333333333, \"#9c179e\"], [0.4444444444444444, \"#bd3786\"], [0.5555555555555556, \"#d8576b\"], [0.6666666666666666, \"#ed7953\"], [0.7777777777777778, \"#fb9f3a\"], [0.8888888888888888, \"#fdca26\"], [1.0, \"#f0f921\"]], \"type\": \"heatmap\"}], \"heatmapgl\": [{\"colorbar\": {\"outlinewidth\": 0, \"ticks\": \"\"}, \"colorscale\": [[0.0, \"#0d0887\"], [0.1111111111111111, \"#46039f\"], [0.2222222222222222, \"#7201a8\"], [0.3333333333333333, \"#9c179e\"], [0.4444444444444444, \"#bd3786\"], [0.5555555555555556, \"#d8576b\"], [0.6666666666666666, \"#ed7953\"], [0.7777777777777778, \"#fb9f3a\"], [0.8888888888888888, \"#fdca26\"], [1.0, \"#f0f921\"]], \"type\": \"heatmapgl\"}], \"histogram\": [{\"marker\": {\"colorbar\": {\"outlinewidth\": 0, \"ticks\": \"\"}}, \"type\": \"histogram\"}], \"histogram2d\": [{\"colorbar\": {\"outlinewidth\": 0, \"ticks\": \"\"}, \"colorscale\": [[0.0, \"#0d0887\"], [0.1111111111111111, \"#46039f\"], [0.2222222222222222, \"#7201a8\"], [0.3333333333333333, \"#9c179e\"], [0.4444444444444444, \"#bd3786\"], [0.5555555555555556, \"#d8576b\"], [0.6666666666666666, \"#ed7953\"], [0.7777777777777778, \"#fb9f3a\"], [0.8888888888888888, \"#fdca26\"], [1.0, \"#f0f921\"]], \"type\": \"histogram2d\"}], \"histogram2dcontour\": [{\"colorbar\": {\"outlinewidth\": 0, \"ticks\": \"\"}, \"colorscale\": [[0.0, \"#0d0887\"], [0.1111111111111111, \"#46039f\"], [0.2222222222222222, \"#7201a8\"], [0.3333333333333333, \"#9c179e\"], [0.4444444444444444, \"#bd3786\"], [0.5555555555555556, \"#d8576b\"], [0.6666666666666666, \"#ed7953\"], [0.7777777777777778, \"#fb9f3a\"], [0.8888888888888888, \"#fdca26\"], [1.0, \"#f0f921\"]], \"type\": \"histogram2dcontour\"}], \"mesh3d\": [{\"colorbar\": {\"outlinewidth\": 0, \"ticks\": \"\"}, \"type\": \"mesh3d\"}], \"parcoords\": [{\"line\": {\"colorbar\": {\"outlinewidth\": 0, \"ticks\": \"\"}}, \"type\": \"parcoords\"}], \"pie\": [{\"automargin\": true, \"type\": \"pie\"}], \"scatter\": [{\"marker\": {\"colorbar\": {\"outlinewidth\": 0, \"ticks\": \"\"}}, \"type\": \"scatter\"}], \"scatter3d\": [{\"line\": {\"colorbar\": {\"outlinewidth\": 0, \"ticks\": \"\"}}, \"marker\": {\"colorbar\": {\"outlinewidth\": 0, \"ticks\": \"\"}}, \"type\": \"scatter3d\"}], \"scattercarpet\": [{\"marker\": {\"colorbar\": {\"outlinewidth\": 0, \"ticks\": \"\"}}, \"type\": \"scattercarpet\"}], \"scattergeo\": [{\"marker\": {\"colorbar\": {\"outlinewidth\": 0, \"ticks\": \"\"}}, \"type\": \"scattergeo\"}], \"scattergl\": [{\"marker\": {\"colorbar\": {\"outlinewidth\": 0, \"ticks\": \"\"}}, \"type\": \"scattergl\"}], \"scattermapbox\": [{\"marker\": {\"colorbar\": {\"outlinewidth\": 0, \"ticks\": \"\"}}, \"type\": \"scattermapbox\"}], \"scatterpolar\": [{\"marker\": {\"colorbar\": {\"outlinewidth\": 0, \"ticks\": \"\"}}, \"type\": \"scatterpolar\"}], \"scatterpolargl\": [{\"marker\": {\"colorbar\": {\"outlinewidth\": 0, \"ticks\": \"\"}}, \"type\": \"scatterpolargl\"}], \"scatterternary\": [{\"marker\": {\"colorbar\": {\"outlinewidth\": 0, \"ticks\": \"\"}}, \"type\": \"scatterternary\"}], \"surface\": [{\"colorbar\": {\"outlinewidth\": 0, \"ticks\": \"\"}, \"colorscale\": [[0.0, \"#0d0887\"], [0.1111111111111111, \"#46039f\"], [0.2222222222222222, \"#7201a8\"], [0.3333333333333333, \"#9c179e\"], [0.4444444444444444, \"#bd3786\"], [0.5555555555555556, \"#d8576b\"], [0.6666666666666666, \"#ed7953\"], [0.7777777777777778, \"#fb9f3a\"], [0.8888888888888888, \"#fdca26\"], [1.0, \"#f0f921\"]], \"type\": \"surface\"}], \"table\": [{\"cells\": {\"fill\": {\"color\": \"#EBF0F8\"}, \"line\": {\"color\": \"white\"}}, \"header\": {\"fill\": {\"color\": \"#C8D4E3\"}, \"line\": {\"color\": \"white\"}}, \"type\": \"table\"}]}, \"layout\": {\"annotationdefaults\": {\"arrowcolor\": \"#2a3f5f\", \"arrowhead\": 0, \"arrowwidth\": 1}, \"autotypenumbers\": \"strict\", \"coloraxis\": {\"colorbar\": {\"outlinewidth\": 0, \"ticks\": \"\"}}, \"colorscale\": {\"diverging\": [[0, \"#8e0152\"], [0.1, \"#c51b7d\"], [0.2, \"#de77ae\"], [0.3, \"#f1b6da\"], [0.4, \"#fde0ef\"], [0.5, \"#f7f7f7\"], [0.6, \"#e6f5d0\"], [0.7, \"#b8e186\"], [0.8, \"#7fbc41\"], [0.9, \"#4d9221\"], [1, \"#276419\"]], \"sequential\": [[0.0, \"#0d0887\"], [0.1111111111111111, \"#46039f\"], [0.2222222222222222, \"#7201a8\"], [0.3333333333333333, \"#9c179e\"], [0.4444444444444444, \"#bd3786\"], [0.5555555555555556, \"#d8576b\"], [0.6666666666666666, \"#ed7953\"], [0.7777777777777778, \"#fb9f3a\"], [0.8888888888888888, \"#fdca26\"], [1.0, \"#f0f921\"]], \"sequentialminus\": [[0.0, \"#0d0887\"], [0.1111111111111111, \"#46039f\"], [0.2222222222222222, \"#7201a8\"], [0.3333333333333333, \"#9c179e\"], [0.4444444444444444, \"#bd3786\"], [0.5555555555555556, \"#d8576b\"], [0.6666666666666666, \"#ed7953\"], [0.7777777777777778, \"#fb9f3a\"], [0.8888888888888888, \"#fdca26\"], [1.0, \"#f0f921\"]]}, \"colorway\": [\"#636efa\", \"#EF553B\", \"#00cc96\", \"#ab63fa\", \"#FFA15A\", \"#19d3f3\", \"#FF6692\", \"#B6E880\", \"#FF97FF\", \"#FECB52\"], \"font\": {\"color\": \"#2a3f5f\"}, \"geo\": {\"bgcolor\": \"white\", \"lakecolor\": \"white\", \"landcolor\": \"#E5ECF6\", \"showlakes\": true, \"showland\": true, \"subunitcolor\": \"white\"}, \"hoverlabel\": {\"align\": \"left\"}, \"hovermode\": \"closest\", \"mapbox\": {\"style\": \"light\"}, \"paper_bgcolor\": \"white\", \"plot_bgcolor\": \"#E5ECF6\", \"polar\": {\"angularaxis\": {\"gridcolor\": \"white\", \"linecolor\": \"white\", \"ticks\": \"\"}, \"bgcolor\": \"#E5ECF6\", \"radialaxis\": {\"gridcolor\": \"white\", \"linecolor\": \"white\", \"ticks\": \"\"}}, \"scene\": {\"xaxis\": {\"backgroundcolor\": \"#E5ECF6\", \"gridcolor\": \"white\", \"gridwidth\": 2, \"linecolor\": \"white\", \"showbackground\": true, \"ticks\": \"\", \"zerolinecolor\": \"white\"}, \"yaxis\": {\"backgroundcolor\": \"#E5ECF6\", \"gridcolor\": \"white\", \"gridwidth\": 2, \"linecolor\": \"white\", \"showbackground\": true, \"ticks\": \"\", \"zerolinecolor\": \"white\"}, \"zaxis\": {\"backgroundcolor\": \"#E5ECF6\", \"gridcolor\": \"white\", \"gridwidth\": 2, \"linecolor\": \"white\", \"showbackground\": true, \"ticks\": \"\", \"zerolinecolor\": \"white\"}}, \"shapedefaults\": {\"line\": {\"color\": \"#2a3f5f\"}}, \"ternary\": {\"aaxis\": {\"gridcolor\": \"white\", \"linecolor\": \"white\", \"ticks\": \"\"}, \"baxis\": {\"gridcolor\": \"white\", \"linecolor\": \"white\", \"ticks\": \"\"}, \"bgcolor\": \"#E5ECF6\", \"caxis\": {\"gridcolor\": \"white\", \"linecolor\": \"white\", \"ticks\": \"\"}}, \"title\": {\"x\": 0.05}, \"xaxis\": {\"automargin\": true, \"gridcolor\": \"white\", \"linecolor\": \"white\", \"ticks\": \"\", \"title\": {\"standoff\": 15}, \"zerolinecolor\": \"white\", \"zerolinewidth\": 2}, \"yaxis\": {\"automargin\": true, \"gridcolor\": \"white\", \"linecolor\": \"white\", \"ticks\": \"\", \"title\": {\"standoff\": 15}, \"zerolinecolor\": \"white\", \"zerolinewidth\": 2}}}, \"title\": {\"text\": \"Brazil cases and vaccination\"}, \"width\": 700, \"xaxis\": {\"anchor\": \"y\", \"domain\": [0.0, 0.94], \"title\": {\"text\": \"date\"}}, \"yaxis\": {\"anchor\": \"x\", \"domain\": [0.0, 1.0], \"title\": {\"text\": \"No of cases of covid\"}}, \"yaxis2\": {\"anchor\": \"x\", \"overlaying\": \"y\", \"side\": \"right\", \"title\": {\"text\": \"No of people with at least one dose\"}}},                        {\"responsive\": true}                    ).then(function(){\n",
       "                            \n",
       "var gd = document.getElementById('779efb73-772b-4393-bf28-ceb0c70307c3');\n",
       "var x = new MutationObserver(function (mutations, observer) {{\n",
       "        var display = window.getComputedStyle(gd).display;\n",
       "        if (!display || display === 'none') {{\n",
       "            console.log([gd, 'removed!']);\n",
       "            Plotly.purge(gd);\n",
       "            observer.disconnect();\n",
       "        }}\n",
       "}});\n",
       "\n",
       "// Listen for the removal of the full notebook cells\n",
       "var notebookContainer = gd.closest('#notebook-container');\n",
       "if (notebookContainer) {{\n",
       "    x.observe(notebookContainer, {childList: true});\n",
       "}}\n",
       "\n",
       "// Listen for the clearing of the current output cell\n",
       "var outputEl = gd.closest('.output');\n",
       "if (outputEl) {{\n",
       "    x.observe(outputEl, {childList: true});\n",
       "}}\n",
       "\n",
       "                        })                };                });            </script>        </div>"
      ]
     },
     "metadata": {},
     "output_type": "display_data"
    }
   ],
   "source": [
    "fig = make_subplots(specs=[[{\"secondary_y\": True}]])\n",
    "\n",
    "fig.add_trace(\n",
    "    go.Scatter(y=covid_daily_BRA['daily_new_cases'], x=covid_daily_BRA['date'], name=\"No of cases daily (BRA)\"),\n",
    "    secondary_y=False,\n",
    ")\n",
    "\n",
    "fig.add_trace(\n",
    "    go.Scatter(x= dfs[-1]['date'],y = dfs[-1]['people_vaccinated'], name = 'People vaccinated'),\n",
    "    secondary_y=True,\n",
    ")\n",
    "\n",
    "fig.update_layout(\n",
    "    autosize=False,\n",
    "    width=700,\n",
    "    height=500,\n",
    "    title_text=\"Brazil cases and vaccination\"\n",
    "    \n",
    ")\n",
    "\n",
    "fig.update_xaxes(title_text=\"date\")\n",
    "\n",
    "fig.update_yaxes(title_text=\"No of cases of covid\", secondary_y=False)\n",
    "fig.update_yaxes(title_text=\"No of people with at least one dose\", secondary_y=True)\n",
    "\n",
    "fig.show()"
   ]
  },
  {
   "cell_type": "code",
   "execution_count": 16,
   "id": "perceived-highway",
   "metadata": {
    "_kg_hide-input": true,
    "execution": {
     "iopub.execute_input": "2021-04-26T13:37:19.500572Z",
     "iopub.status.busy": "2021-04-26T13:37:19.499869Z",
     "iopub.status.idle": "2021-04-26T13:37:19.541598Z",
     "shell.execute_reply": "2021-04-26T13:37:19.542083Z"
    },
    "papermill": {
     "duration": 0.080448,
     "end_time": "2021-04-26T13:37:19.542274",
     "exception": false,
     "start_time": "2021-04-26T13:37:19.461826",
     "status": "completed"
    },
    "tags": []
   },
   "outputs": [
    {
     "data": {
      "text/html": [
       "<div>                            <div id=\"bfaf3093-a326-4fe7-a7ef-5c44d16fb4b2\" class=\"plotly-graph-div\" style=\"height:500px; width:700px;\"></div>            <script type=\"text/javascript\">                require([\"plotly\"], function(Plotly) {                    window.PLOTLYENV=window.PLOTLYENV || {};                                    if (document.getElementById(\"bfaf3093-a326-4fe7-a7ef-5c44d16fb4b2\")) {                    Plotly.newPlot(                        \"bfaf3093-a326-4fe7-a7ef-5c44d16fb4b2\",                        [{\"name\": \"No of deaths daily (BRA)\", \"type\": \"scatter\", \"x\": [\"2020-2-15\", \"2020-2-16\", \"2020-2-17\", \"2020-2-18\", \"2020-2-19\", \"2020-2-20\", \"2020-2-21\", \"2020-2-22\", \"2020-2-23\", \"2020-2-24\", \"2020-2-25\", \"2020-2-26\", \"2020-2-27\", \"2020-2-28\", \"2020-2-29\", \"2020-3-01\", \"2020-3-02\", \"2020-3-03\", \"2020-3-04\", \"2020-3-05\", \"2020-3-06\", \"2020-3-07\", \"2020-3-08\", \"2020-3-09\", \"2020-3-10\", \"2020-3-11\", \"2020-3-12\", \"2020-3-13\", \"2020-3-14\", \"2020-3-15\", \"2020-3-16\", \"2020-3-17\", \"2020-3-18\", \"2020-3-19\", \"2020-3-20\", \"2020-3-21\", \"2020-3-22\", \"2020-3-23\", \"2020-3-24\", \"2020-3-25\", \"2020-3-26\", \"2020-3-27\", \"2020-3-28\", \"2020-3-29\", \"2020-3-30\", \"2020-3-31\", \"2020-4-01\", \"2020-4-02\", \"2020-4-03\", \"2020-4-04\", \"2020-4-05\", \"2020-4-06\", \"2020-4-07\", \"2020-4-08\", \"2020-4-09\", \"2020-4-10\", \"2020-4-11\", \"2020-4-12\", \"2020-4-13\", \"2020-4-14\", \"2020-4-15\", \"2020-4-16\", \"2020-4-17\", \"2020-4-18\", \"2020-4-19\", \"2020-4-20\", \"2020-4-21\", \"2020-4-22\", \"2020-4-23\", \"2020-4-24\", \"2020-4-25\", \"2020-4-26\", \"2020-4-27\", \"2020-4-28\", \"2020-4-29\", \"2020-4-30\", \"2020-5-01\", \"2020-5-02\", \"2020-5-03\", \"2020-5-04\", \"2020-5-05\", \"2020-5-06\", \"2020-5-07\", \"2020-5-08\", \"2020-5-09\", \"2020-5-10\", \"2020-5-11\", \"2020-5-12\", \"2020-5-13\", \"2020-5-14\", \"2020-5-15\", \"2020-5-16\", \"2020-5-17\", \"2020-5-18\", \"2020-5-19\", \"2020-5-20\", \"2020-5-21\", \"2020-5-22\", \"2020-5-23\", \"2020-5-24\", \"2020-5-25\", \"2020-5-26\", \"2020-5-27\", \"2020-5-28\", \"2020-5-29\", \"2020-5-30\", \"2020-5-31\", \"2020-6-01\", \"2020-6-02\", \"2020-6-03\", \"2020-6-04\", \"2020-6-05\", \"2020-6-06\", \"2020-6-07\", \"2020-6-08\", \"2020-6-09\", \"2020-6-10\", \"2020-6-11\", \"2020-6-12\", \"2020-6-13\", \"2020-6-14\", \"2020-6-15\", \"2020-6-16\", \"2020-6-17\", \"2020-6-18\", \"2020-6-19\", \"2020-6-20\", \"2020-6-21\", \"2020-6-22\", \"2020-6-23\", \"2020-6-24\", \"2020-6-25\", \"2020-6-26\", \"2020-6-27\", \"2020-6-28\", \"2020-6-29\", \"2020-6-30\", \"2020-7-01\", \"2020-7-02\", \"2020-7-03\", \"2020-7-04\", \"2020-7-05\", \"2020-7-06\", \"2020-7-07\", \"2020-7-08\", \"2020-7-09\", \"2020-7-10\", \"2020-7-11\", \"2020-7-12\", \"2020-7-13\", \"2020-7-14\", \"2020-7-15\", \"2020-7-16\", \"2020-7-17\", \"2020-7-18\", \"2020-7-19\", \"2020-7-20\", \"2020-7-21\", \"2020-7-22\", \"2020-7-23\", \"2020-7-24\", \"2020-7-25\", \"2020-7-26\", \"2020-7-27\", \"2020-7-28\", \"2020-7-29\", \"2020-7-30\", \"2020-7-31\", \"2020-8-01\", \"2020-8-02\", \"2020-8-03\", \"2020-8-04\", \"2020-8-05\", \"2020-8-06\", \"2020-8-07\", \"2020-8-08\", \"2020-8-09\", \"2020-8-10\", \"2020-8-11\", \"2020-8-12\", \"2020-8-13\", \"2020-8-14\", \"2020-8-15\", \"2020-8-16\", \"2020-8-17\", \"2020-8-18\", \"2020-8-19\", \"2020-8-20\", \"2020-8-21\", \"2020-8-22\", \"2020-8-23\", \"2020-8-24\", \"2020-8-25\", \"2020-8-26\", \"2020-8-27\", \"2020-8-28\", \"2020-8-29\", \"2020-8-30\", \"2020-8-31\", \"2020-9-01\", \"2020-9-02\", \"2020-9-03\", \"2020-9-04\", \"2020-9-05\", \"2020-9-06\", \"2020-9-07\", \"2020-9-08\", \"2020-9-09\", \"2020-9-10\", \"2020-9-11\", \"2020-9-12\", \"2020-9-13\", \"2020-9-14\", \"2020-9-15\", \"2020-9-16\", \"2020-9-17\", \"2020-9-18\", \"2020-9-19\", \"2020-9-20\", \"2020-9-21\", \"2020-9-22\", \"2020-9-23\", \"2020-9-24\", \"2020-9-25\", \"2020-9-26\", \"2020-9-27\", \"2020-9-28\", \"2020-9-29\", \"2020-9-30\", \"2020-10-01\", \"2020-10-02\", \"2020-10-03\", \"2020-10-04\", \"2020-10-05\", \"2020-10-06\", \"2020-10-07\", \"2020-10-08\", \"2020-10-09\", \"2020-10-10\", \"2020-10-11\", \"2020-10-12\", \"2020-10-13\", \"2020-10-14\", \"2020-10-15\", \"2020-10-16\", \"2020-10-17\", \"2020-10-18\", \"2020-10-19\", \"2020-10-20\", \"2020-10-21\", \"2020-10-22\", \"2020-10-23\", \"2020-10-24\", \"2020-10-25\", \"2020-10-26\", \"2020-10-27\", \"2020-10-28\", \"2020-10-29\", \"2020-10-30\", \"2020-10-31\", \"2020-11-01\", \"2020-11-02\", \"2020-11-03\", \"2020-11-04\", \"2020-11-05\", \"2020-11-06\", \"2020-11-07\", \"2020-11-08\", \"2020-11-09\", \"2020-11-10\", \"2020-11-11\", \"2020-11-12\", \"2020-11-13\", \"2020-11-14\", \"2020-11-15\", \"2020-11-16\", \"2020-11-17\", \"2020-11-18\", \"2020-11-19\", \"2020-11-20\", \"2020-11-21\", \"2020-11-22\", \"2020-11-23\", \"2020-11-24\", \"2020-11-25\", \"2020-11-26\", \"2020-11-27\", \"2020-11-28\", \"2020-11-29\", \"2020-11-30\", \"2020-12-01\", \"2020-12-02\", \"2020-12-03\", \"2020-12-04\", \"2020-12-05\", \"2020-12-06\", \"2020-12-07\", \"2020-12-08\", \"2020-12-09\", \"2020-12-10\", \"2020-12-11\", \"2020-12-12\", \"2020-12-13\", \"2020-12-14\", \"2020-12-15\", \"2020-12-16\", \"2020-12-17\", \"2020-12-18\", \"2020-12-19\", \"2020-12-20\", \"2020-12-21\", \"2020-12-22\", \"2020-12-23\", \"2020-12-24\", \"2020-12-25\", \"2020-12-26\", \"2020-12-27\", \"2020-12-28\", \"2020-12-29\", \"2020-12-30\", \"2020-12-31\", \"2021-1-01\", \"2021-1-02\", \"2021-1-03\", \"2021-1-04\", \"2021-1-05\", \"2021-1-06\", \"2021-1-07\", \"2021-1-08\", \"2021-1-09\", \"2021-1-10\", \"2021-1-11\", \"2021-1-12\", \"2021-1-13\", \"2021-1-14\", \"2021-1-15\", \"2021-1-16\", \"2021-1-17\", \"2021-1-18\", \"2021-1-19\", \"2021-1-20\", \"2021-1-21\", \"2021-1-22\", \"2021-1-23\", \"2021-1-24\", \"2021-1-25\", \"2021-1-26\", \"2021-1-27\", \"2021-1-28\", \"2021-1-29\", \"2021-1-30\", \"2021-1-31\", \"2021-2-01\", \"2021-2-02\", \"2021-2-03\", \"2021-2-04\", \"2021-2-05\", \"2021-2-06\", \"2021-2-07\", \"2021-2-08\", \"2021-2-09\", \"2021-2-10\", \"2021-2-11\", \"2021-2-12\", \"2021-2-13\", \"2021-2-14\", \"2021-2-15\", \"2021-2-16\", \"2021-2-17\", \"2021-2-18\", \"2021-2-19\", \"2021-2-20\", \"2021-2-21\", \"2021-2-22\", \"2021-2-23\", \"2021-2-24\", \"2021-2-25\", \"2021-2-26\", \"2021-2-27\", \"2021-2-28\", \"2021-3-01\", \"2021-3-02\", \"2021-3-03\", \"2021-3-04\", \"2021-3-05\", \"2021-3-06\", \"2021-3-07\", \"2021-3-08\", \"2021-3-09\", \"2021-3-10\", \"2021-3-11\", \"2021-3-12\", \"2021-3-13\", \"2021-3-14\", \"2021-3-15\", \"2021-3-16\", \"2021-3-17\", \"2021-3-18\", \"2021-3-19\", \"2021-3-20\", \"2021-3-21\", \"2021-3-22\", \"2021-3-23\", \"2021-3-24\", \"2021-3-25\", \"2021-3-26\", \"2021-3-27\", \"2021-3-28\", \"2021-3-29\", \"2021-3-30\", \"2021-3-31\", \"2021-4-01\", \"2021-4-02\", \"2021-4-03\", \"2021-4-04\", \"2021-4-05\", \"2021-4-06\", \"2021-4-07\", \"2021-4-08\", \"2021-4-09\", \"2021-4-10\", \"2021-4-11\", \"2021-4-12\", \"2021-4-13\", \"2021-4-14\", \"2021-4-15\", \"2021-4-16\", \"2021-4-17\", \"2021-4-18\", \"2021-4-19\", \"2021-4-20\", \"2021-4-21\", \"2021-4-22\", \"2021-4-23\", \"2021-4-24\"], \"xaxis\": \"x\", \"y\": [null, null, null, null, null, null, null, null, null, null, null, null, 0.0, 0.0, 0.0, 0.0, 0.0, 0.0, 0.0, 0.0, 0.0, 0.0, 0.0, 0.0, 0.0, 0.0, 0.0, 0.0, 0.0, 0.0, 0.0, 1.0, 3.0, 3.0, 4.0, 7.0, 7.0, 9.0, 12.0, 13.0, 18.0, 15.0, 22.0, 22.0, 27.0, 38.0, 41.0, 82.0, 39.0, 82.0, 41.0, 78.0, 122.0, 134.0, 134.0, 114.0, 72.0, 83.0, 105.0, 204.0, 225.0, 190.0, 194.0, 220.0, 101.0, 125.0, 154.0, 165.0, 407.0, 357.0, 375.0, 226.0, 272.0, 520.0, 448.0, 390.0, 509.0, 340.0, 275.0, 318.0, 578.0, 667.0, 600.0, 804.0, 664.0, 467.0, 502.0, 779.0, 754.0, 835.0, 824.0, 816.0, 485.0, 735.0, 1130.0, 911.0, 1188.0, 966.0, 965.0, 703.0, 806.0, 1027.0, 1148.0, 1067.0, 1180.0, 890.0, 480.0, 732.0, 1232.0, 1269.0, 1492.0, 1008.0, 910.0, 542.0, 813.0, 1185.0, 1300.0, 1261.0, 843.0, 890.0, 598.0, 729.0, 1338.0, 1209.0, 1204.0, 1221.0, 968.0, 601.0, 748.0, 1364.0, 1103.0, 1180.0, 1055.0, 994.0, 555.0, 727.0, 1271.0, 1057.0, 1277.0, 1264.0, 1111.0, 535.0, 656.0, 1312.0, 1187.0, 1199.0, 1270.0, 968.0, 659.0, 770.0, 1341.0, 1261.0, 1299.0, 1110.0, 885.0, 716.0, 718.0, 1346.0, 1293.0, 1317.0, 1178.0, 1111.0, 556.0, 627.0, 955.0, 1554.0, 1189.0, 1191.0, 1048.0, 514.0, 572.0, 1394.0, 1322.0, 1226.0, 1058.0, 841.0, 593.0, 721.0, 1242.0, 1164.0, 1301.0, 1007.0, 726.0, 582.0, 775.0, 1365.0, 1170.0, 1234.0, 1031.0, 823.0, 495.0, 679.0, 1215.0, 1090.0, 970.0, 868.0, 904.0, 398.0, 619.0, 1166.0, 1218.0, 830.0, 855.0, 646.0, 456.0, 315.0, 516.0, 1136.0, 922.0, 899.0, 800.0, 389.0, 454.0, 1090.0, 967.0, 857.0, 826.0, 708.0, 330.0, 455.0, 809.0, 906.0, 818.0, 826.0, 732.0, 335.0, 385.0, 849.0, 952.0, 805.0, 664.0, 580.0, 364.0, 398.0, 798.0, 733.0, 730.0, 658.0, 544.0, 270.0, 203.0, 354.0, 716.0, 734.0, 716.0, 461.0, 215.0, 321.0, 662.0, 571.0, 503.0, 566.0, 398.0, 237.0, 288.0, 530.0, 487.0, 565.0, 529.0, 340.0, 202.0, 168.0, 276.0, 622.0, 609.0, 256.0, 251.0, 111.0, 241.0, 204.0, 564.0, 926.0, 614.0, 727.0, 138.0, 256.0, 676.0, 754.0, 644.0, 521.0, 354.0, 181.0, 344.0, 638.0, 620.0, 698.0, 501.0, 639.0, 211.0, 317.0, 697.0, 669.0, 776.0, 674.0, 660.0, 321.0, 426.0, 796.0, 848.0, 769.0, 652.0, 690.0, 276.0, 526.0, 909.0, 968.0, 1054.0, 811.0, 669.0, 417.0, 549.0, 963.0, 979.0, 768.0, 483.0, 300.0, 331.0, 495.0, 1075.0, 1224.0, 1036.0, 465.0, 301.0, 276.0, 573.0, 1186.0, 1266.0, 1455.0, 1044.0, 1115.0, 483.0, 477.0, 1109.0, 1283.0, 1151.0, 1131.0, 1059.0, 518.0, 460.0, 1183.0, 1382.0, 1335.0, 1071.0, 1176.0, 606.0, 631.0, 1206.0, 1319.0, 1439.0, 1099.0, 1196.0, 563.0, 609.0, 1240.0, 1209.0, 1291.0, 1244.0, 942.0, 492.0, 687.0, 1340.0, 1357.0, 1452.0, 1204.0, 1046.0, 647.0, 601.0, 1088.0, 1195.0, 1432.0, 1345.0, 1051.0, 554.0, 716.0, 1370.0, 1433.0, 1582.0, 1327.0, 1275.0, 755.0, 818.0, 1726.0, 1840.0, 1786.0, 1760.0, 1498.0, 1054.0, 1114.0, 1954.0, 2349.0, 2207.0, 2152.0, 1940.0, 1111.0, 1275.0, 2798.0, 2736.0, 2659.0, 2730.0, 2331.0, 1259.0, 1570.0, 3158.0, 2244.0, 2639.0, 3600.0, 3368.0, 1605.0, 1969.0, 3668.0, 3950.0, 3673.0, 2807.0, 1931.0, 1233.0, 1623.0, 4211.0, 3733.0, 4190.0, 3647.0, 2535.0, 1824.0, 1738.0, 3687.0, 3462.0, 3774.0, 3070.0, 2865.0, 1553.0, 1607.0, 3481.0, 3157.0, 2070.0, 2866.0, 2986.0], \"yaxis\": \"y\"}, {\"name\": \"People vaccinated\", \"type\": \"scatter\", \"x\": [\"2021-01-16\", \"2021-01-17\", \"2021-01-18\", \"2021-01-19\", \"2021-01-20\", \"2021-01-21\", \"2021-01-22\", \"2021-01-23\", \"2021-01-24\", \"2021-01-25\", \"2021-01-26\", \"2021-01-27\", \"2021-01-28\", \"2021-01-29\", \"2021-01-30\", \"2021-01-31\", \"2021-02-01\", \"2021-02-02\", \"2021-02-03\", \"2021-02-04\", \"2021-02-05\", \"2021-02-06\", \"2021-02-07\", \"2021-02-08\", \"2021-02-09\", \"2021-02-10\", \"2021-02-11\", \"2021-02-12\", \"2021-02-13\", \"2021-02-14\", \"2021-02-15\", \"2021-02-16\", \"2021-02-17\", \"2021-02-18\", \"2021-02-19\", \"2021-02-20\", \"2021-02-21\", \"2021-02-22\", \"2021-02-23\", \"2021-02-24\", \"2021-02-25\", \"2021-02-26\", \"2021-02-27\", \"2021-02-28\", \"2021-03-01\", \"2021-03-02\", \"2021-03-03\", \"2021-03-04\", \"2021-03-05\", \"2021-03-06\", \"2021-03-07\", \"2021-03-08\", \"2021-03-09\", \"2021-03-10\", \"2021-03-11\", \"2021-03-12\", \"2021-03-13\", \"2021-03-14\", \"2021-03-15\", \"2021-03-16\", \"2021-03-17\", \"2021-03-18\", \"2021-03-19\", \"2021-03-20\", \"2021-03-21\", \"2021-03-22\", \"2021-03-23\", \"2021-03-24\", \"2021-03-25\", \"2021-03-26\", \"2021-03-27\", \"2021-03-28\", \"2021-03-29\", \"2021-03-30\", \"2021-03-31\", \"2021-04-01\", \"2021-04-02\", \"2021-04-03\", \"2021-04-04\", \"2021-04-05\", \"2021-04-06\", \"2021-04-07\", \"2021-04-08\", \"2021-04-09\", \"2021-04-10\", \"2021-04-11\", \"2021-04-12\", \"2021-04-13\", \"2021-04-14\", \"2021-04-15\", \"2021-04-16\", \"2021-04-17\", \"2021-04-18\", \"2021-04-19\", \"2021-04-20\", \"2021-04-21\", \"2021-04-22\", \"2021-04-23\", \"2021-04-24\"], \"xaxis\": \"x\", \"y\": [0.0, 112.0, 1109.0, 11470.0, 28543.0, 136519.0, 245877.0, 537774.0, 604722.0, 700608.0, 848883.0, 1129885.0, 1450900.0, 1656851.0, 1923813.0, 2046523.0, 2107624.0, 2292551.0, 2521704.0, 3073057.0, 3074906.0, 3399421.0, 3534004.0, 3579850.0, 3786591.0, 4069677.0, 4326075.0, 4586270.0, 4946738.0, 5042713.0, 5076110.0, 5324317.0, 5326007.0, 5482925.0, 5640483.0, 5756361.0, 5817908.0, 5857080.0, 6002873.0, 6116082.0, 6202055.0, 6346769.0, 6437836.0, 6518628.0, 6542206.0, 6806293.0, 7114219.0, 7417852.0, 7701146.0, null, null, null, null, 7851531.0, 8092244.0, 8360366.0, 8512960.0, 8561847.0, 8919356.0, null, 9451188.0, 9709526.0, 9970231.0, 10099070.0, 10168973.0, 10609471.0, 11559487.0, 12148769.0, 12639545.0, 13053114.0, 13487207.0, 13659406.0, 13988029.0, 14112509.0, 14921376.0, null, 16099532.0, 16377083.0, 16472281.0, 17128933.0, 17791338.0, 18859274.0, 19386057.0, 19886870.0, 20513828.0, 20654434.0, 21080623.0, 23602070.0, 24197321.0, null, null, null, 24350046.0, 24776701.0, 24805515.0, 24918188.0, 25340967.0, 26398005.0, 26501024.0], \"yaxis\": \"y2\"}],                        {\"autosize\": false, \"height\": 500, \"template\": {\"data\": {\"bar\": [{\"error_x\": {\"color\": \"#2a3f5f\"}, \"error_y\": {\"color\": \"#2a3f5f\"}, \"marker\": {\"line\": {\"color\": \"#E5ECF6\", \"width\": 0.5}}, \"type\": \"bar\"}], \"barpolar\": [{\"marker\": {\"line\": {\"color\": \"#E5ECF6\", \"width\": 0.5}}, \"type\": \"barpolar\"}], \"carpet\": [{\"aaxis\": {\"endlinecolor\": \"#2a3f5f\", \"gridcolor\": \"white\", \"linecolor\": \"white\", \"minorgridcolor\": \"white\", \"startlinecolor\": \"#2a3f5f\"}, \"baxis\": {\"endlinecolor\": \"#2a3f5f\", \"gridcolor\": \"white\", \"linecolor\": \"white\", \"minorgridcolor\": \"white\", \"startlinecolor\": \"#2a3f5f\"}, \"type\": \"carpet\"}], \"choropleth\": [{\"colorbar\": {\"outlinewidth\": 0, \"ticks\": \"\"}, \"type\": \"choropleth\"}], \"contour\": [{\"colorbar\": {\"outlinewidth\": 0, \"ticks\": \"\"}, \"colorscale\": [[0.0, \"#0d0887\"], [0.1111111111111111, \"#46039f\"], [0.2222222222222222, \"#7201a8\"], [0.3333333333333333, \"#9c179e\"], [0.4444444444444444, \"#bd3786\"], [0.5555555555555556, \"#d8576b\"], [0.6666666666666666, \"#ed7953\"], [0.7777777777777778, \"#fb9f3a\"], [0.8888888888888888, \"#fdca26\"], [1.0, \"#f0f921\"]], \"type\": \"contour\"}], \"contourcarpet\": [{\"colorbar\": {\"outlinewidth\": 0, \"ticks\": \"\"}, \"type\": \"contourcarpet\"}], \"heatmap\": [{\"colorbar\": {\"outlinewidth\": 0, \"ticks\": \"\"}, \"colorscale\": [[0.0, \"#0d0887\"], [0.1111111111111111, \"#46039f\"], [0.2222222222222222, \"#7201a8\"], [0.3333333333333333, \"#9c179e\"], [0.4444444444444444, \"#bd3786\"], [0.5555555555555556, \"#d8576b\"], [0.6666666666666666, \"#ed7953\"], [0.7777777777777778, \"#fb9f3a\"], [0.8888888888888888, \"#fdca26\"], [1.0, \"#f0f921\"]], \"type\": \"heatmap\"}], \"heatmapgl\": [{\"colorbar\": {\"outlinewidth\": 0, \"ticks\": \"\"}, \"colorscale\": [[0.0, \"#0d0887\"], [0.1111111111111111, \"#46039f\"], [0.2222222222222222, \"#7201a8\"], [0.3333333333333333, \"#9c179e\"], [0.4444444444444444, \"#bd3786\"], [0.5555555555555556, \"#d8576b\"], [0.6666666666666666, \"#ed7953\"], [0.7777777777777778, \"#fb9f3a\"], [0.8888888888888888, \"#fdca26\"], [1.0, \"#f0f921\"]], \"type\": \"heatmapgl\"}], \"histogram\": [{\"marker\": {\"colorbar\": {\"outlinewidth\": 0, \"ticks\": \"\"}}, \"type\": \"histogram\"}], \"histogram2d\": [{\"colorbar\": {\"outlinewidth\": 0, \"ticks\": \"\"}, \"colorscale\": [[0.0, \"#0d0887\"], [0.1111111111111111, \"#46039f\"], [0.2222222222222222, \"#7201a8\"], [0.3333333333333333, \"#9c179e\"], [0.4444444444444444, \"#bd3786\"], [0.5555555555555556, \"#d8576b\"], [0.6666666666666666, \"#ed7953\"], [0.7777777777777778, \"#fb9f3a\"], [0.8888888888888888, \"#fdca26\"], [1.0, \"#f0f921\"]], \"type\": \"histogram2d\"}], \"histogram2dcontour\": [{\"colorbar\": {\"outlinewidth\": 0, \"ticks\": \"\"}, \"colorscale\": [[0.0, \"#0d0887\"], [0.1111111111111111, \"#46039f\"], [0.2222222222222222, \"#7201a8\"], [0.3333333333333333, \"#9c179e\"], [0.4444444444444444, \"#bd3786\"], [0.5555555555555556, \"#d8576b\"], [0.6666666666666666, \"#ed7953\"], [0.7777777777777778, \"#fb9f3a\"], [0.8888888888888888, \"#fdca26\"], [1.0, \"#f0f921\"]], \"type\": \"histogram2dcontour\"}], \"mesh3d\": [{\"colorbar\": {\"outlinewidth\": 0, \"ticks\": \"\"}, \"type\": \"mesh3d\"}], \"parcoords\": [{\"line\": {\"colorbar\": {\"outlinewidth\": 0, \"ticks\": \"\"}}, \"type\": \"parcoords\"}], \"pie\": [{\"automargin\": true, \"type\": \"pie\"}], \"scatter\": [{\"marker\": {\"colorbar\": {\"outlinewidth\": 0, \"ticks\": \"\"}}, \"type\": \"scatter\"}], \"scatter3d\": [{\"line\": {\"colorbar\": {\"outlinewidth\": 0, \"ticks\": \"\"}}, \"marker\": {\"colorbar\": {\"outlinewidth\": 0, \"ticks\": \"\"}}, \"type\": \"scatter3d\"}], \"scattercarpet\": [{\"marker\": {\"colorbar\": {\"outlinewidth\": 0, \"ticks\": \"\"}}, \"type\": \"scattercarpet\"}], \"scattergeo\": [{\"marker\": {\"colorbar\": {\"outlinewidth\": 0, \"ticks\": \"\"}}, \"type\": \"scattergeo\"}], \"scattergl\": [{\"marker\": {\"colorbar\": {\"outlinewidth\": 0, \"ticks\": \"\"}}, \"type\": \"scattergl\"}], \"scattermapbox\": [{\"marker\": {\"colorbar\": {\"outlinewidth\": 0, \"ticks\": \"\"}}, \"type\": \"scattermapbox\"}], \"scatterpolar\": [{\"marker\": {\"colorbar\": {\"outlinewidth\": 0, \"ticks\": \"\"}}, \"type\": \"scatterpolar\"}], \"scatterpolargl\": [{\"marker\": {\"colorbar\": {\"outlinewidth\": 0, \"ticks\": \"\"}}, \"type\": \"scatterpolargl\"}], \"scatterternary\": [{\"marker\": {\"colorbar\": {\"outlinewidth\": 0, \"ticks\": \"\"}}, \"type\": \"scatterternary\"}], \"surface\": [{\"colorbar\": {\"outlinewidth\": 0, \"ticks\": \"\"}, \"colorscale\": [[0.0, \"#0d0887\"], [0.1111111111111111, \"#46039f\"], [0.2222222222222222, \"#7201a8\"], [0.3333333333333333, \"#9c179e\"], [0.4444444444444444, \"#bd3786\"], [0.5555555555555556, \"#d8576b\"], [0.6666666666666666, \"#ed7953\"], [0.7777777777777778, \"#fb9f3a\"], [0.8888888888888888, \"#fdca26\"], [1.0, \"#f0f921\"]], \"type\": \"surface\"}], \"table\": [{\"cells\": {\"fill\": {\"color\": \"#EBF0F8\"}, \"line\": {\"color\": \"white\"}}, \"header\": {\"fill\": {\"color\": \"#C8D4E3\"}, \"line\": {\"color\": \"white\"}}, \"type\": \"table\"}]}, \"layout\": {\"annotationdefaults\": {\"arrowcolor\": \"#2a3f5f\", \"arrowhead\": 0, \"arrowwidth\": 1}, \"autotypenumbers\": \"strict\", \"coloraxis\": {\"colorbar\": {\"outlinewidth\": 0, \"ticks\": \"\"}}, \"colorscale\": {\"diverging\": [[0, \"#8e0152\"], [0.1, \"#c51b7d\"], [0.2, \"#de77ae\"], [0.3, \"#f1b6da\"], [0.4, \"#fde0ef\"], [0.5, \"#f7f7f7\"], [0.6, \"#e6f5d0\"], [0.7, \"#b8e186\"], [0.8, \"#7fbc41\"], [0.9, \"#4d9221\"], [1, \"#276419\"]], \"sequential\": [[0.0, \"#0d0887\"], [0.1111111111111111, \"#46039f\"], [0.2222222222222222, \"#7201a8\"], [0.3333333333333333, \"#9c179e\"], [0.4444444444444444, \"#bd3786\"], [0.5555555555555556, \"#d8576b\"], [0.6666666666666666, \"#ed7953\"], [0.7777777777777778, \"#fb9f3a\"], [0.8888888888888888, \"#fdca26\"], [1.0, \"#f0f921\"]], \"sequentialminus\": [[0.0, \"#0d0887\"], [0.1111111111111111, \"#46039f\"], [0.2222222222222222, \"#7201a8\"], [0.3333333333333333, \"#9c179e\"], [0.4444444444444444, \"#bd3786\"], [0.5555555555555556, \"#d8576b\"], [0.6666666666666666, \"#ed7953\"], [0.7777777777777778, \"#fb9f3a\"], [0.8888888888888888, \"#fdca26\"], [1.0, \"#f0f921\"]]}, \"colorway\": [\"#636efa\", \"#EF553B\", \"#00cc96\", \"#ab63fa\", \"#FFA15A\", \"#19d3f3\", \"#FF6692\", \"#B6E880\", \"#FF97FF\", \"#FECB52\"], \"font\": {\"color\": \"#2a3f5f\"}, \"geo\": {\"bgcolor\": \"white\", \"lakecolor\": \"white\", \"landcolor\": \"#E5ECF6\", \"showlakes\": true, \"showland\": true, \"subunitcolor\": \"white\"}, \"hoverlabel\": {\"align\": \"left\"}, \"hovermode\": \"closest\", \"mapbox\": {\"style\": \"light\"}, \"paper_bgcolor\": \"white\", \"plot_bgcolor\": \"#E5ECF6\", \"polar\": {\"angularaxis\": {\"gridcolor\": \"white\", \"linecolor\": \"white\", \"ticks\": \"\"}, \"bgcolor\": \"#E5ECF6\", \"radialaxis\": {\"gridcolor\": \"white\", \"linecolor\": \"white\", \"ticks\": \"\"}}, \"scene\": {\"xaxis\": {\"backgroundcolor\": \"#E5ECF6\", \"gridcolor\": \"white\", \"gridwidth\": 2, \"linecolor\": \"white\", \"showbackground\": true, \"ticks\": \"\", \"zerolinecolor\": \"white\"}, \"yaxis\": {\"backgroundcolor\": \"#E5ECF6\", \"gridcolor\": \"white\", \"gridwidth\": 2, \"linecolor\": \"white\", \"showbackground\": true, \"ticks\": \"\", \"zerolinecolor\": \"white\"}, \"zaxis\": {\"backgroundcolor\": \"#E5ECF6\", \"gridcolor\": \"white\", \"gridwidth\": 2, \"linecolor\": \"white\", \"showbackground\": true, \"ticks\": \"\", \"zerolinecolor\": \"white\"}}, \"shapedefaults\": {\"line\": {\"color\": \"#2a3f5f\"}}, \"ternary\": {\"aaxis\": {\"gridcolor\": \"white\", \"linecolor\": \"white\", \"ticks\": \"\"}, \"baxis\": {\"gridcolor\": \"white\", \"linecolor\": \"white\", \"ticks\": \"\"}, \"bgcolor\": \"#E5ECF6\", \"caxis\": {\"gridcolor\": \"white\", \"linecolor\": \"white\", \"ticks\": \"\"}}, \"title\": {\"x\": 0.05}, \"xaxis\": {\"automargin\": true, \"gridcolor\": \"white\", \"linecolor\": \"white\", \"ticks\": \"\", \"title\": {\"standoff\": 15}, \"zerolinecolor\": \"white\", \"zerolinewidth\": 2}, \"yaxis\": {\"automargin\": true, \"gridcolor\": \"white\", \"linecolor\": \"white\", \"ticks\": \"\", \"title\": {\"standoff\": 15}, \"zerolinecolor\": \"white\", \"zerolinewidth\": 2}}}, \"title\": {\"text\": \"Brazil deaths and vaccination\"}, \"width\": 700, \"xaxis\": {\"anchor\": \"y\", \"domain\": [0.0, 0.94], \"title\": {\"text\": \"date\"}}, \"yaxis\": {\"anchor\": \"x\", \"domain\": [0.0, 1.0], \"title\": {\"text\": \"No of deaths of covid\"}}, \"yaxis2\": {\"anchor\": \"x\", \"overlaying\": \"y\", \"side\": \"right\", \"title\": {\"text\": \"No of people with at least one dose\"}}},                        {\"responsive\": true}                    ).then(function(){\n",
       "                            \n",
       "var gd = document.getElementById('bfaf3093-a326-4fe7-a7ef-5c44d16fb4b2');\n",
       "var x = new MutationObserver(function (mutations, observer) {{\n",
       "        var display = window.getComputedStyle(gd).display;\n",
       "        if (!display || display === 'none') {{\n",
       "            console.log([gd, 'removed!']);\n",
       "            Plotly.purge(gd);\n",
       "            observer.disconnect();\n",
       "        }}\n",
       "}});\n",
       "\n",
       "// Listen for the removal of the full notebook cells\n",
       "var notebookContainer = gd.closest('#notebook-container');\n",
       "if (notebookContainer) {{\n",
       "    x.observe(notebookContainer, {childList: true});\n",
       "}}\n",
       "\n",
       "// Listen for the clearing of the current output cell\n",
       "var outputEl = gd.closest('.output');\n",
       "if (outputEl) {{\n",
       "    x.observe(outputEl, {childList: true});\n",
       "}}\n",
       "\n",
       "                        })                };                });            </script>        </div>"
      ]
     },
     "metadata": {},
     "output_type": "display_data"
    }
   ],
   "source": [
    "fig = make_subplots(specs=[[{\"secondary_y\": True}]])\n",
    "\n",
    "fig.add_trace(\n",
    "    go.Scatter(y=covid_daily_BRA['daily_new_deaths'], x=covid_daily_BRA['date'], name=\"No of deaths daily (BRA)\"),\n",
    "    secondary_y=False,\n",
    ")\n",
    "\n",
    "fig.add_trace(\n",
    "    go.Scatter(x= dfs[-1]['date'],y = dfs[-1]['people_vaccinated'], name = 'People vaccinated'),\n",
    "    secondary_y=True,\n",
    ")\n",
    "\n",
    "fig.update_layout(\n",
    "    autosize=False,\n",
    "    width=700,\n",
    "    height=500,\n",
    "    title_text=\"Brazil deaths and vaccination\"\n",
    ")\n",
    "\n",
    "fig.update_xaxes(title_text=\"date\")\n",
    "\n",
    "fig.update_yaxes(title_text=\"No of deaths of covid\", secondary_y=False)\n",
    "fig.update_yaxes(title_text=\"No of people with at least one dose\", secondary_y=True)\n",
    "\n",
    "fig.show()"
   ]
  },
  {
   "cell_type": "markdown",
   "id": "raising-handy",
   "metadata": {
    "papermill": {
     "duration": 0.036135,
     "end_time": "2021-04-26T13:37:19.616703",
     "exception": false,
     "start_time": "2021-04-26T13:37:19.580568",
     "status": "completed"
    },
    "tags": []
   },
   "source": [
    "# India cases, deaths and vaccinated people "
   ]
  },
  {
   "cell_type": "code",
   "execution_count": 17,
   "id": "automated-instruction",
   "metadata": {
    "_kg_hide-input": true,
    "execution": {
     "iopub.execute_input": "2021-04-26T13:37:19.693123Z",
     "iopub.status.busy": "2021-04-26T13:37:19.692406Z",
     "iopub.status.idle": "2021-04-26T13:37:19.735608Z",
     "shell.execute_reply": "2021-04-26T13:37:19.735064Z"
    },
    "papermill": {
     "duration": 0.082534,
     "end_time": "2021-04-26T13:37:19.735760",
     "exception": false,
     "start_time": "2021-04-26T13:37:19.653226",
     "status": "completed"
    },
    "tags": []
   },
   "outputs": [
    {
     "data": {
      "text/html": [
       "<div>                            <div id=\"6c20ef8e-cad9-46a0-9369-37a19e6dd5ac\" class=\"plotly-graph-div\" style=\"height:500px; width:700px;\"></div>            <script type=\"text/javascript\">                require([\"plotly\"], function(Plotly) {                    window.PLOTLYENV=window.PLOTLYENV || {};                                    if (document.getElementById(\"6c20ef8e-cad9-46a0-9369-37a19e6dd5ac\")) {                    Plotly.newPlot(                        \"6c20ef8e-cad9-46a0-9369-37a19e6dd5ac\",                        [{\"name\": \"No of cases daily (IND)\", \"type\": \"scatter\", \"x\": [\"2020-2-15\", \"2020-2-16\", \"2020-2-17\", \"2020-2-18\", \"2020-2-19\", \"2020-2-20\", \"2020-2-21\", \"2020-2-22\", \"2020-2-23\", \"2020-2-24\", \"2020-2-25\", \"2020-2-26\", \"2020-2-27\", \"2020-2-28\", \"2020-2-29\", \"2020-3-01\", \"2020-3-02\", \"2020-3-03\", \"2020-3-04\", \"2020-3-05\", \"2020-3-06\", \"2020-3-07\", \"2020-3-08\", \"2020-3-09\", \"2020-3-10\", \"2020-3-11\", \"2020-3-12\", \"2020-3-13\", \"2020-3-14\", \"2020-3-15\", \"2020-3-16\", \"2020-3-17\", \"2020-3-18\", \"2020-3-19\", \"2020-3-20\", \"2020-3-21\", \"2020-3-22\", \"2020-3-23\", \"2020-3-24\", \"2020-3-25\", \"2020-3-26\", \"2020-3-27\", \"2020-3-28\", \"2020-3-29\", \"2020-3-30\", \"2020-3-31\", \"2020-4-01\", \"2020-4-02\", \"2020-4-03\", \"2020-4-04\", \"2020-4-05\", \"2020-4-06\", \"2020-4-07\", \"2020-4-08\", \"2020-4-09\", \"2020-4-10\", \"2020-4-11\", \"2020-4-12\", \"2020-4-13\", \"2020-4-14\", \"2020-4-15\", \"2020-4-16\", \"2020-4-17\", \"2020-4-18\", \"2020-4-19\", \"2020-4-20\", \"2020-4-21\", \"2020-4-22\", \"2020-4-23\", \"2020-4-24\", \"2020-4-25\", \"2020-4-26\", \"2020-4-27\", \"2020-4-28\", \"2020-4-29\", \"2020-4-30\", \"2020-5-01\", \"2020-5-02\", \"2020-5-03\", \"2020-5-04\", \"2020-5-05\", \"2020-5-06\", \"2020-5-07\", \"2020-5-08\", \"2020-5-09\", \"2020-5-10\", \"2020-5-11\", \"2020-5-12\", \"2020-5-13\", \"2020-5-14\", \"2020-5-15\", \"2020-5-16\", \"2020-5-17\", \"2020-5-18\", \"2020-5-19\", \"2020-5-20\", \"2020-5-21\", \"2020-5-22\", \"2020-5-23\", \"2020-5-24\", \"2020-5-25\", \"2020-5-26\", \"2020-5-27\", \"2020-5-28\", \"2020-5-29\", \"2020-5-30\", \"2020-5-31\", \"2020-6-01\", \"2020-6-02\", \"2020-6-03\", \"2020-6-04\", \"2020-6-05\", \"2020-6-06\", \"2020-6-07\", \"2020-6-08\", \"2020-6-09\", \"2020-6-10\", \"2020-6-11\", \"2020-6-12\", \"2020-6-13\", \"2020-6-14\", \"2020-6-15\", \"2020-6-16\", \"2020-6-17\", \"2020-6-18\", \"2020-6-19\", \"2020-6-20\", \"2020-6-21\", \"2020-6-22\", \"2020-6-23\", \"2020-6-24\", \"2020-6-25\", \"2020-6-26\", \"2020-6-27\", \"2020-6-28\", \"2020-6-29\", \"2020-6-30\", \"2020-7-01\", \"2020-7-02\", \"2020-7-03\", \"2020-7-04\", \"2020-7-05\", \"2020-7-06\", \"2020-7-07\", \"2020-7-08\", \"2020-7-09\", \"2020-7-10\", \"2020-7-11\", \"2020-7-12\", \"2020-7-13\", \"2020-7-14\", \"2020-7-15\", \"2020-7-16\", \"2020-7-17\", \"2020-7-18\", \"2020-7-19\", \"2020-7-20\", \"2020-7-21\", \"2020-7-22\", \"2020-7-23\", \"2020-7-24\", \"2020-7-25\", \"2020-7-26\", \"2020-7-27\", \"2020-7-28\", \"2020-7-29\", \"2020-7-30\", \"2020-7-31\", \"2020-8-01\", \"2020-8-02\", \"2020-8-03\", \"2020-8-04\", \"2020-8-05\", \"2020-8-06\", \"2020-8-07\", \"2020-8-08\", \"2020-8-09\", \"2020-8-10\", \"2020-8-11\", \"2020-8-12\", \"2020-8-13\", \"2020-8-14\", \"2020-8-15\", \"2020-8-16\", \"2020-8-17\", \"2020-8-18\", \"2020-8-19\", \"2020-8-20\", \"2020-8-21\", \"2020-8-22\", \"2020-8-23\", \"2020-8-24\", \"2020-8-25\", \"2020-8-26\", \"2020-8-27\", \"2020-8-28\", \"2020-8-29\", \"2020-8-30\", \"2020-8-31\", \"2020-9-01\", \"2020-9-02\", \"2020-9-03\", \"2020-9-04\", \"2020-9-05\", \"2020-9-06\", \"2020-9-07\", \"2020-9-08\", \"2020-9-09\", \"2020-9-10\", \"2020-9-11\", \"2020-9-12\", \"2020-9-13\", \"2020-9-14\", \"2020-9-15\", \"2020-9-16\", \"2020-9-17\", \"2020-9-18\", \"2020-9-19\", \"2020-9-20\", \"2020-9-21\", \"2020-9-22\", \"2020-9-23\", \"2020-9-24\", \"2020-9-25\", \"2020-9-26\", \"2020-9-27\", \"2020-9-28\", \"2020-9-29\", \"2020-9-30\", \"2020-10-01\", \"2020-10-02\", \"2020-10-03\", \"2020-10-04\", \"2020-10-05\", \"2020-10-06\", \"2020-10-07\", \"2020-10-08\", \"2020-10-09\", \"2020-10-10\", \"2020-10-11\", \"2020-10-12\", \"2020-10-13\", \"2020-10-14\", \"2020-10-15\", \"2020-10-16\", \"2020-10-17\", \"2020-10-18\", \"2020-10-19\", \"2020-10-20\", \"2020-10-21\", \"2020-10-22\", \"2020-10-23\", \"2020-10-24\", \"2020-10-25\", \"2020-10-26\", \"2020-10-27\", \"2020-10-28\", \"2020-10-29\", \"2020-10-30\", \"2020-10-31\", \"2020-11-01\", \"2020-11-02\", \"2020-11-03\", \"2020-11-04\", \"2020-11-05\", \"2020-11-06\", \"2020-11-07\", \"2020-11-08\", \"2020-11-09\", \"2020-11-10\", \"2020-11-11\", \"2020-11-12\", \"2020-11-13\", \"2020-11-14\", \"2020-11-15\", \"2020-11-16\", \"2020-11-17\", \"2020-11-18\", \"2020-11-19\", \"2020-11-20\", \"2020-11-21\", \"2020-11-22\", \"2020-11-23\", \"2020-11-24\", \"2020-11-25\", \"2020-11-26\", \"2020-11-27\", \"2020-11-28\", \"2020-11-29\", \"2020-11-30\", \"2020-12-01\", \"2020-12-02\", \"2020-12-03\", \"2020-12-04\", \"2020-12-05\", \"2020-12-06\", \"2020-12-07\", \"2020-12-08\", \"2020-12-09\", \"2020-12-10\", \"2020-12-11\", \"2020-12-12\", \"2020-12-13\", \"2020-12-14\", \"2020-12-15\", \"2020-12-16\", \"2020-12-17\", \"2020-12-18\", \"2020-12-19\", \"2020-12-20\", \"2020-12-21\", \"2020-12-22\", \"2020-12-23\", \"2020-12-24\", \"2020-12-25\", \"2020-12-26\", \"2020-12-27\", \"2020-12-28\", \"2020-12-29\", \"2020-12-30\", \"2020-12-31\", \"2021-1-01\", \"2021-1-02\", \"2021-1-03\", \"2021-1-04\", \"2021-1-05\", \"2021-1-06\", \"2021-1-07\", \"2021-1-08\", \"2021-1-09\", \"2021-1-10\", \"2021-1-11\", \"2021-1-12\", \"2021-1-13\", \"2021-1-14\", \"2021-1-15\", \"2021-1-16\", \"2021-1-17\", \"2021-1-18\", \"2021-1-19\", \"2021-1-20\", \"2021-1-21\", \"2021-1-22\", \"2021-1-23\", \"2021-1-24\", \"2021-1-25\", \"2021-1-26\", \"2021-1-27\", \"2021-1-28\", \"2021-1-29\", \"2021-1-30\", \"2021-1-31\", \"2021-2-01\", \"2021-2-02\", \"2021-2-03\", \"2021-2-04\", \"2021-2-05\", \"2021-2-06\", \"2021-2-07\", \"2021-2-08\", \"2021-2-09\", \"2021-2-10\", \"2021-2-11\", \"2021-2-12\", \"2021-2-13\", \"2021-2-14\", \"2021-2-15\", \"2021-2-16\", \"2021-2-17\", \"2021-2-18\", \"2021-2-19\", \"2021-2-20\", \"2021-2-21\", \"2021-2-22\", \"2021-2-23\", \"2021-2-24\", \"2021-2-25\", \"2021-2-26\", \"2021-2-27\", \"2021-2-28\", \"2021-3-01\", \"2021-3-02\", \"2021-3-03\", \"2021-3-04\", \"2021-3-05\", \"2021-3-06\", \"2021-3-07\", \"2021-3-08\", \"2021-3-09\", \"2021-3-10\", \"2021-3-11\", \"2021-3-12\", \"2021-3-13\", \"2021-3-14\", \"2021-3-15\", \"2021-3-16\", \"2021-3-17\", \"2021-3-18\", \"2021-3-19\", \"2021-3-20\", \"2021-3-21\", \"2021-3-22\", \"2021-3-23\", \"2021-3-24\", \"2021-3-25\", \"2021-3-26\", \"2021-3-27\", \"2021-3-28\", \"2021-3-29\", \"2021-3-30\", \"2021-3-31\", \"2021-4-01\", \"2021-4-02\", \"2021-4-03\", \"2021-4-04\", \"2021-4-05\", \"2021-4-06\", \"2021-4-07\", \"2021-4-08\", \"2021-4-09\", \"2021-4-10\", \"2021-4-11\", \"2021-4-12\", \"2021-4-13\", \"2021-4-14\", \"2021-4-15\", \"2021-4-16\", \"2021-4-17\", \"2021-4-18\", \"2021-4-19\", \"2021-4-20\", \"2021-4-21\", \"2021-4-22\", \"2021-4-23\", \"2021-4-24\"], \"xaxis\": \"x\", \"y\": [null, 0.0, 0.0, 0.0, 0.0, 0.0, 0.0, 0.0, 0.0, 0.0, 0.0, 0.0, 0.0, 0.0, 0.0, 0.0, 3.0, 1.0, 22.0, 1.0, 1.0, 3.0, 6.0, 7.0, 15.0, 0.0, 12.0, 8.0, 18.0, 14.0, 15.0, 14.0, 26.0, 25.0, 55.0, 83.0, 64.0, 103.0, 37.0, 121.0, 70.0, 160.0, 100.0, 37.0, 227.0, 146.0, 601.0, 545.0, 516.0, 529.0, 701.0, 489.0, 573.0, 565.0, 809.0, 875.0, 846.0, 759.0, 1248.0, 1034.0, 883.0, 1060.0, 922.0, 2013.0, 1250.0, 924.0, 1541.0, 1290.0, 1669.0, 1408.0, 1836.0, 1607.0, 1561.0, 1873.0, 1738.0, 1801.0, 2394.0, 2442.0, 2806.0, 3932.0, 2963.0, 3587.0, 3364.0, 3344.0, 3113.0, 4353.0, 3607.0, 3524.0, 3763.0, 3942.0, 3787.0, 4864.0, 5050.0, 4630.0, 6147.0, 5553.0, 6198.0, 6568.0, 6629.0, 7113.0, 6414.0, 5843.0, 7293.0, 7300.0, 8105.0, 8336.0, 8782.0, 7761.0, 8821.0, 9633.0, 9889.0, 9471.0, 10438.0, 10864.0, 8442.0, 8852.0, 12375.0, 11128.0, 11320.0, 12023.0, 11157.0, 10243.0, 11135.0, 13103.0, 13827.0, 14721.0, 15915.0, 15183.0, 13540.0, 15665.0, 16870.0, 18185.0, 18276.0, 20131.0, 19620.0, 18339.0, 18256.0, 19428.0, 21948.0, 22721.0, 24015.0, 23932.0, 22510.0, 23135.0, 25571.0, 25790.0, 27761.0, 27755.0, 29108.0, 28179.0, 29842.0, 32682.0, 35468.0, 34820.0, 37407.0, 40243.0, 36810.0, 39168.0, 45599.0, 48446.0, 48892.0, 48472.0, 50525.0, 46484.0, 49632.0, 52249.0, 54966.0, 57704.0, 54865.0, 52783.0, 50629.0, 51282.0, 56626.0, 62170.0, 61455.0, 65156.0, 62117.0, 53016.0, 61252.0, 67066.0, 64142.0, 65609.0, 63986.0, 58108.0, 54288.0, 65022.0, 69196.0, 68507.0, 69039.0, 70068.0, 61749.0, 59696.0, 66873.0, 75995.0, 76826.0, 76665.0, 78472.0, 79457.0, 68770.0, 78169.0, 82860.0, 84156.0, 87115.0, 90600.0, 91723.0, 75022.0, 89852.0, 95529.0, 96760.0, 97654.0, 94409.0, 93215.0, 81911.0, 91120.0, 97859.0, 96793.0, 92789.0, 92755.0, 87382.0, 74493.0, 80391.0, 89688.0, 85919.0, 85468.0, 89010.0, 82767.0, 69671.0, 80500.0, 86748.0, 81693.0, 79974.0, 75479.0, 74767.0, 59893.0, 72106.0, 78809.0, 70824.0, 73196.0, 74535.0, 67757.0, 54265.0, 63517.0, 67988.0, 60439.0, 65126.0, 62092.0, 55511.0, 46498.0, 54422.0, 56000.0, 54482.0, 54028.0, 50224.0, 45158.0, 36838.0, 42965.0, 49912.0, 49281.0, 48120.0, 46715.0, 46441.0, 37592.0, 46033.0, 50465.0, 47622.0, 49851.0, 46318.0, 46661.0, 37211.0, 44679.0, 48285.0, 43861.0, 45343.0, 41659.0, 30715.0, 28555.0, 38532.0, 45439.0, 46182.0, 46288.0, 45295.0, 44404.0, 37410.0, 44276.0, 44699.0, 43174.0, 41353.0, 41815.0, 39036.0, 31179.0, 36456.0, 33761.0, 38309.0, 36638.0, 36111.0, 32272.0, 27107.0, 32067.0, 26351.0, 34666.0, 30034.0, 30354.0, 27336.0, 21791.0, 26401.0, 18164.0, 26762.0, 26991.0, 26834.0, 24589.0, 19174.0, 23886.0, 24236.0, 23924.0, 22350.0, 18574.0, 20333.0, 16072.0, 20529.0, 21957.0, 19046.0, 17080.0, 21222.0, 16660.0, 16278.0, 17909.0, 20460.0, 18106.0, 18482.0, 18820.0, 16085.0, 12482.0, 15903.0, 17015.0, 15677.0, 15151.0, 15051.0, 13962.0, 9975.0, 13795.0, 15277.0, 14481.0, 14344.0, 14891.0, 13239.0, 9036.0, 12569.0, 11752.0, 18940.0, 13055.0, 13065.0, 11528.0, 8587.0, 11000.0, 12917.0, 12410.0, 11689.0, 11948.0, 11673.0, 8947.0, 10510.0, 12760.0, 9353.0, 12137.0, 12188.0, 11434.0, 9139.0, 11795.0, 12440.0, 12643.0, 14587.0, 14315.0, 13980.0, 10792.0, 13463.0, 17144.0, 16568.0, 16056.0, 17346.0, 15616.0, 11563.0, 15704.0, 17425.0, 16824.0, 18292.0, 18716.0, 18691.0, 15353.0, 16846.0, 22841.0, 21668.0, 27512.0, 25153.0, 26514.0, 24437.0, 28869.0, 35838.0, 39643.0, 40950.0, 43815.0, 47009.0, 40611.0, 47264.0, 53419.0, 59069.0, 62291.0, 62631.0, 68206.0, 56119.0, 53158.0, 72182.0, 81441.0, 89019.0, 92998.0, 103793.0, 96557.0, 115269.0, 126315.0, 131893.0, 144829.0, 152682.0, 169914.0, 160694.0, 185248.0, 199569.0, 216850.0, 233943.0, 260778.0, 275306.0, 256947.0, 294290.0, 315802.0, 332503.0, 345147.0, 349313.0], \"yaxis\": \"y\"}, {\"name\": \"People vaccinated\", \"type\": \"scatter\", \"x\": [\"2021-01-15\", \"2021-01-16\", \"2021-01-17\", \"2021-01-18\", \"2021-01-19\", \"2021-01-20\", \"2021-01-21\", \"2021-01-22\", \"2021-01-23\", \"2021-01-24\", \"2021-01-25\", \"2021-01-26\", \"2021-01-27\", \"2021-01-28\", \"2021-01-29\", \"2021-01-30\", \"2021-01-31\", \"2021-02-01\", \"2021-02-02\", \"2021-02-03\", \"2021-02-04\", \"2021-02-05\", \"2021-02-06\", \"2021-02-07\", \"2021-02-08\", \"2021-02-09\", \"2021-02-10\", \"2021-02-11\", \"2021-02-12\", \"2021-02-13\", \"2021-02-14\", \"2021-02-15\", \"2021-02-16\", \"2021-02-17\", \"2021-02-18\", \"2021-02-19\", \"2021-02-20\", \"2021-02-21\", \"2021-02-22\", \"2021-02-23\", \"2021-02-24\", \"2021-02-25\", \"2021-02-26\", \"2021-02-27\", \"2021-02-28\", \"2021-03-01\", \"2021-03-02\", \"2021-03-03\", \"2021-03-04\", \"2021-03-05\", \"2021-03-06\", \"2021-03-07\", \"2021-03-08\", \"2021-03-09\", \"2021-03-10\", \"2021-03-11\", \"2021-03-12\", \"2021-03-13\", \"2021-03-14\", \"2021-03-15\", \"2021-03-16\", \"2021-03-17\", \"2021-03-18\", \"2021-03-19\", \"2021-03-20\", \"2021-03-21\", \"2021-03-22\", \"2021-03-23\", \"2021-03-24\", \"2021-03-25\", \"2021-03-26\", \"2021-03-27\", \"2021-03-28\", \"2021-03-29\", \"2021-03-30\", \"2021-03-31\", \"2021-04-01\", \"2021-04-02\", \"2021-04-03\", \"2021-04-04\", \"2021-04-05\", \"2021-04-06\", \"2021-04-07\", \"2021-04-08\", \"2021-04-09\", \"2021-04-10\", \"2021-04-11\", \"2021-04-12\", \"2021-04-13\", \"2021-04-14\", \"2021-04-15\", \"2021-04-16\", \"2021-04-17\", \"2021-04-18\", \"2021-04-19\", \"2021-04-20\", \"2021-04-21\", \"2021-04-22\", \"2021-04-23\"], \"xaxis\": \"x\", \"y\": [0.0, 191181.0, 224301.0, 454049.0, 674835.0, 806484.0, 1043534.0, 1390592.0, 1582201.0, 1615504.0, 2023809.0, 2029480.0, 2355979.0, 2928053.0, 3500027.0, 3744334.0, 3758843.0, 3950156.0, 4138918.0, 4449552.0, 4959445.0, 5416849.0, 5775322.0, 5812362.0, 6259008.0, 6611561.0, 7017114.0, 7505010.0, 7967647.0, 8044786.0, null, 8418653.0, 8641002.0, 8844641.0, 9381591.0, 9693000.0, 9964383.0, 10124531.0, 10308552.0, 10585757.0, 10884879.0, 11206188.0, 11552857.0, 11788669.0, 11845075.0, 12256337.0, 12906771.0, 13739121.0, 14796835.0, 15996683.0, 17168303.0, 17227903.0, 18943283.0, 20004227.0, 21034481.0, 21435841.0, 23075504.0, 24307635.0, 24452385.0, 27079484.0, 28862037.0, 30600787.0, 32426230.0, 34842030.0, 37125187.0, 37574302.0, 40631153.0, 42731952.0, 44846538.0, 47001472.0, 49426618.0, 51441436.0, 51660234.0, 52211398.0, 53989035.0, 55783201.0, 59148798.0, 63081589.0, 65739470.0, 68678838.0, 72277309.0, 75937015.0, 78763027.0, 82456522.0, 85763852.0, 88885961.0, 91587400.0, 95043039.0, 97301914.0, 100179199.0, 102349255.0, 104408484.0, 106431076.0, 107371770.0, 109659181.0, null, 111673361.0, 113584269.0, 116936487.0], \"yaxis\": \"y2\"}],                        {\"autosize\": false, \"height\": 500, \"template\": {\"data\": {\"bar\": [{\"error_x\": {\"color\": \"#2a3f5f\"}, \"error_y\": {\"color\": \"#2a3f5f\"}, \"marker\": {\"line\": {\"color\": \"#E5ECF6\", \"width\": 0.5}}, \"type\": \"bar\"}], \"barpolar\": [{\"marker\": {\"line\": {\"color\": \"#E5ECF6\", \"width\": 0.5}}, \"type\": \"barpolar\"}], \"carpet\": [{\"aaxis\": {\"endlinecolor\": \"#2a3f5f\", \"gridcolor\": \"white\", \"linecolor\": \"white\", \"minorgridcolor\": \"white\", \"startlinecolor\": \"#2a3f5f\"}, \"baxis\": {\"endlinecolor\": \"#2a3f5f\", \"gridcolor\": \"white\", \"linecolor\": \"white\", \"minorgridcolor\": \"white\", \"startlinecolor\": \"#2a3f5f\"}, \"type\": \"carpet\"}], \"choropleth\": [{\"colorbar\": {\"outlinewidth\": 0, \"ticks\": \"\"}, \"type\": \"choropleth\"}], \"contour\": [{\"colorbar\": {\"outlinewidth\": 0, \"ticks\": \"\"}, \"colorscale\": [[0.0, \"#0d0887\"], [0.1111111111111111, \"#46039f\"], [0.2222222222222222, \"#7201a8\"], [0.3333333333333333, \"#9c179e\"], [0.4444444444444444, \"#bd3786\"], [0.5555555555555556, \"#d8576b\"], [0.6666666666666666, \"#ed7953\"], [0.7777777777777778, \"#fb9f3a\"], [0.8888888888888888, \"#fdca26\"], [1.0, \"#f0f921\"]], \"type\": \"contour\"}], \"contourcarpet\": [{\"colorbar\": {\"outlinewidth\": 0, \"ticks\": \"\"}, \"type\": \"contourcarpet\"}], \"heatmap\": [{\"colorbar\": {\"outlinewidth\": 0, \"ticks\": \"\"}, \"colorscale\": [[0.0, \"#0d0887\"], [0.1111111111111111, \"#46039f\"], [0.2222222222222222, \"#7201a8\"], [0.3333333333333333, \"#9c179e\"], [0.4444444444444444, \"#bd3786\"], [0.5555555555555556, \"#d8576b\"], [0.6666666666666666, \"#ed7953\"], [0.7777777777777778, \"#fb9f3a\"], [0.8888888888888888, \"#fdca26\"], [1.0, \"#f0f921\"]], \"type\": \"heatmap\"}], \"heatmapgl\": [{\"colorbar\": {\"outlinewidth\": 0, \"ticks\": \"\"}, \"colorscale\": [[0.0, \"#0d0887\"], [0.1111111111111111, \"#46039f\"], [0.2222222222222222, \"#7201a8\"], [0.3333333333333333, \"#9c179e\"], [0.4444444444444444, \"#bd3786\"], [0.5555555555555556, \"#d8576b\"], [0.6666666666666666, \"#ed7953\"], [0.7777777777777778, \"#fb9f3a\"], [0.8888888888888888, \"#fdca26\"], [1.0, \"#f0f921\"]], \"type\": \"heatmapgl\"}], \"histogram\": [{\"marker\": {\"colorbar\": {\"outlinewidth\": 0, \"ticks\": \"\"}}, \"type\": \"histogram\"}], \"histogram2d\": [{\"colorbar\": {\"outlinewidth\": 0, \"ticks\": \"\"}, \"colorscale\": [[0.0, \"#0d0887\"], [0.1111111111111111, \"#46039f\"], [0.2222222222222222, \"#7201a8\"], [0.3333333333333333, \"#9c179e\"], [0.4444444444444444, \"#bd3786\"], [0.5555555555555556, \"#d8576b\"], [0.6666666666666666, \"#ed7953\"], [0.7777777777777778, \"#fb9f3a\"], [0.8888888888888888, \"#fdca26\"], [1.0, \"#f0f921\"]], \"type\": \"histogram2d\"}], \"histogram2dcontour\": [{\"colorbar\": {\"outlinewidth\": 0, \"ticks\": \"\"}, \"colorscale\": [[0.0, \"#0d0887\"], [0.1111111111111111, \"#46039f\"], [0.2222222222222222, \"#7201a8\"], [0.3333333333333333, \"#9c179e\"], [0.4444444444444444, \"#bd3786\"], [0.5555555555555556, \"#d8576b\"], [0.6666666666666666, \"#ed7953\"], [0.7777777777777778, \"#fb9f3a\"], [0.8888888888888888, \"#fdca26\"], [1.0, \"#f0f921\"]], \"type\": \"histogram2dcontour\"}], \"mesh3d\": [{\"colorbar\": {\"outlinewidth\": 0, \"ticks\": \"\"}, \"type\": \"mesh3d\"}], \"parcoords\": [{\"line\": {\"colorbar\": {\"outlinewidth\": 0, \"ticks\": \"\"}}, \"type\": \"parcoords\"}], \"pie\": [{\"automargin\": true, \"type\": \"pie\"}], \"scatter\": [{\"marker\": {\"colorbar\": {\"outlinewidth\": 0, \"ticks\": \"\"}}, \"type\": \"scatter\"}], \"scatter3d\": [{\"line\": {\"colorbar\": {\"outlinewidth\": 0, \"ticks\": \"\"}}, \"marker\": {\"colorbar\": {\"outlinewidth\": 0, \"ticks\": \"\"}}, \"type\": \"scatter3d\"}], \"scattercarpet\": [{\"marker\": {\"colorbar\": {\"outlinewidth\": 0, \"ticks\": \"\"}}, \"type\": \"scattercarpet\"}], \"scattergeo\": [{\"marker\": {\"colorbar\": {\"outlinewidth\": 0, \"ticks\": \"\"}}, \"type\": \"scattergeo\"}], \"scattergl\": [{\"marker\": {\"colorbar\": {\"outlinewidth\": 0, \"ticks\": \"\"}}, \"type\": \"scattergl\"}], \"scattermapbox\": [{\"marker\": {\"colorbar\": {\"outlinewidth\": 0, \"ticks\": \"\"}}, \"type\": \"scattermapbox\"}], \"scatterpolar\": [{\"marker\": {\"colorbar\": {\"outlinewidth\": 0, \"ticks\": \"\"}}, \"type\": \"scatterpolar\"}], \"scatterpolargl\": [{\"marker\": {\"colorbar\": {\"outlinewidth\": 0, \"ticks\": \"\"}}, \"type\": \"scatterpolargl\"}], \"scatterternary\": [{\"marker\": {\"colorbar\": {\"outlinewidth\": 0, \"ticks\": \"\"}}, \"type\": \"scatterternary\"}], \"surface\": [{\"colorbar\": {\"outlinewidth\": 0, \"ticks\": \"\"}, \"colorscale\": [[0.0, \"#0d0887\"], [0.1111111111111111, \"#46039f\"], [0.2222222222222222, \"#7201a8\"], [0.3333333333333333, \"#9c179e\"], [0.4444444444444444, \"#bd3786\"], [0.5555555555555556, \"#d8576b\"], [0.6666666666666666, \"#ed7953\"], [0.7777777777777778, \"#fb9f3a\"], [0.8888888888888888, \"#fdca26\"], [1.0, \"#f0f921\"]], \"type\": \"surface\"}], \"table\": [{\"cells\": {\"fill\": {\"color\": \"#EBF0F8\"}, \"line\": {\"color\": \"white\"}}, \"header\": {\"fill\": {\"color\": \"#C8D4E3\"}, \"line\": {\"color\": \"white\"}}, \"type\": \"table\"}]}, \"layout\": {\"annotationdefaults\": {\"arrowcolor\": \"#2a3f5f\", \"arrowhead\": 0, \"arrowwidth\": 1}, \"autotypenumbers\": \"strict\", \"coloraxis\": {\"colorbar\": {\"outlinewidth\": 0, \"ticks\": \"\"}}, \"colorscale\": {\"diverging\": [[0, \"#8e0152\"], [0.1, \"#c51b7d\"], [0.2, \"#de77ae\"], [0.3, \"#f1b6da\"], [0.4, \"#fde0ef\"], [0.5, \"#f7f7f7\"], [0.6, \"#e6f5d0\"], [0.7, \"#b8e186\"], [0.8, \"#7fbc41\"], [0.9, \"#4d9221\"], [1, \"#276419\"]], \"sequential\": [[0.0, \"#0d0887\"], [0.1111111111111111, \"#46039f\"], [0.2222222222222222, \"#7201a8\"], [0.3333333333333333, \"#9c179e\"], [0.4444444444444444, \"#bd3786\"], [0.5555555555555556, \"#d8576b\"], [0.6666666666666666, \"#ed7953\"], [0.7777777777777778, \"#fb9f3a\"], [0.8888888888888888, \"#fdca26\"], [1.0, \"#f0f921\"]], \"sequentialminus\": [[0.0, \"#0d0887\"], [0.1111111111111111, \"#46039f\"], [0.2222222222222222, \"#7201a8\"], [0.3333333333333333, \"#9c179e\"], [0.4444444444444444, \"#bd3786\"], [0.5555555555555556, \"#d8576b\"], [0.6666666666666666, \"#ed7953\"], [0.7777777777777778, \"#fb9f3a\"], [0.8888888888888888, \"#fdca26\"], [1.0, \"#f0f921\"]]}, \"colorway\": [\"#636efa\", \"#EF553B\", \"#00cc96\", \"#ab63fa\", \"#FFA15A\", \"#19d3f3\", \"#FF6692\", \"#B6E880\", \"#FF97FF\", \"#FECB52\"], \"font\": {\"color\": \"#2a3f5f\"}, \"geo\": {\"bgcolor\": \"white\", \"lakecolor\": \"white\", \"landcolor\": \"#E5ECF6\", \"showlakes\": true, \"showland\": true, \"subunitcolor\": \"white\"}, \"hoverlabel\": {\"align\": \"left\"}, \"hovermode\": \"closest\", \"mapbox\": {\"style\": \"light\"}, \"paper_bgcolor\": \"white\", \"plot_bgcolor\": \"#E5ECF6\", \"polar\": {\"angularaxis\": {\"gridcolor\": \"white\", \"linecolor\": \"white\", \"ticks\": \"\"}, \"bgcolor\": \"#E5ECF6\", \"radialaxis\": {\"gridcolor\": \"white\", \"linecolor\": \"white\", \"ticks\": \"\"}}, \"scene\": {\"xaxis\": {\"backgroundcolor\": \"#E5ECF6\", \"gridcolor\": \"white\", \"gridwidth\": 2, \"linecolor\": \"white\", \"showbackground\": true, \"ticks\": \"\", \"zerolinecolor\": \"white\"}, \"yaxis\": {\"backgroundcolor\": \"#E5ECF6\", \"gridcolor\": \"white\", \"gridwidth\": 2, \"linecolor\": \"white\", \"showbackground\": true, \"ticks\": \"\", \"zerolinecolor\": \"white\"}, \"zaxis\": {\"backgroundcolor\": \"#E5ECF6\", \"gridcolor\": \"white\", \"gridwidth\": 2, \"linecolor\": \"white\", \"showbackground\": true, \"ticks\": \"\", \"zerolinecolor\": \"white\"}}, \"shapedefaults\": {\"line\": {\"color\": \"#2a3f5f\"}}, \"ternary\": {\"aaxis\": {\"gridcolor\": \"white\", \"linecolor\": \"white\", \"ticks\": \"\"}, \"baxis\": {\"gridcolor\": \"white\", \"linecolor\": \"white\", \"ticks\": \"\"}, \"bgcolor\": \"#E5ECF6\", \"caxis\": {\"gridcolor\": \"white\", \"linecolor\": \"white\", \"ticks\": \"\"}}, \"title\": {\"x\": 0.05}, \"xaxis\": {\"automargin\": true, \"gridcolor\": \"white\", \"linecolor\": \"white\", \"ticks\": \"\", \"title\": {\"standoff\": 15}, \"zerolinecolor\": \"white\", \"zerolinewidth\": 2}, \"yaxis\": {\"automargin\": true, \"gridcolor\": \"white\", \"linecolor\": \"white\", \"ticks\": \"\", \"title\": {\"standoff\": 15}, \"zerolinecolor\": \"white\", \"zerolinewidth\": 2}}}, \"title\": {\"text\": \"India cases and vaccination\"}, \"width\": 700, \"xaxis\": {\"anchor\": \"y\", \"domain\": [0.0, 0.94], \"title\": {\"text\": \"date\"}}, \"yaxis\": {\"anchor\": \"x\", \"domain\": [0.0, 1.0], \"title\": {\"text\": \"No of cases of covid\"}}, \"yaxis2\": {\"anchor\": \"x\", \"overlaying\": \"y\", \"side\": \"right\", \"title\": {\"text\": \"No of people with at least one dose\"}}},                        {\"responsive\": true}                    ).then(function(){\n",
       "                            \n",
       "var gd = document.getElementById('6c20ef8e-cad9-46a0-9369-37a19e6dd5ac');\n",
       "var x = new MutationObserver(function (mutations, observer) {{\n",
       "        var display = window.getComputedStyle(gd).display;\n",
       "        if (!display || display === 'none') {{\n",
       "            console.log([gd, 'removed!']);\n",
       "            Plotly.purge(gd);\n",
       "            observer.disconnect();\n",
       "        }}\n",
       "}});\n",
       "\n",
       "// Listen for the removal of the full notebook cells\n",
       "var notebookContainer = gd.closest('#notebook-container');\n",
       "if (notebookContainer) {{\n",
       "    x.observe(notebookContainer, {childList: true});\n",
       "}}\n",
       "\n",
       "// Listen for the clearing of the current output cell\n",
       "var outputEl = gd.closest('.output');\n",
       "if (outputEl) {{\n",
       "    x.observe(outputEl, {childList: true});\n",
       "}}\n",
       "\n",
       "                        })                };                });            </script>        </div>"
      ]
     },
     "metadata": {},
     "output_type": "display_data"
    }
   ],
   "source": [
    "fig = make_subplots(specs=[[{\"secondary_y\": True}]])\n",
    "\n",
    "fig.add_trace(\n",
    "    go.Scatter(y=covid_daily_IND['daily_new_cases'], x=covid_daily_IND['date'], name=\"No of cases daily (IND)\"),\n",
    "    secondary_y=False,\n",
    ")\n",
    "\n",
    "fig.add_trace(\n",
    "    go.Scatter(x= dfs[1]['date'],y = dfs[1]['people_vaccinated'], name = 'People vaccinated'),\n",
    "    secondary_y=True,\n",
    ")\n",
    "\n",
    "fig.update_layout(\n",
    "    autosize=False,\n",
    "    width=700,\n",
    "    height=500,\n",
    "    title_text=\"India cases and vaccination\"\n",
    ")\n",
    "\n",
    "fig.update_xaxes(title_text=\"date\")\n",
    "\n",
    "fig.update_yaxes(title_text=\"No of cases of covid\", secondary_y=False)\n",
    "fig.update_yaxes(title_text=\"No of people with at least one dose\", secondary_y=True)\n",
    "\n",
    "fig.show()"
   ]
  },
  {
   "cell_type": "code",
   "execution_count": 18,
   "id": "seven-tradition",
   "metadata": {
    "_kg_hide-input": true,
    "execution": {
     "iopub.execute_input": "2021-04-26T13:37:19.851886Z",
     "iopub.status.busy": "2021-04-26T13:37:19.824830Z",
     "iopub.status.idle": "2021-04-26T13:37:19.857247Z",
     "shell.execute_reply": "2021-04-26T13:37:19.857759Z"
    },
    "papermill": {
     "duration": 0.08479,
     "end_time": "2021-04-26T13:37:19.857944",
     "exception": false,
     "start_time": "2021-04-26T13:37:19.773154",
     "status": "completed"
    },
    "tags": []
   },
   "outputs": [
    {
     "data": {
      "text/html": [
       "<div>                            <div id=\"67299cc2-60f9-4c5b-b2a5-f076eb4ec05d\" class=\"plotly-graph-div\" style=\"height:500px; width:700px;\"></div>            <script type=\"text/javascript\">                require([\"plotly\"], function(Plotly) {                    window.PLOTLYENV=window.PLOTLYENV || {};                                    if (document.getElementById(\"67299cc2-60f9-4c5b-b2a5-f076eb4ec05d\")) {                    Plotly.newPlot(                        \"67299cc2-60f9-4c5b-b2a5-f076eb4ec05d\",                        [{\"name\": \"No of deaths daily (IND)\", \"type\": \"scatter\", \"x\": [\"2020-2-15\", \"2020-2-16\", \"2020-2-17\", \"2020-2-18\", \"2020-2-19\", \"2020-2-20\", \"2020-2-21\", \"2020-2-22\", \"2020-2-23\", \"2020-2-24\", \"2020-2-25\", \"2020-2-26\", \"2020-2-27\", \"2020-2-28\", \"2020-2-29\", \"2020-3-01\", \"2020-3-02\", \"2020-3-03\", \"2020-3-04\", \"2020-3-05\", \"2020-3-06\", \"2020-3-07\", \"2020-3-08\", \"2020-3-09\", \"2020-3-10\", \"2020-3-11\", \"2020-3-12\", \"2020-3-13\", \"2020-3-14\", \"2020-3-15\", \"2020-3-16\", \"2020-3-17\", \"2020-3-18\", \"2020-3-19\", \"2020-3-20\", \"2020-3-21\", \"2020-3-22\", \"2020-3-23\", \"2020-3-24\", \"2020-3-25\", \"2020-3-26\", \"2020-3-27\", \"2020-3-28\", \"2020-3-29\", \"2020-3-30\", \"2020-3-31\", \"2020-4-01\", \"2020-4-02\", \"2020-4-03\", \"2020-4-04\", \"2020-4-05\", \"2020-4-06\", \"2020-4-07\", \"2020-4-08\", \"2020-4-09\", \"2020-4-10\", \"2020-4-11\", \"2020-4-12\", \"2020-4-13\", \"2020-4-14\", \"2020-4-15\", \"2020-4-16\", \"2020-4-17\", \"2020-4-18\", \"2020-4-19\", \"2020-4-20\", \"2020-4-21\", \"2020-4-22\", \"2020-4-23\", \"2020-4-24\", \"2020-4-25\", \"2020-4-26\", \"2020-4-27\", \"2020-4-28\", \"2020-4-29\", \"2020-4-30\", \"2020-5-01\", \"2020-5-02\", \"2020-5-03\", \"2020-5-04\", \"2020-5-05\", \"2020-5-06\", \"2020-5-07\", \"2020-5-08\", \"2020-5-09\", \"2020-5-10\", \"2020-5-11\", \"2020-5-12\", \"2020-5-13\", \"2020-5-14\", \"2020-5-15\", \"2020-5-16\", \"2020-5-17\", \"2020-5-18\", \"2020-5-19\", \"2020-5-20\", \"2020-5-21\", \"2020-5-22\", \"2020-5-23\", \"2020-5-24\", \"2020-5-25\", \"2020-5-26\", \"2020-5-27\", \"2020-5-28\", \"2020-5-29\", \"2020-5-30\", \"2020-5-31\", \"2020-6-01\", \"2020-6-02\", \"2020-6-03\", \"2020-6-04\", \"2020-6-05\", \"2020-6-06\", \"2020-6-07\", \"2020-6-08\", \"2020-6-09\", \"2020-6-10\", \"2020-6-11\", \"2020-6-12\", \"2020-6-13\", \"2020-6-14\", \"2020-6-15\", \"2020-6-16\", \"2020-6-17\", \"2020-6-18\", \"2020-6-19\", \"2020-6-20\", \"2020-6-21\", \"2020-6-22\", \"2020-6-23\", \"2020-6-24\", \"2020-6-25\", \"2020-6-26\", \"2020-6-27\", \"2020-6-28\", \"2020-6-29\", \"2020-6-30\", \"2020-7-01\", \"2020-7-02\", \"2020-7-03\", \"2020-7-04\", \"2020-7-05\", \"2020-7-06\", \"2020-7-07\", \"2020-7-08\", \"2020-7-09\", \"2020-7-10\", \"2020-7-11\", \"2020-7-12\", \"2020-7-13\", \"2020-7-14\", \"2020-7-15\", \"2020-7-16\", \"2020-7-17\", \"2020-7-18\", \"2020-7-19\", \"2020-7-20\", \"2020-7-21\", \"2020-7-22\", \"2020-7-23\", \"2020-7-24\", \"2020-7-25\", \"2020-7-26\", \"2020-7-27\", \"2020-7-28\", \"2020-7-29\", \"2020-7-30\", \"2020-7-31\", \"2020-8-01\", \"2020-8-02\", \"2020-8-03\", \"2020-8-04\", \"2020-8-05\", \"2020-8-06\", \"2020-8-07\", \"2020-8-08\", \"2020-8-09\", \"2020-8-10\", \"2020-8-11\", \"2020-8-12\", \"2020-8-13\", \"2020-8-14\", \"2020-8-15\", \"2020-8-16\", \"2020-8-17\", \"2020-8-18\", \"2020-8-19\", \"2020-8-20\", \"2020-8-21\", \"2020-8-22\", \"2020-8-23\", \"2020-8-24\", \"2020-8-25\", \"2020-8-26\", \"2020-8-27\", \"2020-8-28\", \"2020-8-29\", \"2020-8-30\", \"2020-8-31\", \"2020-9-01\", \"2020-9-02\", \"2020-9-03\", \"2020-9-04\", \"2020-9-05\", \"2020-9-06\", \"2020-9-07\", \"2020-9-08\", \"2020-9-09\", \"2020-9-10\", \"2020-9-11\", \"2020-9-12\", \"2020-9-13\", \"2020-9-14\", \"2020-9-15\", \"2020-9-16\", \"2020-9-17\", \"2020-9-18\", \"2020-9-19\", \"2020-9-20\", \"2020-9-21\", \"2020-9-22\", \"2020-9-23\", \"2020-9-24\", \"2020-9-25\", \"2020-9-26\", \"2020-9-27\", \"2020-9-28\", \"2020-9-29\", \"2020-9-30\", \"2020-10-01\", \"2020-10-02\", \"2020-10-03\", \"2020-10-04\", \"2020-10-05\", \"2020-10-06\", \"2020-10-07\", \"2020-10-08\", \"2020-10-09\", \"2020-10-10\", \"2020-10-11\", \"2020-10-12\", \"2020-10-13\", \"2020-10-14\", \"2020-10-15\", \"2020-10-16\", \"2020-10-17\", \"2020-10-18\", \"2020-10-19\", \"2020-10-20\", \"2020-10-21\", \"2020-10-22\", \"2020-10-23\", \"2020-10-24\", \"2020-10-25\", \"2020-10-26\", \"2020-10-27\", \"2020-10-28\", \"2020-10-29\", \"2020-10-30\", \"2020-10-31\", \"2020-11-01\", \"2020-11-02\", \"2020-11-03\", \"2020-11-04\", \"2020-11-05\", \"2020-11-06\", \"2020-11-07\", \"2020-11-08\", \"2020-11-09\", \"2020-11-10\", \"2020-11-11\", \"2020-11-12\", \"2020-11-13\", \"2020-11-14\", \"2020-11-15\", \"2020-11-16\", \"2020-11-17\", \"2020-11-18\", \"2020-11-19\", \"2020-11-20\", \"2020-11-21\", \"2020-11-22\", \"2020-11-23\", \"2020-11-24\", \"2020-11-25\", \"2020-11-26\", \"2020-11-27\", \"2020-11-28\", \"2020-11-29\", \"2020-11-30\", \"2020-12-01\", \"2020-12-02\", \"2020-12-03\", \"2020-12-04\", \"2020-12-05\", \"2020-12-06\", \"2020-12-07\", \"2020-12-08\", \"2020-12-09\", \"2020-12-10\", \"2020-12-11\", \"2020-12-12\", \"2020-12-13\", \"2020-12-14\", \"2020-12-15\", \"2020-12-16\", \"2020-12-17\", \"2020-12-18\", \"2020-12-19\", \"2020-12-20\", \"2020-12-21\", \"2020-12-22\", \"2020-12-23\", \"2020-12-24\", \"2020-12-25\", \"2020-12-26\", \"2020-12-27\", \"2020-12-28\", \"2020-12-29\", \"2020-12-30\", \"2020-12-31\", \"2021-1-01\", \"2021-1-02\", \"2021-1-03\", \"2021-1-04\", \"2021-1-05\", \"2021-1-06\", \"2021-1-07\", \"2021-1-08\", \"2021-1-09\", \"2021-1-10\", \"2021-1-11\", \"2021-1-12\", \"2021-1-13\", \"2021-1-14\", \"2021-1-15\", \"2021-1-16\", \"2021-1-17\", \"2021-1-18\", \"2021-1-19\", \"2021-1-20\", \"2021-1-21\", \"2021-1-22\", \"2021-1-23\", \"2021-1-24\", \"2021-1-25\", \"2021-1-26\", \"2021-1-27\", \"2021-1-28\", \"2021-1-29\", \"2021-1-30\", \"2021-1-31\", \"2021-2-01\", \"2021-2-02\", \"2021-2-03\", \"2021-2-04\", \"2021-2-05\", \"2021-2-06\", \"2021-2-07\", \"2021-2-08\", \"2021-2-09\", \"2021-2-10\", \"2021-2-11\", \"2021-2-12\", \"2021-2-13\", \"2021-2-14\", \"2021-2-15\", \"2021-2-16\", \"2021-2-17\", \"2021-2-18\", \"2021-2-19\", \"2021-2-20\", \"2021-2-21\", \"2021-2-22\", \"2021-2-23\", \"2021-2-24\", \"2021-2-25\", \"2021-2-26\", \"2021-2-27\", \"2021-2-28\", \"2021-3-01\", \"2021-3-02\", \"2021-3-03\", \"2021-3-04\", \"2021-3-05\", \"2021-3-06\", \"2021-3-07\", \"2021-3-08\", \"2021-3-09\", \"2021-3-10\", \"2021-3-11\", \"2021-3-12\", \"2021-3-13\", \"2021-3-14\", \"2021-3-15\", \"2021-3-16\", \"2021-3-17\", \"2021-3-18\", \"2021-3-19\", \"2021-3-20\", \"2021-3-21\", \"2021-3-22\", \"2021-3-23\", \"2021-3-24\", \"2021-3-25\", \"2021-3-26\", \"2021-3-27\", \"2021-3-28\", \"2021-3-29\", \"2021-3-30\", \"2021-3-31\", \"2021-4-01\", \"2021-4-02\", \"2021-4-03\", \"2021-4-04\", \"2021-4-05\", \"2021-4-06\", \"2021-4-07\", \"2021-4-08\", \"2021-4-09\", \"2021-4-10\", \"2021-4-11\", \"2021-4-12\", \"2021-4-13\", \"2021-4-14\", \"2021-4-15\", \"2021-4-16\", \"2021-4-17\", \"2021-4-18\", \"2021-4-19\", \"2021-4-20\", \"2021-4-21\", \"2021-4-22\", \"2021-4-23\", \"2021-4-24\"], \"xaxis\": \"x\", \"y\": [null, null, null, null, null, 0.0, 0.0, 0.0, 0.0, 0.0, 0.0, 0.0, 0.0, 0.0, 0.0, 0.0, 0.0, 0.0, 0.0, 0.0, 0.0, 0.0, 0.0, 0.0, 0.0, 0.0, 1.0, 1.0, 0.0, 0.0, 0.0, 1.0, 0.0, 1.0, 1.0, 0.0, 2.0, 3.0, 0.0, 2.0, 8.0, 0.0, 4.0, 3.0, 5.0, 3.0, 23.0, 14.0, 14.0, 13.0, 19.0, 18.0, 24.0, 18.0, 49.0, 22.0, 39.0, 43.0, 27.0, 35.0, 29.0, 26.0, 38.0, 35.0, 38.0, 33.0, 53.0, 36.0, 40.0, 59.0, 45.0, 56.0, 58.0, 69.0, 71.0, 75.0, 69.0, 100.0, 68.0, 175.0, 127.0, 92.0, 104.0, 96.0, 116.0, 111.0, 82.0, 121.0, 136.0, 98.0, 104.0, 118.0, 154.0, 131.0, 146.0, 132.0, 150.0, 142.0, 142.0, 156.0, 148.0, 172.0, 190.0, 177.0, 269.0, 205.0, 223.0, 200.0, 221.0, 259.0, 275.0, 286.0, 297.0, 261.0, 266.0, 246.0, 388.0, 394.0, 389.0, 309.0, 321.0, 395.0, 2006.0, 341.0, 342.0, 366.0, 307.0, 426.0, 312.0, 468.0, 424.0, 401.0, 381.0, 414.0, 384.0, 417.0, 506.0, 438.0, 377.0, 444.0, 610.0, 421.0, 474.0, 479.0, 491.0, 479.0, 521.0, 543.0, 500.0, 540.0, 588.0, 614.0, 680.0, 676.0, 543.0, 675.0, 596.0, 671.0, 1120.0, 755.0, 761.0, 690.0, 716.0, 636.0, 776.0, 779.0, 783.0, 765.0, 852.0, 758.0, 810.0, 849.0, 919.0, 899.0, 940.0, 875.0, 1013.0, 887.0, 835.0, 950.0, 1006.0, 990.0, 950.0, 961.0, 880.0, 1089.0, 980.0, 981.0, 953.0, 918.0, 846.0, 854.0, 1066.0, 1017.0, 1065.0, 1019.0, 944.0, 960.0, 818.0, 1025.0, 1026.0, 1083.0, 1066.0, 1044.0, 1008.0, 1129.0, 1107.0, 1168.0, 1213.0, 1202.0, 1108.0, 1140.0, 1054.0, 1283.0, 1139.0, 1174.0, 1221.0, 1149.0, 1135.0, 1056.0, 1056.0, 1152.0, 1144.0, 1093.0, 1124.0, 1040.0, 777.0, 1178.0, 1179.0, 1096.0, 1071.0, 937.0, 902.0, 886.0, 991.0, 963.0, 967.0, 929.0, 921.0, 813.0, 710.0, 723.0, 694.0, 835.0, 886.0, 1032.0, 578.0, 594.0, 714.0, 703.0, 683.0, 656.0, 575.0, 463.0, 505.0, 519.0, 509.0, 568.0, 550.0, 468.0, 493.0, 497.0, 511.0, 704.0, 675.0, 576.0, 557.0, 491.0, 451.0, 511.0, 550.0, 521.0, 539.0, 449.0, 435.0, 450.0, 472.0, 587.0, 584.0, 562.0, 499.0, 510.0, 481.0, 489.0, 518.0, 491.0, 486.0, 495.0, 444.0, 482.0, 500.0, 498.0, 570.0, 509.0, 480.0, 374.0, 404.0, 404.0, 337.0, 487.0, 440.0, 393.0, 338.0, 353.0, 384.0, 357.0, 342.0, 342.0, 342.0, 330.0, 302.0, 331.0, 302.0, 350.0, 251.0, 280.0, 281.0, 250.0, 285.0, 299.0, 244.0, 187.0, 266.0, 215.0, 200.0, 265.0, 221.0, 234.0, 229.0, 213.0, 150.0, 166.0, 200.0, 201.0, 189.0, 176.0, 181.0, 145.0, 137.0, 161.0, 152.0, 161.0, 154.0, 155.0, 132.0, 116.0, 127.0, 134.0, 162.0, 137.0, 128.0, 116.0, 94.0, 113.0, 107.0, 120.0, 94.0, 72.0, 86.0, 81.0, 85.0, 119.0, 85.0, 104.0, 85.0, 91.0, 76.0, 109.0, 89.0, 85.0, 117.0, 99.0, 79.0, 80.0, 100.0, 144.0, 119.0, 109.0, 117.0, 108.0, 80.0, 110.0, 86.0, 113.0, 109.0, 98.0, 99.0, 76.0, 113.0, 134.0, 113.0, 157.0, 159.0, 120.0, 130.0, 187.0, 171.0, 155.0, 189.0, 196.0, 213.0, 197.0, 277.0, 249.0, 257.0, 292.0, 311.0, 295.0, 266.0, 355.0, 458.0, 468.0, 713.0, 514.0, 477.0, 445.0, 631.0, 684.0, 802.0, 773.0, 838.0, 904.0, 880.0, 1026.0, 1037.0, 1183.0, 1338.0, 1495.0, 1625.0, 1757.0, 2020.0, 2102.0, 2256.0, 2621.0, 2761.0], \"yaxis\": \"y\"}, {\"name\": \"People vaccinated\", \"type\": \"scatter\", \"x\": [\"2021-01-15\", \"2021-01-16\", \"2021-01-17\", \"2021-01-18\", \"2021-01-19\", \"2021-01-20\", \"2021-01-21\", \"2021-01-22\", \"2021-01-23\", \"2021-01-24\", \"2021-01-25\", \"2021-01-26\", \"2021-01-27\", \"2021-01-28\", \"2021-01-29\", \"2021-01-30\", \"2021-01-31\", \"2021-02-01\", \"2021-02-02\", \"2021-02-03\", \"2021-02-04\", \"2021-02-05\", \"2021-02-06\", \"2021-02-07\", \"2021-02-08\", \"2021-02-09\", \"2021-02-10\", \"2021-02-11\", \"2021-02-12\", \"2021-02-13\", \"2021-02-14\", \"2021-02-15\", \"2021-02-16\", \"2021-02-17\", \"2021-02-18\", \"2021-02-19\", \"2021-02-20\", \"2021-02-21\", \"2021-02-22\", \"2021-02-23\", \"2021-02-24\", \"2021-02-25\", \"2021-02-26\", \"2021-02-27\", \"2021-02-28\", \"2021-03-01\", \"2021-03-02\", \"2021-03-03\", \"2021-03-04\", \"2021-03-05\", \"2021-03-06\", \"2021-03-07\", \"2021-03-08\", \"2021-03-09\", \"2021-03-10\", \"2021-03-11\", \"2021-03-12\", \"2021-03-13\", \"2021-03-14\", \"2021-03-15\", \"2021-03-16\", \"2021-03-17\", \"2021-03-18\", \"2021-03-19\", \"2021-03-20\", \"2021-03-21\", \"2021-03-22\", \"2021-03-23\", \"2021-03-24\", \"2021-03-25\", \"2021-03-26\", \"2021-03-27\", \"2021-03-28\", \"2021-03-29\", \"2021-03-30\", \"2021-03-31\", \"2021-04-01\", \"2021-04-02\", \"2021-04-03\", \"2021-04-04\", \"2021-04-05\", \"2021-04-06\", \"2021-04-07\", \"2021-04-08\", \"2021-04-09\", \"2021-04-10\", \"2021-04-11\", \"2021-04-12\", \"2021-04-13\", \"2021-04-14\", \"2021-04-15\", \"2021-04-16\", \"2021-04-17\", \"2021-04-18\", \"2021-04-19\", \"2021-04-20\", \"2021-04-21\", \"2021-04-22\", \"2021-04-23\"], \"xaxis\": \"x\", \"y\": [0.0, 191181.0, 224301.0, 454049.0, 674835.0, 806484.0, 1043534.0, 1390592.0, 1582201.0, 1615504.0, 2023809.0, 2029480.0, 2355979.0, 2928053.0, 3500027.0, 3744334.0, 3758843.0, 3950156.0, 4138918.0, 4449552.0, 4959445.0, 5416849.0, 5775322.0, 5812362.0, 6259008.0, 6611561.0, 7017114.0, 7505010.0, 7967647.0, 8044786.0, null, 8418653.0, 8641002.0, 8844641.0, 9381591.0, 9693000.0, 9964383.0, 10124531.0, 10308552.0, 10585757.0, 10884879.0, 11206188.0, 11552857.0, 11788669.0, 11845075.0, 12256337.0, 12906771.0, 13739121.0, 14796835.0, 15996683.0, 17168303.0, 17227903.0, 18943283.0, 20004227.0, 21034481.0, 21435841.0, 23075504.0, 24307635.0, 24452385.0, 27079484.0, 28862037.0, 30600787.0, 32426230.0, 34842030.0, 37125187.0, 37574302.0, 40631153.0, 42731952.0, 44846538.0, 47001472.0, 49426618.0, 51441436.0, 51660234.0, 52211398.0, 53989035.0, 55783201.0, 59148798.0, 63081589.0, 65739470.0, 68678838.0, 72277309.0, 75937015.0, 78763027.0, 82456522.0, 85763852.0, 88885961.0, 91587400.0, 95043039.0, 97301914.0, 100179199.0, 102349255.0, 104408484.0, 106431076.0, 107371770.0, 109659181.0, null, 111673361.0, 113584269.0, 116936487.0], \"yaxis\": \"y2\"}],                        {\"autosize\": false, \"height\": 500, \"template\": {\"data\": {\"bar\": [{\"error_x\": {\"color\": \"#2a3f5f\"}, \"error_y\": {\"color\": \"#2a3f5f\"}, \"marker\": {\"line\": {\"color\": \"#E5ECF6\", \"width\": 0.5}}, \"type\": \"bar\"}], \"barpolar\": [{\"marker\": {\"line\": {\"color\": \"#E5ECF6\", \"width\": 0.5}}, \"type\": \"barpolar\"}], \"carpet\": [{\"aaxis\": {\"endlinecolor\": \"#2a3f5f\", \"gridcolor\": \"white\", \"linecolor\": \"white\", \"minorgridcolor\": \"white\", \"startlinecolor\": \"#2a3f5f\"}, \"baxis\": {\"endlinecolor\": \"#2a3f5f\", \"gridcolor\": \"white\", \"linecolor\": \"white\", \"minorgridcolor\": \"white\", \"startlinecolor\": \"#2a3f5f\"}, \"type\": \"carpet\"}], \"choropleth\": [{\"colorbar\": {\"outlinewidth\": 0, \"ticks\": \"\"}, \"type\": \"choropleth\"}], \"contour\": [{\"colorbar\": {\"outlinewidth\": 0, \"ticks\": \"\"}, \"colorscale\": [[0.0, \"#0d0887\"], [0.1111111111111111, \"#46039f\"], [0.2222222222222222, \"#7201a8\"], [0.3333333333333333, \"#9c179e\"], [0.4444444444444444, \"#bd3786\"], [0.5555555555555556, \"#d8576b\"], [0.6666666666666666, \"#ed7953\"], [0.7777777777777778, \"#fb9f3a\"], [0.8888888888888888, \"#fdca26\"], [1.0, \"#f0f921\"]], \"type\": \"contour\"}], \"contourcarpet\": [{\"colorbar\": {\"outlinewidth\": 0, \"ticks\": \"\"}, \"type\": \"contourcarpet\"}], \"heatmap\": [{\"colorbar\": {\"outlinewidth\": 0, \"ticks\": \"\"}, \"colorscale\": [[0.0, \"#0d0887\"], [0.1111111111111111, \"#46039f\"], [0.2222222222222222, \"#7201a8\"], [0.3333333333333333, \"#9c179e\"], [0.4444444444444444, \"#bd3786\"], [0.5555555555555556, \"#d8576b\"], [0.6666666666666666, \"#ed7953\"], [0.7777777777777778, \"#fb9f3a\"], [0.8888888888888888, \"#fdca26\"], [1.0, \"#f0f921\"]], \"type\": \"heatmap\"}], \"heatmapgl\": [{\"colorbar\": {\"outlinewidth\": 0, \"ticks\": \"\"}, \"colorscale\": [[0.0, \"#0d0887\"], [0.1111111111111111, \"#46039f\"], [0.2222222222222222, \"#7201a8\"], [0.3333333333333333, \"#9c179e\"], [0.4444444444444444, \"#bd3786\"], [0.5555555555555556, \"#d8576b\"], [0.6666666666666666, \"#ed7953\"], [0.7777777777777778, \"#fb9f3a\"], [0.8888888888888888, \"#fdca26\"], [1.0, \"#f0f921\"]], \"type\": \"heatmapgl\"}], \"histogram\": [{\"marker\": {\"colorbar\": {\"outlinewidth\": 0, \"ticks\": \"\"}}, \"type\": \"histogram\"}], \"histogram2d\": [{\"colorbar\": {\"outlinewidth\": 0, \"ticks\": \"\"}, \"colorscale\": [[0.0, \"#0d0887\"], [0.1111111111111111, \"#46039f\"], [0.2222222222222222, \"#7201a8\"], [0.3333333333333333, \"#9c179e\"], [0.4444444444444444, \"#bd3786\"], [0.5555555555555556, \"#d8576b\"], [0.6666666666666666, \"#ed7953\"], [0.7777777777777778, \"#fb9f3a\"], [0.8888888888888888, \"#fdca26\"], [1.0, \"#f0f921\"]], \"type\": \"histogram2d\"}], \"histogram2dcontour\": [{\"colorbar\": {\"outlinewidth\": 0, \"ticks\": \"\"}, \"colorscale\": [[0.0, \"#0d0887\"], [0.1111111111111111, \"#46039f\"], [0.2222222222222222, \"#7201a8\"], [0.3333333333333333, \"#9c179e\"], [0.4444444444444444, \"#bd3786\"], [0.5555555555555556, \"#d8576b\"], [0.6666666666666666, \"#ed7953\"], [0.7777777777777778, \"#fb9f3a\"], [0.8888888888888888, \"#fdca26\"], [1.0, \"#f0f921\"]], \"type\": \"histogram2dcontour\"}], \"mesh3d\": [{\"colorbar\": {\"outlinewidth\": 0, \"ticks\": \"\"}, \"type\": \"mesh3d\"}], \"parcoords\": [{\"line\": {\"colorbar\": {\"outlinewidth\": 0, \"ticks\": \"\"}}, \"type\": \"parcoords\"}], \"pie\": [{\"automargin\": true, \"type\": \"pie\"}], \"scatter\": [{\"marker\": {\"colorbar\": {\"outlinewidth\": 0, \"ticks\": \"\"}}, \"type\": \"scatter\"}], \"scatter3d\": [{\"line\": {\"colorbar\": {\"outlinewidth\": 0, \"ticks\": \"\"}}, \"marker\": {\"colorbar\": {\"outlinewidth\": 0, \"ticks\": \"\"}}, \"type\": \"scatter3d\"}], \"scattercarpet\": [{\"marker\": {\"colorbar\": {\"outlinewidth\": 0, \"ticks\": \"\"}}, \"type\": \"scattercarpet\"}], \"scattergeo\": [{\"marker\": {\"colorbar\": {\"outlinewidth\": 0, \"ticks\": \"\"}}, \"type\": \"scattergeo\"}], \"scattergl\": [{\"marker\": {\"colorbar\": {\"outlinewidth\": 0, \"ticks\": \"\"}}, \"type\": \"scattergl\"}], \"scattermapbox\": [{\"marker\": {\"colorbar\": {\"outlinewidth\": 0, \"ticks\": \"\"}}, \"type\": \"scattermapbox\"}], \"scatterpolar\": [{\"marker\": {\"colorbar\": {\"outlinewidth\": 0, \"ticks\": \"\"}}, \"type\": \"scatterpolar\"}], \"scatterpolargl\": [{\"marker\": {\"colorbar\": {\"outlinewidth\": 0, \"ticks\": \"\"}}, \"type\": \"scatterpolargl\"}], \"scatterternary\": [{\"marker\": {\"colorbar\": {\"outlinewidth\": 0, \"ticks\": \"\"}}, \"type\": \"scatterternary\"}], \"surface\": [{\"colorbar\": {\"outlinewidth\": 0, \"ticks\": \"\"}, \"colorscale\": [[0.0, \"#0d0887\"], [0.1111111111111111, \"#46039f\"], [0.2222222222222222, \"#7201a8\"], [0.3333333333333333, \"#9c179e\"], [0.4444444444444444, \"#bd3786\"], [0.5555555555555556, \"#d8576b\"], [0.6666666666666666, \"#ed7953\"], [0.7777777777777778, \"#fb9f3a\"], [0.8888888888888888, \"#fdca26\"], [1.0, \"#f0f921\"]], \"type\": \"surface\"}], \"table\": [{\"cells\": {\"fill\": {\"color\": \"#EBF0F8\"}, \"line\": {\"color\": \"white\"}}, \"header\": {\"fill\": {\"color\": \"#C8D4E3\"}, \"line\": {\"color\": \"white\"}}, \"type\": \"table\"}]}, \"layout\": {\"annotationdefaults\": {\"arrowcolor\": \"#2a3f5f\", \"arrowhead\": 0, \"arrowwidth\": 1}, \"autotypenumbers\": \"strict\", \"coloraxis\": {\"colorbar\": {\"outlinewidth\": 0, \"ticks\": \"\"}}, \"colorscale\": {\"diverging\": [[0, \"#8e0152\"], [0.1, \"#c51b7d\"], [0.2, \"#de77ae\"], [0.3, \"#f1b6da\"], [0.4, \"#fde0ef\"], [0.5, \"#f7f7f7\"], [0.6, \"#e6f5d0\"], [0.7, \"#b8e186\"], [0.8, \"#7fbc41\"], [0.9, \"#4d9221\"], [1, \"#276419\"]], \"sequential\": [[0.0, \"#0d0887\"], [0.1111111111111111, \"#46039f\"], [0.2222222222222222, \"#7201a8\"], [0.3333333333333333, \"#9c179e\"], [0.4444444444444444, \"#bd3786\"], [0.5555555555555556, \"#d8576b\"], [0.6666666666666666, \"#ed7953\"], [0.7777777777777778, \"#fb9f3a\"], [0.8888888888888888, \"#fdca26\"], [1.0, \"#f0f921\"]], \"sequentialminus\": [[0.0, \"#0d0887\"], [0.1111111111111111, \"#46039f\"], [0.2222222222222222, \"#7201a8\"], [0.3333333333333333, \"#9c179e\"], [0.4444444444444444, \"#bd3786\"], [0.5555555555555556, \"#d8576b\"], [0.6666666666666666, \"#ed7953\"], [0.7777777777777778, \"#fb9f3a\"], [0.8888888888888888, \"#fdca26\"], [1.0, \"#f0f921\"]]}, \"colorway\": [\"#636efa\", \"#EF553B\", \"#00cc96\", \"#ab63fa\", \"#FFA15A\", \"#19d3f3\", \"#FF6692\", \"#B6E880\", \"#FF97FF\", \"#FECB52\"], \"font\": {\"color\": \"#2a3f5f\"}, \"geo\": {\"bgcolor\": \"white\", \"lakecolor\": \"white\", \"landcolor\": \"#E5ECF6\", \"showlakes\": true, \"showland\": true, \"subunitcolor\": \"white\"}, \"hoverlabel\": {\"align\": \"left\"}, \"hovermode\": \"closest\", \"mapbox\": {\"style\": \"light\"}, \"paper_bgcolor\": \"white\", \"plot_bgcolor\": \"#E5ECF6\", \"polar\": {\"angularaxis\": {\"gridcolor\": \"white\", \"linecolor\": \"white\", \"ticks\": \"\"}, \"bgcolor\": \"#E5ECF6\", \"radialaxis\": {\"gridcolor\": \"white\", \"linecolor\": \"white\", \"ticks\": \"\"}}, \"scene\": {\"xaxis\": {\"backgroundcolor\": \"#E5ECF6\", \"gridcolor\": \"white\", \"gridwidth\": 2, \"linecolor\": \"white\", \"showbackground\": true, \"ticks\": \"\", \"zerolinecolor\": \"white\"}, \"yaxis\": {\"backgroundcolor\": \"#E5ECF6\", \"gridcolor\": \"white\", \"gridwidth\": 2, \"linecolor\": \"white\", \"showbackground\": true, \"ticks\": \"\", \"zerolinecolor\": \"white\"}, \"zaxis\": {\"backgroundcolor\": \"#E5ECF6\", \"gridcolor\": \"white\", \"gridwidth\": 2, \"linecolor\": \"white\", \"showbackground\": true, \"ticks\": \"\", \"zerolinecolor\": \"white\"}}, \"shapedefaults\": {\"line\": {\"color\": \"#2a3f5f\"}}, \"ternary\": {\"aaxis\": {\"gridcolor\": \"white\", \"linecolor\": \"white\", \"ticks\": \"\"}, \"baxis\": {\"gridcolor\": \"white\", \"linecolor\": \"white\", \"ticks\": \"\"}, \"bgcolor\": \"#E5ECF6\", \"caxis\": {\"gridcolor\": \"white\", \"linecolor\": \"white\", \"ticks\": \"\"}}, \"title\": {\"x\": 0.05}, \"xaxis\": {\"automargin\": true, \"gridcolor\": \"white\", \"linecolor\": \"white\", \"ticks\": \"\", \"title\": {\"standoff\": 15}, \"zerolinecolor\": \"white\", \"zerolinewidth\": 2}, \"yaxis\": {\"automargin\": true, \"gridcolor\": \"white\", \"linecolor\": \"white\", \"ticks\": \"\", \"title\": {\"standoff\": 15}, \"zerolinecolor\": \"white\", \"zerolinewidth\": 2}}}, \"title\": {\"text\": \"India deaths and vaccination\"}, \"width\": 700, \"xaxis\": {\"anchor\": \"y\", \"domain\": [0.0, 0.94], \"title\": {\"text\": \"date\"}}, \"yaxis\": {\"anchor\": \"x\", \"domain\": [0.0, 1.0], \"title\": {\"text\": \"No of cases of covid\"}}, \"yaxis2\": {\"anchor\": \"x\", \"overlaying\": \"y\", \"side\": \"right\", \"title\": {\"text\": \"No of people with at least one dose\"}}},                        {\"responsive\": true}                    ).then(function(){\n",
       "                            \n",
       "var gd = document.getElementById('67299cc2-60f9-4c5b-b2a5-f076eb4ec05d');\n",
       "var x = new MutationObserver(function (mutations, observer) {{\n",
       "        var display = window.getComputedStyle(gd).display;\n",
       "        if (!display || display === 'none') {{\n",
       "            console.log([gd, 'removed!']);\n",
       "            Plotly.purge(gd);\n",
       "            observer.disconnect();\n",
       "        }}\n",
       "}});\n",
       "\n",
       "// Listen for the removal of the full notebook cells\n",
       "var notebookContainer = gd.closest('#notebook-container');\n",
       "if (notebookContainer) {{\n",
       "    x.observe(notebookContainer, {childList: true});\n",
       "}}\n",
       "\n",
       "// Listen for the clearing of the current output cell\n",
       "var outputEl = gd.closest('.output');\n",
       "if (outputEl) {{\n",
       "    x.observe(outputEl, {childList: true});\n",
       "}}\n",
       "\n",
       "                        })                };                });            </script>        </div>"
      ]
     },
     "metadata": {},
     "output_type": "display_data"
    }
   ],
   "source": [
    "fig = make_subplots(specs=[[{\"secondary_y\": True}]])\n",
    "\n",
    "fig.add_trace(\n",
    "    go.Scatter(y=covid_daily_IND['daily_new_deaths'], x=covid_daily_IND['date'], name=\"No of deaths daily (IND)\"),\n",
    "    secondary_y=False,\n",
    ")\n",
    "\n",
    "fig.add_trace(\n",
    "    go.Scatter(x= dfs[1]['date'],y = dfs[1]['people_vaccinated'], name = 'People vaccinated'),\n",
    "    secondary_y=True,\n",
    ")\n",
    "\n",
    "fig.update_layout(\n",
    "    autosize=False,\n",
    "    width=700,\n",
    "    height=500,\n",
    "    title_text=\"India deaths and vaccination\"\n",
    ")\n",
    "\n",
    "fig.update_xaxes(title_text=\"date\")\n",
    "\n",
    "fig.update_yaxes(title_text=\"No of cases of covid\", secondary_y=False)\n",
    "fig.update_yaxes(title_text=\"No of people with at least one dose\", secondary_y=True)\n",
    "\n",
    "fig.show()"
   ]
  },
  {
   "cell_type": "markdown",
   "id": "played-specification",
   "metadata": {
    "papermill": {
     "duration": 0.037815,
     "end_time": "2021-04-26T13:37:19.934515",
     "exception": false,
     "start_time": "2021-04-26T13:37:19.896700",
     "status": "completed"
    },
    "tags": []
   },
   "source": [
    "# Pakistan cases, deaths and vaccinated people "
   ]
  },
  {
   "cell_type": "code",
   "execution_count": 19,
   "id": "convertible-thumbnail",
   "metadata": {
    "_kg_hide-input": true,
    "execution": {
     "iopub.execute_input": "2021-04-26T13:37:20.015743Z",
     "iopub.status.busy": "2021-04-26T13:37:20.015067Z",
     "iopub.status.idle": "2021-04-26T13:37:20.056615Z",
     "shell.execute_reply": "2021-04-26T13:37:20.057114Z"
    },
    "papermill": {
     "duration": 0.08378,
     "end_time": "2021-04-26T13:37:20.057318",
     "exception": false,
     "start_time": "2021-04-26T13:37:19.973538",
     "status": "completed"
    },
    "tags": []
   },
   "outputs": [
    {
     "data": {
      "text/html": [
       "<div>                            <div id=\"30ee0bdb-f193-4bf8-a676-37f25d9a7a86\" class=\"plotly-graph-div\" style=\"height:500px; width:700px;\"></div>            <script type=\"text/javascript\">                require([\"plotly\"], function(Plotly) {                    window.PLOTLYENV=window.PLOTLYENV || {};                                    if (document.getElementById(\"30ee0bdb-f193-4bf8-a676-37f25d9a7a86\")) {                    Plotly.newPlot(                        \"30ee0bdb-f193-4bf8-a676-37f25d9a7a86\",                        [{\"name\": \"No of cases daily (PAK)\", \"type\": \"scatter\", \"x\": [\"2020-2-15\", \"2020-2-16\", \"2020-2-17\", \"2020-2-18\", \"2020-2-19\", \"2020-2-20\", \"2020-2-21\", \"2020-2-22\", \"2020-2-23\", \"2020-2-24\", \"2020-2-25\", \"2020-2-26\", \"2020-2-27\", \"2020-2-28\", \"2020-2-29\", \"2020-3-01\", \"2020-3-02\", \"2020-3-03\", \"2020-3-04\", \"2020-3-05\", \"2020-3-06\", \"2020-3-07\", \"2020-3-08\", \"2020-3-09\", \"2020-3-10\", \"2020-3-11\", \"2020-3-12\", \"2020-3-13\", \"2020-3-14\", \"2020-3-15\", \"2020-3-16\", \"2020-3-17\", \"2020-3-18\", \"2020-3-19\", \"2020-3-20\", \"2020-3-21\", \"2020-3-22\", \"2020-3-23\", \"2020-3-24\", \"2020-3-25\", \"2020-3-26\", \"2020-3-27\", \"2020-3-28\", \"2020-3-29\", \"2020-3-30\", \"2020-3-31\", \"2020-4-01\", \"2020-4-02\", \"2020-4-03\", \"2020-4-04\", \"2020-4-05\", \"2020-4-06\", \"2020-4-07\", \"2020-4-08\", \"2020-4-09\", \"2020-4-10\", \"2020-4-11\", \"2020-4-12\", \"2020-4-13\", \"2020-4-14\", \"2020-4-15\", \"2020-4-16\", \"2020-4-17\", \"2020-4-18\", \"2020-4-19\", \"2020-4-20\", \"2020-4-21\", \"2020-4-22\", \"2020-4-23\", \"2020-4-24\", \"2020-4-25\", \"2020-4-26\", \"2020-4-27\", \"2020-4-28\", \"2020-4-29\", \"2020-4-30\", \"2020-5-01\", \"2020-5-02\", \"2020-5-03\", \"2020-5-04\", \"2020-5-05\", \"2020-5-06\", \"2020-5-07\", \"2020-5-08\", \"2020-5-09\", \"2020-5-10\", \"2020-5-11\", \"2020-5-12\", \"2020-5-13\", \"2020-5-14\", \"2020-5-15\", \"2020-5-16\", \"2020-5-17\", \"2020-5-18\", \"2020-5-19\", \"2020-5-20\", \"2020-5-21\", \"2020-5-22\", \"2020-5-23\", \"2020-5-24\", \"2020-5-25\", \"2020-5-26\", \"2020-5-27\", \"2020-5-28\", \"2020-5-29\", \"2020-5-30\", \"2020-5-31\", \"2020-6-01\", \"2020-6-02\", \"2020-6-03\", \"2020-6-04\", \"2020-6-05\", \"2020-6-06\", \"2020-6-07\", \"2020-6-08\", \"2020-6-09\", \"2020-6-10\", \"2020-6-11\", \"2020-6-12\", \"2020-6-13\", \"2020-6-14\", \"2020-6-15\", \"2020-6-16\", \"2020-6-17\", \"2020-6-18\", \"2020-6-19\", \"2020-6-20\", \"2020-6-21\", \"2020-6-22\", \"2020-6-23\", \"2020-6-24\", \"2020-6-25\", \"2020-6-26\", \"2020-6-27\", \"2020-6-28\", \"2020-6-29\", \"2020-6-30\", \"2020-7-01\", \"2020-7-02\", \"2020-7-03\", \"2020-7-04\", \"2020-7-05\", \"2020-7-06\", \"2020-7-07\", \"2020-7-08\", \"2020-7-09\", \"2020-7-10\", \"2020-7-11\", \"2020-7-12\", \"2020-7-13\", \"2020-7-14\", \"2020-7-15\", \"2020-7-16\", \"2020-7-17\", \"2020-7-18\", \"2020-7-19\", \"2020-7-20\", \"2020-7-21\", \"2020-7-22\", \"2020-7-23\", \"2020-7-24\", \"2020-7-25\", \"2020-7-26\", \"2020-7-27\", \"2020-7-28\", \"2020-7-29\", \"2020-7-30\", \"2020-7-31\", \"2020-8-01\", \"2020-8-02\", \"2020-8-03\", \"2020-8-04\", \"2020-8-05\", \"2020-8-06\", \"2020-8-07\", \"2020-8-08\", \"2020-8-09\", \"2020-8-10\", \"2020-8-11\", \"2020-8-12\", \"2020-8-13\", \"2020-8-14\", \"2020-8-15\", \"2020-8-16\", \"2020-8-17\", \"2020-8-18\", \"2020-8-19\", \"2020-8-20\", \"2020-8-21\", \"2020-8-22\", \"2020-8-23\", \"2020-8-24\", \"2020-8-25\", \"2020-8-26\", \"2020-8-27\", \"2020-8-28\", \"2020-8-29\", \"2020-8-30\", \"2020-8-31\", \"2020-9-01\", \"2020-9-02\", \"2020-9-03\", \"2020-9-04\", \"2020-9-05\", \"2020-9-06\", \"2020-9-07\", \"2020-9-08\", \"2020-9-09\", \"2020-9-10\", \"2020-9-11\", \"2020-9-12\", \"2020-9-13\", \"2020-9-14\", \"2020-9-15\", \"2020-9-16\", \"2020-9-17\", \"2020-9-18\", \"2020-9-19\", \"2020-9-20\", \"2020-9-21\", \"2020-9-22\", \"2020-9-23\", \"2020-9-24\", \"2020-9-25\", \"2020-9-26\", \"2020-9-27\", \"2020-9-28\", \"2020-9-29\", \"2020-9-30\", \"2020-10-01\", \"2020-10-02\", \"2020-10-03\", \"2020-10-04\", \"2020-10-05\", \"2020-10-06\", \"2020-10-07\", \"2020-10-08\", \"2020-10-09\", \"2020-10-10\", \"2020-10-11\", \"2020-10-12\", \"2020-10-13\", \"2020-10-14\", \"2020-10-15\", \"2020-10-16\", \"2020-10-17\", \"2020-10-18\", \"2020-10-19\", \"2020-10-20\", \"2020-10-21\", \"2020-10-22\", \"2020-10-23\", \"2020-10-24\", \"2020-10-25\", \"2020-10-26\", \"2020-10-27\", \"2020-10-28\", \"2020-10-29\", \"2020-10-30\", \"2020-10-31\", \"2020-11-01\", \"2020-11-02\", \"2020-11-03\", \"2020-11-04\", \"2020-11-05\", \"2020-11-06\", \"2020-11-07\", \"2020-11-08\", \"2020-11-09\", \"2020-11-10\", \"2020-11-11\", \"2020-11-12\", \"2020-11-13\", \"2020-11-14\", \"2020-11-15\", \"2020-11-16\", \"2020-11-17\", \"2020-11-18\", \"2020-11-19\", \"2020-11-20\", \"2020-11-21\", \"2020-11-22\", \"2020-11-23\", \"2020-11-24\", \"2020-11-25\", \"2020-11-26\", \"2020-11-27\", \"2020-11-28\", \"2020-11-29\", \"2020-11-30\", \"2020-12-01\", \"2020-12-02\", \"2020-12-03\", \"2020-12-04\", \"2020-12-05\", \"2020-12-06\", \"2020-12-07\", \"2020-12-08\", \"2020-12-09\", \"2020-12-10\", \"2020-12-11\", \"2020-12-12\", \"2020-12-13\", \"2020-12-14\", \"2020-12-15\", \"2020-12-16\", \"2020-12-17\", \"2020-12-18\", \"2020-12-19\", \"2020-12-20\", \"2020-12-21\", \"2020-12-22\", \"2020-12-23\", \"2020-12-24\", \"2020-12-25\", \"2020-12-26\", \"2020-12-27\", \"2020-12-28\", \"2020-12-29\", \"2020-12-30\", \"2020-12-31\", \"2021-1-01\", \"2021-1-02\", \"2021-1-03\", \"2021-1-04\", \"2021-1-05\", \"2021-1-06\", \"2021-1-07\", \"2021-1-08\", \"2021-1-09\", \"2021-1-10\", \"2021-1-11\", \"2021-1-12\", \"2021-1-13\", \"2021-1-14\", \"2021-1-15\", \"2021-1-16\", \"2021-1-17\", \"2021-1-18\", \"2021-1-19\", \"2021-1-20\", \"2021-1-21\", \"2021-1-22\", \"2021-1-23\", \"2021-1-24\", \"2021-1-25\", \"2021-1-26\", \"2021-1-27\", \"2021-1-28\", \"2021-1-29\", \"2021-1-30\", \"2021-1-31\", \"2021-2-01\", \"2021-2-02\", \"2021-2-03\", \"2021-2-04\", \"2021-2-05\", \"2021-2-06\", \"2021-2-07\", \"2021-2-08\", \"2021-2-09\", \"2021-2-10\", \"2021-2-11\", \"2021-2-12\", \"2021-2-13\", \"2021-2-14\", \"2021-2-15\", \"2021-2-16\", \"2021-2-17\", \"2021-2-18\", \"2021-2-19\", \"2021-2-20\", \"2021-2-21\", \"2021-2-22\", \"2021-2-23\", \"2021-2-24\", \"2021-2-25\", \"2021-2-26\", \"2021-2-27\", \"2021-2-28\", \"2021-3-01\", \"2021-3-02\", \"2021-3-03\", \"2021-3-04\", \"2021-3-05\", \"2021-3-06\", \"2021-3-07\", \"2021-3-08\", \"2021-3-09\", \"2021-3-10\", \"2021-3-11\", \"2021-3-12\", \"2021-3-13\", \"2021-3-14\", \"2021-3-15\", \"2021-3-16\", \"2021-3-17\", \"2021-3-18\", \"2021-3-19\", \"2021-3-20\", \"2021-3-21\", \"2021-3-22\", \"2021-3-23\", \"2021-3-24\", \"2021-3-25\", \"2021-3-26\", \"2021-3-27\", \"2021-3-28\", \"2021-3-29\", \"2021-3-30\", \"2021-3-31\", \"2021-4-01\", \"2021-4-02\", \"2021-4-03\", \"2021-4-04\", \"2021-4-05\", \"2021-4-06\", \"2021-4-07\", \"2021-4-08\", \"2021-4-09\", \"2021-4-10\", \"2021-4-11\", \"2021-4-12\", \"2021-4-13\", \"2021-4-14\", \"2021-4-15\", \"2021-4-16\", \"2021-4-17\", \"2021-4-18\", \"2021-4-19\", \"2021-4-20\", \"2021-4-21\", \"2021-4-22\", \"2021-4-23\", \"2021-4-24\"], \"xaxis\": \"x\", \"y\": [null, null, null, null, null, null, null, null, null, null, null, null, 0.0, 0.0, 2.0, 0.0, 0.0, 1.0, 0.0, 0.0, 1.0, 0.0, 1.0, 9.0, 3.0, 1.0, 1.0, 7.0, 5.0, 20.0, 131.0, 63.0, 60.0, 147.0, 47.0, 144.0, 131.0, 99.0, 97.0, 91.0, 138.0, 172.0, 122.0, 102.0, 120.0, 221.0, 180.0, 303.0, 265.0, 132.0, 339.0, 609.0, 269.0, 228.0, 226.0, 206.0, 316.0, 219.0, 266.0, 341.0, 546.0, 536.0, 106.0, 613.0, 710.0, 544.0, 673.0, 511.0, 981.0, 883.0, 783.0, 605.0, 587.0, 697.0, 913.0, 948.0, 1619.0, 930.0, 1062.0, 857.0, 1108.0, 1165.0, 1430.0, 1791.0, 2301.0, 1598.0, 607.0, 1733.0, 2624.0, 490.0, 1430.0, 1581.0, 1352.0, 1974.0, 1841.0, 1932.0, 2193.0, 2603.0, 1743.0, 2164.0, 1748.0, 1356.0, 1446.0, 2076.0, 2801.0, 2429.0, 3039.0, 2964.0, 3938.0, 4065.0, 4801.0, 3985.0, 4734.0, 4960.0, 4728.0, 4646.0, 5385.0, 5834.0, 6397.0, 6472.0, 6825.0, 5248.0, 4443.0, 5839.0, 5358.0, 4944.0, 6604.0, 4951.0, 4471.0, 3946.0, 3892.0, 4044.0, 2775.0, 3138.0, 4072.0, 3557.0, 2825.0, 4133.0, 4339.0, 4087.0, 3387.0, 3191.0, 3344.0, 2691.0, 2980.0, 3359.0, 2751.0, 2752.0, 2521.0, 2753.0, 1979.0, 2165.0, 2145.0, 2085.0, 1917.0, 1580.0, 1587.0, 1013.0, 1332.0, 1763.0, 1209.0, 1487.0, 1226.0, 1176.0, 936.0, 1063.0, 1114.0, 903.0, 841.0, 552.0, 331.0, 432.0, 675.0, 727.0, 782.0, 842.0, 634.0, 539.0, 531.0, 730.0, 753.0, 626.0, 747.0, 670.0, 498.0, 617.0, 613.0, 513.0, 630.0, 586.0, 591.0, 496.0, 450.0, 482.0, 445.0, 415.0, 319.0, 264.0, 213.0, 300.0, 441.0, 424.0, 498.0, 513.0, 484.0, 394.0, 330.0, 426.0, 196.0, 516.0, 584.0, 526.0, 539.0, 404.0, 665.0, 545.0, 752.0, 645.0, 640.0, 633.0, 582.0, 532.0, 799.0, 798.0, 566.0, 694.0, 566.0, 675.0, 747.0, 543.0, 625.0, 553.0, 632.0, 644.0, 467.0, 624.0, 583.0, 661.0, 671.0, 666.0, 385.0, 531.0, 615.0, 755.0, 659.0, 575.0, 567.0, 440.0, 618.0, 667.0, 736.0, 736.0, 847.0, 832.0, 707.0, 773.0, 825.0, 908.0, 1078.0, 807.0, 977.0, 1123.0, 1167.0, 1313.0, 1302.0, 1376.0, 1502.0, 1436.0, 1650.0, 1637.0, 1708.0, 1808.0, 2304.0, 2165.0, 2443.0, 2128.0, 2050.0, 2298.0, 2547.0, 2738.0, 2843.0, 2665.0, 2756.0, 2954.0, 3009.0, 3306.0, 3113.0, 3045.0, 2829.0, 2839.0, 2458.0, 2829.0, 3499.0, 3262.0, 3119.0, 3308.0, 3795.0, 2885.0, 2963.0, 3138.0, 3047.0, 2729.0, 3369.0, 2362.0, 2459.0, 2731.0, 2545.0, 2972.0, 3179.0, 2503.0, 1792.0, 1704.0, 2142.0, 2256.0, 2152.0, 2260.0, 1853.0, 1974.0, 1776.0, 2155.0, 2475.0, 2463.0, 2184.0, 2272.0, 1895.0, 1947.0, 2118.0, 2481.0, 2435.0, 2007.0, 2899.0, 1877.0, 2408.0, 2123.0, 3097.0, 2417.0, 2432.0, 2521.0, 1920.0, 1800.0, 1772.0, 2363.0, 1745.0, 1927.0, 1594.0, 1629.0, 1873.0, 1563.0, 1910.0, 1644.0, 2183.0, 1599.0, 1615.0, 1220.0, 1384.0, 1508.0, 1302.0, 1286.0, 1346.0, 1037.0, 1008.0, 1072.0, 1502.0, 1270.0, 1262.0, 1404.0, 1048.0, 747.0, 1165.0, 1272.0, 1245.0, 1340.0, 1328.0, 1160.0, 1050.0, 1196.0, 1361.0, 1541.0, 1315.0, 1176.0, 1392.0, 1163.0, 1388.0, 1519.0, 1579.0, 1714.0, 1780.0, 1592.0, 1353.0, 1786.0, 2258.0, 2701.0, 2338.0, 2664.0, 2253.0, 2511.0, 2351.0, 3495.0, 3449.0, 3876.0, 3667.0, 3669.0, 3270.0, 3301.0, 3946.0, 4368.0, 4468.0, 4767.0, 4525.0, 4084.0, 4757.0, 4974.0, 5234.0, 4723.0, 5020.0, 4323.0, 3953.0, 4004.0, 5329.0, 5312.0, 5139.0, 5050.0, 4584.0, 4318.0, 4503.0, 5395.0, 5364.0, 4976.0, 6127.0, 5152.0, 5445.0, 5499.0, 5857.0, 5870.0, 5908.0], \"yaxis\": \"y\"}, {\"name\": \"People vaccinated\", \"type\": \"scatter\", \"x\": [\"2021-02-02\", \"2021-02-03\", \"2021-02-04\", \"2021-02-05\", \"2021-02-06\", \"2021-02-07\", \"2021-02-08\", \"2021-02-09\", \"2021-02-10\", \"2021-02-11\", \"2021-02-12\", \"2021-02-13\", \"2021-02-14\", \"2021-02-15\", \"2021-02-16\", \"2021-02-17\", \"2021-02-18\", \"2021-02-19\", \"2021-02-20\", \"2021-02-21\", \"2021-02-22\", \"2021-02-23\", \"2021-02-24\", \"2021-02-25\", \"2021-02-26\", \"2021-02-27\", \"2021-02-28\", \"2021-03-01\", \"2021-03-02\", \"2021-03-03\", \"2021-03-04\", \"2021-03-05\", \"2021-03-06\", \"2021-03-07\", \"2021-03-08\", \"2021-03-09\", \"2021-03-10\", \"2021-03-11\", \"2021-03-12\", \"2021-03-13\", \"2021-03-14\", \"2021-03-15\", \"2021-03-16\", \"2021-03-17\", \"2021-03-18\", \"2021-03-19\", \"2021-03-20\", \"2021-03-21\", \"2021-03-22\", \"2021-03-23\", \"2021-03-24\", \"2021-03-25\", \"2021-03-26\", \"2021-03-27\", \"2021-03-28\", \"2021-03-29\", \"2021-03-30\", \"2021-03-31\", \"2021-04-01\", \"2021-04-02\", \"2021-04-03\", \"2021-04-04\", \"2021-04-05\", \"2021-04-06\", \"2021-04-07\", \"2021-04-08\", \"2021-04-09\", \"2021-04-10\", \"2021-04-11\", \"2021-04-12\", \"2021-04-13\"], \"xaxis\": \"x\", \"y\": [0.0, null, null, null, null, null, null, null, 27228.0, null, null, null, null, null, null, 52768.0, null, null, null, 72882.0, null, null, null, null, null, null, null, null, null, null, null, null, null, null, null, null, null, null, null, null, 350000.0, null, null, null, null, null, null, null, null, null, null, null, null, null, null, null, null, 800000.0, null, null, null, null, null, 936383.0, null, 1114000.0, null, null, null, null, 1300000.0], \"yaxis\": \"y2\"}],                        {\"autosize\": false, \"height\": 500, \"template\": {\"data\": {\"bar\": [{\"error_x\": {\"color\": \"#2a3f5f\"}, \"error_y\": {\"color\": \"#2a3f5f\"}, \"marker\": {\"line\": {\"color\": \"#E5ECF6\", \"width\": 0.5}}, \"type\": \"bar\"}], \"barpolar\": [{\"marker\": {\"line\": {\"color\": \"#E5ECF6\", \"width\": 0.5}}, \"type\": \"barpolar\"}], \"carpet\": [{\"aaxis\": {\"endlinecolor\": \"#2a3f5f\", \"gridcolor\": \"white\", \"linecolor\": \"white\", \"minorgridcolor\": \"white\", \"startlinecolor\": \"#2a3f5f\"}, \"baxis\": {\"endlinecolor\": \"#2a3f5f\", \"gridcolor\": \"white\", \"linecolor\": \"white\", \"minorgridcolor\": \"white\", \"startlinecolor\": \"#2a3f5f\"}, \"type\": \"carpet\"}], \"choropleth\": [{\"colorbar\": {\"outlinewidth\": 0, \"ticks\": \"\"}, \"type\": \"choropleth\"}], \"contour\": [{\"colorbar\": {\"outlinewidth\": 0, \"ticks\": \"\"}, \"colorscale\": [[0.0, \"#0d0887\"], [0.1111111111111111, \"#46039f\"], [0.2222222222222222, \"#7201a8\"], [0.3333333333333333, \"#9c179e\"], [0.4444444444444444, \"#bd3786\"], [0.5555555555555556, \"#d8576b\"], [0.6666666666666666, \"#ed7953\"], [0.7777777777777778, \"#fb9f3a\"], [0.8888888888888888, \"#fdca26\"], [1.0, \"#f0f921\"]], \"type\": \"contour\"}], \"contourcarpet\": [{\"colorbar\": {\"outlinewidth\": 0, \"ticks\": \"\"}, \"type\": \"contourcarpet\"}], \"heatmap\": [{\"colorbar\": {\"outlinewidth\": 0, \"ticks\": \"\"}, \"colorscale\": [[0.0, \"#0d0887\"], [0.1111111111111111, \"#46039f\"], [0.2222222222222222, \"#7201a8\"], [0.3333333333333333, \"#9c179e\"], [0.4444444444444444, \"#bd3786\"], [0.5555555555555556, \"#d8576b\"], [0.6666666666666666, \"#ed7953\"], [0.7777777777777778, \"#fb9f3a\"], [0.8888888888888888, \"#fdca26\"], [1.0, \"#f0f921\"]], \"type\": \"heatmap\"}], \"heatmapgl\": [{\"colorbar\": {\"outlinewidth\": 0, \"ticks\": \"\"}, \"colorscale\": [[0.0, \"#0d0887\"], [0.1111111111111111, \"#46039f\"], [0.2222222222222222, \"#7201a8\"], [0.3333333333333333, \"#9c179e\"], [0.4444444444444444, \"#bd3786\"], [0.5555555555555556, \"#d8576b\"], [0.6666666666666666, \"#ed7953\"], [0.7777777777777778, \"#fb9f3a\"], [0.8888888888888888, \"#fdca26\"], [1.0, \"#f0f921\"]], \"type\": \"heatmapgl\"}], \"histogram\": [{\"marker\": {\"colorbar\": {\"outlinewidth\": 0, \"ticks\": \"\"}}, \"type\": \"histogram\"}], \"histogram2d\": [{\"colorbar\": {\"outlinewidth\": 0, \"ticks\": \"\"}, \"colorscale\": [[0.0, \"#0d0887\"], [0.1111111111111111, \"#46039f\"], [0.2222222222222222, \"#7201a8\"], [0.3333333333333333, \"#9c179e\"], [0.4444444444444444, \"#bd3786\"], [0.5555555555555556, \"#d8576b\"], [0.6666666666666666, \"#ed7953\"], [0.7777777777777778, \"#fb9f3a\"], [0.8888888888888888, \"#fdca26\"], [1.0, \"#f0f921\"]], \"type\": \"histogram2d\"}], \"histogram2dcontour\": [{\"colorbar\": {\"outlinewidth\": 0, \"ticks\": \"\"}, \"colorscale\": [[0.0, \"#0d0887\"], [0.1111111111111111, \"#46039f\"], [0.2222222222222222, \"#7201a8\"], [0.3333333333333333, \"#9c179e\"], [0.4444444444444444, \"#bd3786\"], [0.5555555555555556, \"#d8576b\"], [0.6666666666666666, \"#ed7953\"], [0.7777777777777778, \"#fb9f3a\"], [0.8888888888888888, \"#fdca26\"], [1.0, \"#f0f921\"]], \"type\": \"histogram2dcontour\"}], \"mesh3d\": [{\"colorbar\": {\"outlinewidth\": 0, \"ticks\": \"\"}, \"type\": \"mesh3d\"}], \"parcoords\": [{\"line\": {\"colorbar\": {\"outlinewidth\": 0, \"ticks\": \"\"}}, \"type\": \"parcoords\"}], \"pie\": [{\"automargin\": true, \"type\": \"pie\"}], \"scatter\": [{\"marker\": {\"colorbar\": {\"outlinewidth\": 0, \"ticks\": \"\"}}, \"type\": \"scatter\"}], \"scatter3d\": [{\"line\": {\"colorbar\": {\"outlinewidth\": 0, \"ticks\": \"\"}}, \"marker\": {\"colorbar\": {\"outlinewidth\": 0, \"ticks\": \"\"}}, \"type\": \"scatter3d\"}], \"scattercarpet\": [{\"marker\": {\"colorbar\": {\"outlinewidth\": 0, \"ticks\": \"\"}}, \"type\": \"scattercarpet\"}], \"scattergeo\": [{\"marker\": {\"colorbar\": {\"outlinewidth\": 0, \"ticks\": \"\"}}, \"type\": \"scattergeo\"}], \"scattergl\": [{\"marker\": {\"colorbar\": {\"outlinewidth\": 0, \"ticks\": \"\"}}, \"type\": \"scattergl\"}], \"scattermapbox\": [{\"marker\": {\"colorbar\": {\"outlinewidth\": 0, \"ticks\": \"\"}}, \"type\": \"scattermapbox\"}], \"scatterpolar\": [{\"marker\": {\"colorbar\": {\"outlinewidth\": 0, \"ticks\": \"\"}}, \"type\": \"scatterpolar\"}], \"scatterpolargl\": [{\"marker\": {\"colorbar\": {\"outlinewidth\": 0, \"ticks\": \"\"}}, \"type\": \"scatterpolargl\"}], \"scatterternary\": [{\"marker\": {\"colorbar\": {\"outlinewidth\": 0, \"ticks\": \"\"}}, \"type\": \"scatterternary\"}], \"surface\": [{\"colorbar\": {\"outlinewidth\": 0, \"ticks\": \"\"}, \"colorscale\": [[0.0, \"#0d0887\"], [0.1111111111111111, \"#46039f\"], [0.2222222222222222, \"#7201a8\"], [0.3333333333333333, \"#9c179e\"], [0.4444444444444444, \"#bd3786\"], [0.5555555555555556, \"#d8576b\"], [0.6666666666666666, \"#ed7953\"], [0.7777777777777778, \"#fb9f3a\"], [0.8888888888888888, \"#fdca26\"], [1.0, \"#f0f921\"]], \"type\": \"surface\"}], \"table\": [{\"cells\": {\"fill\": {\"color\": \"#EBF0F8\"}, \"line\": {\"color\": \"white\"}}, \"header\": {\"fill\": {\"color\": \"#C8D4E3\"}, \"line\": {\"color\": \"white\"}}, \"type\": \"table\"}]}, \"layout\": {\"annotationdefaults\": {\"arrowcolor\": \"#2a3f5f\", \"arrowhead\": 0, \"arrowwidth\": 1}, \"autotypenumbers\": \"strict\", \"coloraxis\": {\"colorbar\": {\"outlinewidth\": 0, \"ticks\": \"\"}}, \"colorscale\": {\"diverging\": [[0, \"#8e0152\"], [0.1, \"#c51b7d\"], [0.2, \"#de77ae\"], [0.3, \"#f1b6da\"], [0.4, \"#fde0ef\"], [0.5, \"#f7f7f7\"], [0.6, \"#e6f5d0\"], [0.7, \"#b8e186\"], [0.8, \"#7fbc41\"], [0.9, \"#4d9221\"], [1, \"#276419\"]], \"sequential\": [[0.0, \"#0d0887\"], [0.1111111111111111, \"#46039f\"], [0.2222222222222222, \"#7201a8\"], [0.3333333333333333, \"#9c179e\"], [0.4444444444444444, \"#bd3786\"], [0.5555555555555556, \"#d8576b\"], [0.6666666666666666, \"#ed7953\"], [0.7777777777777778, \"#fb9f3a\"], [0.8888888888888888, \"#fdca26\"], [1.0, \"#f0f921\"]], \"sequentialminus\": [[0.0, \"#0d0887\"], [0.1111111111111111, \"#46039f\"], [0.2222222222222222, \"#7201a8\"], [0.3333333333333333, \"#9c179e\"], [0.4444444444444444, \"#bd3786\"], [0.5555555555555556, \"#d8576b\"], [0.6666666666666666, \"#ed7953\"], [0.7777777777777778, \"#fb9f3a\"], [0.8888888888888888, \"#fdca26\"], [1.0, \"#f0f921\"]]}, \"colorway\": [\"#636efa\", \"#EF553B\", \"#00cc96\", \"#ab63fa\", \"#FFA15A\", \"#19d3f3\", \"#FF6692\", \"#B6E880\", \"#FF97FF\", \"#FECB52\"], \"font\": {\"color\": \"#2a3f5f\"}, \"geo\": {\"bgcolor\": \"white\", \"lakecolor\": \"white\", \"landcolor\": \"#E5ECF6\", \"showlakes\": true, \"showland\": true, \"subunitcolor\": \"white\"}, \"hoverlabel\": {\"align\": \"left\"}, \"hovermode\": \"closest\", \"mapbox\": {\"style\": \"light\"}, \"paper_bgcolor\": \"white\", \"plot_bgcolor\": \"#E5ECF6\", \"polar\": {\"angularaxis\": {\"gridcolor\": \"white\", \"linecolor\": \"white\", \"ticks\": \"\"}, \"bgcolor\": \"#E5ECF6\", \"radialaxis\": {\"gridcolor\": \"white\", \"linecolor\": \"white\", \"ticks\": \"\"}}, \"scene\": {\"xaxis\": {\"backgroundcolor\": \"#E5ECF6\", \"gridcolor\": \"white\", \"gridwidth\": 2, \"linecolor\": \"white\", \"showbackground\": true, \"ticks\": \"\", \"zerolinecolor\": \"white\"}, \"yaxis\": {\"backgroundcolor\": \"#E5ECF6\", \"gridcolor\": \"white\", \"gridwidth\": 2, \"linecolor\": \"white\", \"showbackground\": true, \"ticks\": \"\", \"zerolinecolor\": \"white\"}, \"zaxis\": {\"backgroundcolor\": \"#E5ECF6\", \"gridcolor\": \"white\", \"gridwidth\": 2, \"linecolor\": \"white\", \"showbackground\": true, \"ticks\": \"\", \"zerolinecolor\": \"white\"}}, \"shapedefaults\": {\"line\": {\"color\": \"#2a3f5f\"}}, \"ternary\": {\"aaxis\": {\"gridcolor\": \"white\", \"linecolor\": \"white\", \"ticks\": \"\"}, \"baxis\": {\"gridcolor\": \"white\", \"linecolor\": \"white\", \"ticks\": \"\"}, \"bgcolor\": \"#E5ECF6\", \"caxis\": {\"gridcolor\": \"white\", \"linecolor\": \"white\", \"ticks\": \"\"}}, \"title\": {\"x\": 0.05}, \"xaxis\": {\"automargin\": true, \"gridcolor\": \"white\", \"linecolor\": \"white\", \"ticks\": \"\", \"title\": {\"standoff\": 15}, \"zerolinecolor\": \"white\", \"zerolinewidth\": 2}, \"yaxis\": {\"automargin\": true, \"gridcolor\": \"white\", \"linecolor\": \"white\", \"ticks\": \"\", \"title\": {\"standoff\": 15}, \"zerolinecolor\": \"white\", \"zerolinewidth\": 2}}}, \"title\": {\"text\": \"Pakistan cases and vaccination\"}, \"width\": 700, \"xaxis\": {\"anchor\": \"y\", \"domain\": [0.0, 0.94], \"title\": {\"text\": \"date\"}}, \"yaxis\": {\"anchor\": \"x\", \"domain\": [0.0, 1.0], \"title\": {\"text\": \"No of cases of covid\"}}, \"yaxis2\": {\"anchor\": \"x\", \"overlaying\": \"y\", \"side\": \"right\", \"title\": {\"text\": \"No of people with at least one dose\"}}},                        {\"responsive\": true}                    ).then(function(){\n",
       "                            \n",
       "var gd = document.getElementById('30ee0bdb-f193-4bf8-a676-37f25d9a7a86');\n",
       "var x = new MutationObserver(function (mutations, observer) {{\n",
       "        var display = window.getComputedStyle(gd).display;\n",
       "        if (!display || display === 'none') {{\n",
       "            console.log([gd, 'removed!']);\n",
       "            Plotly.purge(gd);\n",
       "            observer.disconnect();\n",
       "        }}\n",
       "}});\n",
       "\n",
       "// Listen for the removal of the full notebook cells\n",
       "var notebookContainer = gd.closest('#notebook-container');\n",
       "if (notebookContainer) {{\n",
       "    x.observe(notebookContainer, {childList: true});\n",
       "}}\n",
       "\n",
       "// Listen for the clearing of the current output cell\n",
       "var outputEl = gd.closest('.output');\n",
       "if (outputEl) {{\n",
       "    x.observe(outputEl, {childList: true});\n",
       "}}\n",
       "\n",
       "                        })                };                });            </script>        </div>"
      ]
     },
     "metadata": {},
     "output_type": "display_data"
    }
   ],
   "source": [
    "fig = make_subplots(specs=[[{\"secondary_y\": True}]])\n",
    "\n",
    "fig.add_trace(\n",
    "    go.Scatter(y=covid_daily_PAK['daily_new_cases'], x=covid_daily_PAK['date'], name=\"No of cases daily (PAK)\"),\n",
    "    secondary_y=False,\n",
    ")\n",
    "\n",
    "fig.add_trace(\n",
    "    go.Scatter(x= dfs[-2]['date'],y = dfs[-2]['people_vaccinated'], name = 'People vaccinated'),\n",
    "    secondary_y=True,\n",
    ")\n",
    "\n",
    "fig.update_layout(\n",
    "    autosize=False,\n",
    "    width=700,\n",
    "    height=500,\n",
    "    title_text=\"Pakistan cases and vaccination\"\n",
    ")\n",
    "\n",
    "fig.update_xaxes(title_text=\"date\")\n",
    "\n",
    "fig.update_yaxes(title_text=\"No of cases of covid\", secondary_y=False)\n",
    "fig.update_yaxes(title_text=\"No of people with at least one dose\", secondary_y=True)\n",
    "\n",
    "fig.show()"
   ]
  },
  {
   "cell_type": "code",
   "execution_count": 20,
   "id": "cloudy-sunrise",
   "metadata": {
    "_kg_hide-input": true,
    "execution": {
     "iopub.execute_input": "2021-04-26T13:37:20.141238Z",
     "iopub.status.busy": "2021-04-26T13:37:20.140546Z",
     "iopub.status.idle": "2021-04-26T13:37:20.181903Z",
     "shell.execute_reply": "2021-04-26T13:37:20.182386Z"
    },
    "papermill": {
     "duration": 0.084471,
     "end_time": "2021-04-26T13:37:20.182564",
     "exception": false,
     "start_time": "2021-04-26T13:37:20.098093",
     "status": "completed"
    },
    "tags": []
   },
   "outputs": [
    {
     "data": {
      "text/html": [
       "<div>                            <div id=\"3c072ee2-2345-47b0-9d62-21de49d0b7e2\" class=\"plotly-graph-div\" style=\"height:500px; width:700px;\"></div>            <script type=\"text/javascript\">                require([\"plotly\"], function(Plotly) {                    window.PLOTLYENV=window.PLOTLYENV || {};                                    if (document.getElementById(\"3c072ee2-2345-47b0-9d62-21de49d0b7e2\")) {                    Plotly.newPlot(                        \"3c072ee2-2345-47b0-9d62-21de49d0b7e2\",                        [{\"name\": \"No of deaths daily (PAK)\", \"type\": \"scatter\", \"x\": [\"2020-2-15\", \"2020-2-16\", \"2020-2-17\", \"2020-2-18\", \"2020-2-19\", \"2020-2-20\", \"2020-2-21\", \"2020-2-22\", \"2020-2-23\", \"2020-2-24\", \"2020-2-25\", \"2020-2-26\", \"2020-2-27\", \"2020-2-28\", \"2020-2-29\", \"2020-3-01\", \"2020-3-02\", \"2020-3-03\", \"2020-3-04\", \"2020-3-05\", \"2020-3-06\", \"2020-3-07\", \"2020-3-08\", \"2020-3-09\", \"2020-3-10\", \"2020-3-11\", \"2020-3-12\", \"2020-3-13\", \"2020-3-14\", \"2020-3-15\", \"2020-3-16\", \"2020-3-17\", \"2020-3-18\", \"2020-3-19\", \"2020-3-20\", \"2020-3-21\", \"2020-3-22\", \"2020-3-23\", \"2020-3-24\", \"2020-3-25\", \"2020-3-26\", \"2020-3-27\", \"2020-3-28\", \"2020-3-29\", \"2020-3-30\", \"2020-3-31\", \"2020-4-01\", \"2020-4-02\", \"2020-4-03\", \"2020-4-04\", \"2020-4-05\", \"2020-4-06\", \"2020-4-07\", \"2020-4-08\", \"2020-4-09\", \"2020-4-10\", \"2020-4-11\", \"2020-4-12\", \"2020-4-13\", \"2020-4-14\", \"2020-4-15\", \"2020-4-16\", \"2020-4-17\", \"2020-4-18\", \"2020-4-19\", \"2020-4-20\", \"2020-4-21\", \"2020-4-22\", \"2020-4-23\", \"2020-4-24\", \"2020-4-25\", \"2020-4-26\", \"2020-4-27\", \"2020-4-28\", \"2020-4-29\", \"2020-4-30\", \"2020-5-01\", \"2020-5-02\", \"2020-5-03\", \"2020-5-04\", \"2020-5-05\", \"2020-5-06\", \"2020-5-07\", \"2020-5-08\", \"2020-5-09\", \"2020-5-10\", \"2020-5-11\", \"2020-5-12\", \"2020-5-13\", \"2020-5-14\", \"2020-5-15\", \"2020-5-16\", \"2020-5-17\", \"2020-5-18\", \"2020-5-19\", \"2020-5-20\", \"2020-5-21\", \"2020-5-22\", \"2020-5-23\", \"2020-5-24\", \"2020-5-25\", \"2020-5-26\", \"2020-5-27\", \"2020-5-28\", \"2020-5-29\", \"2020-5-30\", \"2020-5-31\", \"2020-6-01\", \"2020-6-02\", \"2020-6-03\", \"2020-6-04\", \"2020-6-05\", \"2020-6-06\", \"2020-6-07\", \"2020-6-08\", \"2020-6-09\", \"2020-6-10\", \"2020-6-11\", \"2020-6-12\", \"2020-6-13\", \"2020-6-14\", \"2020-6-15\", \"2020-6-16\", \"2020-6-17\", \"2020-6-18\", \"2020-6-19\", \"2020-6-20\", \"2020-6-21\", \"2020-6-22\", \"2020-6-23\", \"2020-6-24\", \"2020-6-25\", \"2020-6-26\", \"2020-6-27\", \"2020-6-28\", \"2020-6-29\", \"2020-6-30\", \"2020-7-01\", \"2020-7-02\", \"2020-7-03\", \"2020-7-04\", \"2020-7-05\", \"2020-7-06\", \"2020-7-07\", \"2020-7-08\", \"2020-7-09\", \"2020-7-10\", \"2020-7-11\", \"2020-7-12\", \"2020-7-13\", \"2020-7-14\", \"2020-7-15\", \"2020-7-16\", \"2020-7-17\", \"2020-7-18\", \"2020-7-19\", \"2020-7-20\", \"2020-7-21\", \"2020-7-22\", \"2020-7-23\", \"2020-7-24\", \"2020-7-25\", \"2020-7-26\", \"2020-7-27\", \"2020-7-28\", \"2020-7-29\", \"2020-7-30\", \"2020-7-31\", \"2020-8-01\", \"2020-8-02\", \"2020-8-03\", \"2020-8-04\", \"2020-8-05\", \"2020-8-06\", \"2020-8-07\", \"2020-8-08\", \"2020-8-09\", \"2020-8-10\", \"2020-8-11\", \"2020-8-12\", \"2020-8-13\", \"2020-8-14\", \"2020-8-15\", \"2020-8-16\", \"2020-8-17\", \"2020-8-18\", \"2020-8-19\", \"2020-8-20\", \"2020-8-21\", \"2020-8-22\", \"2020-8-23\", \"2020-8-24\", \"2020-8-25\", \"2020-8-26\", \"2020-8-27\", \"2020-8-28\", \"2020-8-29\", \"2020-8-30\", \"2020-8-31\", \"2020-9-01\", \"2020-9-02\", \"2020-9-03\", \"2020-9-04\", \"2020-9-05\", \"2020-9-06\", \"2020-9-07\", \"2020-9-08\", \"2020-9-09\", \"2020-9-10\", \"2020-9-11\", \"2020-9-12\", \"2020-9-13\", \"2020-9-14\", \"2020-9-15\", \"2020-9-16\", \"2020-9-17\", \"2020-9-18\", \"2020-9-19\", \"2020-9-20\", \"2020-9-21\", \"2020-9-22\", \"2020-9-23\", \"2020-9-24\", \"2020-9-25\", \"2020-9-26\", \"2020-9-27\", \"2020-9-28\", \"2020-9-29\", \"2020-9-30\", \"2020-10-01\", \"2020-10-02\", \"2020-10-03\", \"2020-10-04\", \"2020-10-05\", \"2020-10-06\", \"2020-10-07\", \"2020-10-08\", \"2020-10-09\", \"2020-10-10\", \"2020-10-11\", \"2020-10-12\", \"2020-10-13\", \"2020-10-14\", \"2020-10-15\", \"2020-10-16\", \"2020-10-17\", \"2020-10-18\", \"2020-10-19\", \"2020-10-20\", \"2020-10-21\", \"2020-10-22\", \"2020-10-23\", \"2020-10-24\", \"2020-10-25\", \"2020-10-26\", \"2020-10-27\", \"2020-10-28\", \"2020-10-29\", \"2020-10-30\", \"2020-10-31\", \"2020-11-01\", \"2020-11-02\", \"2020-11-03\", \"2020-11-04\", \"2020-11-05\", \"2020-11-06\", \"2020-11-07\", \"2020-11-08\", \"2020-11-09\", \"2020-11-10\", \"2020-11-11\", \"2020-11-12\", \"2020-11-13\", \"2020-11-14\", \"2020-11-15\", \"2020-11-16\", \"2020-11-17\", \"2020-11-18\", \"2020-11-19\", \"2020-11-20\", \"2020-11-21\", \"2020-11-22\", \"2020-11-23\", \"2020-11-24\", \"2020-11-25\", \"2020-11-26\", \"2020-11-27\", \"2020-11-28\", \"2020-11-29\", \"2020-11-30\", \"2020-12-01\", \"2020-12-02\", \"2020-12-03\", \"2020-12-04\", \"2020-12-05\", \"2020-12-06\", \"2020-12-07\", \"2020-12-08\", \"2020-12-09\", \"2020-12-10\", \"2020-12-11\", \"2020-12-12\", \"2020-12-13\", \"2020-12-14\", \"2020-12-15\", \"2020-12-16\", \"2020-12-17\", \"2020-12-18\", \"2020-12-19\", \"2020-12-20\", \"2020-12-21\", \"2020-12-22\", \"2020-12-23\", \"2020-12-24\", \"2020-12-25\", \"2020-12-26\", \"2020-12-27\", \"2020-12-28\", \"2020-12-29\", \"2020-12-30\", \"2020-12-31\", \"2021-1-01\", \"2021-1-02\", \"2021-1-03\", \"2021-1-04\", \"2021-1-05\", \"2021-1-06\", \"2021-1-07\", \"2021-1-08\", \"2021-1-09\", \"2021-1-10\", \"2021-1-11\", \"2021-1-12\", \"2021-1-13\", \"2021-1-14\", \"2021-1-15\", \"2021-1-16\", \"2021-1-17\", \"2021-1-18\", \"2021-1-19\", \"2021-1-20\", \"2021-1-21\", \"2021-1-22\", \"2021-1-23\", \"2021-1-24\", \"2021-1-25\", \"2021-1-26\", \"2021-1-27\", \"2021-1-28\", \"2021-1-29\", \"2021-1-30\", \"2021-1-31\", \"2021-2-01\", \"2021-2-02\", \"2021-2-03\", \"2021-2-04\", \"2021-2-05\", \"2021-2-06\", \"2021-2-07\", \"2021-2-08\", \"2021-2-09\", \"2021-2-10\", \"2021-2-11\", \"2021-2-12\", \"2021-2-13\", \"2021-2-14\", \"2021-2-15\", \"2021-2-16\", \"2021-2-17\", \"2021-2-18\", \"2021-2-19\", \"2021-2-20\", \"2021-2-21\", \"2021-2-22\", \"2021-2-23\", \"2021-2-24\", \"2021-2-25\", \"2021-2-26\", \"2021-2-27\", \"2021-2-28\", \"2021-3-01\", \"2021-3-02\", \"2021-3-03\", \"2021-3-04\", \"2021-3-05\", \"2021-3-06\", \"2021-3-07\", \"2021-3-08\", \"2021-3-09\", \"2021-3-10\", \"2021-3-11\", \"2021-3-12\", \"2021-3-13\", \"2021-3-14\", \"2021-3-15\", \"2021-3-16\", \"2021-3-17\", \"2021-3-18\", \"2021-3-19\", \"2021-3-20\", \"2021-3-21\", \"2021-3-22\", \"2021-3-23\", \"2021-3-24\", \"2021-3-25\", \"2021-3-26\", \"2021-3-27\", \"2021-3-28\", \"2021-3-29\", \"2021-3-30\", \"2021-3-31\", \"2021-4-01\", \"2021-4-02\", \"2021-4-03\", \"2021-4-04\", \"2021-4-05\", \"2021-4-06\", \"2021-4-07\", \"2021-4-08\", \"2021-4-09\", \"2021-4-10\", \"2021-4-11\", \"2021-4-12\", \"2021-4-13\", \"2021-4-14\", \"2021-4-15\", \"2021-4-16\", \"2021-4-17\", \"2021-4-18\", \"2021-4-19\", \"2021-4-20\", \"2021-4-21\", \"2021-4-22\", \"2021-4-23\", \"2021-4-24\"], \"xaxis\": \"x\", \"y\": [null, null, null, null, null, null, null, null, null, null, null, null, 0.0, 0.0, 0.0, 0.0, 0.0, 0.0, 0.0, 0.0, 0.0, 0.0, 0.0, 0.0, 0.0, 0.0, 0.0, 0.0, 0.0, 0.0, 0.0, 0.0, 2.0, 0.0, 1.0, 0.0, 2.0, 1.0, 1.0, 1.0, 1.0, 2.0, 1.0, 2.0, 7.0, 5.0, 1.0, 7.0, 6.0, 1.0, 6.0, 6.0, 4.0, 4.0, 4.0, 1.0, 21.0, 5.0, 2.0, 3.0, 16.0, 18.0, 7.0, 8.0, 26.0, 8.0, 26.0, 11.0, 24.0, 19.0, 17.0, 12.0, 11.0, 21.0, 32.0, 19.0, 58.0, 21.0, 21.0, 20.0, 40.0, 31.0, 43.0, 15.0, 39.0, 24.0, 8.0, 59.0, 39.0, 9.0, 34.0, 32.0, 41.0, 31.0, 37.0, 48.0, 33.0, 52.0, 35.0, 33.0, 35.0, 31.0, 29.0, 36.0, 59.0, 81.0, 92.0, 62.0, 81.0, 70.0, 85.0, 71.0, 101.0, 70.0, 68.0, 109.0, 86.0, 105.0, 111.0, 92.0, 84.0, 101.0, 114.0, 142.0, 123.0, 142.0, 159.0, 124.0, 93.0, 109.0, 62.0, 154.0, 61.0, 76.0, 86.0, 51.0, 143.0, 95.0, 81.0, 81.0, 71.0, 97.0, 52.0, 80.0, 86.0, 63.0, 78.0, 68.0, 77.0, 72.0, 56.0, 69.0, 42.0, 51.0, 49.0, 48.0, 32.0, 42.0, 40.0, 33.0, 56.0, 25.0, 36.0, 21.0, 24.0, 28.0, 33.0, 28.0, 20.0, 6.0, 8.0, 16.0, 16.0, 22.0, 18.0, 17.0, 15.0, 16.0, 16.0, 18.0, 10.0, 15.0, 9.0, 6.0, 7.0, 16.0, 11.0, 8.0, 10.0, 12.0, 4.0, 9.0, 11.0, 12.0, 7.0, 9.0, 1.0, 4.0, 6.0, 4.0, 21.0, 10.0, 7.0, 5.0, 2.0, 3.0, 5.0, 9.0, 6.0, 5.0, 3.0, 6.0, 4.0, 6.0, 4.0, 6.0, 9.0, 7.0, 1.0, 4.0, 4.0, 8.0, 5.0, 7.0, 7.0, 6.0, 9.0, 8.0, 5.0, 5.0, 16.0, 8.0, 6.0, 4.0, 6.0, 12.0, 9.0, 8.0, 6.0, 12.0, 10.0, 8.0, 14.0, 14.0, 7.0, 18.0, 17.0, 5.0, 15.0, 20.0, 10.0, 14.0, 12.0, 9.0, 3.0, 6.0, 15.0, 17.0, 21.0, 11.0, 18.0, 12.0, 15.0, 19.0, 27.0, 31.0, 21.0, 26.0, 9.0, 24.0, 22.0, 35.0, 39.0, 18.0, 33.0, 20.0, 34.0, 38.0, 18.0, 36.0, 42.0, 59.0, 34.0, 48.0, 59.0, 40.0, 54.0, 45.0, 43.0, 40.0, 66.0, 75.0, 39.0, 55.0, 43.0, 58.0, 37.0, 89.0, 60.0, 56.0, 50.0, 71.0, 72.0, 36.0, 73.0, 105.0, 70.0, 84.0, 86.0, 80.0, 62.0, 82.0, 83.0, 111.0, 85.0, 63.0, 58.0, 55.0, 63.0, 55.0, 58.0, 71.0, 82.0, 53.0, 39.0, 59.0, 52.0, 50.0, 47.0, 40.0, 46.0, 32.0, 41.0, 55.0, 46.0, 45.0, 45.0, 43.0, 46.0, 58.0, 48.0, 54.0, 47.0, 43.0, 48.0, 23.0, 58.0, 74.0, 64.0, 46.0, 63.0, 34.0, 26.0, 63.0, 56.0, 31.0, 53.0, 28.0, 53.0, 59.0, 40.0, 62.0, 57.0, 33.0, 58.0, 31.0, 26.0, 47.0, 56.0, 52.0, 39.0, 36.0, 38.0, 16.0, 41.0, 50.0, 64.0, 32.0, 33.0, 23.0, 36.0, 42.0, 75.0, 63.0, 52.0, 38.0, 39.0, 22.0, 54.0, 43.0, 53.0, 53.0, 46.0, 32.0, 29.0, 58.0, 61.0, 61.0, 40.0, 42.0, 44.0, 20.0, 72.0, 30.0, 63.0, 63.0, 67.0, 57.0, 41.0, 100.0, 78.0, 96.0, 83.0, 84.0, 81.0, 43.0, 103.0, 102.0, 98.0, 105.0, 100.0, 114.0, 58.0, 118.0, 135.0, 118.0, 110.0, 112.0, 149.0, 73.0, 137.0, 147.0, 98.0, 144.0, 157.0], \"yaxis\": \"y\"}, {\"name\": \"People vaccinated\", \"type\": \"scatter\", \"x\": [\"2021-02-02\", \"2021-02-03\", \"2021-02-04\", \"2021-02-05\", \"2021-02-06\", \"2021-02-07\", \"2021-02-08\", \"2021-02-09\", \"2021-02-10\", \"2021-02-11\", \"2021-02-12\", \"2021-02-13\", \"2021-02-14\", \"2021-02-15\", \"2021-02-16\", \"2021-02-17\", \"2021-02-18\", \"2021-02-19\", \"2021-02-20\", \"2021-02-21\", \"2021-02-22\", \"2021-02-23\", \"2021-02-24\", \"2021-02-25\", \"2021-02-26\", \"2021-02-27\", \"2021-02-28\", \"2021-03-01\", \"2021-03-02\", \"2021-03-03\", \"2021-03-04\", \"2021-03-05\", \"2021-03-06\", \"2021-03-07\", \"2021-03-08\", \"2021-03-09\", \"2021-03-10\", \"2021-03-11\", \"2021-03-12\", \"2021-03-13\", \"2021-03-14\", \"2021-03-15\", \"2021-03-16\", \"2021-03-17\", \"2021-03-18\", \"2021-03-19\", \"2021-03-20\", \"2021-03-21\", \"2021-03-22\", \"2021-03-23\", \"2021-03-24\", \"2021-03-25\", \"2021-03-26\", \"2021-03-27\", \"2021-03-28\", \"2021-03-29\", \"2021-03-30\", \"2021-03-31\", \"2021-04-01\", \"2021-04-02\", \"2021-04-03\", \"2021-04-04\", \"2021-04-05\", \"2021-04-06\", \"2021-04-07\", \"2021-04-08\", \"2021-04-09\", \"2021-04-10\", \"2021-04-11\", \"2021-04-12\", \"2021-04-13\"], \"xaxis\": \"x\", \"y\": [0.0, null, null, null, null, null, null, null, 27228.0, null, null, null, null, null, null, 52768.0, null, null, null, 72882.0, null, null, null, null, null, null, null, null, null, null, null, null, null, null, null, null, null, null, null, null, 350000.0, null, null, null, null, null, null, null, null, null, null, null, null, null, null, null, null, 800000.0, null, null, null, null, null, 936383.0, null, 1114000.0, null, null, null, null, 1300000.0], \"yaxis\": \"y2\"}],                        {\"autosize\": false, \"height\": 500, \"template\": {\"data\": {\"bar\": [{\"error_x\": {\"color\": \"#2a3f5f\"}, \"error_y\": {\"color\": \"#2a3f5f\"}, \"marker\": {\"line\": {\"color\": \"#E5ECF6\", \"width\": 0.5}}, \"type\": \"bar\"}], \"barpolar\": [{\"marker\": {\"line\": {\"color\": \"#E5ECF6\", \"width\": 0.5}}, \"type\": \"barpolar\"}], \"carpet\": [{\"aaxis\": {\"endlinecolor\": \"#2a3f5f\", \"gridcolor\": \"white\", \"linecolor\": \"white\", \"minorgridcolor\": \"white\", \"startlinecolor\": \"#2a3f5f\"}, \"baxis\": {\"endlinecolor\": \"#2a3f5f\", \"gridcolor\": \"white\", \"linecolor\": \"white\", \"minorgridcolor\": \"white\", \"startlinecolor\": \"#2a3f5f\"}, \"type\": \"carpet\"}], \"choropleth\": [{\"colorbar\": {\"outlinewidth\": 0, \"ticks\": \"\"}, \"type\": \"choropleth\"}], \"contour\": [{\"colorbar\": {\"outlinewidth\": 0, \"ticks\": \"\"}, \"colorscale\": [[0.0, \"#0d0887\"], [0.1111111111111111, \"#46039f\"], [0.2222222222222222, \"#7201a8\"], [0.3333333333333333, \"#9c179e\"], [0.4444444444444444, \"#bd3786\"], [0.5555555555555556, \"#d8576b\"], [0.6666666666666666, \"#ed7953\"], [0.7777777777777778, \"#fb9f3a\"], [0.8888888888888888, \"#fdca26\"], [1.0, \"#f0f921\"]], \"type\": \"contour\"}], \"contourcarpet\": [{\"colorbar\": {\"outlinewidth\": 0, \"ticks\": \"\"}, \"type\": \"contourcarpet\"}], \"heatmap\": [{\"colorbar\": {\"outlinewidth\": 0, \"ticks\": \"\"}, \"colorscale\": [[0.0, \"#0d0887\"], [0.1111111111111111, \"#46039f\"], [0.2222222222222222, \"#7201a8\"], [0.3333333333333333, \"#9c179e\"], [0.4444444444444444, \"#bd3786\"], [0.5555555555555556, \"#d8576b\"], [0.6666666666666666, \"#ed7953\"], [0.7777777777777778, \"#fb9f3a\"], [0.8888888888888888, \"#fdca26\"], [1.0, \"#f0f921\"]], \"type\": \"heatmap\"}], \"heatmapgl\": [{\"colorbar\": {\"outlinewidth\": 0, \"ticks\": \"\"}, \"colorscale\": [[0.0, \"#0d0887\"], [0.1111111111111111, \"#46039f\"], [0.2222222222222222, \"#7201a8\"], [0.3333333333333333, \"#9c179e\"], [0.4444444444444444, \"#bd3786\"], [0.5555555555555556, \"#d8576b\"], [0.6666666666666666, \"#ed7953\"], [0.7777777777777778, \"#fb9f3a\"], [0.8888888888888888, \"#fdca26\"], [1.0, \"#f0f921\"]], \"type\": \"heatmapgl\"}], \"histogram\": [{\"marker\": {\"colorbar\": {\"outlinewidth\": 0, \"ticks\": \"\"}}, \"type\": \"histogram\"}], \"histogram2d\": [{\"colorbar\": {\"outlinewidth\": 0, \"ticks\": \"\"}, \"colorscale\": [[0.0, \"#0d0887\"], [0.1111111111111111, \"#46039f\"], [0.2222222222222222, \"#7201a8\"], [0.3333333333333333, \"#9c179e\"], [0.4444444444444444, \"#bd3786\"], [0.5555555555555556, \"#d8576b\"], [0.6666666666666666, \"#ed7953\"], [0.7777777777777778, \"#fb9f3a\"], [0.8888888888888888, \"#fdca26\"], [1.0, \"#f0f921\"]], \"type\": \"histogram2d\"}], \"histogram2dcontour\": [{\"colorbar\": {\"outlinewidth\": 0, \"ticks\": \"\"}, \"colorscale\": [[0.0, \"#0d0887\"], [0.1111111111111111, \"#46039f\"], [0.2222222222222222, \"#7201a8\"], [0.3333333333333333, \"#9c179e\"], [0.4444444444444444, \"#bd3786\"], [0.5555555555555556, \"#d8576b\"], [0.6666666666666666, \"#ed7953\"], [0.7777777777777778, \"#fb9f3a\"], [0.8888888888888888, \"#fdca26\"], [1.0, \"#f0f921\"]], \"type\": \"histogram2dcontour\"}], \"mesh3d\": [{\"colorbar\": {\"outlinewidth\": 0, \"ticks\": \"\"}, \"type\": \"mesh3d\"}], \"parcoords\": [{\"line\": {\"colorbar\": {\"outlinewidth\": 0, \"ticks\": \"\"}}, \"type\": \"parcoords\"}], \"pie\": [{\"automargin\": true, \"type\": \"pie\"}], \"scatter\": [{\"marker\": {\"colorbar\": {\"outlinewidth\": 0, \"ticks\": \"\"}}, \"type\": \"scatter\"}], \"scatter3d\": [{\"line\": {\"colorbar\": {\"outlinewidth\": 0, \"ticks\": \"\"}}, \"marker\": {\"colorbar\": {\"outlinewidth\": 0, \"ticks\": \"\"}}, \"type\": \"scatter3d\"}], \"scattercarpet\": [{\"marker\": {\"colorbar\": {\"outlinewidth\": 0, \"ticks\": \"\"}}, \"type\": \"scattercarpet\"}], \"scattergeo\": [{\"marker\": {\"colorbar\": {\"outlinewidth\": 0, \"ticks\": \"\"}}, \"type\": \"scattergeo\"}], \"scattergl\": [{\"marker\": {\"colorbar\": {\"outlinewidth\": 0, \"ticks\": \"\"}}, \"type\": \"scattergl\"}], \"scattermapbox\": [{\"marker\": {\"colorbar\": {\"outlinewidth\": 0, \"ticks\": \"\"}}, \"type\": \"scattermapbox\"}], \"scatterpolar\": [{\"marker\": {\"colorbar\": {\"outlinewidth\": 0, \"ticks\": \"\"}}, \"type\": \"scatterpolar\"}], \"scatterpolargl\": [{\"marker\": {\"colorbar\": {\"outlinewidth\": 0, \"ticks\": \"\"}}, \"type\": \"scatterpolargl\"}], \"scatterternary\": [{\"marker\": {\"colorbar\": {\"outlinewidth\": 0, \"ticks\": \"\"}}, \"type\": \"scatterternary\"}], \"surface\": [{\"colorbar\": {\"outlinewidth\": 0, \"ticks\": \"\"}, \"colorscale\": [[0.0, \"#0d0887\"], [0.1111111111111111, \"#46039f\"], [0.2222222222222222, \"#7201a8\"], [0.3333333333333333, \"#9c179e\"], [0.4444444444444444, \"#bd3786\"], [0.5555555555555556, \"#d8576b\"], [0.6666666666666666, \"#ed7953\"], [0.7777777777777778, \"#fb9f3a\"], [0.8888888888888888, \"#fdca26\"], [1.0, \"#f0f921\"]], \"type\": \"surface\"}], \"table\": [{\"cells\": {\"fill\": {\"color\": \"#EBF0F8\"}, \"line\": {\"color\": \"white\"}}, \"header\": {\"fill\": {\"color\": \"#C8D4E3\"}, \"line\": {\"color\": \"white\"}}, \"type\": \"table\"}]}, \"layout\": {\"annotationdefaults\": {\"arrowcolor\": \"#2a3f5f\", \"arrowhead\": 0, \"arrowwidth\": 1}, \"autotypenumbers\": \"strict\", \"coloraxis\": {\"colorbar\": {\"outlinewidth\": 0, \"ticks\": \"\"}}, \"colorscale\": {\"diverging\": [[0, \"#8e0152\"], [0.1, \"#c51b7d\"], [0.2, \"#de77ae\"], [0.3, \"#f1b6da\"], [0.4, \"#fde0ef\"], [0.5, \"#f7f7f7\"], [0.6, \"#e6f5d0\"], [0.7, \"#b8e186\"], [0.8, \"#7fbc41\"], [0.9, \"#4d9221\"], [1, \"#276419\"]], \"sequential\": [[0.0, \"#0d0887\"], [0.1111111111111111, \"#46039f\"], [0.2222222222222222, \"#7201a8\"], [0.3333333333333333, \"#9c179e\"], [0.4444444444444444, \"#bd3786\"], [0.5555555555555556, \"#d8576b\"], [0.6666666666666666, \"#ed7953\"], [0.7777777777777778, \"#fb9f3a\"], [0.8888888888888888, \"#fdca26\"], [1.0, \"#f0f921\"]], \"sequentialminus\": [[0.0, \"#0d0887\"], [0.1111111111111111, \"#46039f\"], [0.2222222222222222, \"#7201a8\"], [0.3333333333333333, \"#9c179e\"], [0.4444444444444444, \"#bd3786\"], [0.5555555555555556, \"#d8576b\"], [0.6666666666666666, \"#ed7953\"], [0.7777777777777778, \"#fb9f3a\"], [0.8888888888888888, \"#fdca26\"], [1.0, \"#f0f921\"]]}, \"colorway\": [\"#636efa\", \"#EF553B\", \"#00cc96\", \"#ab63fa\", \"#FFA15A\", \"#19d3f3\", \"#FF6692\", \"#B6E880\", \"#FF97FF\", \"#FECB52\"], \"font\": {\"color\": \"#2a3f5f\"}, \"geo\": {\"bgcolor\": \"white\", \"lakecolor\": \"white\", \"landcolor\": \"#E5ECF6\", \"showlakes\": true, \"showland\": true, \"subunitcolor\": \"white\"}, \"hoverlabel\": {\"align\": \"left\"}, \"hovermode\": \"closest\", \"mapbox\": {\"style\": \"light\"}, \"paper_bgcolor\": \"white\", \"plot_bgcolor\": \"#E5ECF6\", \"polar\": {\"angularaxis\": {\"gridcolor\": \"white\", \"linecolor\": \"white\", \"ticks\": \"\"}, \"bgcolor\": \"#E5ECF6\", \"radialaxis\": {\"gridcolor\": \"white\", \"linecolor\": \"white\", \"ticks\": \"\"}}, \"scene\": {\"xaxis\": {\"backgroundcolor\": \"#E5ECF6\", \"gridcolor\": \"white\", \"gridwidth\": 2, \"linecolor\": \"white\", \"showbackground\": true, \"ticks\": \"\", \"zerolinecolor\": \"white\"}, \"yaxis\": {\"backgroundcolor\": \"#E5ECF6\", \"gridcolor\": \"white\", \"gridwidth\": 2, \"linecolor\": \"white\", \"showbackground\": true, \"ticks\": \"\", \"zerolinecolor\": \"white\"}, \"zaxis\": {\"backgroundcolor\": \"#E5ECF6\", \"gridcolor\": \"white\", \"gridwidth\": 2, \"linecolor\": \"white\", \"showbackground\": true, \"ticks\": \"\", \"zerolinecolor\": \"white\"}}, \"shapedefaults\": {\"line\": {\"color\": \"#2a3f5f\"}}, \"ternary\": {\"aaxis\": {\"gridcolor\": \"white\", \"linecolor\": \"white\", \"ticks\": \"\"}, \"baxis\": {\"gridcolor\": \"white\", \"linecolor\": \"white\", \"ticks\": \"\"}, \"bgcolor\": \"#E5ECF6\", \"caxis\": {\"gridcolor\": \"white\", \"linecolor\": \"white\", \"ticks\": \"\"}}, \"title\": {\"x\": 0.05}, \"xaxis\": {\"automargin\": true, \"gridcolor\": \"white\", \"linecolor\": \"white\", \"ticks\": \"\", \"title\": {\"standoff\": 15}, \"zerolinecolor\": \"white\", \"zerolinewidth\": 2}, \"yaxis\": {\"automargin\": true, \"gridcolor\": \"white\", \"linecolor\": \"white\", \"ticks\": \"\", \"title\": {\"standoff\": 15}, \"zerolinecolor\": \"white\", \"zerolinewidth\": 2}}}, \"title\": {\"text\": \"Pakistan deaths and vaccination\"}, \"width\": 700, \"xaxis\": {\"anchor\": \"y\", \"domain\": [0.0, 0.94], \"title\": {\"text\": \"date\"}}, \"yaxis\": {\"anchor\": \"x\", \"domain\": [0.0, 1.0], \"title\": {\"text\": \"No of deaths of covid\"}}, \"yaxis2\": {\"anchor\": \"x\", \"overlaying\": \"y\", \"side\": \"right\", \"title\": {\"text\": \"No of people with at least one dose\"}}},                        {\"responsive\": true}                    ).then(function(){\n",
       "                            \n",
       "var gd = document.getElementById('3c072ee2-2345-47b0-9d62-21de49d0b7e2');\n",
       "var x = new MutationObserver(function (mutations, observer) {{\n",
       "        var display = window.getComputedStyle(gd).display;\n",
       "        if (!display || display === 'none') {{\n",
       "            console.log([gd, 'removed!']);\n",
       "            Plotly.purge(gd);\n",
       "            observer.disconnect();\n",
       "        }}\n",
       "}});\n",
       "\n",
       "// Listen for the removal of the full notebook cells\n",
       "var notebookContainer = gd.closest('#notebook-container');\n",
       "if (notebookContainer) {{\n",
       "    x.observe(notebookContainer, {childList: true});\n",
       "}}\n",
       "\n",
       "// Listen for the clearing of the current output cell\n",
       "var outputEl = gd.closest('.output');\n",
       "if (outputEl) {{\n",
       "    x.observe(outputEl, {childList: true});\n",
       "}}\n",
       "\n",
       "                        })                };                });            </script>        </div>"
      ]
     },
     "metadata": {},
     "output_type": "display_data"
    }
   ],
   "source": [
    "fig = make_subplots(specs=[[{\"secondary_y\": True}]])\n",
    "\n",
    "fig.add_trace(\n",
    "    go.Scatter(y=covid_daily_PAK['daily_new_deaths'], x=covid_daily_PAK['date'], name=\"No of deaths daily (PAK)\"),\n",
    "    secondary_y=False,\n",
    ")\n",
    "\n",
    "fig.add_trace(\n",
    "    go.Scatter(x= dfs[-2]['date'],y = dfs[-2]['people_vaccinated'], name = 'People vaccinated'),\n",
    "    secondary_y=True,\n",
    ")\n",
    "\n",
    "fig.update_layout(\n",
    "    autosize=False,\n",
    "    width=700,\n",
    "    height=500,\n",
    "    title_text=\"Pakistan deaths and vaccination\"\n",
    ")\n",
    "\n",
    "fig.update_xaxes(title_text=\"date\")\n",
    "\n",
    "fig.update_yaxes(title_text=\"No of deaths of covid\", secondary_y=False)\n",
    "fig.update_yaxes(title_text=\"No of people with at least one dose\", secondary_y=True)\n",
    "\n",
    "fig.show()"
   ]
  },
  {
   "cell_type": "markdown",
   "id": "vital-syntax",
   "metadata": {
    "papermill": {
     "duration": 0.04111,
     "end_time": "2021-04-26T13:37:20.264067",
     "exception": false,
     "start_time": "2021-04-26T13:37:20.222957",
     "status": "completed"
    },
    "tags": []
   },
   "source": [
    "# Indonesia cases, deaths and vaccinated people "
   ]
  },
  {
   "cell_type": "code",
   "execution_count": 21,
   "id": "artistic-masters",
   "metadata": {
    "_kg_hide-input": true,
    "execution": {
     "iopub.execute_input": "2021-04-26T13:37:20.369786Z",
     "iopub.status.busy": "2021-04-26T13:37:20.364494Z",
     "iopub.status.idle": "2021-04-26T13:37:20.403075Z",
     "shell.execute_reply": "2021-04-26T13:37:20.402484Z"
    },
    "papermill": {
     "duration": 0.096171,
     "end_time": "2021-04-26T13:37:20.403223",
     "exception": false,
     "start_time": "2021-04-26T13:37:20.307052",
     "status": "completed"
    },
    "tags": []
   },
   "outputs": [
    {
     "data": {
      "text/html": [
       "<div>                            <div id=\"b8b6cf6c-cb4e-498f-bb59-4d5fb498683f\" class=\"plotly-graph-div\" style=\"height:500px; width:700px;\"></div>            <script type=\"text/javascript\">                require([\"plotly\"], function(Plotly) {                    window.PLOTLYENV=window.PLOTLYENV || {};                                    if (document.getElementById(\"b8b6cf6c-cb4e-498f-bb59-4d5fb498683f\")) {                    Plotly.newPlot(                        \"b8b6cf6c-cb4e-498f-bb59-4d5fb498683f\",                        [{\"name\": \"No of cases daily (IDN)\", \"type\": \"scatter\", \"x\": [\"2020-2-15\", \"2020-2-16\", \"2020-2-17\", \"2020-2-18\", \"2020-2-19\", \"2020-2-20\", \"2020-2-21\", \"2020-2-22\", \"2020-2-23\", \"2020-2-24\", \"2020-2-25\", \"2020-2-26\", \"2020-2-27\", \"2020-2-28\", \"2020-2-29\", \"2020-3-01\", \"2020-3-02\", \"2020-3-03\", \"2020-3-04\", \"2020-3-05\", \"2020-3-06\", \"2020-3-07\", \"2020-3-08\", \"2020-3-09\", \"2020-3-10\", \"2020-3-11\", \"2020-3-12\", \"2020-3-13\", \"2020-3-14\", \"2020-3-15\", \"2020-3-16\", \"2020-3-17\", \"2020-3-18\", \"2020-3-19\", \"2020-3-20\", \"2020-3-21\", \"2020-3-22\", \"2020-3-23\", \"2020-3-24\", \"2020-3-25\", \"2020-3-26\", \"2020-3-27\", \"2020-3-28\", \"2020-3-29\", \"2020-3-30\", \"2020-3-31\", \"2020-4-01\", \"2020-4-02\", \"2020-4-03\", \"2020-4-04\", \"2020-4-05\", \"2020-4-06\", \"2020-4-07\", \"2020-4-08\", \"2020-4-09\", \"2020-4-10\", \"2020-4-11\", \"2020-4-12\", \"2020-4-13\", \"2020-4-14\", \"2020-4-15\", \"2020-4-16\", \"2020-4-17\", \"2020-4-18\", \"2020-4-19\", \"2020-4-20\", \"2020-4-21\", \"2020-4-22\", \"2020-4-23\", \"2020-4-24\", \"2020-4-25\", \"2020-4-26\", \"2020-4-27\", \"2020-4-28\", \"2020-4-29\", \"2020-4-30\", \"2020-5-01\", \"2020-5-02\", \"2020-5-03\", \"2020-5-04\", \"2020-5-05\", \"2020-5-06\", \"2020-5-07\", \"2020-5-08\", \"2020-5-09\", \"2020-5-10\", \"2020-5-11\", \"2020-5-12\", \"2020-5-13\", \"2020-5-14\", \"2020-5-15\", \"2020-5-16\", \"2020-5-17\", \"2020-5-18\", \"2020-5-19\", \"2020-5-20\", \"2020-5-21\", \"2020-5-22\", \"2020-5-23\", \"2020-5-24\", \"2020-5-25\", \"2020-5-26\", \"2020-5-27\", \"2020-5-28\", \"2020-5-29\", \"2020-5-30\", \"2020-5-31\", \"2020-6-01\", \"2020-6-02\", \"2020-6-03\", \"2020-6-04\", \"2020-6-05\", \"2020-6-06\", \"2020-6-07\", \"2020-6-08\", \"2020-6-09\", \"2020-6-10\", \"2020-6-11\", \"2020-6-12\", \"2020-6-13\", \"2020-6-14\", \"2020-6-15\", \"2020-6-16\", \"2020-6-17\", \"2020-6-18\", \"2020-6-19\", \"2020-6-20\", \"2020-6-21\", \"2020-6-22\", \"2020-6-23\", \"2020-6-24\", \"2020-6-25\", \"2020-6-26\", \"2020-6-27\", \"2020-6-28\", \"2020-6-29\", \"2020-6-30\", \"2020-7-01\", \"2020-7-02\", \"2020-7-03\", \"2020-7-04\", \"2020-7-05\", \"2020-7-06\", \"2020-7-07\", \"2020-7-08\", \"2020-7-09\", \"2020-7-10\", \"2020-7-11\", \"2020-7-12\", \"2020-7-13\", \"2020-7-14\", \"2020-7-15\", \"2020-7-16\", \"2020-7-17\", \"2020-7-18\", \"2020-7-19\", \"2020-7-20\", \"2020-7-21\", \"2020-7-22\", \"2020-7-23\", \"2020-7-24\", \"2020-7-25\", \"2020-7-26\", \"2020-7-27\", \"2020-7-28\", \"2020-7-29\", \"2020-7-30\", \"2020-7-31\", \"2020-8-01\", \"2020-8-02\", \"2020-8-03\", \"2020-8-04\", \"2020-8-05\", \"2020-8-06\", \"2020-8-07\", \"2020-8-08\", \"2020-8-09\", \"2020-8-10\", \"2020-8-11\", \"2020-8-12\", \"2020-8-13\", \"2020-8-14\", \"2020-8-15\", \"2020-8-16\", \"2020-8-17\", \"2020-8-18\", \"2020-8-19\", \"2020-8-20\", \"2020-8-21\", \"2020-8-22\", \"2020-8-23\", \"2020-8-24\", \"2020-8-25\", \"2020-8-26\", \"2020-8-27\", \"2020-8-28\", \"2020-8-29\", \"2020-8-30\", \"2020-8-31\", \"2020-9-01\", \"2020-9-02\", \"2020-9-03\", \"2020-9-04\", \"2020-9-05\", \"2020-9-06\", \"2020-9-07\", \"2020-9-08\", \"2020-9-09\", \"2020-9-10\", \"2020-9-11\", \"2020-9-12\", \"2020-9-13\", \"2020-9-14\", \"2020-9-15\", \"2020-9-16\", \"2020-9-17\", \"2020-9-18\", \"2020-9-19\", \"2020-9-20\", \"2020-9-21\", \"2020-9-22\", \"2020-9-23\", \"2020-9-24\", \"2020-9-25\", \"2020-9-26\", \"2020-9-27\", \"2020-9-28\", \"2020-9-29\", \"2020-9-30\", \"2020-10-01\", \"2020-10-02\", \"2020-10-03\", \"2020-10-04\", \"2020-10-05\", \"2020-10-06\", \"2020-10-07\", \"2020-10-08\", \"2020-10-09\", \"2020-10-10\", \"2020-10-11\", \"2020-10-12\", \"2020-10-13\", \"2020-10-14\", \"2020-10-15\", \"2020-10-16\", \"2020-10-17\", \"2020-10-18\", \"2020-10-19\", \"2020-10-20\", \"2020-10-21\", \"2020-10-22\", \"2020-10-23\", \"2020-10-24\", \"2020-10-25\", \"2020-10-26\", \"2020-10-27\", \"2020-10-28\", \"2020-10-29\", \"2020-10-30\", \"2020-10-31\", \"2020-11-01\", \"2020-11-02\", \"2020-11-03\", \"2020-11-04\", \"2020-11-05\", \"2020-11-06\", \"2020-11-07\", \"2020-11-08\", \"2020-11-09\", \"2020-11-10\", \"2020-11-11\", \"2020-11-12\", \"2020-11-13\", \"2020-11-14\", \"2020-11-15\", \"2020-11-16\", \"2020-11-17\", \"2020-11-18\", \"2020-11-19\", \"2020-11-20\", \"2020-11-21\", \"2020-11-22\", \"2020-11-23\", \"2020-11-24\", \"2020-11-25\", \"2020-11-26\", \"2020-11-27\", \"2020-11-28\", \"2020-11-29\", \"2020-11-30\", \"2020-12-01\", \"2020-12-02\", \"2020-12-03\", \"2020-12-04\", \"2020-12-05\", \"2020-12-06\", \"2020-12-07\", \"2020-12-08\", \"2020-12-09\", \"2020-12-10\", \"2020-12-11\", \"2020-12-12\", \"2020-12-13\", \"2020-12-14\", \"2020-12-15\", \"2020-12-16\", \"2020-12-17\", \"2020-12-18\", \"2020-12-19\", \"2020-12-20\", \"2020-12-21\", \"2020-12-22\", \"2020-12-23\", \"2020-12-24\", \"2020-12-25\", \"2020-12-26\", \"2020-12-27\", \"2020-12-28\", \"2020-12-29\", \"2020-12-30\", \"2020-12-31\", \"2021-1-01\", \"2021-1-02\", \"2021-1-03\", \"2021-1-04\", \"2021-1-05\", \"2021-1-06\", \"2021-1-07\", \"2021-1-08\", \"2021-1-09\", \"2021-1-10\", \"2021-1-11\", \"2021-1-12\", \"2021-1-13\", \"2021-1-14\", \"2021-1-15\", \"2021-1-16\", \"2021-1-17\", \"2021-1-18\", \"2021-1-19\", \"2021-1-20\", \"2021-1-21\", \"2021-1-22\", \"2021-1-23\", \"2021-1-24\", \"2021-1-25\", \"2021-1-26\", \"2021-1-27\", \"2021-1-28\", \"2021-1-29\", \"2021-1-30\", \"2021-1-31\", \"2021-2-01\", \"2021-2-02\", \"2021-2-03\", \"2021-2-04\", \"2021-2-05\", \"2021-2-06\", \"2021-2-07\", \"2021-2-08\", \"2021-2-09\", \"2021-2-10\", \"2021-2-11\", \"2021-2-12\", \"2021-2-13\", \"2021-2-14\", \"2021-2-15\", \"2021-2-16\", \"2021-2-17\", \"2021-2-18\", \"2021-2-19\", \"2021-2-20\", \"2021-2-21\", \"2021-2-22\", \"2021-2-23\", \"2021-2-24\", \"2021-2-25\", \"2021-2-26\", \"2021-2-27\", \"2021-2-28\", \"2021-3-01\", \"2021-3-02\", \"2021-3-03\", \"2021-3-04\", \"2021-3-05\", \"2021-3-06\", \"2021-3-07\", \"2021-3-08\", \"2021-3-09\", \"2021-3-10\", \"2021-3-11\", \"2021-3-12\", \"2021-3-13\", \"2021-3-14\", \"2021-3-15\", \"2021-3-16\", \"2021-3-17\", \"2021-3-18\", \"2021-3-19\", \"2021-3-20\", \"2021-3-21\", \"2021-3-22\", \"2021-3-23\", \"2021-3-24\", \"2021-3-25\", \"2021-3-26\", \"2021-3-27\", \"2021-3-28\", \"2021-3-29\", \"2021-3-30\", \"2021-3-31\", \"2021-4-01\", \"2021-4-02\", \"2021-4-03\", \"2021-4-04\", \"2021-4-05\", \"2021-4-06\", \"2021-4-07\", \"2021-4-08\", \"2021-4-09\", \"2021-4-10\", \"2021-4-11\", \"2021-4-12\", \"2021-4-13\", \"2021-4-14\", \"2021-4-15\", \"2021-4-16\", \"2021-4-17\", \"2021-4-18\", \"2021-4-19\", \"2021-4-20\", \"2021-4-21\", \"2021-4-22\", \"2021-4-23\", \"2021-4-24\"], \"xaxis\": \"x\", \"y\": [null, null, null, null, null, null, null, null, null, null, null, null, null, null, null, null, null, 0.0, 0.0, 0.0, 2.0, 0.0, 2.0, 13.0, 8.0, 7.0, 0.0, 35.0, 27.0, 21.0, 17.0, 38.0, 55.0, 82.0, 60.0, 81.0, 64.0, 65.0, 107.0, 104.0, 103.0, 153.0, 109.0, 130.0, 129.0, 114.0, 149.0, 113.0, 196.0, 106.0, 181.0, 218.0, 247.0, 218.0, 337.0, 219.0, 330.0, 399.0, 316.0, 282.0, 297.0, 380.0, 407.0, 325.0, 327.0, 185.0, 375.0, 283.0, 357.0, 436.0, 396.0, 275.0, 214.0, 415.0, 260.0, 347.0, 433.0, 292.0, 349.0, 395.0, 484.0, 367.0, 338.0, 336.0, 533.0, 387.0, 233.0, 484.0, 689.0, 568.0, 490.0, 529.0, 489.0, 496.0, 486.0, 693.0, 973.0, 634.0, 949.0, 526.0, 479.0, 415.0, 686.0, 687.0, 678.0, 557.0, 700.0, 467.0, 609.0, 684.0, 585.0, 703.0, 993.0, 672.0, 847.0, 1043.0, 1240.0, 979.0, 1111.0, 1014.0, 857.0, 1017.0, 1106.0, 1031.0, 1331.0, 1041.0, 1226.0, 862.0, 954.0, 1051.0, 1113.0, 1178.0, 1240.0, 1385.0, 1198.0, 1082.0, 1293.0, 1385.0, 1624.0, 1301.0, 1447.0, 1607.0, 1209.0, 1268.0, 1853.0, 2657.0, 1611.0, 1671.0, 1681.0, 1282.0, 1591.0, 1522.0, 1574.0, 1462.0, 1752.0, 1639.0, 1693.0, 1655.0, 1882.0, 1906.0, 1761.0, 1868.0, 1492.0, 1525.0, 1748.0, 2381.0, 1904.0, 2040.0, 1560.0, 1519.0, 1679.0, 1922.0, 1815.0, 1882.0, 2473.0, 2277.0, 1893.0, 1687.0, 1693.0, 1942.0, 2098.0, 2307.0, 2345.0, 2081.0, 1821.0, 1673.0, 1902.0, 2266.0, 2197.0, 2090.0, 2037.0, 1877.0, 2447.0, 2306.0, 2719.0, 3003.0, 3308.0, 2858.0, 2743.0, 2775.0, 3075.0, 3622.0, 3269.0, 3128.0, 3444.0, 2880.0, 3046.0, 3307.0, 3861.0, 3737.0, 3806.0, 3636.0, 3141.0, 3507.0, 3963.0, 3635.0, 3891.0, 4168.0, 3989.0, 4176.0, 4071.0, 4465.0, 4634.0, 4823.0, 4494.0, 3874.0, 3509.0, 4002.0, 4284.0, 4174.0, 4317.0, 4007.0, 3992.0, 3622.0, 4056.0, 4538.0, 4850.0, 4094.0, 4294.0, 4497.0, 3267.0, 3906.0, 4127.0, 4411.0, 4301.0, 4301.0, 4105.0, 3373.0, 3602.0, 4267.0, 4432.0, 4369.0, 4070.0, 3732.0, 3222.0, 3520.0, 4029.0, 3565.0, 2897.0, 3143.0, 2696.0, 2618.0, 2973.0, 3356.0, 4065.0, 3778.0, 4262.0, 3880.0, 2853.0, 3779.0, 3770.0, 4173.0, 5444.0, 5272.0, 4106.0, 3535.0, 3807.0, 4265.0, 4798.0, 4792.0, 4998.0, 4360.0, 4442.0, 4192.0, 5534.0, 4917.0, 5828.0, 5418.0, 6267.0, 4617.0, 5092.0, 5533.0, 8369.0, 5803.0, 6027.0, 6089.0, 5754.0, 5292.0, 6058.0, 6033.0, 6310.0, 6388.0, 6189.0, 5489.0, 6120.0, 6725.0, 7354.0, 6689.0, 7751.0, 6982.0, 6848.0, 6347.0, 7514.0, 7199.0, 7259.0, 6740.0, 6528.0, 5854.0, 7903.0, 8002.0, 8074.0, 8072.0, 7203.0, 6877.0, 6753.0, 7445.0, 8854.0, 9321.0, 10617.0, 10046.0, 9640.0, 8692.0, 10047.0, 11278.0, 11557.0, 12818.0, 14224.0, 11287.0, 9086.0, 10365.0, 12568.0, 11703.0, 13632.0, 12191.0, 11788.0, 9994.0, 13094.0, 11948.0, 13695.0, 13802.0, 14518.0, 12001.0, 10994.0, 10379.0, 11984.0, 11434.0, 11749.0, 12156.0, 10827.0, 8242.0, 8700.0, 8776.0, 8435.0, 9869.0, 8844.0, 6765.0, 6462.0, 10029.0, 9687.0, 9039.0, 10614.0, 8054.0, 7300.0, 10180.0, 9775.0, 7533.0, 8493.0, 8232.0, 6208.0, 5560.0, 6680.0, 5712.0, 6808.0, 7264.0, 6971.0, 5767.0, 5826.0, 6894.0, 6389.0, 5633.0, 5144.0, 6412.0, 4607.0, 4714.0, 5589.0, 5414.0, 6825.0, 6570.0, 6279.0, 5656.0, 4396.0, 5744.0, 5297.0, 5227.0, 6107.0, 4982.0, 4461.0, 4083.0, 5008.0, 4682.0, 5937.0, 6142.0, 5325.0, 4345.0, 6731.0, 3712.0, 4549.0, 4860.0, 5504.0, 5265.0, 4723.0, 4127.0, 4829.0, 5702.0, 5656.0, 6177.0, 5363.0, 5041.0, 4585.0, 4952.0, 5549.0, 5720.0, 6243.0, 5436.0, 4544.0], \"yaxis\": \"y\"}, {\"name\": \"People vaccinated\", \"type\": \"scatter\", \"x\": [\"2021-01-12\", \"2021-01-13\", \"2021-01-14\", \"2021-01-15\", \"2021-01-16\", \"2021-01-17\", \"2021-01-18\", \"2021-01-19\", \"2021-01-20\", \"2021-01-21\", \"2021-01-22\", \"2021-01-23\", \"2021-01-24\", \"2021-01-25\", \"2021-01-26\", \"2021-01-27\", \"2021-01-28\", \"2021-01-29\", \"2021-01-30\", \"2021-01-31\", \"2021-02-01\", \"2021-02-02\", \"2021-02-03\", \"2021-02-04\", \"2021-02-05\", \"2021-02-06\", \"2021-02-07\", \"2021-02-08\", \"2021-02-09\", \"2021-02-10\", \"2021-02-11\", \"2021-02-12\", \"2021-02-13\", \"2021-02-14\", \"2021-02-15\", \"2021-02-16\", \"2021-02-17\", \"2021-02-18\", \"2021-02-19\", \"2021-02-20\", \"2021-02-21\", \"2021-02-22\", \"2021-02-23\", \"2021-02-24\", \"2021-02-25\", \"2021-02-26\", \"2021-02-27\", \"2021-02-28\", \"2021-03-01\", \"2021-03-02\", \"2021-03-03\", \"2021-03-04\", \"2021-03-05\", \"2021-03-06\", \"2021-03-07\", \"2021-03-08\", \"2021-03-09\", \"2021-03-10\", \"2021-03-11\", \"2021-03-12\", \"2021-03-13\", \"2021-03-14\", \"2021-03-15\", \"2021-03-16\", \"2021-03-17\", \"2021-03-18\", \"2021-03-19\", \"2021-03-20\", \"2021-03-21\", \"2021-03-22\", \"2021-03-23\", \"2021-03-24\", \"2021-03-25\", \"2021-03-26\", \"2021-03-27\", \"2021-03-28\", \"2021-03-29\", \"2021-03-30\", \"2021-03-31\", \"2021-04-01\", \"2021-04-02\", \"2021-04-03\", \"2021-04-04\", \"2021-04-05\", \"2021-04-06\", \"2021-04-07\", \"2021-04-08\", \"2021-04-09\", \"2021-04-10\", \"2021-04-11\", \"2021-04-12\", \"2021-04-13\", \"2021-04-14\", \"2021-04-15\", \"2021-04-16\", \"2021-04-17\", \"2021-04-18\", \"2021-04-19\", \"2021-04-20\", \"2021-04-21\", \"2021-04-22\", \"2021-04-23\"], \"xaxis\": \"x\", \"y\": [0.0, null, null, null, null, null, null, null, null, null, 132000.0, null, 149242.0, 161959.0, 245685.0, 308003.0, 368318.0, 405012.0, 482145.0, 493133.0, 539532.0, 596260.0, 646026.0, 700266.0, 744884.0, 777096.0, 784318.0, 814585.0, 845407.0, 969546.0, 1017186.0, null, 1060326.0, 1068747.0, 1096095.0, 1120963.0, 1149939.0, 1164144.0, null, 1224091.0, null, null, 1269905.0, 1363138.0, 1461920.0, 1583581.0, 1616165.0, 1691724.0, null, 1968057.0, 2286123.0, null, 2413615.0, null, 2888757.0, null, null, 3574698.0, 3696059.0, 3769174.0, 3985596.0, 4020124.0, 4166862.0, 4468951.0, 4705248.0, 4838752.0, 5124948.0, 5533379.0, 5567280.0, 5732210.0, 6389837.0, null, 6730456.0, 7179014.0, 7190663.0, 7435851.0, null, null, 8010163.0, 8371577.0, 8424729.0, null, 8634321.0, null, 9021106.0, null, 9374089.0, null, 10002901.0, null, 10280073.0, 10377734.0, 10457337.0, 10781266.0, null, 10801563.0, null, 10972343.0, 11116253.0, 11302294.0, 11432711.0, 11623251.0], \"yaxis\": \"y2\"}],                        {\"autosize\": false, \"height\": 500, \"template\": {\"data\": {\"bar\": [{\"error_x\": {\"color\": \"#2a3f5f\"}, \"error_y\": {\"color\": \"#2a3f5f\"}, \"marker\": {\"line\": {\"color\": \"#E5ECF6\", \"width\": 0.5}}, \"type\": \"bar\"}], \"barpolar\": [{\"marker\": {\"line\": {\"color\": \"#E5ECF6\", \"width\": 0.5}}, \"type\": \"barpolar\"}], \"carpet\": [{\"aaxis\": {\"endlinecolor\": \"#2a3f5f\", \"gridcolor\": \"white\", \"linecolor\": \"white\", \"minorgridcolor\": \"white\", \"startlinecolor\": \"#2a3f5f\"}, \"baxis\": {\"endlinecolor\": \"#2a3f5f\", \"gridcolor\": \"white\", \"linecolor\": \"white\", \"minorgridcolor\": \"white\", \"startlinecolor\": \"#2a3f5f\"}, \"type\": \"carpet\"}], \"choropleth\": [{\"colorbar\": {\"outlinewidth\": 0, \"ticks\": \"\"}, \"type\": \"choropleth\"}], \"contour\": [{\"colorbar\": {\"outlinewidth\": 0, \"ticks\": \"\"}, \"colorscale\": [[0.0, \"#0d0887\"], [0.1111111111111111, \"#46039f\"], [0.2222222222222222, \"#7201a8\"], [0.3333333333333333, \"#9c179e\"], [0.4444444444444444, \"#bd3786\"], [0.5555555555555556, \"#d8576b\"], [0.6666666666666666, \"#ed7953\"], [0.7777777777777778, \"#fb9f3a\"], [0.8888888888888888, \"#fdca26\"], [1.0, \"#f0f921\"]], \"type\": \"contour\"}], \"contourcarpet\": [{\"colorbar\": {\"outlinewidth\": 0, \"ticks\": \"\"}, \"type\": \"contourcarpet\"}], \"heatmap\": [{\"colorbar\": {\"outlinewidth\": 0, \"ticks\": \"\"}, \"colorscale\": [[0.0, \"#0d0887\"], [0.1111111111111111, \"#46039f\"], [0.2222222222222222, \"#7201a8\"], [0.3333333333333333, \"#9c179e\"], [0.4444444444444444, \"#bd3786\"], [0.5555555555555556, \"#d8576b\"], [0.6666666666666666, \"#ed7953\"], [0.7777777777777778, \"#fb9f3a\"], [0.8888888888888888, \"#fdca26\"], [1.0, \"#f0f921\"]], \"type\": \"heatmap\"}], \"heatmapgl\": [{\"colorbar\": {\"outlinewidth\": 0, \"ticks\": \"\"}, \"colorscale\": [[0.0, \"#0d0887\"], [0.1111111111111111, \"#46039f\"], [0.2222222222222222, \"#7201a8\"], [0.3333333333333333, \"#9c179e\"], [0.4444444444444444, \"#bd3786\"], [0.5555555555555556, \"#d8576b\"], [0.6666666666666666, \"#ed7953\"], [0.7777777777777778, \"#fb9f3a\"], [0.8888888888888888, \"#fdca26\"], [1.0, \"#f0f921\"]], \"type\": \"heatmapgl\"}], \"histogram\": [{\"marker\": {\"colorbar\": {\"outlinewidth\": 0, \"ticks\": \"\"}}, \"type\": \"histogram\"}], \"histogram2d\": [{\"colorbar\": {\"outlinewidth\": 0, \"ticks\": \"\"}, \"colorscale\": [[0.0, \"#0d0887\"], [0.1111111111111111, \"#46039f\"], [0.2222222222222222, \"#7201a8\"], [0.3333333333333333, \"#9c179e\"], [0.4444444444444444, \"#bd3786\"], [0.5555555555555556, \"#d8576b\"], [0.6666666666666666, \"#ed7953\"], [0.7777777777777778, \"#fb9f3a\"], [0.8888888888888888, \"#fdca26\"], [1.0, \"#f0f921\"]], \"type\": \"histogram2d\"}], \"histogram2dcontour\": [{\"colorbar\": {\"outlinewidth\": 0, \"ticks\": \"\"}, \"colorscale\": [[0.0, \"#0d0887\"], [0.1111111111111111, \"#46039f\"], [0.2222222222222222, \"#7201a8\"], [0.3333333333333333, \"#9c179e\"], [0.4444444444444444, \"#bd3786\"], [0.5555555555555556, \"#d8576b\"], [0.6666666666666666, \"#ed7953\"], [0.7777777777777778, \"#fb9f3a\"], [0.8888888888888888, \"#fdca26\"], [1.0, \"#f0f921\"]], \"type\": \"histogram2dcontour\"}], \"mesh3d\": [{\"colorbar\": {\"outlinewidth\": 0, \"ticks\": \"\"}, \"type\": \"mesh3d\"}], \"parcoords\": [{\"line\": {\"colorbar\": {\"outlinewidth\": 0, \"ticks\": \"\"}}, \"type\": \"parcoords\"}], \"pie\": [{\"automargin\": true, \"type\": \"pie\"}], \"scatter\": [{\"marker\": {\"colorbar\": {\"outlinewidth\": 0, \"ticks\": \"\"}}, \"type\": \"scatter\"}], \"scatter3d\": [{\"line\": {\"colorbar\": {\"outlinewidth\": 0, \"ticks\": \"\"}}, \"marker\": {\"colorbar\": {\"outlinewidth\": 0, \"ticks\": \"\"}}, \"type\": \"scatter3d\"}], \"scattercarpet\": [{\"marker\": {\"colorbar\": {\"outlinewidth\": 0, \"ticks\": \"\"}}, \"type\": \"scattercarpet\"}], \"scattergeo\": [{\"marker\": {\"colorbar\": {\"outlinewidth\": 0, \"ticks\": \"\"}}, \"type\": \"scattergeo\"}], \"scattergl\": [{\"marker\": {\"colorbar\": {\"outlinewidth\": 0, \"ticks\": \"\"}}, \"type\": \"scattergl\"}], \"scattermapbox\": [{\"marker\": {\"colorbar\": {\"outlinewidth\": 0, \"ticks\": \"\"}}, \"type\": \"scattermapbox\"}], \"scatterpolar\": [{\"marker\": {\"colorbar\": {\"outlinewidth\": 0, \"ticks\": \"\"}}, \"type\": \"scatterpolar\"}], \"scatterpolargl\": [{\"marker\": {\"colorbar\": {\"outlinewidth\": 0, \"ticks\": \"\"}}, \"type\": \"scatterpolargl\"}], \"scatterternary\": [{\"marker\": {\"colorbar\": {\"outlinewidth\": 0, \"ticks\": \"\"}}, \"type\": \"scatterternary\"}], \"surface\": [{\"colorbar\": {\"outlinewidth\": 0, \"ticks\": \"\"}, \"colorscale\": [[0.0, \"#0d0887\"], [0.1111111111111111, \"#46039f\"], [0.2222222222222222, \"#7201a8\"], [0.3333333333333333, \"#9c179e\"], [0.4444444444444444, \"#bd3786\"], [0.5555555555555556, \"#d8576b\"], [0.6666666666666666, \"#ed7953\"], [0.7777777777777778, \"#fb9f3a\"], [0.8888888888888888, \"#fdca26\"], [1.0, \"#f0f921\"]], \"type\": \"surface\"}], \"table\": [{\"cells\": {\"fill\": {\"color\": \"#EBF0F8\"}, \"line\": {\"color\": \"white\"}}, \"header\": {\"fill\": {\"color\": \"#C8D4E3\"}, \"line\": {\"color\": \"white\"}}, \"type\": \"table\"}]}, \"layout\": {\"annotationdefaults\": {\"arrowcolor\": \"#2a3f5f\", \"arrowhead\": 0, \"arrowwidth\": 1}, \"autotypenumbers\": \"strict\", \"coloraxis\": {\"colorbar\": {\"outlinewidth\": 0, \"ticks\": \"\"}}, \"colorscale\": {\"diverging\": [[0, \"#8e0152\"], [0.1, \"#c51b7d\"], [0.2, \"#de77ae\"], [0.3, \"#f1b6da\"], [0.4, \"#fde0ef\"], [0.5, \"#f7f7f7\"], [0.6, \"#e6f5d0\"], [0.7, \"#b8e186\"], [0.8, \"#7fbc41\"], [0.9, \"#4d9221\"], [1, \"#276419\"]], \"sequential\": [[0.0, \"#0d0887\"], [0.1111111111111111, \"#46039f\"], [0.2222222222222222, \"#7201a8\"], [0.3333333333333333, \"#9c179e\"], [0.4444444444444444, \"#bd3786\"], [0.5555555555555556, \"#d8576b\"], [0.6666666666666666, \"#ed7953\"], [0.7777777777777778, \"#fb9f3a\"], [0.8888888888888888, \"#fdca26\"], [1.0, \"#f0f921\"]], \"sequentialminus\": [[0.0, \"#0d0887\"], [0.1111111111111111, \"#46039f\"], [0.2222222222222222, \"#7201a8\"], [0.3333333333333333, \"#9c179e\"], [0.4444444444444444, \"#bd3786\"], [0.5555555555555556, \"#d8576b\"], [0.6666666666666666, \"#ed7953\"], [0.7777777777777778, \"#fb9f3a\"], [0.8888888888888888, \"#fdca26\"], [1.0, \"#f0f921\"]]}, \"colorway\": [\"#636efa\", \"#EF553B\", \"#00cc96\", \"#ab63fa\", \"#FFA15A\", \"#19d3f3\", \"#FF6692\", \"#B6E880\", \"#FF97FF\", \"#FECB52\"], \"font\": {\"color\": \"#2a3f5f\"}, \"geo\": {\"bgcolor\": \"white\", \"lakecolor\": \"white\", \"landcolor\": \"#E5ECF6\", \"showlakes\": true, \"showland\": true, \"subunitcolor\": \"white\"}, \"hoverlabel\": {\"align\": \"left\"}, \"hovermode\": \"closest\", \"mapbox\": {\"style\": \"light\"}, \"paper_bgcolor\": \"white\", \"plot_bgcolor\": \"#E5ECF6\", \"polar\": {\"angularaxis\": {\"gridcolor\": \"white\", \"linecolor\": \"white\", \"ticks\": \"\"}, \"bgcolor\": \"#E5ECF6\", \"radialaxis\": {\"gridcolor\": \"white\", \"linecolor\": \"white\", \"ticks\": \"\"}}, \"scene\": {\"xaxis\": {\"backgroundcolor\": \"#E5ECF6\", \"gridcolor\": \"white\", \"gridwidth\": 2, \"linecolor\": \"white\", \"showbackground\": true, \"ticks\": \"\", \"zerolinecolor\": \"white\"}, \"yaxis\": {\"backgroundcolor\": \"#E5ECF6\", \"gridcolor\": \"white\", \"gridwidth\": 2, \"linecolor\": \"white\", \"showbackground\": true, \"ticks\": \"\", \"zerolinecolor\": \"white\"}, \"zaxis\": {\"backgroundcolor\": \"#E5ECF6\", \"gridcolor\": \"white\", \"gridwidth\": 2, \"linecolor\": \"white\", \"showbackground\": true, \"ticks\": \"\", \"zerolinecolor\": \"white\"}}, \"shapedefaults\": {\"line\": {\"color\": \"#2a3f5f\"}}, \"ternary\": {\"aaxis\": {\"gridcolor\": \"white\", \"linecolor\": \"white\", \"ticks\": \"\"}, \"baxis\": {\"gridcolor\": \"white\", \"linecolor\": \"white\", \"ticks\": \"\"}, \"bgcolor\": \"#E5ECF6\", \"caxis\": {\"gridcolor\": \"white\", \"linecolor\": \"white\", \"ticks\": \"\"}}, \"title\": {\"x\": 0.05}, \"xaxis\": {\"automargin\": true, \"gridcolor\": \"white\", \"linecolor\": \"white\", \"ticks\": \"\", \"title\": {\"standoff\": 15}, \"zerolinecolor\": \"white\", \"zerolinewidth\": 2}, \"yaxis\": {\"automargin\": true, \"gridcolor\": \"white\", \"linecolor\": \"white\", \"ticks\": \"\", \"title\": {\"standoff\": 15}, \"zerolinecolor\": \"white\", \"zerolinewidth\": 2}}}, \"title\": {\"text\": \"Indonesia cases and vaccination\"}, \"width\": 700, \"xaxis\": {\"anchor\": \"y\", \"domain\": [0.0, 0.94], \"title\": {\"text\": \"date\"}}, \"yaxis\": {\"anchor\": \"x\", \"domain\": [0.0, 1.0], \"title\": {\"text\": \"No of cases of covid\"}}, \"yaxis2\": {\"anchor\": \"x\", \"overlaying\": \"y\", \"side\": \"right\", \"title\": {\"text\": \"No of people with at least one dose\"}}},                        {\"responsive\": true}                    ).then(function(){\n",
       "                            \n",
       "var gd = document.getElementById('b8b6cf6c-cb4e-498f-bb59-4d5fb498683f');\n",
       "var x = new MutationObserver(function (mutations, observer) {{\n",
       "        var display = window.getComputedStyle(gd).display;\n",
       "        if (!display || display === 'none') {{\n",
       "            console.log([gd, 'removed!']);\n",
       "            Plotly.purge(gd);\n",
       "            observer.disconnect();\n",
       "        }}\n",
       "}});\n",
       "\n",
       "// Listen for the removal of the full notebook cells\n",
       "var notebookContainer = gd.closest('#notebook-container');\n",
       "if (notebookContainer) {{\n",
       "    x.observe(notebookContainer, {childList: true});\n",
       "}}\n",
       "\n",
       "// Listen for the clearing of the current output cell\n",
       "var outputEl = gd.closest('.output');\n",
       "if (outputEl) {{\n",
       "    x.observe(outputEl, {childList: true});\n",
       "}}\n",
       "\n",
       "                        })                };                });            </script>        </div>"
      ]
     },
     "metadata": {},
     "output_type": "display_data"
    }
   ],
   "source": [
    "fig = make_subplots(specs=[[{\"secondary_y\": True}]])\n",
    "\n",
    "fig.add_trace(\n",
    "    go.Scatter(y=covid_daily_IDN['daily_new_cases'], x=covid_daily_IDN['date'], name=\"No of cases daily (IDN)\"),\n",
    "    secondary_y=False,\n",
    ")\n",
    "\n",
    "fig.add_trace(\n",
    "    go.Scatter(x= dfs[3]['date'],y = dfs[3]['people_vaccinated'], name = 'People vaccinated'),\n",
    "    secondary_y=True,\n",
    ")\n",
    "\n",
    "fig.update_layout(\n",
    "    autosize=False,\n",
    "    width=700,\n",
    "    height=500,\n",
    "    title_text=\"Indonesia cases and vaccination\"\n",
    ")\n",
    "\n",
    "fig.update_xaxes(title_text=\"date\")\n",
    "\n",
    "fig.update_yaxes(title_text=\"No of cases of covid\", secondary_y=False)\n",
    "fig.update_yaxes(title_text=\"No of people with at least one dose\", secondary_y=True)\n",
    "\n",
    "fig.show()"
   ]
  },
  {
   "cell_type": "code",
   "execution_count": 22,
   "id": "civilian-bulgaria",
   "metadata": {
    "_kg_hide-input": true,
    "execution": {
     "iopub.execute_input": "2021-04-26T13:37:20.507098Z",
     "iopub.status.busy": "2021-04-26T13:37:20.501627Z",
     "iopub.status.idle": "2021-04-26T13:37:20.536643Z",
     "shell.execute_reply": "2021-04-26T13:37:20.535911Z"
    },
    "papermill": {
     "duration": 0.09151,
     "end_time": "2021-04-26T13:37:20.536797",
     "exception": false,
     "start_time": "2021-04-26T13:37:20.445287",
     "status": "completed"
    },
    "tags": []
   },
   "outputs": [
    {
     "data": {
      "text/html": [
       "<div>                            <div id=\"4c1d8cad-e399-4656-980c-f435021c5852\" class=\"plotly-graph-div\" style=\"height:500px; width:700px;\"></div>            <script type=\"text/javascript\">                require([\"plotly\"], function(Plotly) {                    window.PLOTLYENV=window.PLOTLYENV || {};                                    if (document.getElementById(\"4c1d8cad-e399-4656-980c-f435021c5852\")) {                    Plotly.newPlot(                        \"4c1d8cad-e399-4656-980c-f435021c5852\",                        [{\"name\": \"No of deaths daily (PAK)\", \"type\": \"scatter\", \"x\": [\"2020-2-15\", \"2020-2-16\", \"2020-2-17\", \"2020-2-18\", \"2020-2-19\", \"2020-2-20\", \"2020-2-21\", \"2020-2-22\", \"2020-2-23\", \"2020-2-24\", \"2020-2-25\", \"2020-2-26\", \"2020-2-27\", \"2020-2-28\", \"2020-2-29\", \"2020-3-01\", \"2020-3-02\", \"2020-3-03\", \"2020-3-04\", \"2020-3-05\", \"2020-3-06\", \"2020-3-07\", \"2020-3-08\", \"2020-3-09\", \"2020-3-10\", \"2020-3-11\", \"2020-3-12\", \"2020-3-13\", \"2020-3-14\", \"2020-3-15\", \"2020-3-16\", \"2020-3-17\", \"2020-3-18\", \"2020-3-19\", \"2020-3-20\", \"2020-3-21\", \"2020-3-22\", \"2020-3-23\", \"2020-3-24\", \"2020-3-25\", \"2020-3-26\", \"2020-3-27\", \"2020-3-28\", \"2020-3-29\", \"2020-3-30\", \"2020-3-31\", \"2020-4-01\", \"2020-4-02\", \"2020-4-03\", \"2020-4-04\", \"2020-4-05\", \"2020-4-06\", \"2020-4-07\", \"2020-4-08\", \"2020-4-09\", \"2020-4-10\", \"2020-4-11\", \"2020-4-12\", \"2020-4-13\", \"2020-4-14\", \"2020-4-15\", \"2020-4-16\", \"2020-4-17\", \"2020-4-18\", \"2020-4-19\", \"2020-4-20\", \"2020-4-21\", \"2020-4-22\", \"2020-4-23\", \"2020-4-24\", \"2020-4-25\", \"2020-4-26\", \"2020-4-27\", \"2020-4-28\", \"2020-4-29\", \"2020-4-30\", \"2020-5-01\", \"2020-5-02\", \"2020-5-03\", \"2020-5-04\", \"2020-5-05\", \"2020-5-06\", \"2020-5-07\", \"2020-5-08\", \"2020-5-09\", \"2020-5-10\", \"2020-5-11\", \"2020-5-12\", \"2020-5-13\", \"2020-5-14\", \"2020-5-15\", \"2020-5-16\", \"2020-5-17\", \"2020-5-18\", \"2020-5-19\", \"2020-5-20\", \"2020-5-21\", \"2020-5-22\", \"2020-5-23\", \"2020-5-24\", \"2020-5-25\", \"2020-5-26\", \"2020-5-27\", \"2020-5-28\", \"2020-5-29\", \"2020-5-30\", \"2020-5-31\", \"2020-6-01\", \"2020-6-02\", \"2020-6-03\", \"2020-6-04\", \"2020-6-05\", \"2020-6-06\", \"2020-6-07\", \"2020-6-08\", \"2020-6-09\", \"2020-6-10\", \"2020-6-11\", \"2020-6-12\", \"2020-6-13\", \"2020-6-14\", \"2020-6-15\", \"2020-6-16\", \"2020-6-17\", \"2020-6-18\", \"2020-6-19\", \"2020-6-20\", \"2020-6-21\", \"2020-6-22\", \"2020-6-23\", \"2020-6-24\", \"2020-6-25\", \"2020-6-26\", \"2020-6-27\", \"2020-6-28\", \"2020-6-29\", \"2020-6-30\", \"2020-7-01\", \"2020-7-02\", \"2020-7-03\", \"2020-7-04\", \"2020-7-05\", \"2020-7-06\", \"2020-7-07\", \"2020-7-08\", \"2020-7-09\", \"2020-7-10\", \"2020-7-11\", \"2020-7-12\", \"2020-7-13\", \"2020-7-14\", \"2020-7-15\", \"2020-7-16\", \"2020-7-17\", \"2020-7-18\", \"2020-7-19\", \"2020-7-20\", \"2020-7-21\", \"2020-7-22\", \"2020-7-23\", \"2020-7-24\", \"2020-7-25\", \"2020-7-26\", \"2020-7-27\", \"2020-7-28\", \"2020-7-29\", \"2020-7-30\", \"2020-7-31\", \"2020-8-01\", \"2020-8-02\", \"2020-8-03\", \"2020-8-04\", \"2020-8-05\", \"2020-8-06\", \"2020-8-07\", \"2020-8-08\", \"2020-8-09\", \"2020-8-10\", \"2020-8-11\", \"2020-8-12\", \"2020-8-13\", \"2020-8-14\", \"2020-8-15\", \"2020-8-16\", \"2020-8-17\", \"2020-8-18\", \"2020-8-19\", \"2020-8-20\", \"2020-8-21\", \"2020-8-22\", \"2020-8-23\", \"2020-8-24\", \"2020-8-25\", \"2020-8-26\", \"2020-8-27\", \"2020-8-28\", \"2020-8-29\", \"2020-8-30\", \"2020-8-31\", \"2020-9-01\", \"2020-9-02\", \"2020-9-03\", \"2020-9-04\", \"2020-9-05\", \"2020-9-06\", \"2020-9-07\", \"2020-9-08\", \"2020-9-09\", \"2020-9-10\", \"2020-9-11\", \"2020-9-12\", \"2020-9-13\", \"2020-9-14\", \"2020-9-15\", \"2020-9-16\", \"2020-9-17\", \"2020-9-18\", \"2020-9-19\", \"2020-9-20\", \"2020-9-21\", \"2020-9-22\", \"2020-9-23\", \"2020-9-24\", \"2020-9-25\", \"2020-9-26\", \"2020-9-27\", \"2020-9-28\", \"2020-9-29\", \"2020-9-30\", \"2020-10-01\", \"2020-10-02\", \"2020-10-03\", \"2020-10-04\", \"2020-10-05\", \"2020-10-06\", \"2020-10-07\", \"2020-10-08\", \"2020-10-09\", \"2020-10-10\", \"2020-10-11\", \"2020-10-12\", \"2020-10-13\", \"2020-10-14\", \"2020-10-15\", \"2020-10-16\", \"2020-10-17\", \"2020-10-18\", \"2020-10-19\", \"2020-10-20\", \"2020-10-21\", \"2020-10-22\", \"2020-10-23\", \"2020-10-24\", \"2020-10-25\", \"2020-10-26\", \"2020-10-27\", \"2020-10-28\", \"2020-10-29\", \"2020-10-30\", \"2020-10-31\", \"2020-11-01\", \"2020-11-02\", \"2020-11-03\", \"2020-11-04\", \"2020-11-05\", \"2020-11-06\", \"2020-11-07\", \"2020-11-08\", \"2020-11-09\", \"2020-11-10\", \"2020-11-11\", \"2020-11-12\", \"2020-11-13\", \"2020-11-14\", \"2020-11-15\", \"2020-11-16\", \"2020-11-17\", \"2020-11-18\", \"2020-11-19\", \"2020-11-20\", \"2020-11-21\", \"2020-11-22\", \"2020-11-23\", \"2020-11-24\", \"2020-11-25\", \"2020-11-26\", \"2020-11-27\", \"2020-11-28\", \"2020-11-29\", \"2020-11-30\", \"2020-12-01\", \"2020-12-02\", \"2020-12-03\", \"2020-12-04\", \"2020-12-05\", \"2020-12-06\", \"2020-12-07\", \"2020-12-08\", \"2020-12-09\", \"2020-12-10\", \"2020-12-11\", \"2020-12-12\", \"2020-12-13\", \"2020-12-14\", \"2020-12-15\", \"2020-12-16\", \"2020-12-17\", \"2020-12-18\", \"2020-12-19\", \"2020-12-20\", \"2020-12-21\", \"2020-12-22\", \"2020-12-23\", \"2020-12-24\", \"2020-12-25\", \"2020-12-26\", \"2020-12-27\", \"2020-12-28\", \"2020-12-29\", \"2020-12-30\", \"2020-12-31\", \"2021-1-01\", \"2021-1-02\", \"2021-1-03\", \"2021-1-04\", \"2021-1-05\", \"2021-1-06\", \"2021-1-07\", \"2021-1-08\", \"2021-1-09\", \"2021-1-10\", \"2021-1-11\", \"2021-1-12\", \"2021-1-13\", \"2021-1-14\", \"2021-1-15\", \"2021-1-16\", \"2021-1-17\", \"2021-1-18\", \"2021-1-19\", \"2021-1-20\", \"2021-1-21\", \"2021-1-22\", \"2021-1-23\", \"2021-1-24\", \"2021-1-25\", \"2021-1-26\", \"2021-1-27\", \"2021-1-28\", \"2021-1-29\", \"2021-1-30\", \"2021-1-31\", \"2021-2-01\", \"2021-2-02\", \"2021-2-03\", \"2021-2-04\", \"2021-2-05\", \"2021-2-06\", \"2021-2-07\", \"2021-2-08\", \"2021-2-09\", \"2021-2-10\", \"2021-2-11\", \"2021-2-12\", \"2021-2-13\", \"2021-2-14\", \"2021-2-15\", \"2021-2-16\", \"2021-2-17\", \"2021-2-18\", \"2021-2-19\", \"2021-2-20\", \"2021-2-21\", \"2021-2-22\", \"2021-2-23\", \"2021-2-24\", \"2021-2-25\", \"2021-2-26\", \"2021-2-27\", \"2021-2-28\", \"2021-3-01\", \"2021-3-02\", \"2021-3-03\", \"2021-3-04\", \"2021-3-05\", \"2021-3-06\", \"2021-3-07\", \"2021-3-08\", \"2021-3-09\", \"2021-3-10\", \"2021-3-11\", \"2021-3-12\", \"2021-3-13\", \"2021-3-14\", \"2021-3-15\", \"2021-3-16\", \"2021-3-17\", \"2021-3-18\", \"2021-3-19\", \"2021-3-20\", \"2021-3-21\", \"2021-3-22\", \"2021-3-23\", \"2021-3-24\", \"2021-3-25\", \"2021-3-26\", \"2021-3-27\", \"2021-3-28\", \"2021-3-29\", \"2021-3-30\", \"2021-3-31\", \"2021-4-01\", \"2021-4-02\", \"2021-4-03\", \"2021-4-04\", \"2021-4-05\", \"2021-4-06\", \"2021-4-07\", \"2021-4-08\", \"2021-4-09\", \"2021-4-10\", \"2021-4-11\", \"2021-4-12\", \"2021-4-13\", \"2021-4-14\", \"2021-4-15\", \"2021-4-16\", \"2021-4-17\", \"2021-4-18\", \"2021-4-19\", \"2021-4-20\", \"2021-4-21\", \"2021-4-22\", \"2021-4-23\", \"2021-4-24\"], \"xaxis\": \"x\", \"y\": [null, null, null, null, null, null, null, null, null, null, null, null, null, null, null, null, null, 0.0, 0.0, 0.0, 0.0, 0.0, 0.0, 0.0, 0.0, 1.0, 0.0, 3.0, 1.0, 0.0, 0.0, 2.0, 12.0, 6.0, 7.0, 6.0, 10.0, 1.0, 6.0, 3.0, 20.0, 9.0, 15.0, 12.0, 8.0, 14.0, 21.0, 13.0, 11.0, 10.0, 7.0, 11.0, 12.0, 19.0, 40.0, 26.0, 21.0, 46.0, 26.0, 60.0, 10.0, 27.0, 24.0, 15.0, 47.0, 8.0, 26.0, 19.0, 12.0, 42.0, 31.0, 23.0, 22.0, 8.0, 11.0, 8.0, 8.0, 31.0, 14.0, 19.0, 8.0, 23.0, 35.0, 13.0, 16.0, 14.0, 18.0, 16.0, 21.0, 15.0, 33.0, 13.0, 59.0, 43.0, 30.0, 21.0, 36.0, 48.0, 25.0, 21.0, 19.0, 27.0, 55.0, 23.0, 24.0, 53.0, 40.0, 28.0, 22.0, 35.0, 23.0, 49.0, 31.0, 50.0, 32.0, 40.0, 36.0, 41.0, 48.0, 43.0, 43.0, 64.0, 33.0, 45.0, 63.0, 34.0, 56.0, 36.0, 35.0, 35.0, 38.0, 47.0, 63.0, 37.0, 34.0, 51.0, 71.0, 58.0, 53.0, 49.0, 53.0, 82.0, 70.0, 68.0, 50.0, 58.0, 52.0, 66.0, 71.0, 50.0, 54.0, 87.0, 76.0, 84.0, 59.0, 127.0, 96.0, 81.0, 139.0, 117.0, 89.0, 49.0, 67.0, 57.0, 63.0, 74.0, 83.0, 73.0, 62.0, 43.0, 66.0, 86.0, 64.0, 69.0, 72.0, 65.0, 65.0, 42.0, 59.0, 79.0, 65.0, 53.0, 50.0, 79.0, 57.0, 70.0, 69.0, 72.0, 82.0, 94.0, 86.0, 79.0, 99.0, 86.0, 120.0, 105.0, 92.0, 82.0, 74.0, 88.0, 111.0, 134.0, 82.0, 108.0, 85.0, 105.0, 100.0, 106.0, 120.0, 88.0, 106.0, 73.0, 118.0, 124.0, 135.0, 122.0, 114.0, 112.0, 105.0, 124.0, 160.0, 140.0, 128.0, 113.0, 90.0, 78.0, 87.0, 128.0, 139.0, 116.0, 116.0, 83.0, 96.0, 102.0, 121.0, 98.0, 108.0, 97.0, 88.0, 79.0, 91.0, 92.0, 129.0, 112.0, 79.0, 84.0, 80.0, 106.0, 117.0, 123.0, 102.0, 118.0, 128.0, 94.0, 112.0, 101.0, 100.0, 89.0, 81.0, 87.0, 74.0, 101.0, 102.0, 113.0, 89.0, 94.0, 98.0, 74.0, 75.0, 72.0, 75.0, 97.0, 104.0, 111.0, 63.0, 85.0, 97.0, 110.0, 97.0, 78.0, 96.0, 110.0, 118.0, 109.0, 114.0, 127.0, 169.0, 125.0, 169.0, 130.0, 136.0, 118.0, 156.0, 124.0, 110.0, 151.0, 127.0, 133.0, 171.0, 165.0, 175.0, 142.0, 166.0, 137.0, 155.0, 137.0, 142.0, 124.0, 145.0, 221.0, 205.0, 172.0, 151.0, 181.0, 258.0, 147.0, 243.0, 215.0, 251.0, 241.0, 194.0, 191.0, 226.0, 179.0, 177.0, 198.0, 187.0, 224.0, 233.0, 194.0, 182.0, 214.0, 302.0, 306.0, 295.0, 238.0, 283.0, 220.0, 295.0, 308.0, 267.0, 346.0, 250.0, 211.0, 171.0, 297.0, 336.0, 387.0, 476.0, 187.0, 210.0, 270.0, 279.0, 304.0, 189.0, 231.0, 201.0, 191.0, 163.0, 207.0, 213.0, 191.0, 214.0, 275.0, 280.0, 247.0, 184.0, 229.0, 192.0, 181.0, 183.0, 164.0, 173.0, 202.0, 323.0, 240.0, 264.0, 268.0, 195.0, 185.0, 159.0, 193.0, 203.0, 176.0, 129.0, 128.0, 112.0, 281.0, 210.0, 175.0, 117.0, 180.0, 100.0, 97.0, 147.0, 180.0, 162.0, 227.0, 197.0, 108.0, 103.0, 161.0, 154.0, 118.0, 98.0, 85.0, 198.0, 85.0, 132.0, 173.0, 104.0, 196.0, 97.0, 91.0, 427.0, 146.0, 162.0, 87.0, 163.0, 121.0, 95.0, 87.0, 126.0, 126.0, 124.0, 167.0, 123.0, 132.0, 96.0, 143.0, 210.0, 230.0, 165.0, 174.0, 154.0], \"yaxis\": \"y\"}, {\"name\": \"People vaccinated\", \"type\": \"scatter\", \"x\": [\"2021-01-12\", \"2021-01-13\", \"2021-01-14\", \"2021-01-15\", \"2021-01-16\", \"2021-01-17\", \"2021-01-18\", \"2021-01-19\", \"2021-01-20\", \"2021-01-21\", \"2021-01-22\", \"2021-01-23\", \"2021-01-24\", \"2021-01-25\", \"2021-01-26\", \"2021-01-27\", \"2021-01-28\", \"2021-01-29\", \"2021-01-30\", \"2021-01-31\", \"2021-02-01\", \"2021-02-02\", \"2021-02-03\", \"2021-02-04\", \"2021-02-05\", \"2021-02-06\", \"2021-02-07\", \"2021-02-08\", \"2021-02-09\", \"2021-02-10\", \"2021-02-11\", \"2021-02-12\", \"2021-02-13\", \"2021-02-14\", \"2021-02-15\", \"2021-02-16\", \"2021-02-17\", \"2021-02-18\", \"2021-02-19\", \"2021-02-20\", \"2021-02-21\", \"2021-02-22\", \"2021-02-23\", \"2021-02-24\", \"2021-02-25\", \"2021-02-26\", \"2021-02-27\", \"2021-02-28\", \"2021-03-01\", \"2021-03-02\", \"2021-03-03\", \"2021-03-04\", \"2021-03-05\", \"2021-03-06\", \"2021-03-07\", \"2021-03-08\", \"2021-03-09\", \"2021-03-10\", \"2021-03-11\", \"2021-03-12\", \"2021-03-13\", \"2021-03-14\", \"2021-03-15\", \"2021-03-16\", \"2021-03-17\", \"2021-03-18\", \"2021-03-19\", \"2021-03-20\", \"2021-03-21\", \"2021-03-22\", \"2021-03-23\", \"2021-03-24\", \"2021-03-25\", \"2021-03-26\", \"2021-03-27\", \"2021-03-28\", \"2021-03-29\", \"2021-03-30\", \"2021-03-31\", \"2021-04-01\", \"2021-04-02\", \"2021-04-03\", \"2021-04-04\", \"2021-04-05\", \"2021-04-06\", \"2021-04-07\", \"2021-04-08\", \"2021-04-09\", \"2021-04-10\", \"2021-04-11\", \"2021-04-12\", \"2021-04-13\", \"2021-04-14\", \"2021-04-15\", \"2021-04-16\", \"2021-04-17\", \"2021-04-18\", \"2021-04-19\", \"2021-04-20\", \"2021-04-21\", \"2021-04-22\", \"2021-04-23\"], \"xaxis\": \"x\", \"y\": [0.0, null, null, null, null, null, null, null, null, null, 132000.0, null, 149242.0, 161959.0, 245685.0, 308003.0, 368318.0, 405012.0, 482145.0, 493133.0, 539532.0, 596260.0, 646026.0, 700266.0, 744884.0, 777096.0, 784318.0, 814585.0, 845407.0, 969546.0, 1017186.0, null, 1060326.0, 1068747.0, 1096095.0, 1120963.0, 1149939.0, 1164144.0, null, 1224091.0, null, null, 1269905.0, 1363138.0, 1461920.0, 1583581.0, 1616165.0, 1691724.0, null, 1968057.0, 2286123.0, null, 2413615.0, null, 2888757.0, null, null, 3574698.0, 3696059.0, 3769174.0, 3985596.0, 4020124.0, 4166862.0, 4468951.0, 4705248.0, 4838752.0, 5124948.0, 5533379.0, 5567280.0, 5732210.0, 6389837.0, null, 6730456.0, 7179014.0, 7190663.0, 7435851.0, null, null, 8010163.0, 8371577.0, 8424729.0, null, 8634321.0, null, 9021106.0, null, 9374089.0, null, 10002901.0, null, 10280073.0, 10377734.0, 10457337.0, 10781266.0, null, 10801563.0, null, 10972343.0, 11116253.0, 11302294.0, 11432711.0, 11623251.0], \"yaxis\": \"y2\"}],                        {\"autosize\": false, \"height\": 500, \"template\": {\"data\": {\"bar\": [{\"error_x\": {\"color\": \"#2a3f5f\"}, \"error_y\": {\"color\": \"#2a3f5f\"}, \"marker\": {\"line\": {\"color\": \"#E5ECF6\", \"width\": 0.5}}, \"type\": \"bar\"}], \"barpolar\": [{\"marker\": {\"line\": {\"color\": \"#E5ECF6\", \"width\": 0.5}}, \"type\": \"barpolar\"}], \"carpet\": [{\"aaxis\": {\"endlinecolor\": \"#2a3f5f\", \"gridcolor\": \"white\", \"linecolor\": \"white\", \"minorgridcolor\": \"white\", \"startlinecolor\": \"#2a3f5f\"}, \"baxis\": {\"endlinecolor\": \"#2a3f5f\", \"gridcolor\": \"white\", \"linecolor\": \"white\", \"minorgridcolor\": \"white\", \"startlinecolor\": \"#2a3f5f\"}, \"type\": \"carpet\"}], \"choropleth\": [{\"colorbar\": {\"outlinewidth\": 0, \"ticks\": \"\"}, \"type\": \"choropleth\"}], \"contour\": [{\"colorbar\": {\"outlinewidth\": 0, \"ticks\": \"\"}, \"colorscale\": [[0.0, \"#0d0887\"], [0.1111111111111111, \"#46039f\"], [0.2222222222222222, \"#7201a8\"], [0.3333333333333333, \"#9c179e\"], [0.4444444444444444, \"#bd3786\"], [0.5555555555555556, \"#d8576b\"], [0.6666666666666666, \"#ed7953\"], [0.7777777777777778, \"#fb9f3a\"], [0.8888888888888888, \"#fdca26\"], [1.0, \"#f0f921\"]], \"type\": \"contour\"}], \"contourcarpet\": [{\"colorbar\": {\"outlinewidth\": 0, \"ticks\": \"\"}, \"type\": \"contourcarpet\"}], \"heatmap\": [{\"colorbar\": {\"outlinewidth\": 0, \"ticks\": \"\"}, \"colorscale\": [[0.0, \"#0d0887\"], [0.1111111111111111, \"#46039f\"], [0.2222222222222222, \"#7201a8\"], [0.3333333333333333, \"#9c179e\"], [0.4444444444444444, \"#bd3786\"], [0.5555555555555556, \"#d8576b\"], [0.6666666666666666, \"#ed7953\"], [0.7777777777777778, \"#fb9f3a\"], [0.8888888888888888, \"#fdca26\"], [1.0, \"#f0f921\"]], \"type\": \"heatmap\"}], \"heatmapgl\": [{\"colorbar\": {\"outlinewidth\": 0, \"ticks\": \"\"}, \"colorscale\": [[0.0, \"#0d0887\"], [0.1111111111111111, \"#46039f\"], [0.2222222222222222, \"#7201a8\"], [0.3333333333333333, \"#9c179e\"], [0.4444444444444444, \"#bd3786\"], [0.5555555555555556, \"#d8576b\"], [0.6666666666666666, \"#ed7953\"], [0.7777777777777778, \"#fb9f3a\"], [0.8888888888888888, \"#fdca26\"], [1.0, \"#f0f921\"]], \"type\": \"heatmapgl\"}], \"histogram\": [{\"marker\": {\"colorbar\": {\"outlinewidth\": 0, \"ticks\": \"\"}}, \"type\": \"histogram\"}], \"histogram2d\": [{\"colorbar\": {\"outlinewidth\": 0, \"ticks\": \"\"}, \"colorscale\": [[0.0, \"#0d0887\"], [0.1111111111111111, \"#46039f\"], [0.2222222222222222, \"#7201a8\"], [0.3333333333333333, \"#9c179e\"], [0.4444444444444444, \"#bd3786\"], [0.5555555555555556, \"#d8576b\"], [0.6666666666666666, \"#ed7953\"], [0.7777777777777778, \"#fb9f3a\"], [0.8888888888888888, \"#fdca26\"], [1.0, \"#f0f921\"]], \"type\": \"histogram2d\"}], \"histogram2dcontour\": [{\"colorbar\": {\"outlinewidth\": 0, \"ticks\": \"\"}, \"colorscale\": [[0.0, \"#0d0887\"], [0.1111111111111111, \"#46039f\"], [0.2222222222222222, \"#7201a8\"], [0.3333333333333333, \"#9c179e\"], [0.4444444444444444, \"#bd3786\"], [0.5555555555555556, \"#d8576b\"], [0.6666666666666666, \"#ed7953\"], [0.7777777777777778, \"#fb9f3a\"], [0.8888888888888888, \"#fdca26\"], [1.0, \"#f0f921\"]], \"type\": \"histogram2dcontour\"}], \"mesh3d\": [{\"colorbar\": {\"outlinewidth\": 0, \"ticks\": \"\"}, \"type\": \"mesh3d\"}], \"parcoords\": [{\"line\": {\"colorbar\": {\"outlinewidth\": 0, \"ticks\": \"\"}}, \"type\": \"parcoords\"}], \"pie\": [{\"automargin\": true, \"type\": \"pie\"}], \"scatter\": [{\"marker\": {\"colorbar\": {\"outlinewidth\": 0, \"ticks\": \"\"}}, \"type\": \"scatter\"}], \"scatter3d\": [{\"line\": {\"colorbar\": {\"outlinewidth\": 0, \"ticks\": \"\"}}, \"marker\": {\"colorbar\": {\"outlinewidth\": 0, \"ticks\": \"\"}}, \"type\": \"scatter3d\"}], \"scattercarpet\": [{\"marker\": {\"colorbar\": {\"outlinewidth\": 0, \"ticks\": \"\"}}, \"type\": \"scattercarpet\"}], \"scattergeo\": [{\"marker\": {\"colorbar\": {\"outlinewidth\": 0, \"ticks\": \"\"}}, \"type\": \"scattergeo\"}], \"scattergl\": [{\"marker\": {\"colorbar\": {\"outlinewidth\": 0, \"ticks\": \"\"}}, \"type\": \"scattergl\"}], \"scattermapbox\": [{\"marker\": {\"colorbar\": {\"outlinewidth\": 0, \"ticks\": \"\"}}, \"type\": \"scattermapbox\"}], \"scatterpolar\": [{\"marker\": {\"colorbar\": {\"outlinewidth\": 0, \"ticks\": \"\"}}, \"type\": \"scatterpolar\"}], \"scatterpolargl\": [{\"marker\": {\"colorbar\": {\"outlinewidth\": 0, \"ticks\": \"\"}}, \"type\": \"scatterpolargl\"}], \"scatterternary\": [{\"marker\": {\"colorbar\": {\"outlinewidth\": 0, \"ticks\": \"\"}}, \"type\": \"scatterternary\"}], \"surface\": [{\"colorbar\": {\"outlinewidth\": 0, \"ticks\": \"\"}, \"colorscale\": [[0.0, \"#0d0887\"], [0.1111111111111111, \"#46039f\"], [0.2222222222222222, \"#7201a8\"], [0.3333333333333333, \"#9c179e\"], [0.4444444444444444, \"#bd3786\"], [0.5555555555555556, \"#d8576b\"], [0.6666666666666666, \"#ed7953\"], [0.7777777777777778, \"#fb9f3a\"], [0.8888888888888888, \"#fdca26\"], [1.0, \"#f0f921\"]], \"type\": \"surface\"}], \"table\": [{\"cells\": {\"fill\": {\"color\": \"#EBF0F8\"}, \"line\": {\"color\": \"white\"}}, \"header\": {\"fill\": {\"color\": \"#C8D4E3\"}, \"line\": {\"color\": \"white\"}}, \"type\": \"table\"}]}, \"layout\": {\"annotationdefaults\": {\"arrowcolor\": \"#2a3f5f\", \"arrowhead\": 0, \"arrowwidth\": 1}, \"autotypenumbers\": \"strict\", \"coloraxis\": {\"colorbar\": {\"outlinewidth\": 0, \"ticks\": \"\"}}, \"colorscale\": {\"diverging\": [[0, \"#8e0152\"], [0.1, \"#c51b7d\"], [0.2, \"#de77ae\"], [0.3, \"#f1b6da\"], [0.4, \"#fde0ef\"], [0.5, \"#f7f7f7\"], [0.6, \"#e6f5d0\"], [0.7, \"#b8e186\"], [0.8, \"#7fbc41\"], [0.9, \"#4d9221\"], [1, \"#276419\"]], \"sequential\": [[0.0, \"#0d0887\"], [0.1111111111111111, \"#46039f\"], [0.2222222222222222, \"#7201a8\"], [0.3333333333333333, \"#9c179e\"], [0.4444444444444444, \"#bd3786\"], [0.5555555555555556, \"#d8576b\"], [0.6666666666666666, \"#ed7953\"], [0.7777777777777778, \"#fb9f3a\"], [0.8888888888888888, \"#fdca26\"], [1.0, \"#f0f921\"]], \"sequentialminus\": [[0.0, \"#0d0887\"], [0.1111111111111111, \"#46039f\"], [0.2222222222222222, \"#7201a8\"], [0.3333333333333333, \"#9c179e\"], [0.4444444444444444, \"#bd3786\"], [0.5555555555555556, \"#d8576b\"], [0.6666666666666666, \"#ed7953\"], [0.7777777777777778, \"#fb9f3a\"], [0.8888888888888888, \"#fdca26\"], [1.0, \"#f0f921\"]]}, \"colorway\": [\"#636efa\", \"#EF553B\", \"#00cc96\", \"#ab63fa\", \"#FFA15A\", \"#19d3f3\", \"#FF6692\", \"#B6E880\", \"#FF97FF\", \"#FECB52\"], \"font\": {\"color\": \"#2a3f5f\"}, \"geo\": {\"bgcolor\": \"white\", \"lakecolor\": \"white\", \"landcolor\": \"#E5ECF6\", \"showlakes\": true, \"showland\": true, \"subunitcolor\": \"white\"}, \"hoverlabel\": {\"align\": \"left\"}, \"hovermode\": \"closest\", \"mapbox\": {\"style\": \"light\"}, \"paper_bgcolor\": \"white\", \"plot_bgcolor\": \"#E5ECF6\", \"polar\": {\"angularaxis\": {\"gridcolor\": \"white\", \"linecolor\": \"white\", \"ticks\": \"\"}, \"bgcolor\": \"#E5ECF6\", \"radialaxis\": {\"gridcolor\": \"white\", \"linecolor\": \"white\", \"ticks\": \"\"}}, \"scene\": {\"xaxis\": {\"backgroundcolor\": \"#E5ECF6\", \"gridcolor\": \"white\", \"gridwidth\": 2, \"linecolor\": \"white\", \"showbackground\": true, \"ticks\": \"\", \"zerolinecolor\": \"white\"}, \"yaxis\": {\"backgroundcolor\": \"#E5ECF6\", \"gridcolor\": \"white\", \"gridwidth\": 2, \"linecolor\": \"white\", \"showbackground\": true, \"ticks\": \"\", \"zerolinecolor\": \"white\"}, \"zaxis\": {\"backgroundcolor\": \"#E5ECF6\", \"gridcolor\": \"white\", \"gridwidth\": 2, \"linecolor\": \"white\", \"showbackground\": true, \"ticks\": \"\", \"zerolinecolor\": \"white\"}}, \"shapedefaults\": {\"line\": {\"color\": \"#2a3f5f\"}}, \"ternary\": {\"aaxis\": {\"gridcolor\": \"white\", \"linecolor\": \"white\", \"ticks\": \"\"}, \"baxis\": {\"gridcolor\": \"white\", \"linecolor\": \"white\", \"ticks\": \"\"}, \"bgcolor\": \"#E5ECF6\", \"caxis\": {\"gridcolor\": \"white\", \"linecolor\": \"white\", \"ticks\": \"\"}}, \"title\": {\"x\": 0.05}, \"xaxis\": {\"automargin\": true, \"gridcolor\": \"white\", \"linecolor\": \"white\", \"ticks\": \"\", \"title\": {\"standoff\": 15}, \"zerolinecolor\": \"white\", \"zerolinewidth\": 2}, \"yaxis\": {\"automargin\": true, \"gridcolor\": \"white\", \"linecolor\": \"white\", \"ticks\": \"\", \"title\": {\"standoff\": 15}, \"zerolinecolor\": \"white\", \"zerolinewidth\": 2}}}, \"title\": {\"text\": \"Indonesia deaths and vaccination\"}, \"width\": 700, \"xaxis\": {\"anchor\": \"y\", \"domain\": [0.0, 0.94], \"title\": {\"text\": \"date\"}}, \"yaxis\": {\"anchor\": \"x\", \"domain\": [0.0, 1.0], \"title\": {\"text\": \"No of cases of covid\"}}, \"yaxis2\": {\"anchor\": \"x\", \"overlaying\": \"y\", \"side\": \"right\", \"title\": {\"text\": \"No of people with at least one dose\"}}},                        {\"responsive\": true}                    ).then(function(){\n",
       "                            \n",
       "var gd = document.getElementById('4c1d8cad-e399-4656-980c-f435021c5852');\n",
       "var x = new MutationObserver(function (mutations, observer) {{\n",
       "        var display = window.getComputedStyle(gd).display;\n",
       "        if (!display || display === 'none') {{\n",
       "            console.log([gd, 'removed!']);\n",
       "            Plotly.purge(gd);\n",
       "            observer.disconnect();\n",
       "        }}\n",
       "}});\n",
       "\n",
       "// Listen for the removal of the full notebook cells\n",
       "var notebookContainer = gd.closest('#notebook-container');\n",
       "if (notebookContainer) {{\n",
       "    x.observe(notebookContainer, {childList: true});\n",
       "}}\n",
       "\n",
       "// Listen for the clearing of the current output cell\n",
       "var outputEl = gd.closest('.output');\n",
       "if (outputEl) {{\n",
       "    x.observe(outputEl, {childList: true});\n",
       "}}\n",
       "\n",
       "                        })                };                });            </script>        </div>"
      ]
     },
     "metadata": {},
     "output_type": "display_data"
    }
   ],
   "source": [
    "fig = make_subplots(specs=[[{\"secondary_y\": True}]])\n",
    "\n",
    "fig.add_trace(\n",
    "    go.Scatter(y=covid_daily_IDN['daily_new_deaths'], x=covid_daily_IDN['date'], name=\"No of deaths daily (PAK)\"),\n",
    "    secondary_y=False,\n",
    ")\n",
    "\n",
    "fig.add_trace(\n",
    "    go.Scatter(x= dfs[3]['date'],y = dfs[3]['people_vaccinated'], name = 'People vaccinated'),\n",
    "    secondary_y=True,\n",
    ")\n",
    "\n",
    "fig.update_layout(\n",
    "    autosize=False,\n",
    "    width=700,\n",
    "    height=500,\n",
    "    title_text=\"Indonesia deaths and vaccination\"\n",
    ")\n",
    "\n",
    "fig.update_xaxes(title_text=\"date\")\n",
    "\n",
    "fig.update_yaxes(title_text=\"No of cases of covid\", secondary_y=False)\n",
    "fig.update_yaxes(title_text=\"No of people with at least one dose\", secondary_y=True)\n",
    "\n",
    "fig.show()"
   ]
  },
  {
   "cell_type": "markdown",
   "id": "painful-group",
   "metadata": {
    "papermill": {
     "duration": 0.042849,
     "end_time": "2021-04-26T13:37:20.625046",
     "exception": false,
     "start_time": "2021-04-26T13:37:20.582197",
     "status": "completed"
    },
    "tags": []
   },
   "source": [
    "# China cases, deaths and vaccinated people "
   ]
  },
  {
   "cell_type": "markdown",
   "id": "diagnostic-meeting",
   "metadata": {
    "papermill": {
     "duration": 0.042038,
     "end_time": "2021-04-26T13:37:20.709571",
     "exception": false,
     "start_time": "2021-04-26T13:37:20.667533",
     "status": "completed"
    },
    "tags": []
   },
   "source": [
    "As China does not show the number of vaccinated people we will use the number of vaccines applied.In the other countries we used the number of vaccinated people with at leaast one doses of the vaccine aplied."
   ]
  },
  {
   "cell_type": "code",
   "execution_count": 23,
   "id": "extraordinary-trustee",
   "metadata": {
    "_kg_hide-input": true,
    "execution": {
     "iopub.execute_input": "2021-04-26T13:37:20.819663Z",
     "iopub.status.busy": "2021-04-26T13:37:20.814161Z",
     "iopub.status.idle": "2021-04-26T13:37:20.844409Z",
     "shell.execute_reply": "2021-04-26T13:37:20.843787Z"
    },
    "papermill": {
     "duration": 0.09222,
     "end_time": "2021-04-26T13:37:20.844543",
     "exception": false,
     "start_time": "2021-04-26T13:37:20.752323",
     "status": "completed"
    },
    "tags": []
   },
   "outputs": [
    {
     "data": {
      "text/html": [
       "<div>                            <div id=\"6b92e9a6-06dc-40e1-86bc-3c78685a8593\" class=\"plotly-graph-div\" style=\"height:500px; width:700px;\"></div>            <script type=\"text/javascript\">                require([\"plotly\"], function(Plotly) {                    window.PLOTLYENV=window.PLOTLYENV || {};                                    if (document.getElementById(\"6b92e9a6-06dc-40e1-86bc-3c78685a8593\")) {                    Plotly.newPlot(                        \"6b92e9a6-06dc-40e1-86bc-3c78685a8593\",                        [{\"name\": \"No of cases daily (CHN)\", \"type\": \"scatter\", \"x\": [\"2020-1-22\", \"2020-1-23\", \"2020-1-24\", \"2020-1-25\", \"2020-1-26\", \"2020-1-27\", \"2020-1-28\", \"2020-1-29\", \"2020-1-30\", \"2020-1-31\", \"2020-2-01\", \"2020-2-02\", \"2020-2-03\", \"2020-2-04\", \"2020-2-05\", \"2020-2-06\", \"2020-2-07\", \"2020-2-08\", \"2020-2-09\", \"2020-2-10\", \"2020-2-11\", \"2020-2-12\", \"2020-2-13\", \"2020-2-14\", \"2020-2-15\", \"2020-2-16\", \"2020-2-17\", \"2020-2-18\", \"2020-2-19\", \"2020-2-20\", \"2020-2-21\", \"2020-2-22\", \"2020-2-23\", \"2020-2-24\", \"2020-2-25\", \"2020-2-26\", \"2020-2-27\", \"2020-2-28\", \"2020-2-29\", \"2020-3-01\", \"2020-3-02\", \"2020-3-03\", \"2020-3-04\", \"2020-3-05\", \"2020-3-06\", \"2020-3-07\", \"2020-3-08\", \"2020-3-09\", \"2020-3-10\", \"2020-3-11\", \"2020-3-12\", \"2020-3-13\", \"2020-3-14\", \"2020-3-15\", \"2020-3-16\", \"2020-3-17\", \"2020-3-18\", \"2020-3-19\", \"2020-3-20\", \"2020-3-21\", \"2020-3-22\", \"2020-3-23\", \"2020-3-24\", \"2020-3-25\", \"2020-3-26\", \"2020-3-27\", \"2020-3-28\", \"2020-3-29\", \"2020-3-30\", \"2020-3-31\", \"2020-4-01\", \"2020-4-02\", \"2020-4-03\", \"2020-4-04\", \"2020-4-05\", \"2020-4-06\", \"2020-4-07\", \"2020-4-08\", \"2020-4-09\", \"2020-4-10\", \"2020-4-11\", \"2020-4-12\", \"2020-4-13\", \"2020-4-14\", \"2020-4-15\", \"2020-4-16\", \"2020-4-17\", \"2020-4-18\", \"2020-4-19\", \"2020-4-20\", \"2020-4-21\", \"2020-4-22\", \"2020-4-23\", \"2020-4-24\", \"2020-4-25\", \"2020-4-26\", \"2020-4-27\", \"2020-4-28\", \"2020-4-29\", \"2020-4-30\", \"2020-5-01\", \"2020-5-02\", \"2020-5-03\", \"2020-5-04\", \"2020-5-05\", \"2020-5-06\", \"2020-5-07\", \"2020-5-08\", \"2020-5-09\", \"2020-5-10\", \"2020-5-11\", \"2020-5-12\", \"2020-5-13\", \"2020-5-14\", \"2020-5-15\", \"2020-5-16\", \"2020-5-17\", \"2020-5-18\", \"2020-5-19\", \"2020-5-20\", \"2020-5-21\", \"2020-5-22\", \"2020-5-23\", \"2020-5-24\", \"2020-5-25\", \"2020-5-26\", \"2020-5-27\", \"2020-5-28\", \"2020-5-29\", \"2020-5-30\", \"2020-5-31\", \"2020-6-01\", \"2020-6-02\", \"2020-6-03\", \"2020-6-04\", \"2020-6-05\", \"2020-6-06\", \"2020-6-07\", \"2020-6-08\", \"2020-6-09\", \"2020-6-10\", \"2020-6-11\", \"2020-6-12\", \"2020-6-13\", \"2020-6-14\", \"2020-6-15\", \"2020-6-16\", \"2020-6-17\", \"2020-6-18\", \"2020-6-19\", \"2020-6-20\", \"2020-6-21\", \"2020-6-22\", \"2020-6-23\", \"2020-6-24\", \"2020-6-25\", \"2020-6-26\", \"2020-6-27\", \"2020-6-28\", \"2020-6-29\", \"2020-6-30\", \"2020-7-01\", \"2020-7-02\", \"2020-7-03\", \"2020-7-04\", \"2020-7-05\", \"2020-7-06\", \"2020-7-07\", \"2020-7-08\", \"2020-7-09\", \"2020-7-10\", \"2020-7-11\", \"2020-7-12\", \"2020-7-13\", \"2020-7-14\", \"2020-7-15\", \"2020-7-16\", \"2020-7-17\", \"2020-7-18\", \"2020-7-19\", \"2020-7-20\", \"2020-7-21\", \"2020-7-22\", \"2020-7-23\", \"2020-7-24\", \"2020-7-25\", \"2020-7-26\", \"2020-7-27\", \"2020-7-28\", \"2020-7-29\", \"2020-7-30\", \"2020-7-31\", \"2020-8-01\", \"2020-8-02\", \"2020-8-03\", \"2020-8-04\", \"2020-8-05\", \"2020-8-06\", \"2020-8-07\", \"2020-8-08\", \"2020-8-09\", \"2020-8-10\", \"2020-8-11\", \"2020-8-12\", \"2020-8-13\", \"2020-8-14\", \"2020-8-15\", \"2020-8-16\", \"2020-8-17\", \"2020-8-18\", \"2020-8-19\", \"2020-8-20\", \"2020-8-21\", \"2020-8-22\", \"2020-8-23\", \"2020-8-24\", \"2020-8-25\", \"2020-8-26\", \"2020-8-27\", \"2020-8-28\", \"2020-8-29\", \"2020-8-30\", \"2020-8-31\", \"2020-9-01\", \"2020-9-02\", \"2020-9-03\", \"2020-9-04\", \"2020-9-05\", \"2020-9-06\", \"2020-9-07\", \"2020-9-08\", \"2020-9-09\", \"2020-9-10\", \"2020-9-11\", \"2020-9-12\", \"2020-9-13\", \"2020-9-14\", \"2020-9-15\", \"2020-9-16\", \"2020-9-17\", \"2020-9-18\", \"2020-9-19\", \"2020-9-20\", \"2020-9-21\", \"2020-9-22\", \"2020-9-23\", \"2020-9-24\", \"2020-9-25\", \"2020-9-26\", \"2020-9-27\", \"2020-9-28\", \"2020-9-29\", \"2020-9-30\", \"2020-10-01\", \"2020-10-02\", \"2020-10-03\", \"2020-10-04\", \"2020-10-05\", \"2020-10-06\", \"2020-10-07\", \"2020-10-08\", \"2020-10-09\", \"2020-10-10\", \"2020-10-11\", \"2020-10-12\", \"2020-10-13\", \"2020-10-14\", \"2020-10-15\", \"2020-10-16\", \"2020-10-17\", \"2020-10-18\", \"2020-10-19\", \"2020-10-20\", \"2020-10-21\", \"2020-10-22\", \"2020-10-23\", \"2020-10-24\", \"2020-10-25\", \"2020-10-26\", \"2020-10-27\", \"2020-10-28\", \"2020-10-29\", \"2020-10-30\", \"2020-10-31\", \"2020-11-01\", \"2020-11-02\", \"2020-11-03\", \"2020-11-04\", \"2020-11-05\", \"2020-11-06\", \"2020-11-07\", \"2020-11-08\", \"2020-11-09\", \"2020-11-10\", \"2020-11-11\", \"2020-11-12\", \"2020-11-13\", \"2020-11-14\", \"2020-11-15\", \"2020-11-16\", \"2020-11-17\", \"2020-11-18\", \"2020-11-19\", \"2020-11-20\", \"2020-11-21\", \"2020-11-22\", \"2020-11-23\", \"2020-11-24\", \"2020-11-25\", \"2020-11-26\", \"2020-11-27\", \"2020-11-28\", \"2020-11-29\", \"2020-11-30\", \"2020-12-01\", \"2020-12-02\", \"2020-12-03\", \"2020-12-04\", \"2020-12-05\", \"2020-12-06\", \"2020-12-07\", \"2020-12-08\", \"2020-12-09\", \"2020-12-10\", \"2020-12-11\", \"2020-12-12\", \"2020-12-13\", \"2020-12-14\", \"2020-12-15\", \"2020-12-16\", \"2020-12-17\", \"2020-12-18\", \"2020-12-19\", \"2020-12-20\", \"2020-12-21\", \"2020-12-22\", \"2020-12-23\", \"2020-12-24\", \"2020-12-25\", \"2020-12-26\", \"2020-12-27\", \"2020-12-28\", \"2020-12-29\", \"2020-12-30\", \"2020-12-31\", \"2021-1-01\", \"2021-1-02\", \"2021-1-03\", \"2021-1-04\", \"2021-1-05\", \"2021-1-06\", \"2021-1-07\", \"2021-1-08\", \"2021-1-09\", \"2021-1-10\", \"2021-1-11\", \"2021-1-12\", \"2021-1-13\", \"2021-1-14\", \"2021-1-15\", \"2021-1-16\", \"2021-1-17\", \"2021-1-18\", \"2021-1-19\", \"2021-1-20\", \"2021-1-21\", \"2021-1-22\", \"2021-1-23\", \"2021-1-24\", \"2021-1-25\", \"2021-1-26\", \"2021-1-27\", \"2021-1-28\", \"2021-1-29\", \"2021-1-30\", \"2021-1-31\", \"2021-2-01\", \"2021-2-02\", \"2021-2-03\", \"2021-2-04\", \"2021-2-05\", \"2021-2-06\", \"2021-2-07\", \"2021-2-08\", \"2021-2-09\", \"2021-2-10\", \"2021-2-11\", \"2021-2-12\", \"2021-2-13\", \"2021-2-14\", \"2021-2-15\", \"2021-2-16\", \"2021-2-17\", \"2021-2-18\", \"2021-2-19\", \"2021-2-20\", \"2021-2-21\", \"2021-2-22\", \"2021-2-23\", \"2021-2-24\", \"2021-2-25\", \"2021-2-26\", \"2021-2-27\", \"2021-2-28\", \"2021-3-01\", \"2021-3-02\", \"2021-3-03\", \"2021-3-04\", \"2021-3-05\", \"2021-3-06\", \"2021-3-07\", \"2021-3-08\", \"2021-3-09\", \"2021-3-10\", \"2021-3-11\", \"2021-3-12\", \"2021-3-13\", \"2021-3-14\", \"2021-3-15\", \"2021-3-16\", \"2021-3-17\", \"2021-3-18\", \"2021-3-19\", \"2021-3-20\", \"2021-3-21\", \"2021-3-22\", \"2021-3-23\", \"2021-3-24\", \"2021-3-25\", \"2021-3-26\", \"2021-3-27\", \"2021-3-28\", \"2021-3-29\", \"2021-3-30\", \"2021-3-31\", \"2021-4-01\", \"2021-4-02\", \"2021-4-03\", \"2021-4-04\", \"2021-4-05\", \"2021-4-06\", \"2021-4-07\", \"2021-4-08\", \"2021-4-09\", \"2021-4-10\", \"2021-4-11\", \"2021-4-12\", \"2021-4-13\", \"2021-4-14\", \"2021-4-15\", \"2021-4-16\", \"2021-4-17\", \"2021-4-18\", \"2021-4-19\", \"2021-4-20\", \"2021-4-21\", \"2021-4-22\", \"2021-4-23\", \"2021-4-24\"], \"xaxis\": \"x\", \"y\": [null, 259.0, 457.0, 688.0, 769.0, 1771.0, 1459.0, 1737.0, 1981.0, 2099.0, 2589.0, 2825.0, 3235.0, 3884.0, 3694.0, 3143.0, 3385.0, 2652.0, 2973.0, 2467.0, 2015.0, 14108.0, 5090.0, 2641.0, 2008.0, 2048.0, 1888.0, 1749.0, 391.0, 889.0, 823.0, 648.0, 214.0, 508.0, 406.0, 433.0, 327.0, 427.0, 573.0, 202.0, 125.0, 119.0, 139.0, 143.0, 99.0, 44.0, 40.0, 19.0, 24.0, 15.0, 20.0, 11.0, 20.0, 16.0, 21.0, 13.0, 34.0, 39.0, 41.0, 46.0, 39.0, 78.0, 47.0, 67.0, 55.0, 54.0, 45.0, 0.0, 79.0, 36.0, 35.0, 31.0, 19.0, 30.0, 39.0, 32.0, 62.0, 63.0, 42.0, 46.0, 99.0, 108.0, 89.0, 46.0, 46.0, 26.0, 325.0, 27.0, 16.0, 12.0, 11.0, 30.0, 10.0, 6.0, 12.0, 11.0, 3.0, 6.0, 22.0, 4.0, 12.0, 1.0, 2.0, 3.0, 1.0, 2.0, 2.0, 1.0, 1.0, 14.0, 17.0, 1.0, 7.0, 3.0, 4.0, 8.0, 6.0, 7.0, 6.0, 5.0, 2.0, 4.0, 0.0, 3.0, 11.0, 7.0, 1.0, 2.0, 0.0, 4.0, 2.0, 16.0, 4.0, 0.0, 1.0, 5.0, 3.0, 6.0, 4.0, 3.0, 3.0, 11.0, 7.0, 11.0, 57.0, 49.0, 40.0, 44.0, 28.0, 32.0, 27.0, 26.0, 18.0, 22.0, 12.0, 19.0, 13.0, 21.0, 17.0, 12.0, 19.0, 3.0, 3.0, 5.0, 3.0, 8.0, 4.0, 8.0, 7.0, 9.0, 4.0, 2.0, 7.0, 8.0, 3.0, 6.0, 1.0, 10.0, 22.0, 16.0, 22.0, 11.0, 14.0, 22.0, 21.0, 34.0, 46.0, 61.0, 68.0, 101.0, 105.0, 127.0, 44.0, 49.0, 43.0, 36.0, 27.0, 37.0, 37.0, 31.0, 23.0, 49.0, 44.0, 25.0, 19.0, 30.0, 22.0, 19.0, 22.0, 22.0, 17.0, 7.0, 22.0, 22.0, 12.0, 16.0, 14.0, 15.0, 8.0, 9.0, 9.0, 9.0, 17.0, 10.0, 8.0, 11.0, 25.0, 10.0, 10.0, 12.0, 10.0, 2.0, 7.0, 15.0, 6.0, 10.0, 10.0, 8.0, 12.0, 9.0, 32.0, 14.0, 10.0, 12.0, 6.0, 10.0, 7.0, 8.0, 15.0, 14.0, 21.0, 12.0, 19.0, 11.0, 10.0, 10.0, 16.0, 20.0, 12.0, 7.0, 11.0, 21.0, 15.0, 21.0, 21.0, 13.0, 20.0, 11.0, 24.0, 13.0, 13.0, 13.0, 19.0, 11.0, 14.0, 18.0, 28.0, 15.0, 20.0, 16.0, 42.0, 47.0, 25.0, 33.0, 24.0, 24.0, 49.0, 17.0, 28.0, 36.0, 33.0, 28.0, 33.0, 22.0, 17.0, 15.0, 8.0, 18.0, 13.0, 8.0, 15.0, 8.0, 12.0, 17.0, 16.0, 17.0, 11.0, 22.0, 5.0, 21.0, 5.0, 6.0, 11.0, 18.0, 12.0, 9.0, 16.0, 17.0, 17.0, 18.0, 15.0, 12.0, 15.0, 12.0, 15.0, 13.0, 24.0, 16.0, 17.0, 12.0, 7.0, 12.0, 17.0, 23.0, 23.0, 15.0, 15.0, 17.0, 14.0, 20.0, 22.0, 21.0, 27.0, 24.0, 25.0, 19.0, 22.0, 24.0, 33.0, 33.0, 32.0, 63.0, 53.0, 33.0, 69.0, 103.0, 55.0, 115.0, 138.0, 144.0, 130.0, 109.0, 109.0, 118.0, 103.0, 144.0, 103.0, 107.0, 80.0, 124.0, 82.0, 75.0, 54.0, 52.0, 52.0, 92.0, 42.0, 30.0, 25.0, 30.0, 20.0, 12.0, 11.0, 14.0, 14.0, 14.0, 2.0, 12.0, 8.0, 7.0, 9.0, 16.0, 7.0, 11.0, 10.0, 8.0, 7.0, 11.0, 10.0, 12.0, 7.0, 6.0, 10.0, 6.0, 19.0, 11.0, 10.0, 10.0, 9.0, 10.0, 13.0, 19.0, 8.0, 5.0, 11.0, 9.0, 7.0, 10.0, 5.0, 13.0, 4.0, 6.0, 11.0, 4.0, 12.0, 7.0, 9.0, 10.0, 11.0, 11.0, 12.0, 8.0, 15.0, 8.0, 11.0, 16.0, 9.0, 26.0, 21.0, 32.0, 24.0, 12.0, 24.0, 21.0, 14.0, 10.0, 16.0, 9.0, 12.0, 10.0, 11.0, 15.0, 16.0, 11.0, 10.0, 21.0, 6.0, 19.0, 9.0], \"yaxis\": \"y\"}, {\"name\": \"applied vaccines\", \"type\": \"scatter\", \"x\": [\"2020-12-15\", \"2020-12-16\", \"2020-12-17\", \"2020-12-18\", \"2020-12-19\", \"2020-12-20\", \"2020-12-21\", \"2020-12-22\", \"2020-12-23\", \"2020-12-24\", \"2020-12-25\", \"2020-12-26\", \"2020-12-27\", \"2020-12-28\", \"2020-12-29\", \"2020-12-30\", \"2020-12-31\", \"2021-01-01\", \"2021-01-02\", \"2021-01-03\", \"2021-01-04\", \"2021-01-05\", \"2021-01-06\", \"2021-01-07\", \"2021-01-08\", \"2021-01-09\", \"2021-01-10\", \"2021-01-11\", \"2021-01-12\", \"2021-01-13\", \"2021-01-14\", \"2021-01-15\", \"2021-01-16\", \"2021-01-17\", \"2021-01-18\", \"2021-01-19\", \"2021-01-20\", \"2021-01-21\", \"2021-01-22\", \"2021-01-23\", \"2021-01-24\", \"2021-01-25\", \"2021-01-26\", \"2021-01-27\", \"2021-01-28\", \"2021-01-29\", \"2021-01-30\", \"2021-01-31\", \"2021-02-01\", \"2021-02-02\", \"2021-02-03\", \"2021-02-04\", \"2021-02-05\", \"2021-02-06\", \"2021-02-07\", \"2021-02-08\", \"2021-02-09\", \"2021-02-10\", \"2021-02-11\", \"2021-02-12\", \"2021-02-13\", \"2021-02-14\", \"2021-02-15\", \"2021-02-16\", \"2021-02-17\", \"2021-02-18\", \"2021-02-19\", \"2021-02-20\", \"2021-02-21\", \"2021-02-22\", \"2021-02-23\", \"2021-02-24\", \"2021-02-25\", \"2021-02-26\", \"2021-02-27\", \"2021-02-28\", \"2021-03-01\", \"2021-03-02\", \"2021-03-03\", \"2021-03-04\", \"2021-03-05\", \"2021-03-06\", \"2021-03-07\", \"2021-03-08\", \"2021-03-09\", \"2021-03-10\", \"2021-03-11\", \"2021-03-12\", \"2021-03-13\", \"2021-03-14\", \"2021-03-15\", \"2021-03-16\", \"2021-03-17\", \"2021-03-18\", \"2021-03-19\", \"2021-03-20\", \"2021-03-21\", \"2021-03-22\", \"2021-03-23\", \"2021-03-24\", \"2021-03-25\", \"2021-03-26\", \"2021-03-27\", \"2021-03-28\", \"2021-03-29\", \"2021-03-30\", \"2021-03-31\", \"2021-04-01\", \"2021-04-02\", \"2021-04-03\", \"2021-04-04\", \"2021-04-05\", \"2021-04-06\", \"2021-04-07\", \"2021-04-08\", \"2021-04-09\", \"2021-04-10\", \"2021-04-11\", \"2021-04-12\", \"2021-04-13\", \"2021-04-14\", \"2021-04-15\", \"2021-04-16\", \"2021-04-17\", \"2021-04-18\", \"2021-04-19\", \"2021-04-20\", \"2021-04-21\", \"2021-04-22\", \"2021-04-23\"], \"xaxis\": \"x\", \"y\": [1500000.0, null, null, null, null, null, null, null, null, null, null, null, null, null, null, null, 4500000.0, null, null, null, null, null, null, null, null, 9000000.0, null, null, null, 10000000.0, null, null, null, null, null, null, 15000000.0, null, null, null, null, null, null, 22767000.0, null, null, null, 24000000.0, null, null, 31200000.0, null, null, null, null, null, 40520000.0, null, null, null, null, null, null, null, null, null, null, null, null, null, null, null, null, null, null, 52520000.0, null, null, null, null, null, null, null, null, null, null, null, null, null, 64980000.0, null, null, null, null, null, 74956000.0, null, 80460000.0, 82846000.0, 85859700.0, 91346000.0, 97470000.0, 102417000.0, 106613000.0, 110962000.0, 114690000.0, 119821000.0, 126616000.0, 133801000.0, 136677000.0, 139970000.0, 142802000.0, 145920000.0, 149071000.0, 155150000.0, 161121000.0, 164471000.0, 167343000.0, 171928000.0, 175623000.0, 179216000.0, 183536000.0, 187360000.0, 189809000.0, 192127000.0, 195022000.0, 198950000.0, 204191000.0, 211223000.0, 216084000.0], \"yaxis\": \"y2\"}],                        {\"autosize\": false, \"height\": 500, \"template\": {\"data\": {\"bar\": [{\"error_x\": {\"color\": \"#2a3f5f\"}, \"error_y\": {\"color\": \"#2a3f5f\"}, \"marker\": {\"line\": {\"color\": \"#E5ECF6\", \"width\": 0.5}}, \"type\": \"bar\"}], \"barpolar\": [{\"marker\": {\"line\": {\"color\": \"#E5ECF6\", \"width\": 0.5}}, \"type\": \"barpolar\"}], \"carpet\": [{\"aaxis\": {\"endlinecolor\": \"#2a3f5f\", \"gridcolor\": \"white\", \"linecolor\": \"white\", \"minorgridcolor\": \"white\", \"startlinecolor\": \"#2a3f5f\"}, \"baxis\": {\"endlinecolor\": \"#2a3f5f\", \"gridcolor\": \"white\", \"linecolor\": \"white\", \"minorgridcolor\": \"white\", \"startlinecolor\": \"#2a3f5f\"}, \"type\": \"carpet\"}], \"choropleth\": [{\"colorbar\": {\"outlinewidth\": 0, \"ticks\": \"\"}, \"type\": \"choropleth\"}], \"contour\": [{\"colorbar\": {\"outlinewidth\": 0, \"ticks\": \"\"}, \"colorscale\": [[0.0, \"#0d0887\"], [0.1111111111111111, \"#46039f\"], [0.2222222222222222, \"#7201a8\"], [0.3333333333333333, \"#9c179e\"], [0.4444444444444444, \"#bd3786\"], [0.5555555555555556, \"#d8576b\"], [0.6666666666666666, \"#ed7953\"], [0.7777777777777778, \"#fb9f3a\"], [0.8888888888888888, \"#fdca26\"], [1.0, \"#f0f921\"]], \"type\": \"contour\"}], \"contourcarpet\": [{\"colorbar\": {\"outlinewidth\": 0, \"ticks\": \"\"}, \"type\": \"contourcarpet\"}], \"heatmap\": [{\"colorbar\": {\"outlinewidth\": 0, \"ticks\": \"\"}, \"colorscale\": [[0.0, \"#0d0887\"], [0.1111111111111111, \"#46039f\"], [0.2222222222222222, \"#7201a8\"], [0.3333333333333333, \"#9c179e\"], [0.4444444444444444, \"#bd3786\"], [0.5555555555555556, \"#d8576b\"], [0.6666666666666666, \"#ed7953\"], [0.7777777777777778, \"#fb9f3a\"], [0.8888888888888888, \"#fdca26\"], [1.0, \"#f0f921\"]], \"type\": \"heatmap\"}], \"heatmapgl\": [{\"colorbar\": {\"outlinewidth\": 0, \"ticks\": \"\"}, \"colorscale\": [[0.0, \"#0d0887\"], [0.1111111111111111, \"#46039f\"], [0.2222222222222222, \"#7201a8\"], [0.3333333333333333, \"#9c179e\"], [0.4444444444444444, \"#bd3786\"], [0.5555555555555556, \"#d8576b\"], [0.6666666666666666, \"#ed7953\"], [0.7777777777777778, \"#fb9f3a\"], [0.8888888888888888, \"#fdca26\"], [1.0, \"#f0f921\"]], \"type\": \"heatmapgl\"}], \"histogram\": [{\"marker\": {\"colorbar\": {\"outlinewidth\": 0, \"ticks\": \"\"}}, \"type\": \"histogram\"}], \"histogram2d\": [{\"colorbar\": {\"outlinewidth\": 0, \"ticks\": \"\"}, \"colorscale\": [[0.0, \"#0d0887\"], [0.1111111111111111, \"#46039f\"], [0.2222222222222222, \"#7201a8\"], [0.3333333333333333, \"#9c179e\"], [0.4444444444444444, \"#bd3786\"], [0.5555555555555556, \"#d8576b\"], [0.6666666666666666, \"#ed7953\"], [0.7777777777777778, \"#fb9f3a\"], [0.8888888888888888, \"#fdca26\"], [1.0, \"#f0f921\"]], \"type\": \"histogram2d\"}], \"histogram2dcontour\": [{\"colorbar\": {\"outlinewidth\": 0, \"ticks\": \"\"}, \"colorscale\": [[0.0, \"#0d0887\"], [0.1111111111111111, \"#46039f\"], [0.2222222222222222, \"#7201a8\"], [0.3333333333333333, \"#9c179e\"], [0.4444444444444444, \"#bd3786\"], [0.5555555555555556, \"#d8576b\"], [0.6666666666666666, \"#ed7953\"], [0.7777777777777778, \"#fb9f3a\"], [0.8888888888888888, \"#fdca26\"], [1.0, \"#f0f921\"]], \"type\": \"histogram2dcontour\"}], \"mesh3d\": [{\"colorbar\": {\"outlinewidth\": 0, \"ticks\": \"\"}, \"type\": \"mesh3d\"}], \"parcoords\": [{\"line\": {\"colorbar\": {\"outlinewidth\": 0, \"ticks\": \"\"}}, \"type\": \"parcoords\"}], \"pie\": [{\"automargin\": true, \"type\": \"pie\"}], \"scatter\": [{\"marker\": {\"colorbar\": {\"outlinewidth\": 0, \"ticks\": \"\"}}, \"type\": \"scatter\"}], \"scatter3d\": [{\"line\": {\"colorbar\": {\"outlinewidth\": 0, \"ticks\": \"\"}}, \"marker\": {\"colorbar\": {\"outlinewidth\": 0, \"ticks\": \"\"}}, \"type\": \"scatter3d\"}], \"scattercarpet\": [{\"marker\": {\"colorbar\": {\"outlinewidth\": 0, \"ticks\": \"\"}}, \"type\": \"scattercarpet\"}], \"scattergeo\": [{\"marker\": {\"colorbar\": {\"outlinewidth\": 0, \"ticks\": \"\"}}, \"type\": \"scattergeo\"}], \"scattergl\": [{\"marker\": {\"colorbar\": {\"outlinewidth\": 0, \"ticks\": \"\"}}, \"type\": \"scattergl\"}], \"scattermapbox\": [{\"marker\": {\"colorbar\": {\"outlinewidth\": 0, \"ticks\": \"\"}}, \"type\": \"scattermapbox\"}], \"scatterpolar\": [{\"marker\": {\"colorbar\": {\"outlinewidth\": 0, \"ticks\": \"\"}}, \"type\": \"scatterpolar\"}], \"scatterpolargl\": [{\"marker\": {\"colorbar\": {\"outlinewidth\": 0, \"ticks\": \"\"}}, \"type\": \"scatterpolargl\"}], \"scatterternary\": [{\"marker\": {\"colorbar\": {\"outlinewidth\": 0, \"ticks\": \"\"}}, \"type\": \"scatterternary\"}], \"surface\": [{\"colorbar\": {\"outlinewidth\": 0, \"ticks\": \"\"}, \"colorscale\": [[0.0, \"#0d0887\"], [0.1111111111111111, \"#46039f\"], [0.2222222222222222, \"#7201a8\"], [0.3333333333333333, \"#9c179e\"], [0.4444444444444444, \"#bd3786\"], [0.5555555555555556, \"#d8576b\"], [0.6666666666666666, \"#ed7953\"], [0.7777777777777778, \"#fb9f3a\"], [0.8888888888888888, \"#fdca26\"], [1.0, \"#f0f921\"]], \"type\": \"surface\"}], \"table\": [{\"cells\": {\"fill\": {\"color\": \"#EBF0F8\"}, \"line\": {\"color\": \"white\"}}, \"header\": {\"fill\": {\"color\": \"#C8D4E3\"}, \"line\": {\"color\": \"white\"}}, \"type\": \"table\"}]}, \"layout\": {\"annotationdefaults\": {\"arrowcolor\": \"#2a3f5f\", \"arrowhead\": 0, \"arrowwidth\": 1}, \"autotypenumbers\": \"strict\", \"coloraxis\": {\"colorbar\": {\"outlinewidth\": 0, \"ticks\": \"\"}}, \"colorscale\": {\"diverging\": [[0, \"#8e0152\"], [0.1, \"#c51b7d\"], [0.2, \"#de77ae\"], [0.3, \"#f1b6da\"], [0.4, \"#fde0ef\"], [0.5, \"#f7f7f7\"], [0.6, \"#e6f5d0\"], [0.7, \"#b8e186\"], [0.8, \"#7fbc41\"], [0.9, \"#4d9221\"], [1, \"#276419\"]], \"sequential\": [[0.0, \"#0d0887\"], [0.1111111111111111, \"#46039f\"], [0.2222222222222222, \"#7201a8\"], [0.3333333333333333, \"#9c179e\"], [0.4444444444444444, \"#bd3786\"], [0.5555555555555556, \"#d8576b\"], [0.6666666666666666, \"#ed7953\"], [0.7777777777777778, \"#fb9f3a\"], [0.8888888888888888, \"#fdca26\"], [1.0, \"#f0f921\"]], \"sequentialminus\": [[0.0, \"#0d0887\"], [0.1111111111111111, \"#46039f\"], [0.2222222222222222, \"#7201a8\"], [0.3333333333333333, \"#9c179e\"], [0.4444444444444444, \"#bd3786\"], [0.5555555555555556, \"#d8576b\"], [0.6666666666666666, \"#ed7953\"], [0.7777777777777778, \"#fb9f3a\"], [0.8888888888888888, \"#fdca26\"], [1.0, \"#f0f921\"]]}, \"colorway\": [\"#636efa\", \"#EF553B\", \"#00cc96\", \"#ab63fa\", \"#FFA15A\", \"#19d3f3\", \"#FF6692\", \"#B6E880\", \"#FF97FF\", \"#FECB52\"], \"font\": {\"color\": \"#2a3f5f\"}, \"geo\": {\"bgcolor\": \"white\", \"lakecolor\": \"white\", \"landcolor\": \"#E5ECF6\", \"showlakes\": true, \"showland\": true, \"subunitcolor\": \"white\"}, \"hoverlabel\": {\"align\": \"left\"}, \"hovermode\": \"closest\", \"mapbox\": {\"style\": \"light\"}, \"paper_bgcolor\": \"white\", \"plot_bgcolor\": \"#E5ECF6\", \"polar\": {\"angularaxis\": {\"gridcolor\": \"white\", \"linecolor\": \"white\", \"ticks\": \"\"}, \"bgcolor\": \"#E5ECF6\", \"radialaxis\": {\"gridcolor\": \"white\", \"linecolor\": \"white\", \"ticks\": \"\"}}, \"scene\": {\"xaxis\": {\"backgroundcolor\": \"#E5ECF6\", \"gridcolor\": \"white\", \"gridwidth\": 2, \"linecolor\": \"white\", \"showbackground\": true, \"ticks\": \"\", \"zerolinecolor\": \"white\"}, \"yaxis\": {\"backgroundcolor\": \"#E5ECF6\", \"gridcolor\": \"white\", \"gridwidth\": 2, \"linecolor\": \"white\", \"showbackground\": true, \"ticks\": \"\", \"zerolinecolor\": \"white\"}, \"zaxis\": {\"backgroundcolor\": \"#E5ECF6\", \"gridcolor\": \"white\", \"gridwidth\": 2, \"linecolor\": \"white\", \"showbackground\": true, \"ticks\": \"\", \"zerolinecolor\": \"white\"}}, \"shapedefaults\": {\"line\": {\"color\": \"#2a3f5f\"}}, \"ternary\": {\"aaxis\": {\"gridcolor\": \"white\", \"linecolor\": \"white\", \"ticks\": \"\"}, \"baxis\": {\"gridcolor\": \"white\", \"linecolor\": \"white\", \"ticks\": \"\"}, \"bgcolor\": \"#E5ECF6\", \"caxis\": {\"gridcolor\": \"white\", \"linecolor\": \"white\", \"ticks\": \"\"}}, \"title\": {\"x\": 0.05}, \"xaxis\": {\"automargin\": true, \"gridcolor\": \"white\", \"linecolor\": \"white\", \"ticks\": \"\", \"title\": {\"standoff\": 15}, \"zerolinecolor\": \"white\", \"zerolinewidth\": 2}, \"yaxis\": {\"automargin\": true, \"gridcolor\": \"white\", \"linecolor\": \"white\", \"ticks\": \"\", \"title\": {\"standoff\": 15}, \"zerolinecolor\": \"white\", \"zerolinewidth\": 2}}}, \"title\": {\"text\": \"China cases and vaccination\"}, \"width\": 700, \"xaxis\": {\"anchor\": \"y\", \"domain\": [0.0, 0.94], \"title\": {\"text\": \"date\"}}, \"yaxis\": {\"anchor\": \"x\", \"domain\": [0.0, 1.0], \"title\": {\"text\": \"No of cases of covid\"}}, \"yaxis2\": {\"anchor\": \"x\", \"overlaying\": \"y\", \"side\": \"right\", \"title\": {\"text\": \"No of people with at least one dose\"}}},                        {\"responsive\": true}                    ).then(function(){\n",
       "                            \n",
       "var gd = document.getElementById('6b92e9a6-06dc-40e1-86bc-3c78685a8593');\n",
       "var x = new MutationObserver(function (mutations, observer) {{\n",
       "        var display = window.getComputedStyle(gd).display;\n",
       "        if (!display || display === 'none') {{\n",
       "            console.log([gd, 'removed!']);\n",
       "            Plotly.purge(gd);\n",
       "            observer.disconnect();\n",
       "        }}\n",
       "}});\n",
       "\n",
       "// Listen for the removal of the full notebook cells\n",
       "var notebookContainer = gd.closest('#notebook-container');\n",
       "if (notebookContainer) {{\n",
       "    x.observe(notebookContainer, {childList: true});\n",
       "}}\n",
       "\n",
       "// Listen for the clearing of the current output cell\n",
       "var outputEl = gd.closest('.output');\n",
       "if (outputEl) {{\n",
       "    x.observe(outputEl, {childList: true});\n",
       "}}\n",
       "\n",
       "                        })                };                });            </script>        </div>"
      ]
     },
     "metadata": {},
     "output_type": "display_data"
    }
   ],
   "source": [
    "fig = make_subplots(specs=[[{\"secondary_y\": True}]])\n",
    "\n",
    "fig.add_trace(\n",
    "    go.Scatter(y=covid_daily_CHN['daily_new_cases'], x=covid_daily_CHN['date'], name=\"No of cases daily (CHN)\"),\n",
    "    secondary_y=False,\n",
    ")\n",
    "\n",
    "fig.add_trace(\n",
    "    go.Scatter(x= dfs[0]['date'],y = dfs[0]['total_vaccinations'], name = 'applied vaccines'),\n",
    "    secondary_y=True,\n",
    ")\n",
    "\n",
    "fig.update_layout(\n",
    "    autosize=False,\n",
    "    width=700,\n",
    "    height=500,\n",
    "    title_text=\"China cases and vaccination\"\n",
    ")\n",
    "\n",
    "fig.update_xaxes(title_text=\"date\")\n",
    "\n",
    "fig.update_yaxes(title_text=\"No of cases of covid\", secondary_y=False)\n",
    "fig.update_yaxes(title_text=\"No of people with at least one dose\", secondary_y=True)\n",
    "\n",
    "fig.show()"
   ]
  },
  {
   "cell_type": "code",
   "execution_count": 24,
   "id": "improving-export",
   "metadata": {
    "_kg_hide-input": true,
    "execution": {
     "iopub.execute_input": "2021-04-26T13:37:20.967071Z",
     "iopub.status.busy": "2021-04-26T13:37:20.956435Z",
     "iopub.status.idle": "2021-04-26T13:37:20.980903Z",
     "shell.execute_reply": "2021-04-26T13:37:20.980346Z"
    },
    "papermill": {
     "duration": 0.093202,
     "end_time": "2021-04-26T13:37:20.981069",
     "exception": false,
     "start_time": "2021-04-26T13:37:20.887867",
     "status": "completed"
    },
    "tags": []
   },
   "outputs": [
    {
     "data": {
      "text/html": [
       "<div>                            <div id=\"5def5e8a-fed7-4477-8167-8282957ee9af\" class=\"plotly-graph-div\" style=\"height:500px; width:700px;\"></div>            <script type=\"text/javascript\">                require([\"plotly\"], function(Plotly) {                    window.PLOTLYENV=window.PLOTLYENV || {};                                    if (document.getElementById(\"5def5e8a-fed7-4477-8167-8282957ee9af\")) {                    Plotly.newPlot(                        \"5def5e8a-fed7-4477-8167-8282957ee9af\",                        [{\"name\": \"No of deaths daily (CHN)\", \"type\": \"scatter\", \"x\": [\"2020-1-22\", \"2020-1-23\", \"2020-1-24\", \"2020-1-25\", \"2020-1-26\", \"2020-1-27\", \"2020-1-28\", \"2020-1-29\", \"2020-1-30\", \"2020-1-31\", \"2020-2-01\", \"2020-2-02\", \"2020-2-03\", \"2020-2-04\", \"2020-2-05\", \"2020-2-06\", \"2020-2-07\", \"2020-2-08\", \"2020-2-09\", \"2020-2-10\", \"2020-2-11\", \"2020-2-12\", \"2020-2-13\", \"2020-2-14\", \"2020-2-15\", \"2020-2-16\", \"2020-2-17\", \"2020-2-18\", \"2020-2-19\", \"2020-2-20\", \"2020-2-21\", \"2020-2-22\", \"2020-2-23\", \"2020-2-24\", \"2020-2-25\", \"2020-2-26\", \"2020-2-27\", \"2020-2-28\", \"2020-2-29\", \"2020-3-01\", \"2020-3-02\", \"2020-3-03\", \"2020-3-04\", \"2020-3-05\", \"2020-3-06\", \"2020-3-07\", \"2020-3-08\", \"2020-3-09\", \"2020-3-10\", \"2020-3-11\", \"2020-3-12\", \"2020-3-13\", \"2020-3-14\", \"2020-3-15\", \"2020-3-16\", \"2020-3-17\", \"2020-3-18\", \"2020-3-19\", \"2020-3-20\", \"2020-3-21\", \"2020-3-22\", \"2020-3-23\", \"2020-3-24\", \"2020-3-25\", \"2020-3-26\", \"2020-3-27\", \"2020-3-28\", \"2020-3-29\", \"2020-3-30\", \"2020-3-31\", \"2020-4-01\", \"2020-4-02\", \"2020-4-03\", \"2020-4-04\", \"2020-4-05\", \"2020-4-06\", \"2020-4-07\", \"2020-4-08\", \"2020-4-09\", \"2020-4-10\", \"2020-4-11\", \"2020-4-12\", \"2020-4-13\", \"2020-4-14\", \"2020-4-15\", \"2020-4-16\", \"2020-4-17\", \"2020-4-18\", \"2020-4-19\", \"2020-4-20\", \"2020-4-21\", \"2020-4-22\", \"2020-4-23\", \"2020-4-24\", \"2020-4-25\", \"2020-4-26\", \"2020-4-27\", \"2020-4-28\", \"2020-4-29\", \"2020-4-30\", \"2020-5-01\", \"2020-5-02\", \"2020-5-03\", \"2020-5-04\", \"2020-5-05\", \"2020-5-06\", \"2020-5-07\", \"2020-5-08\", \"2020-5-09\", \"2020-5-10\", \"2020-5-11\", \"2020-5-12\", \"2020-5-13\", \"2020-5-14\", \"2020-5-15\", \"2020-5-16\", \"2020-5-17\", \"2020-5-18\", \"2020-5-19\", \"2020-5-20\", \"2020-5-21\", \"2020-5-22\", \"2020-5-23\", \"2020-5-24\", \"2020-5-25\", \"2020-5-26\", \"2020-5-27\", \"2020-5-28\", \"2020-5-29\", \"2020-5-30\", \"2020-5-31\", \"2020-6-01\", \"2020-6-02\", \"2020-6-03\", \"2020-6-04\", \"2020-6-05\", \"2020-6-06\", \"2020-6-07\", \"2020-6-08\", \"2020-6-09\", \"2020-6-10\", \"2020-6-11\", \"2020-6-12\", \"2020-6-13\", \"2020-6-14\", \"2020-6-15\", \"2020-6-16\", \"2020-6-17\", \"2020-6-18\", \"2020-6-19\", \"2020-6-20\", \"2020-6-21\", \"2020-6-22\", \"2020-6-23\", \"2020-6-24\", \"2020-6-25\", \"2020-6-26\", \"2020-6-27\", \"2020-6-28\", \"2020-6-29\", \"2020-6-30\", \"2020-7-01\", \"2020-7-02\", \"2020-7-03\", \"2020-7-04\", \"2020-7-05\", \"2020-7-06\", \"2020-7-07\", \"2020-7-08\", \"2020-7-09\", \"2020-7-10\", \"2020-7-11\", \"2020-7-12\", \"2020-7-13\", \"2020-7-14\", \"2020-7-15\", \"2020-7-16\", \"2020-7-17\", \"2020-7-18\", \"2020-7-19\", \"2020-7-20\", \"2020-7-21\", \"2020-7-22\", \"2020-7-23\", \"2020-7-24\", \"2020-7-25\", \"2020-7-26\", \"2020-7-27\", \"2020-7-28\", \"2020-7-29\", \"2020-7-30\", \"2020-7-31\", \"2020-8-01\", \"2020-8-02\", \"2020-8-03\", \"2020-8-04\", \"2020-8-05\", \"2020-8-06\", \"2020-8-07\", \"2020-8-08\", \"2020-8-09\", \"2020-8-10\", \"2020-8-11\", \"2020-8-12\", \"2020-8-13\", \"2020-8-14\", \"2020-8-15\", \"2020-8-16\", \"2020-8-17\", \"2020-8-18\", \"2020-8-19\", \"2020-8-20\", \"2020-8-21\", \"2020-8-22\", \"2020-8-23\", \"2020-8-24\", \"2020-8-25\", \"2020-8-26\", \"2020-8-27\", \"2020-8-28\", \"2020-8-29\", \"2020-8-30\", \"2020-8-31\", \"2020-9-01\", \"2020-9-02\", \"2020-9-03\", \"2020-9-04\", \"2020-9-05\", \"2020-9-06\", \"2020-9-07\", \"2020-9-08\", \"2020-9-09\", \"2020-9-10\", \"2020-9-11\", \"2020-9-12\", \"2020-9-13\", \"2020-9-14\", \"2020-9-15\", \"2020-9-16\", \"2020-9-17\", \"2020-9-18\", \"2020-9-19\", \"2020-9-20\", \"2020-9-21\", \"2020-9-22\", \"2020-9-23\", \"2020-9-24\", \"2020-9-25\", \"2020-9-26\", \"2020-9-27\", \"2020-9-28\", \"2020-9-29\", \"2020-9-30\", \"2020-10-01\", \"2020-10-02\", \"2020-10-03\", \"2020-10-04\", \"2020-10-05\", \"2020-10-06\", \"2020-10-07\", \"2020-10-08\", \"2020-10-09\", \"2020-10-10\", \"2020-10-11\", \"2020-10-12\", \"2020-10-13\", \"2020-10-14\", \"2020-10-15\", \"2020-10-16\", \"2020-10-17\", \"2020-10-18\", \"2020-10-19\", \"2020-10-20\", \"2020-10-21\", \"2020-10-22\", \"2020-10-23\", \"2020-10-24\", \"2020-10-25\", \"2020-10-26\", \"2020-10-27\", \"2020-10-28\", \"2020-10-29\", \"2020-10-30\", \"2020-10-31\", \"2020-11-01\", \"2020-11-02\", \"2020-11-03\", \"2020-11-04\", \"2020-11-05\", \"2020-11-06\", \"2020-11-07\", \"2020-11-08\", \"2020-11-09\", \"2020-11-10\", \"2020-11-11\", \"2020-11-12\", \"2020-11-13\", \"2020-11-14\", \"2020-11-15\", \"2020-11-16\", \"2020-11-17\", \"2020-11-18\", \"2020-11-19\", \"2020-11-20\", \"2020-11-21\", \"2020-11-22\", \"2020-11-23\", \"2020-11-24\", \"2020-11-25\", \"2020-11-26\", \"2020-11-27\", \"2020-11-28\", \"2020-11-29\", \"2020-11-30\", \"2020-12-01\", \"2020-12-02\", \"2020-12-03\", \"2020-12-04\", \"2020-12-05\", \"2020-12-06\", \"2020-12-07\", \"2020-12-08\", \"2020-12-09\", \"2020-12-10\", \"2020-12-11\", \"2020-12-12\", \"2020-12-13\", \"2020-12-14\", \"2020-12-15\", \"2020-12-16\", \"2020-12-17\", \"2020-12-18\", \"2020-12-19\", \"2020-12-20\", \"2020-12-21\", \"2020-12-22\", \"2020-12-23\", \"2020-12-24\", \"2020-12-25\", \"2020-12-26\", \"2020-12-27\", \"2020-12-28\", \"2020-12-29\", \"2020-12-30\", \"2020-12-31\", \"2021-1-01\", \"2021-1-02\", \"2021-1-03\", \"2021-1-04\", \"2021-1-05\", \"2021-1-06\", \"2021-1-07\", \"2021-1-08\", \"2021-1-09\", \"2021-1-10\", \"2021-1-11\", \"2021-1-12\", \"2021-1-13\", \"2021-1-14\", \"2021-1-15\", \"2021-1-16\", \"2021-1-17\", \"2021-1-18\", \"2021-1-19\", \"2021-1-20\", \"2021-1-21\", \"2021-1-22\", \"2021-1-23\", \"2021-1-24\", \"2021-1-25\", \"2021-1-26\", \"2021-1-27\", \"2021-1-28\", \"2021-1-29\", \"2021-1-30\", \"2021-1-31\", \"2021-2-01\", \"2021-2-02\", \"2021-2-03\", \"2021-2-04\", \"2021-2-05\", \"2021-2-06\", \"2021-2-07\", \"2021-2-08\", \"2021-2-09\", \"2021-2-10\", \"2021-2-11\", \"2021-2-12\", \"2021-2-13\", \"2021-2-14\", \"2021-2-15\", \"2021-2-16\", \"2021-2-17\", \"2021-2-18\", \"2021-2-19\", \"2021-2-20\", \"2021-2-21\", \"2021-2-22\", \"2021-2-23\", \"2021-2-24\", \"2021-2-25\", \"2021-2-26\", \"2021-2-27\", \"2021-2-28\", \"2021-3-01\", \"2021-3-02\", \"2021-3-03\", \"2021-3-04\", \"2021-3-05\", \"2021-3-06\", \"2021-3-07\", \"2021-3-08\", \"2021-3-09\", \"2021-3-10\", \"2021-3-11\", \"2021-3-12\", \"2021-3-13\", \"2021-3-14\", \"2021-3-15\", \"2021-3-16\", \"2021-3-17\", \"2021-3-18\", \"2021-3-19\", \"2021-3-20\", \"2021-3-21\", \"2021-3-22\", \"2021-3-23\", \"2021-3-24\", \"2021-3-25\", \"2021-3-26\", \"2021-3-27\", \"2021-3-28\", \"2021-3-29\", \"2021-3-30\", \"2021-3-31\", \"2021-4-01\", \"2021-4-02\", \"2021-4-03\", \"2021-4-04\", \"2021-4-05\", \"2021-4-06\", \"2021-4-07\", \"2021-4-08\", \"2021-4-09\", \"2021-4-10\", \"2021-4-11\", \"2021-4-12\", \"2021-4-13\", \"2021-4-14\", \"2021-4-15\", \"2021-4-16\", \"2021-4-17\", \"2021-4-18\", \"2021-4-19\", \"2021-4-20\", \"2021-4-21\", \"2021-4-22\", \"2021-4-23\", \"2021-4-24\"], \"xaxis\": \"x\", \"y\": [null, 8.0, 16.0, 15.0, 24.0, 26.0, 26.0, 38.0, 43.0, 46.0, 45.0, 57.0, 64.0, 65.0, 73.0, 73.0, 86.0, 89.0, 97.0, 108.0, 97.0, 146.0, 121.0, 143.0, 142.0, 105.0, 98.0, 136.0, 114.0, 118.0, 109.0, 97.0, 150.0, 71.0, 52.0, 29.0, 44.0, 47.0, 35.0, 42.0, 31.0, 38.0, 31.0, 30.0, 28.0, 27.0, 22.0, 17.0, 22.0, 11.0, 7.0, 13.0, 10.0, 14.0, 13.0, 11.0, 8.0, 3.0, 7.0, 6.0, 9.0, 7.0, 4.0, 6.0, 5.0, 3.0, 5.0, 0.0, 5.0, 7.0, 6.0, 4.0, 4.0, 3.0, 2.0, 0.0, 2.0, 2.0, 1.0, 3.0, 0.0, 2.0, 0.0, 1.0, 0.0, 0.0, 1290.0, 0.0, 0.0, 0.0, 0.0, 0.0, 0.0, 0.0, 0.0, 0.0, 1.0, 0.0, 0.0, 0.0, 0.0, 0.0, 0.0, 0.0, 0.0, 0.0, 0.0, 0.0, 0.0, 0.0, 0.0, 0.0, 0.0, 0.0, 0.0, 0.0, 1.0, 0.0, 0.0, 0.0, 0.0, 0.0, 0.0, 0.0, 0.0, 0.0, 0.0, 0.0, 0.0, 0.0, 0.0, 0.0, 0.0, 0.0, 0.0, 0.0, 0.0, 0.0, 0.0, 0.0, 0.0, 0.0, 0.0, 0.0, 0.0, 0.0, 0.0, 0.0, 0.0, 0.0, 0.0, 0.0, 0.0, 0.0, 0.0, 0.0, 0.0, 0.0, 0.0, 0.0, 0.0, 0.0, 0.0, 0.0, 0.0, 0.0, 0.0, 0.0, 0.0, 0.0, 0.0, 0.0, 0.0, 0.0, 0.0, 0.0, 0.0, 0.0, 0.0, 0.0, 0.0, 0.0, 0.0, 0.0, 0.0, 0.0, 0.0, 0.0, 0.0, 0.0, 0.0, 0.0, 0.0, 0.0, 0.0, 0.0, 0.0, 0.0, 0.0, 0.0, 0.0, 0.0, 0.0, 0.0, 0.0, 0.0, 0.0, 0.0, 0.0, 0.0, 0.0, 0.0, 0.0, 0.0, 0.0, 0.0, 0.0, 0.0, 0.0, 0.0, 0.0, 0.0, 0.0, 0.0, 0.0, 0.0, 0.0, 0.0, 0.0, 0.0, 0.0, 0.0, 0.0, 0.0, 0.0, 0.0, 0.0, 0.0, 0.0, 0.0, 0.0, 0.0, 0.0, 0.0, 0.0, 0.0, 0.0, 0.0, 0.0, 0.0, 0.0, 0.0, 0.0, 0.0, 0.0, 0.0, 0.0, 0.0, 0.0, 0.0, 0.0, 0.0, 0.0, 0.0, 0.0, 0.0, 0.0, 0.0, 0.0, 0.0, 0.0, 0.0, 0.0, 0.0, 0.0, 0.0, 0.0, 0.0, 0.0, 0.0, 0.0, 0.0, 0.0, 0.0, 0.0, 0.0, 0.0, 0.0, 0.0, 0.0, 0.0, 0.0, 0.0, 0.0, 0.0, 0.0, 0.0, 0.0, 0.0, 0.0, 0.0, 0.0, 0.0, 0.0, 0.0, 0.0, 0.0, 0.0, 0.0, 0.0, 0.0, 0.0, 0.0, 0.0, 0.0, 0.0, 0.0, 0.0, 0.0, 0.0, 0.0, 0.0, 0.0, 0.0, 0.0, 0.0, 0.0, 0.0, 0.0, 0.0, 0.0, 0.0, 0.0, 0.0, 0.0, 0.0, 0.0, 0.0, 0.0, 0.0, 0.0, 0.0, 0.0, 0.0, 0.0, 0.0, 0.0, 0.0, 0.0, 0.0, 0.0, 0.0, 0.0, 0.0, 0.0, 0.0, 0.0, 0.0, 1.0, 0.0, 0.0, 0.0, 0.0, 0.0, 0.0, 0.0, 0.0, 0.0, 0.0, 0.0, 1.0, 0.0, 0.0, 0.0, 0.0, 0.0, 0.0, 0.0, 0.0, 0.0, 0.0, 0.0, 0.0, 0.0, 0.0, 0.0, 0.0, 0.0, 0.0, 0.0, 0.0, 0.0, 0.0, 0.0, 0.0, 0.0, 0.0, 0.0, 0.0, 0.0, 0.0, 0.0, 0.0, 0.0, 0.0, 0.0, 0.0, 0.0, 0.0, 0.0, 0.0, 0.0, 0.0, 0.0, 0.0, 0.0, 0.0, 0.0, 0.0, 0.0, 0.0, 0.0, 0.0, 0.0, 0.0, 0.0, 0.0, 0.0, 0.0, 0.0, 0.0, 0.0, 0.0, 0.0, 0.0, 0.0, 0.0, 0.0, 0.0, 0.0, 0.0, 0.0, 0.0, 0.0, 0.0, 0.0, 0.0, 0.0, 0.0, 0.0, 0.0, 0.0, 0.0, 0.0, 0.0, 0.0, 0.0, 0.0, 0.0], \"yaxis\": \"y\"}, {\"name\": \"applied vaccines\", \"type\": \"scatter\", \"x\": [\"2020-12-15\", \"2020-12-16\", \"2020-12-17\", \"2020-12-18\", \"2020-12-19\", \"2020-12-20\", \"2020-12-21\", \"2020-12-22\", \"2020-12-23\", \"2020-12-24\", \"2020-12-25\", \"2020-12-26\", \"2020-12-27\", \"2020-12-28\", \"2020-12-29\", \"2020-12-30\", \"2020-12-31\", \"2021-01-01\", \"2021-01-02\", \"2021-01-03\", \"2021-01-04\", \"2021-01-05\", \"2021-01-06\", \"2021-01-07\", \"2021-01-08\", \"2021-01-09\", \"2021-01-10\", \"2021-01-11\", \"2021-01-12\", \"2021-01-13\", \"2021-01-14\", \"2021-01-15\", \"2021-01-16\", \"2021-01-17\", \"2021-01-18\", \"2021-01-19\", \"2021-01-20\", \"2021-01-21\", \"2021-01-22\", \"2021-01-23\", \"2021-01-24\", \"2021-01-25\", \"2021-01-26\", \"2021-01-27\", \"2021-01-28\", \"2021-01-29\", \"2021-01-30\", \"2021-01-31\", \"2021-02-01\", \"2021-02-02\", \"2021-02-03\", \"2021-02-04\", \"2021-02-05\", \"2021-02-06\", \"2021-02-07\", \"2021-02-08\", \"2021-02-09\", \"2021-02-10\", \"2021-02-11\", \"2021-02-12\", \"2021-02-13\", \"2021-02-14\", \"2021-02-15\", \"2021-02-16\", \"2021-02-17\", \"2021-02-18\", \"2021-02-19\", \"2021-02-20\", \"2021-02-21\", \"2021-02-22\", \"2021-02-23\", \"2021-02-24\", \"2021-02-25\", \"2021-02-26\", \"2021-02-27\", \"2021-02-28\", \"2021-03-01\", \"2021-03-02\", \"2021-03-03\", \"2021-03-04\", \"2021-03-05\", \"2021-03-06\", \"2021-03-07\", \"2021-03-08\", \"2021-03-09\", \"2021-03-10\", \"2021-03-11\", \"2021-03-12\", \"2021-03-13\", \"2021-03-14\", \"2021-03-15\", \"2021-03-16\", \"2021-03-17\", \"2021-03-18\", \"2021-03-19\", \"2021-03-20\", \"2021-03-21\", \"2021-03-22\", \"2021-03-23\", \"2021-03-24\", \"2021-03-25\", \"2021-03-26\", \"2021-03-27\", \"2021-03-28\", \"2021-03-29\", \"2021-03-30\", \"2021-03-31\", \"2021-04-01\", \"2021-04-02\", \"2021-04-03\", \"2021-04-04\", \"2021-04-05\", \"2021-04-06\", \"2021-04-07\", \"2021-04-08\", \"2021-04-09\", \"2021-04-10\", \"2021-04-11\", \"2021-04-12\", \"2021-04-13\", \"2021-04-14\", \"2021-04-15\", \"2021-04-16\", \"2021-04-17\", \"2021-04-18\", \"2021-04-19\", \"2021-04-20\", \"2021-04-21\", \"2021-04-22\", \"2021-04-23\"], \"xaxis\": \"x\", \"y\": [1500000.0, null, null, null, null, null, null, null, null, null, null, null, null, null, null, null, 4500000.0, null, null, null, null, null, null, null, null, 9000000.0, null, null, null, 10000000.0, null, null, null, null, null, null, 15000000.0, null, null, null, null, null, null, 22767000.0, null, null, null, 24000000.0, null, null, 31200000.0, null, null, null, null, null, 40520000.0, null, null, null, null, null, null, null, null, null, null, null, null, null, null, null, null, null, null, 52520000.0, null, null, null, null, null, null, null, null, null, null, null, null, null, 64980000.0, null, null, null, null, null, 74956000.0, null, 80460000.0, 82846000.0, 85859700.0, 91346000.0, 97470000.0, 102417000.0, 106613000.0, 110962000.0, 114690000.0, 119821000.0, 126616000.0, 133801000.0, 136677000.0, 139970000.0, 142802000.0, 145920000.0, 149071000.0, 155150000.0, 161121000.0, 164471000.0, 167343000.0, 171928000.0, 175623000.0, 179216000.0, 183536000.0, 187360000.0, 189809000.0, 192127000.0, 195022000.0, 198950000.0, 204191000.0, 211223000.0, 216084000.0], \"yaxis\": \"y2\"}],                        {\"autosize\": false, \"height\": 500, \"template\": {\"data\": {\"bar\": [{\"error_x\": {\"color\": \"#2a3f5f\"}, \"error_y\": {\"color\": \"#2a3f5f\"}, \"marker\": {\"line\": {\"color\": \"#E5ECF6\", \"width\": 0.5}}, \"type\": \"bar\"}], \"barpolar\": [{\"marker\": {\"line\": {\"color\": \"#E5ECF6\", \"width\": 0.5}}, \"type\": \"barpolar\"}], \"carpet\": [{\"aaxis\": {\"endlinecolor\": \"#2a3f5f\", \"gridcolor\": \"white\", \"linecolor\": \"white\", \"minorgridcolor\": \"white\", \"startlinecolor\": \"#2a3f5f\"}, \"baxis\": {\"endlinecolor\": \"#2a3f5f\", \"gridcolor\": \"white\", \"linecolor\": \"white\", \"minorgridcolor\": \"white\", \"startlinecolor\": \"#2a3f5f\"}, \"type\": \"carpet\"}], \"choropleth\": [{\"colorbar\": {\"outlinewidth\": 0, \"ticks\": \"\"}, \"type\": \"choropleth\"}], \"contour\": [{\"colorbar\": {\"outlinewidth\": 0, \"ticks\": \"\"}, \"colorscale\": [[0.0, \"#0d0887\"], [0.1111111111111111, \"#46039f\"], [0.2222222222222222, \"#7201a8\"], [0.3333333333333333, \"#9c179e\"], [0.4444444444444444, \"#bd3786\"], [0.5555555555555556, \"#d8576b\"], [0.6666666666666666, \"#ed7953\"], [0.7777777777777778, \"#fb9f3a\"], [0.8888888888888888, \"#fdca26\"], [1.0, \"#f0f921\"]], \"type\": \"contour\"}], \"contourcarpet\": [{\"colorbar\": {\"outlinewidth\": 0, \"ticks\": \"\"}, \"type\": \"contourcarpet\"}], \"heatmap\": [{\"colorbar\": {\"outlinewidth\": 0, \"ticks\": \"\"}, \"colorscale\": [[0.0, \"#0d0887\"], [0.1111111111111111, \"#46039f\"], [0.2222222222222222, \"#7201a8\"], [0.3333333333333333, \"#9c179e\"], [0.4444444444444444, \"#bd3786\"], [0.5555555555555556, \"#d8576b\"], [0.6666666666666666, \"#ed7953\"], [0.7777777777777778, \"#fb9f3a\"], [0.8888888888888888, \"#fdca26\"], [1.0, \"#f0f921\"]], \"type\": \"heatmap\"}], \"heatmapgl\": [{\"colorbar\": {\"outlinewidth\": 0, \"ticks\": \"\"}, \"colorscale\": [[0.0, \"#0d0887\"], [0.1111111111111111, \"#46039f\"], [0.2222222222222222, \"#7201a8\"], [0.3333333333333333, \"#9c179e\"], [0.4444444444444444, \"#bd3786\"], [0.5555555555555556, \"#d8576b\"], [0.6666666666666666, \"#ed7953\"], [0.7777777777777778, \"#fb9f3a\"], [0.8888888888888888, \"#fdca26\"], [1.0, \"#f0f921\"]], \"type\": \"heatmapgl\"}], \"histogram\": [{\"marker\": {\"colorbar\": {\"outlinewidth\": 0, \"ticks\": \"\"}}, \"type\": \"histogram\"}], \"histogram2d\": [{\"colorbar\": {\"outlinewidth\": 0, \"ticks\": \"\"}, \"colorscale\": [[0.0, \"#0d0887\"], [0.1111111111111111, \"#46039f\"], [0.2222222222222222, \"#7201a8\"], [0.3333333333333333, \"#9c179e\"], [0.4444444444444444, \"#bd3786\"], [0.5555555555555556, \"#d8576b\"], [0.6666666666666666, \"#ed7953\"], [0.7777777777777778, \"#fb9f3a\"], [0.8888888888888888, \"#fdca26\"], [1.0, \"#f0f921\"]], \"type\": \"histogram2d\"}], \"histogram2dcontour\": [{\"colorbar\": {\"outlinewidth\": 0, \"ticks\": \"\"}, \"colorscale\": [[0.0, \"#0d0887\"], [0.1111111111111111, \"#46039f\"], [0.2222222222222222, \"#7201a8\"], [0.3333333333333333, \"#9c179e\"], [0.4444444444444444, \"#bd3786\"], [0.5555555555555556, \"#d8576b\"], [0.6666666666666666, \"#ed7953\"], [0.7777777777777778, \"#fb9f3a\"], [0.8888888888888888, \"#fdca26\"], [1.0, \"#f0f921\"]], \"type\": \"histogram2dcontour\"}], \"mesh3d\": [{\"colorbar\": {\"outlinewidth\": 0, \"ticks\": \"\"}, \"type\": \"mesh3d\"}], \"parcoords\": [{\"line\": {\"colorbar\": {\"outlinewidth\": 0, \"ticks\": \"\"}}, \"type\": \"parcoords\"}], \"pie\": [{\"automargin\": true, \"type\": \"pie\"}], \"scatter\": [{\"marker\": {\"colorbar\": {\"outlinewidth\": 0, \"ticks\": \"\"}}, \"type\": \"scatter\"}], \"scatter3d\": [{\"line\": {\"colorbar\": {\"outlinewidth\": 0, \"ticks\": \"\"}}, \"marker\": {\"colorbar\": {\"outlinewidth\": 0, \"ticks\": \"\"}}, \"type\": \"scatter3d\"}], \"scattercarpet\": [{\"marker\": {\"colorbar\": {\"outlinewidth\": 0, \"ticks\": \"\"}}, \"type\": \"scattercarpet\"}], \"scattergeo\": [{\"marker\": {\"colorbar\": {\"outlinewidth\": 0, \"ticks\": \"\"}}, \"type\": \"scattergeo\"}], \"scattergl\": [{\"marker\": {\"colorbar\": {\"outlinewidth\": 0, \"ticks\": \"\"}}, \"type\": \"scattergl\"}], \"scattermapbox\": [{\"marker\": {\"colorbar\": {\"outlinewidth\": 0, \"ticks\": \"\"}}, \"type\": \"scattermapbox\"}], \"scatterpolar\": [{\"marker\": {\"colorbar\": {\"outlinewidth\": 0, \"ticks\": \"\"}}, \"type\": \"scatterpolar\"}], \"scatterpolargl\": [{\"marker\": {\"colorbar\": {\"outlinewidth\": 0, \"ticks\": \"\"}}, \"type\": \"scatterpolargl\"}], \"scatterternary\": [{\"marker\": {\"colorbar\": {\"outlinewidth\": 0, \"ticks\": \"\"}}, \"type\": \"scatterternary\"}], \"surface\": [{\"colorbar\": {\"outlinewidth\": 0, \"ticks\": \"\"}, \"colorscale\": [[0.0, \"#0d0887\"], [0.1111111111111111, \"#46039f\"], [0.2222222222222222, \"#7201a8\"], [0.3333333333333333, \"#9c179e\"], [0.4444444444444444, \"#bd3786\"], [0.5555555555555556, \"#d8576b\"], [0.6666666666666666, \"#ed7953\"], [0.7777777777777778, \"#fb9f3a\"], [0.8888888888888888, \"#fdca26\"], [1.0, \"#f0f921\"]], \"type\": \"surface\"}], \"table\": [{\"cells\": {\"fill\": {\"color\": \"#EBF0F8\"}, \"line\": {\"color\": \"white\"}}, \"header\": {\"fill\": {\"color\": \"#C8D4E3\"}, \"line\": {\"color\": \"white\"}}, \"type\": \"table\"}]}, \"layout\": {\"annotationdefaults\": {\"arrowcolor\": \"#2a3f5f\", \"arrowhead\": 0, \"arrowwidth\": 1}, \"autotypenumbers\": \"strict\", \"coloraxis\": {\"colorbar\": {\"outlinewidth\": 0, \"ticks\": \"\"}}, \"colorscale\": {\"diverging\": [[0, \"#8e0152\"], [0.1, \"#c51b7d\"], [0.2, \"#de77ae\"], [0.3, \"#f1b6da\"], [0.4, \"#fde0ef\"], [0.5, \"#f7f7f7\"], [0.6, \"#e6f5d0\"], [0.7, \"#b8e186\"], [0.8, \"#7fbc41\"], [0.9, \"#4d9221\"], [1, \"#276419\"]], \"sequential\": [[0.0, \"#0d0887\"], [0.1111111111111111, \"#46039f\"], [0.2222222222222222, \"#7201a8\"], [0.3333333333333333, \"#9c179e\"], [0.4444444444444444, \"#bd3786\"], [0.5555555555555556, \"#d8576b\"], [0.6666666666666666, \"#ed7953\"], [0.7777777777777778, \"#fb9f3a\"], [0.8888888888888888, \"#fdca26\"], [1.0, \"#f0f921\"]], \"sequentialminus\": [[0.0, \"#0d0887\"], [0.1111111111111111, \"#46039f\"], [0.2222222222222222, \"#7201a8\"], [0.3333333333333333, \"#9c179e\"], [0.4444444444444444, \"#bd3786\"], [0.5555555555555556, \"#d8576b\"], [0.6666666666666666, \"#ed7953\"], [0.7777777777777778, \"#fb9f3a\"], [0.8888888888888888, \"#fdca26\"], [1.0, \"#f0f921\"]]}, \"colorway\": [\"#636efa\", \"#EF553B\", \"#00cc96\", \"#ab63fa\", \"#FFA15A\", \"#19d3f3\", \"#FF6692\", \"#B6E880\", \"#FF97FF\", \"#FECB52\"], \"font\": {\"color\": \"#2a3f5f\"}, \"geo\": {\"bgcolor\": \"white\", \"lakecolor\": \"white\", \"landcolor\": \"#E5ECF6\", \"showlakes\": true, \"showland\": true, \"subunitcolor\": \"white\"}, \"hoverlabel\": {\"align\": \"left\"}, \"hovermode\": \"closest\", \"mapbox\": {\"style\": \"light\"}, \"paper_bgcolor\": \"white\", \"plot_bgcolor\": \"#E5ECF6\", \"polar\": {\"angularaxis\": {\"gridcolor\": \"white\", \"linecolor\": \"white\", \"ticks\": \"\"}, \"bgcolor\": \"#E5ECF6\", \"radialaxis\": {\"gridcolor\": \"white\", \"linecolor\": \"white\", \"ticks\": \"\"}}, \"scene\": {\"xaxis\": {\"backgroundcolor\": \"#E5ECF6\", \"gridcolor\": \"white\", \"gridwidth\": 2, \"linecolor\": \"white\", \"showbackground\": true, \"ticks\": \"\", \"zerolinecolor\": \"white\"}, \"yaxis\": {\"backgroundcolor\": \"#E5ECF6\", \"gridcolor\": \"white\", \"gridwidth\": 2, \"linecolor\": \"white\", \"showbackground\": true, \"ticks\": \"\", \"zerolinecolor\": \"white\"}, \"zaxis\": {\"backgroundcolor\": \"#E5ECF6\", \"gridcolor\": \"white\", \"gridwidth\": 2, \"linecolor\": \"white\", \"showbackground\": true, \"ticks\": \"\", \"zerolinecolor\": \"white\"}}, \"shapedefaults\": {\"line\": {\"color\": \"#2a3f5f\"}}, \"ternary\": {\"aaxis\": {\"gridcolor\": \"white\", \"linecolor\": \"white\", \"ticks\": \"\"}, \"baxis\": {\"gridcolor\": \"white\", \"linecolor\": \"white\", \"ticks\": \"\"}, \"bgcolor\": \"#E5ECF6\", \"caxis\": {\"gridcolor\": \"white\", \"linecolor\": \"white\", \"ticks\": \"\"}}, \"title\": {\"x\": 0.05}, \"xaxis\": {\"automargin\": true, \"gridcolor\": \"white\", \"linecolor\": \"white\", \"ticks\": \"\", \"title\": {\"standoff\": 15}, \"zerolinecolor\": \"white\", \"zerolinewidth\": 2}, \"yaxis\": {\"automargin\": true, \"gridcolor\": \"white\", \"linecolor\": \"white\", \"ticks\": \"\", \"title\": {\"standoff\": 15}, \"zerolinecolor\": \"white\", \"zerolinewidth\": 2}}}, \"title\": {\"text\": \"China deaths and vaccination\"}, \"width\": 700, \"xaxis\": {\"anchor\": \"y\", \"domain\": [0.0, 0.94], \"title\": {\"text\": \"date\"}}, \"yaxis\": {\"anchor\": \"x\", \"domain\": [0.0, 1.0], \"title\": {\"text\": \"No of deaths of covid\"}}, \"yaxis2\": {\"anchor\": \"x\", \"overlaying\": \"y\", \"side\": \"right\", \"title\": {\"text\": \"No of people with at least one dose\"}}},                        {\"responsive\": true}                    ).then(function(){\n",
       "                            \n",
       "var gd = document.getElementById('5def5e8a-fed7-4477-8167-8282957ee9af');\n",
       "var x = new MutationObserver(function (mutations, observer) {{\n",
       "        var display = window.getComputedStyle(gd).display;\n",
       "        if (!display || display === 'none') {{\n",
       "            console.log([gd, 'removed!']);\n",
       "            Plotly.purge(gd);\n",
       "            observer.disconnect();\n",
       "        }}\n",
       "}});\n",
       "\n",
       "// Listen for the removal of the full notebook cells\n",
       "var notebookContainer = gd.closest('#notebook-container');\n",
       "if (notebookContainer) {{\n",
       "    x.observe(notebookContainer, {childList: true});\n",
       "}}\n",
       "\n",
       "// Listen for the clearing of the current output cell\n",
       "var outputEl = gd.closest('.output');\n",
       "if (outputEl) {{\n",
       "    x.observe(outputEl, {childList: true});\n",
       "}}\n",
       "\n",
       "                        })                };                });            </script>        </div>"
      ]
     },
     "metadata": {},
     "output_type": "display_data"
    }
   ],
   "source": [
    "fig = make_subplots(specs=[[{\"secondary_y\": True}]])\n",
    "\n",
    "fig.add_trace(\n",
    "    go.Scatter(y=covid_daily_CHN['daily_new_deaths'], x=covid_daily_CHN['date'], name=\"No of deaths daily (CHN)\"),\n",
    "    secondary_y=False,\n",
    ")\n",
    "\n",
    "fig.add_trace(\n",
    "    go.Scatter(x= dfs[0]['date'],y = dfs[0]['total_vaccinations'], name = 'applied vaccines'),\n",
    "    secondary_y=True,\n",
    ")\n",
    "\n",
    "fig.update_layout(\n",
    "    autosize=False,\n",
    "    width=700,\n",
    "    height=500,\n",
    "    title_text=\"China deaths and vaccination\"\n",
    ")\n",
    "\n",
    "fig.update_xaxes(title_text=\"date\")\n",
    "\n",
    "fig.update_yaxes(title_text=\"No of deaths of covid\", secondary_y=False)\n",
    "fig.update_yaxes(title_text=\"No of people with at least one dose\", secondary_y=True)\n",
    "\n",
    "fig.show()"
   ]
  },
  {
   "cell_type": "markdown",
   "id": "blind-weekend",
   "metadata": {
    "papermill": {
     "duration": 0.044221,
     "end_time": "2021-04-26T13:37:21.070276",
     "exception": false,
     "start_time": "2021-04-26T13:37:21.026055",
     "status": "completed"
    },
    "tags": []
   },
   "source": [
    "**Thank you for your attention if you enjoyed this notebook please give an up and any new ideas are welcome on the comments**"
   ]
  }
 ],
 "metadata": {
  "kernelspec": {
   "name": "python373jvsc74a57bd02b9cd5c3ec4eb793e30b3fe22fb3034f3d8c9722bad10f4cedbbd7faa7e7f261",
   "display_name": "Python 3.7.3 64-bit ('base': conda)"
  },
  "language_info": {
   "codemirror_mode": {
    "name": "ipython",
    "version": 3
   },
   "file_extension": ".py",
   "mimetype": "text/x-python",
   "name": "python",
   "nbconvert_exporter": "python",
   "pygments_lexer": "ipython3",
   "version": "3.7.3"
  },
  "papermill": {
   "default_parameters": {},
   "duration": 16.952184,
   "end_time": "2021-04-26T13:37:22.577565",
   "environment_variables": {},
   "exception": null,
   "input_path": "__notebook__.ipynb",
   "output_path": "__notebook__.ipynb",
   "parameters": {},
   "start_time": "2021-04-26T13:37:05.625381",
   "version": "2.3.3"
  }
 },
 "nbformat": 4,
 "nbformat_minor": 5
}